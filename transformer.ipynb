{
 "cells": [
  {
   "cell_type": "code",
   "execution_count": 10,
   "metadata": {},
   "outputs": [
    {
     "name": "stdout",
     "output_type": "stream",
     "text": [
      "Collecting ruff (from -r tic-tac-toe/requirements.txt (line 1))\n",
      "  Downloading ruff-0.9.7-py3-none-win_amd64.whl.metadata (26 kB)\n",
      "Requirement already satisfied: setuptools in c:\\users\\spencer\\anaconda3\\envs\\tic\\lib\\site-packages (from -r tic-tac-toe/requirements.txt (line 2)) (75.8.0)\n",
      "Requirement already satisfied: numpy in c:\\users\\spencer\\anaconda3\\envs\\tic\\lib\\site-packages (from -r tic-tac-toe/requirements.txt (line 5)) (2.2.3)\n",
      "Requirement already satisfied: ipykernel in c:\\users\\spencer\\anaconda3\\envs\\tic\\lib\\site-packages (from -r tic-tac-toe/requirements.txt (line 6)) (6.29.5)\n",
      "Requirement already satisfied: comm>=0.1.1 in c:\\users\\spencer\\anaconda3\\envs\\tic\\lib\\site-packages (from ipykernel->-r tic-tac-toe/requirements.txt (line 6)) (0.2.2)\n",
      "Requirement already satisfied: debugpy>=1.6.5 in c:\\users\\spencer\\anaconda3\\envs\\tic\\lib\\site-packages (from ipykernel->-r tic-tac-toe/requirements.txt (line 6)) (1.8.11)\n",
      "Requirement already satisfied: ipython>=7.23.1 in c:\\users\\spencer\\anaconda3\\envs\\tic\\lib\\site-packages (from ipykernel->-r tic-tac-toe/requirements.txt (line 6)) (8.32.0)\n",
      "Requirement already satisfied: jupyter-client>=6.1.12 in c:\\users\\spencer\\anaconda3\\envs\\tic\\lib\\site-packages (from ipykernel->-r tic-tac-toe/requirements.txt (line 6)) (8.6.3)\n",
      "Requirement already satisfied: jupyter-core!=5.0.*,>=4.12 in c:\\users\\spencer\\anaconda3\\envs\\tic\\lib\\site-packages (from ipykernel->-r tic-tac-toe/requirements.txt (line 6)) (5.7.2)\n",
      "Requirement already satisfied: matplotlib-inline>=0.1 in c:\\users\\spencer\\anaconda3\\envs\\tic\\lib\\site-packages (from ipykernel->-r tic-tac-toe/requirements.txt (line 6)) (0.1.7)\n",
      "Requirement already satisfied: nest-asyncio in c:\\users\\spencer\\anaconda3\\envs\\tic\\lib\\site-packages (from ipykernel->-r tic-tac-toe/requirements.txt (line 6)) (1.6.0)\n",
      "Requirement already satisfied: packaging in c:\\users\\spencer\\anaconda3\\envs\\tic\\lib\\site-packages (from ipykernel->-r tic-tac-toe/requirements.txt (line 6)) (24.2)\n",
      "Requirement already satisfied: psutil in c:\\users\\spencer\\anaconda3\\envs\\tic\\lib\\site-packages (from ipykernel->-r tic-tac-toe/requirements.txt (line 6)) (5.9.0)\n",
      "Requirement already satisfied: pyzmq>=24 in c:\\users\\spencer\\anaconda3\\envs\\tic\\lib\\site-packages (from ipykernel->-r tic-tac-toe/requirements.txt (line 6)) (24.0.1)\n",
      "Requirement already satisfied: tornado>=6.1 in c:\\users\\spencer\\anaconda3\\envs\\tic\\lib\\site-packages (from ipykernel->-r tic-tac-toe/requirements.txt (line 6)) (6.2)\n",
      "Requirement already satisfied: traitlets>=5.4.0 in c:\\users\\spencer\\anaconda3\\envs\\tic\\lib\\site-packages (from ipykernel->-r tic-tac-toe/requirements.txt (line 6)) (5.14.3)\n",
      "Requirement already satisfied: colorama in c:\\users\\spencer\\anaconda3\\envs\\tic\\lib\\site-packages (from ipython>=7.23.1->ipykernel->-r tic-tac-toe/requirements.txt (line 6)) (0.4.6)\n",
      "Requirement already satisfied: decorator in c:\\users\\spencer\\anaconda3\\envs\\tic\\lib\\site-packages (from ipython>=7.23.1->ipykernel->-r tic-tac-toe/requirements.txt (line 6)) (5.2.0)\n",
      "Requirement already satisfied: exceptiongroup in c:\\users\\spencer\\anaconda3\\envs\\tic\\lib\\site-packages (from ipython>=7.23.1->ipykernel->-r tic-tac-toe/requirements.txt (line 6)) (1.2.2)\n",
      "Requirement already satisfied: jedi>=0.16 in c:\\users\\spencer\\anaconda3\\envs\\tic\\lib\\site-packages (from ipython>=7.23.1->ipykernel->-r tic-tac-toe/requirements.txt (line 6)) (0.19.2)\n",
      "Requirement already satisfied: prompt_toolkit<3.1.0,>=3.0.41 in c:\\users\\spencer\\anaconda3\\envs\\tic\\lib\\site-packages (from ipython>=7.23.1->ipykernel->-r tic-tac-toe/requirements.txt (line 6)) (3.0.50)\n",
      "Requirement already satisfied: pygments>=2.4.0 in c:\\users\\spencer\\anaconda3\\envs\\tic\\lib\\site-packages (from ipython>=7.23.1->ipykernel->-r tic-tac-toe/requirements.txt (line 6)) (2.19.1)\n",
      "Requirement already satisfied: stack_data in c:\\users\\spencer\\anaconda3\\envs\\tic\\lib\\site-packages (from ipython>=7.23.1->ipykernel->-r tic-tac-toe/requirements.txt (line 6)) (0.6.3)\n",
      "Requirement already satisfied: typing_extensions>=4.6 in c:\\users\\spencer\\anaconda3\\envs\\tic\\lib\\site-packages (from ipython>=7.23.1->ipykernel->-r tic-tac-toe/requirements.txt (line 6)) (4.12.2)\n",
      "Requirement already satisfied: python-dateutil>=2.8.2 in c:\\users\\spencer\\anaconda3\\envs\\tic\\lib\\site-packages (from jupyter-client>=6.1.12->ipykernel->-r tic-tac-toe/requirements.txt (line 6)) (2.9.0.post0)\n",
      "Requirement already satisfied: platformdirs>=2.5 in c:\\users\\spencer\\anaconda3\\envs\\tic\\lib\\site-packages (from jupyter-core!=5.0.*,>=4.12->ipykernel->-r tic-tac-toe/requirements.txt (line 6)) (4.3.6)\n",
      "Requirement already satisfied: pywin32>=300 in c:\\users\\spencer\\anaconda3\\envs\\tic\\lib\\site-packages (from jupyter-core!=5.0.*,>=4.12->ipykernel->-r tic-tac-toe/requirements.txt (line 6)) (308)\n",
      "Requirement already satisfied: parso<0.9.0,>=0.8.4 in c:\\users\\spencer\\anaconda3\\envs\\tic\\lib\\site-packages (from jedi>=0.16->ipython>=7.23.1->ipykernel->-r tic-tac-toe/requirements.txt (line 6)) (0.8.4)\n",
      "Requirement already satisfied: wcwidth in c:\\users\\spencer\\anaconda3\\envs\\tic\\lib\\site-packages (from prompt_toolkit<3.1.0,>=3.0.41->ipython>=7.23.1->ipykernel->-r tic-tac-toe/requirements.txt (line 6)) (0.2.13)\n",
      "Requirement already satisfied: six>=1.5 in c:\\users\\spencer\\anaconda3\\envs\\tic\\lib\\site-packages (from python-dateutil>=2.8.2->jupyter-client>=6.1.12->ipykernel->-r tic-tac-toe/requirements.txt (line 6)) (1.17.0)\n",
      "Requirement already satisfied: executing>=1.2.0 in c:\\users\\spencer\\anaconda3\\envs\\tic\\lib\\site-packages (from stack_data->ipython>=7.23.1->ipykernel->-r tic-tac-toe/requirements.txt (line 6)) (2.1.0)\n",
      "Requirement already satisfied: asttokens>=2.1.0 in c:\\users\\spencer\\anaconda3\\envs\\tic\\lib\\site-packages (from stack_data->ipython>=7.23.1->ipykernel->-r tic-tac-toe/requirements.txt (line 6)) (3.0.0)\n",
      "Requirement already satisfied: pure_eval in c:\\users\\spencer\\anaconda3\\envs\\tic\\lib\\site-packages (from stack_data->ipython>=7.23.1->ipykernel->-r tic-tac-toe/requirements.txt (line 6)) (0.2.3)\n",
      "Downloading ruff-0.9.7-py3-none-win_amd64.whl (11.0 MB)\n",
      "   ---------------------------------------- 0.0/11.0 MB ? eta -:--:--\n",
      "   ------------- -------------------------- 3.7/11.0 MB 21.8 MB/s eta 0:00:01\n",
      "   ------------------------------- -------- 8.7/11.0 MB 21.5 MB/s eta 0:00:01\n",
      "   ---------------------------------------- 11.0/11.0 MB 18.6 MB/s eta 0:00:00\n",
      "Installing collected packages: ruff\n",
      "Successfully installed ruff-0.9.7\n",
      "Note: you may need to restart the kernel to use updated packages.\n",
      "Obtaining file:///C:/Users/Spencer/Documents/CUBoulder/CSCI7000/Assignment1/tic-tac-toe\n",
      "  Installing build dependencies: started\n",
      "  Installing build dependencies: finished with status 'done'\n",
      "  Checking if build backend supports build_editable: started\n",
      "  Checking if build backend supports build_editable: finished with status 'done'\n",
      "  Getting requirements to build editable: started\n",
      "  Getting requirements to build editable: finished with status 'done'\n",
      "  Preparing editable metadata (pyproject.toml): started\n",
      "  Preparing editable metadata (pyproject.toml): finished with status 'done'\n",
      "Building wheels for collected packages: tictactoe\n",
      "  Building editable for tictactoe (pyproject.toml): started\n",
      "  Building editable for tictactoe (pyproject.toml): finished with status 'done'\n",
      "  Created wheel for tictactoe: filename=tictactoe-0.0.1-0.editable-py3-none-any.whl size=2824 sha256=c83f6cd9a02021b57f480bc5f22a1ca1564c9259a2a865b545c1d99d5767d3c6\n",
      "  Stored in directory: C:\\Users\\Spencer\\AppData\\Local\\Temp\\pip-ephem-wheel-cache-3aubv2_c\\wheels\\d6\\5a\\8d\\feebe8c7295a76526ef50a01375931f6375dbc01f17aab1db7\n",
      "Successfully built tictactoe\n",
      "Installing collected packages: tictactoe\n",
      "  Attempting uninstall: tictactoe\n",
      "    Found existing installation: tictactoe 0.0.1\n",
      "    Uninstalling tictactoe-0.0.1:\n",
      "      Successfully uninstalled tictactoe-0.0.1\n",
      "Successfully installed tictactoe-0.0.1\n",
      "Note: you may need to restart the kernel to use updated packages.\n"
     ]
    }
   ],
   "source": [
    "%pip install -r tic-tac-toe/requirements.txt\n",
    "%pip install -e tic-tac-toe/"
   ]
  },
  {
   "cell_type": "code",
   "execution_count": 1,
   "metadata": {},
   "outputs": [],
   "source": [
    "%load_ext autoreload\n",
    "%autoreload 2"
   ]
  },
  {
   "cell_type": "code",
   "execution_count": 2,
   "metadata": {},
   "outputs": [],
   "source": [
    "import numpy as np\n",
    "from tictactoe.board import Board"
   ]
  },
  {
   "cell_type": "markdown",
   "metadata": {},
   "source": [
    "# Tasks\n",
    "- Create Data\n",
    "    - Create Recursive function to get all board positions\n",
    "    - Create Function to get best move\n",
    "- Create Transformer\n",
    "- Train Transformer\n",
    "- Write article"
   ]
  },
  {
   "cell_type": "code",
   "execution_count": 23,
   "metadata": {},
   "outputs": [
    {
     "name": "stdout",
     "output_type": "stream",
     "text": [
      "i: 2 j: 0 board:[[-1  1 -1]\n",
      " [ 1 -1  1]\n",
      " [-1  1 -1]]\n",
      "i: 1 j: 2 board:[[-1  1 -1]\n",
      " [ 1 -1  1]\n",
      " [-1  1 -1]]\n",
      "i: 1 j: 1 board:[[-1  1 -1]\n",
      " [ 1 -1  1]\n",
      " [-1  1 -1]]\n",
      "i: 1 j: 0 board:[[-1  1 -1]\n",
      " [ 1 -1  1]\n",
      " [-1  1 -1]]\n",
      "i: 0 j: 2 board:[[-1  1 -1]\n",
      " [ 1 -1  1]\n",
      " [-1  1 -1]]\n",
      "i: 0 j: 1 board:[[-1  1 -1]\n",
      " [ 1 -1  1]\n",
      " [-1  1 -1]]\n",
      "i: 0 j: 0 board:[[-1  1 -1]\n",
      " [ 1 -1  1]\n",
      " [-1  1 -1]]\n"
     ]
    },
    {
     "ename": "ValueError",
     "evalue": "Board Position [2, 2] is not empty",
     "output_type": "error",
     "traceback": [
      "\u001b[1;31m---------------------------------------------------------------------------\u001b[0m",
      "\u001b[1;31mValueError\u001b[0m                                Traceback (most recent call last)",
      "Cell \u001b[1;32mIn[23], line 18\u001b[0m\n\u001b[0;32m     16\u001b[0m             \u001b[38;5;28mprint\u001b[39m(\u001b[38;5;124mf\u001b[39m\u001b[38;5;124m\"\u001b[39m\u001b[38;5;124mi: \u001b[39m\u001b[38;5;132;01m{\u001b[39;00mi\u001b[38;5;132;01m}\u001b[39;00m\u001b[38;5;124m j: \u001b[39m\u001b[38;5;132;01m{\u001b[39;00mj\u001b[38;5;132;01m}\u001b[39;00m\u001b[38;5;124m board:\u001b[39m\u001b[38;5;132;01m{\u001b[39;00mboard\u001b[38;5;132;01m}\u001b[39;00m\u001b[38;5;124m\"\u001b[39m)\n\u001b[0;32m     17\u001b[0m             \u001b[38;5;28;01mraise\u001b[39;00m\n\u001b[1;32m---> 18\u001b[0m \u001b[43mgenerate_data\u001b[49m\u001b[43m(\u001b[49m\u001b[43mnp\u001b[49m\u001b[38;5;241;43m.\u001b[39;49m\u001b[43marray\u001b[49m\u001b[43m(\u001b[49m\u001b[43m[\u001b[49m\u001b[43m[\u001b[49m\u001b[38;5;241;43m0\u001b[39;49m\u001b[43m,\u001b[49m\u001b[38;5;241;43m0\u001b[39;49m\u001b[43m,\u001b[49m\u001b[38;5;241;43m0\u001b[39;49m\u001b[43m]\u001b[49m\u001b[43m,\u001b[49m\n\u001b[0;32m     19\u001b[0m \u001b[43m                        \u001b[49m\u001b[43m[\u001b[49m\u001b[38;5;241;43m0\u001b[39;49m\u001b[43m,\u001b[49m\u001b[38;5;241;43m0\u001b[39;49m\u001b[43m,\u001b[49m\u001b[38;5;241;43m0\u001b[39;49m\u001b[43m]\u001b[49m\u001b[43m,\u001b[49m\n\u001b[0;32m     20\u001b[0m \u001b[43m                        \u001b[49m\u001b[43m[\u001b[49m\u001b[38;5;241;43m0\u001b[39;49m\u001b[43m,\u001b[49m\u001b[38;5;241;43m0\u001b[39;49m\u001b[43m,\u001b[49m\u001b[38;5;241;43m0\u001b[39;49m\u001b[43m]\u001b[49m\u001b[43m]\u001b[49m\u001b[43m)\u001b[49m\u001b[43m)\u001b[49m\n",
      "Cell \u001b[1;32mIn[23], line 14\u001b[0m, in \u001b[0;36mgenerate_data\u001b[1;34m(board)\u001b[0m\n\u001b[0;32m     12\u001b[0m new_board \u001b[38;5;241m=\u001b[39m nb\u001b[38;5;241m.\u001b[39mboard\n\u001b[0;32m     13\u001b[0m \u001b[38;5;28;01mtry\u001b[39;00m:\n\u001b[1;32m---> 14\u001b[0m     \u001b[43mgenerate_data\u001b[49m\u001b[43m(\u001b[49m\u001b[43mnew_board\u001b[49m\u001b[43m)\u001b[49m\n\u001b[0;32m     15\u001b[0m \u001b[38;5;28;01mexcept\u001b[39;00m:\n\u001b[0;32m     16\u001b[0m     \u001b[38;5;28mprint\u001b[39m(\u001b[38;5;124mf\u001b[39m\u001b[38;5;124m\"\u001b[39m\u001b[38;5;124mi: \u001b[39m\u001b[38;5;132;01m{\u001b[39;00mi\u001b[38;5;132;01m}\u001b[39;00m\u001b[38;5;124m j: \u001b[39m\u001b[38;5;132;01m{\u001b[39;00mj\u001b[38;5;132;01m}\u001b[39;00m\u001b[38;5;124m board:\u001b[39m\u001b[38;5;132;01m{\u001b[39;00mboard\u001b[38;5;132;01m}\u001b[39;00m\u001b[38;5;124m\"\u001b[39m)\n",
      "Cell \u001b[1;32mIn[23], line 14\u001b[0m, in \u001b[0;36mgenerate_data\u001b[1;34m(board)\u001b[0m\n\u001b[0;32m     12\u001b[0m new_board \u001b[38;5;241m=\u001b[39m nb\u001b[38;5;241m.\u001b[39mboard\n\u001b[0;32m     13\u001b[0m \u001b[38;5;28;01mtry\u001b[39;00m:\n\u001b[1;32m---> 14\u001b[0m     \u001b[43mgenerate_data\u001b[49m\u001b[43m(\u001b[49m\u001b[43mnew_board\u001b[49m\u001b[43m)\u001b[49m\n\u001b[0;32m     15\u001b[0m \u001b[38;5;28;01mexcept\u001b[39;00m:\n\u001b[0;32m     16\u001b[0m     \u001b[38;5;28mprint\u001b[39m(\u001b[38;5;124mf\u001b[39m\u001b[38;5;124m\"\u001b[39m\u001b[38;5;124mi: \u001b[39m\u001b[38;5;132;01m{\u001b[39;00mi\u001b[38;5;132;01m}\u001b[39;00m\u001b[38;5;124m j: \u001b[39m\u001b[38;5;132;01m{\u001b[39;00mj\u001b[38;5;132;01m}\u001b[39;00m\u001b[38;5;124m board:\u001b[39m\u001b[38;5;132;01m{\u001b[39;00mboard\u001b[38;5;132;01m}\u001b[39;00m\u001b[38;5;124m\"\u001b[39m)\n",
      "    \u001b[1;31m[... skipping similar frames: generate_data at line 14 (4 times)]\u001b[0m\n",
      "Cell \u001b[1;32mIn[23], line 14\u001b[0m, in \u001b[0;36mgenerate_data\u001b[1;34m(board)\u001b[0m\n\u001b[0;32m     12\u001b[0m new_board \u001b[38;5;241m=\u001b[39m nb\u001b[38;5;241m.\u001b[39mboard\n\u001b[0;32m     13\u001b[0m \u001b[38;5;28;01mtry\u001b[39;00m:\n\u001b[1;32m---> 14\u001b[0m     \u001b[43mgenerate_data\u001b[49m\u001b[43m(\u001b[49m\u001b[43mnew_board\u001b[49m\u001b[43m)\u001b[49m\n\u001b[0;32m     15\u001b[0m \u001b[38;5;28;01mexcept\u001b[39;00m:\n\u001b[0;32m     16\u001b[0m     \u001b[38;5;28mprint\u001b[39m(\u001b[38;5;124mf\u001b[39m\u001b[38;5;124m\"\u001b[39m\u001b[38;5;124mi: \u001b[39m\u001b[38;5;132;01m{\u001b[39;00mi\u001b[38;5;132;01m}\u001b[39;00m\u001b[38;5;124m j: \u001b[39m\u001b[38;5;132;01m{\u001b[39;00mj\u001b[38;5;132;01m}\u001b[39;00m\u001b[38;5;124m board:\u001b[39m\u001b[38;5;132;01m{\u001b[39;00mboard\u001b[38;5;132;01m}\u001b[39;00m\u001b[38;5;124m\"\u001b[39m)\n",
      "Cell \u001b[1;32mIn[23], line 11\u001b[0m, in \u001b[0;36mgenerate_data\u001b[1;34m(board)\u001b[0m\n\u001b[0;32m      9\u001b[0m nb \u001b[38;5;241m=\u001b[39m Board()\n\u001b[0;32m     10\u001b[0m nb\u001b[38;5;241m.\u001b[39mset_board(board)\n\u001b[1;32m---> 11\u001b[0m \u001b[43mnb\u001b[49m\u001b[38;5;241;43m.\u001b[39;49m\u001b[43mplace\u001b[49m\u001b[43m(\u001b[49m\u001b[43mi\u001b[49m\u001b[43m,\u001b[49m\u001b[43mj\u001b[49m\u001b[43m)\u001b[49m\n\u001b[0;32m     12\u001b[0m new_board \u001b[38;5;241m=\u001b[39m nb\u001b[38;5;241m.\u001b[39mboard\n\u001b[0;32m     13\u001b[0m \u001b[38;5;28;01mtry\u001b[39;00m:\n",
      "File \u001b[1;32m~\\Documents\\CUBoulder\\CSCI7000\\Assignment1\\tic-tac-toe\\tictactoe\\board.py:80\u001b[0m, in \u001b[0;36mBoard.place\u001b[1;34m(self, row, col)\u001b[0m\n\u001b[0;32m     78\u001b[0m \t\u001b[38;5;28;01mreturn\u001b[39;00m \u001b[38;5;28;01mTrue\u001b[39;00m\n\u001b[0;32m     79\u001b[0m \u001b[38;5;28;01melif\u001b[39;00m \u001b[38;5;28mself\u001b[39m\u001b[38;5;241m.\u001b[39mturn \u001b[38;5;241m==\u001b[39m \u001b[38;5;124m'\u001b[39m\u001b[38;5;124mO\u001b[39m\u001b[38;5;124m'\u001b[39m:\n\u001b[1;32m---> 80\u001b[0m \t\u001b[38;5;28;43mself\u001b[39;49m\u001b[38;5;241;43m.\u001b[39;49m\u001b[43mplace_o\u001b[49m\u001b[43m(\u001b[49m\u001b[43mrow\u001b[49m\u001b[43m,\u001b[49m\u001b[43m \u001b[49m\u001b[43mcol\u001b[49m\u001b[43m)\u001b[49m\n\u001b[0;32m     81\u001b[0m \t\u001b[38;5;28;01mreturn\u001b[39;00m \u001b[38;5;28;01mTrue\u001b[39;00m\n\u001b[0;32m     82\u001b[0m \u001b[38;5;28;01mreturn\u001b[39;00m \u001b[38;5;28;01mFalse\u001b[39;00m\n",
      "File \u001b[1;32m~\\Documents\\CUBoulder\\CSCI7000\\Assignment1\\tic-tac-toe\\tictactoe\\board.py:98\u001b[0m, in \u001b[0;36mBoard.place_o\u001b[1;34m(self, row, col)\u001b[0m\n\u001b[0;32m     92\u001b[0m \u001b[38;5;28;01mdef\u001b[39;00m\u001b[38;5;250m \u001b[39m\u001b[38;5;21mplace_o\u001b[39m(\u001b[38;5;28mself\u001b[39m, row: \u001b[38;5;28mint\u001b[39m, col: \u001b[38;5;28mint\u001b[39m) \u001b[38;5;241m-\u001b[39m\u001b[38;5;241m>\u001b[39m \u001b[38;5;28mbool\u001b[39m:\n\u001b[0;32m     93\u001b[0m \u001b[38;5;250m\t\u001b[39m\u001b[38;5;124;03m\"\"\"\u001b[39;00m\n\u001b[0;32m     94\u001b[0m \u001b[38;5;124;03m\t:info: place y\u001b[39;00m\n\u001b[0;32m     95\u001b[0m \u001b[38;5;124;03m\t:param row: row input\u001b[39;00m\n\u001b[0;32m     96\u001b[0m \u001b[38;5;124;03m\t:param col: col input\u001b[39;00m\n\u001b[0;32m     97\u001b[0m \u001b[38;5;124;03m\t\"\"\"\u001b[39;00m\n\u001b[1;32m---> 98\u001b[0m \t\u001b[38;5;28;01mreturn\u001b[39;00m \u001b[38;5;28;43mself\u001b[39;49m\u001b[38;5;241;43m.\u001b[39;49m\u001b[43mplace_val\u001b[49m\u001b[43m(\u001b[49m\u001b[43mrow\u001b[49m\u001b[43m,\u001b[49m\u001b[43m \u001b[49m\u001b[43mcol\u001b[49m\u001b[43m,\u001b[49m\u001b[43m \u001b[49m\u001b[38;5;241;43m1\u001b[39;49m\u001b[43m)\u001b[49m\n",
      "File \u001b[1;32m~\\Documents\\CUBoulder\\CSCI7000\\Assignment1\\tic-tac-toe\\tictactoe\\board.py:64\u001b[0m, in \u001b[0;36mBoard.place_val\u001b[1;34m(self, row, col, val)\u001b[0m\n\u001b[0;32m     57\u001b[0m \u001b[38;5;28;01mdef\u001b[39;00m\u001b[38;5;250m \u001b[39m\u001b[38;5;21mplace_val\u001b[39m(\u001b[38;5;28mself\u001b[39m, row: \u001b[38;5;28mint\u001b[39m, col: \u001b[38;5;28mint\u001b[39m, val: \u001b[38;5;28mint\u001b[39m):\n\u001b[0;32m     58\u001b[0m \u001b[38;5;250m\t\u001b[39m\u001b[38;5;124;03m\"\"\"\u001b[39;00m\n\u001b[0;32m     59\u001b[0m \u001b[38;5;124;03m\t:info: places value\u001b[39;00m\n\u001b[0;32m     60\u001b[0m \u001b[38;5;124;03m\t:param row: row input\u001b[39;00m\n\u001b[0;32m     61\u001b[0m \u001b[38;5;124;03m\t:param col: col input\u001b[39;00m\n\u001b[0;32m     62\u001b[0m \u001b[38;5;124;03m\t:param val: value to put on board\u001b[39;00m\n\u001b[0;32m     63\u001b[0m \u001b[38;5;124;03m\t\"\"\"\u001b[39;00m\n\u001b[1;32m---> 64\u001b[0m \t\u001b[38;5;28;01mif\u001b[39;00m \u001b[38;5;28;43mself\u001b[39;49m\u001b[38;5;241;43m.\u001b[39;49m\u001b[43mvalidate_pos\u001b[49m\u001b[43m(\u001b[49m\u001b[43mrow\u001b[49m\u001b[43m,\u001b[49m\u001b[43m \u001b[49m\u001b[43mcol\u001b[49m\u001b[43m)\u001b[49m:\n\u001b[0;32m     65\u001b[0m \t\t\u001b[38;5;28mself\u001b[39m\u001b[38;5;241m.\u001b[39mboard[row][col] \u001b[38;5;241m=\u001b[39m val\n\u001b[0;32m     66\u001b[0m \t\t\u001b[38;5;28mself\u001b[39m\u001b[38;5;241m.\u001b[39mflip_turn()\n",
      "File \u001b[1;32m~\\Documents\\CUBoulder\\CSCI7000\\Assignment1\\tic-tac-toe\\tictactoe\\board.py:45\u001b[0m, in \u001b[0;36mBoard.validate_pos\u001b[1;34m(self, row, col)\u001b[0m\n\u001b[0;32m     42\u001b[0m \t\u001b[38;5;28;01mraise\u001b[39;00m \u001b[38;5;167;01mValueError\u001b[39;00m(\u001b[38;5;124mf\u001b[39m\u001b[38;5;124m'\u001b[39m\u001b[38;5;124mRow \u001b[39m\u001b[38;5;132;01m{\u001b[39;00mrow\u001b[38;5;132;01m}\u001b[39;00m\u001b[38;5;124m: is out of bounds on board of \u001b[39m\u001b[38;5;132;01m{\u001b[39;00m\u001b[38;5;28mself\u001b[39m\u001b[38;5;241m.\u001b[39msize\u001b[38;5;132;01m}\u001b[39;00m\u001b[38;5;124m'\u001b[39m)\n\u001b[0;32m     44\u001b[0m \u001b[38;5;28;01mif\u001b[39;00m \u001b[38;5;28mself\u001b[39m\u001b[38;5;241m.\u001b[39mboard[row][col] \u001b[38;5;241m!=\u001b[39m \u001b[38;5;241m0\u001b[39m:\n\u001b[1;32m---> 45\u001b[0m \t\u001b[38;5;28;01mraise\u001b[39;00m \u001b[38;5;167;01mValueError\u001b[39;00m(\u001b[38;5;124mf\u001b[39m\u001b[38;5;124m'\u001b[39m\u001b[38;5;124mBoard Position [\u001b[39m\u001b[38;5;132;01m{\u001b[39;00mrow\u001b[38;5;132;01m}\u001b[39;00m\u001b[38;5;124m, \u001b[39m\u001b[38;5;132;01m{\u001b[39;00mcol\u001b[38;5;132;01m}\u001b[39;00m\u001b[38;5;124m] is not empty\u001b[39m\u001b[38;5;124m'\u001b[39m)\n\u001b[0;32m     46\u001b[0m \u001b[38;5;28;01mreturn\u001b[39;00m \u001b[38;5;28;01mTrue\u001b[39;00m\n",
      "\u001b[1;31mValueError\u001b[0m: Board Position [2, 2] is not empty"
     ]
    }
   ],
   "source": [
    "size = 3\n",
    "boards = {}\n",
    "def generate_data(board):\n",
    "    b = Board()\n",
    "    if np.array2string(board.flatten()) not in list(boards.keys()):\n",
    "        boards[np.array2string(board.flatten())] = b.get_best_moves(board)\n",
    "\n",
    "    for i, j in list(zip(*np.where(board==0))):\n",
    "        nb = Board()\n",
    "        nb.set_board(np.copy(board))\n",
    "        nb.place(i,j)\n",
    "        new_board = nb.board\n",
    "        try:\n",
    "            generate_data(new_board)\n",
    "        except:\n",
    "            print(f\"i: {i} j: {j} board:{new_board}\")\n",
    "            raise\n",
    "generate_data(np.array([[0,0,0],\n",
    "                        [0,0,0],\n",
    "                        [0,0,0]]))"
   ]
  },
  {
   "cell_type": "code",
   "execution_count": 13,
   "metadata": {},
   "outputs": [],
   "source": [
    "arr = np.array([[0,0,0],\n",
    "          [0,0,0],\n",
    "          [0,0,0]])"
   ]
  },
  {
   "cell_type": "code",
   "execution_count": 15,
   "metadata": {},
   "outputs": [
    {
     "name": "stdout",
     "output_type": "stream",
     "text": [
      "[0 0 0 1 1 1 2 2 2]\n",
      "[0 1 2 0 1 2 0 1 2]\n"
     ]
    }
   ],
   "source": [
    "for i in list(np.where(arr == 0)):\n",
    "    print(i)"
   ]
  },
  {
   "cell_type": "code",
   "execution_count": null,
   "metadata": {},
   "outputs": [
    {
     "data": {
      "text/plain": [
       "[(np.int64(0), np.int64(0)),\n",
       " (np.int64(0), np.int64(1)),\n",
       " (np.int64(0), np.int64(2)),\n",
       " (np.int64(1), np.int64(0)),\n",
       " (np.int64(1), np.int64(1)),\n",
       " (np.int64(1), np.int64(2)),\n",
       " (np.int64(2), np.int64(0)),\n",
       " (np.int64(2), np.int64(1)),\n",
       " (np.int64(2), np.int64(2))]"
      ]
     },
     "execution_count": 21,
     "metadata": {},
     "output_type": "execute_result"
    }
   ],
   "source": []
  },
  {
   "cell_type": "code",
   "execution_count": 11,
   "metadata": {},
   "outputs": [
    {
     "data": {
      "text/plain": [
       "'[0 0 0 0 0 0 0 0 0]'"
      ]
     },
     "execution_count": 11,
     "metadata": {},
     "output_type": "execute_result"
    }
   ],
   "source": [
    "np.array2string(arr.flatten())"
   ]
  },
  {
   "cell_type": "code",
   "execution_count": 13,
   "metadata": {},
   "outputs": [],
   "source": [
    "def num_to_cords(num: int):\n",
    "    return num // 3, num % 3\n",
    "\n"
   ]
  }
 ],
 "metadata": {
  "kernelspec": {
   "display_name": "tic",
   "language": "python",
   "name": "python3"
  },
  "language_info": {
   "codemirror_mode": {
    "name": "ipython",
    "version": 3
   },
   "file_extension": ".py",
   "mimetype": "text/x-python",
   "name": "python",
   "nbconvert_exporter": "python",
   "pygments_lexer": "ipython3",
   "version": "3.10.16"
  }
 },
 "nbformat": 4,
 "nbformat_minor": 2
}
