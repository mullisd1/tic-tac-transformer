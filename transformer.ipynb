{
 "cells": [
  {
   "cell_type": "code",
   "execution_count": 4,
   "metadata": {},
   "outputs": [
    {
     "name": "stdout",
     "output_type": "stream",
     "text": [
      "Requirement already satisfied: ruff in c:\\users\\spencer\\anaconda3\\envs\\tic\\lib\\site-packages (from -r tic-tac-toe/requirements.txt (line 1)) (0.9.7)\n",
      "Requirement already satisfied: setuptools in c:\\users\\spencer\\anaconda3\\envs\\tic\\lib\\site-packages (from -r tic-tac-toe/requirements.txt (line 2)) (75.8.0)\n",
      "Requirement already satisfied: numpy in c:\\users\\spencer\\anaconda3\\envs\\tic\\lib\\site-packages (from -r tic-tac-toe/requirements.txt (line 5)) (2.2.3)\n",
      "Requirement already satisfied: ipykernel in c:\\users\\spencer\\anaconda3\\envs\\tic\\lib\\site-packages (from -r tic-tac-toe/requirements.txt (line 6)) (6.29.5)\n",
      "Requirement already satisfied: comm>=0.1.1 in c:\\users\\spencer\\anaconda3\\envs\\tic\\lib\\site-packages (from ipykernel->-r tic-tac-toe/requirements.txt (line 6)) (0.2.2)\n",
      "Requirement already satisfied: debugpy>=1.6.5 in c:\\users\\spencer\\anaconda3\\envs\\tic\\lib\\site-packages (from ipykernel->-r tic-tac-toe/requirements.txt (line 6)) (1.8.11)\n",
      "Requirement already satisfied: ipython>=7.23.1 in c:\\users\\spencer\\anaconda3\\envs\\tic\\lib\\site-packages (from ipykernel->-r tic-tac-toe/requirements.txt (line 6)) (8.32.0)\n",
      "Requirement already satisfied: jupyter-client>=6.1.12 in c:\\users\\spencer\\anaconda3\\envs\\tic\\lib\\site-packages (from ipykernel->-r tic-tac-toe/requirements.txt (line 6)) (8.6.3)\n",
      "Requirement already satisfied: jupyter-core!=5.0.*,>=4.12 in c:\\users\\spencer\\anaconda3\\envs\\tic\\lib\\site-packages (from ipykernel->-r tic-tac-toe/requirements.txt (line 6)) (5.7.2)\n",
      "Requirement already satisfied: matplotlib-inline>=0.1 in c:\\users\\spencer\\anaconda3\\envs\\tic\\lib\\site-packages (from ipykernel->-r tic-tac-toe/requirements.txt (line 6)) (0.1.7)\n",
      "Requirement already satisfied: nest-asyncio in c:\\users\\spencer\\anaconda3\\envs\\tic\\lib\\site-packages (from ipykernel->-r tic-tac-toe/requirements.txt (line 6)) (1.6.0)\n",
      "Requirement already satisfied: packaging in c:\\users\\spencer\\anaconda3\\envs\\tic\\lib\\site-packages (from ipykernel->-r tic-tac-toe/requirements.txt (line 6)) (24.2)\n",
      "Requirement already satisfied: psutil in c:\\users\\spencer\\anaconda3\\envs\\tic\\lib\\site-packages (from ipykernel->-r tic-tac-toe/requirements.txt (line 6)) (5.9.0)\n",
      "Requirement already satisfied: pyzmq>=24 in c:\\users\\spencer\\anaconda3\\envs\\tic\\lib\\site-packages (from ipykernel->-r tic-tac-toe/requirements.txt (line 6)) (24.0.1)\n",
      "Requirement already satisfied: tornado>=6.1 in c:\\users\\spencer\\anaconda3\\envs\\tic\\lib\\site-packages (from ipykernel->-r tic-tac-toe/requirements.txt (line 6)) (6.2)\n",
      "Requirement already satisfied: traitlets>=5.4.0 in c:\\users\\spencer\\anaconda3\\envs\\tic\\lib\\site-packages (from ipykernel->-r tic-tac-toe/requirements.txt (line 6)) (5.14.3)\n",
      "Requirement already satisfied: colorama in c:\\users\\spencer\\anaconda3\\envs\\tic\\lib\\site-packages (from ipython>=7.23.1->ipykernel->-r tic-tac-toe/requirements.txt (line 6)) (0.4.6)\n",
      "Requirement already satisfied: decorator in c:\\users\\spencer\\anaconda3\\envs\\tic\\lib\\site-packages (from ipython>=7.23.1->ipykernel->-r tic-tac-toe/requirements.txt (line 6)) (5.2.0)\n",
      "Requirement already satisfied: exceptiongroup in c:\\users\\spencer\\anaconda3\\envs\\tic\\lib\\site-packages (from ipython>=7.23.1->ipykernel->-r tic-tac-toe/requirements.txt (line 6)) (1.2.2)\n",
      "Requirement already satisfied: jedi>=0.16 in c:\\users\\spencer\\anaconda3\\envs\\tic\\lib\\site-packages (from ipython>=7.23.1->ipykernel->-r tic-tac-toe/requirements.txt (line 6)) (0.19.2)\n",
      "Requirement already satisfied: prompt_toolkit<3.1.0,>=3.0.41 in c:\\users\\spencer\\anaconda3\\envs\\tic\\lib\\site-packages (from ipython>=7.23.1->ipykernel->-r tic-tac-toe/requirements.txt (line 6)) (3.0.50)\n",
      "Requirement already satisfied: pygments>=2.4.0 in c:\\users\\spencer\\anaconda3\\envs\\tic\\lib\\site-packages (from ipython>=7.23.1->ipykernel->-r tic-tac-toe/requirements.txt (line 6)) (2.19.1)\n",
      "Requirement already satisfied: stack_data in c:\\users\\spencer\\anaconda3\\envs\\tic\\lib\\site-packages (from ipython>=7.23.1->ipykernel->-r tic-tac-toe/requirements.txt (line 6)) (0.6.3)\n",
      "Requirement already satisfied: typing_extensions>=4.6 in c:\\users\\spencer\\anaconda3\\envs\\tic\\lib\\site-packages (from ipython>=7.23.1->ipykernel->-r tic-tac-toe/requirements.txt (line 6)) (4.12.2)\n",
      "Requirement already satisfied: python-dateutil>=2.8.2 in c:\\users\\spencer\\anaconda3\\envs\\tic\\lib\\site-packages (from jupyter-client>=6.1.12->ipykernel->-r tic-tac-toe/requirements.txt (line 6)) (2.9.0.post0)\n",
      "Requirement already satisfied: platformdirs>=2.5 in c:\\users\\spencer\\anaconda3\\envs\\tic\\lib\\site-packages (from jupyter-core!=5.0.*,>=4.12->ipykernel->-r tic-tac-toe/requirements.txt (line 6)) (4.3.6)\n",
      "Requirement already satisfied: pywin32>=300 in c:\\users\\spencer\\anaconda3\\envs\\tic\\lib\\site-packages (from jupyter-core!=5.0.*,>=4.12->ipykernel->-r tic-tac-toe/requirements.txt (line 6)) (308)\n",
      "Requirement already satisfied: parso<0.9.0,>=0.8.4 in c:\\users\\spencer\\anaconda3\\envs\\tic\\lib\\site-packages (from jedi>=0.16->ipython>=7.23.1->ipykernel->-r tic-tac-toe/requirements.txt (line 6)) (0.8.4)\n",
      "Requirement already satisfied: wcwidth in c:\\users\\spencer\\anaconda3\\envs\\tic\\lib\\site-packages (from prompt_toolkit<3.1.0,>=3.0.41->ipython>=7.23.1->ipykernel->-r tic-tac-toe/requirements.txt (line 6)) (0.2.13)\n",
      "Requirement already satisfied: six>=1.5 in c:\\users\\spencer\\anaconda3\\envs\\tic\\lib\\site-packages (from python-dateutil>=2.8.2->jupyter-client>=6.1.12->ipykernel->-r tic-tac-toe/requirements.txt (line 6)) (1.17.0)\n",
      "Requirement already satisfied: executing>=1.2.0 in c:\\users\\spencer\\anaconda3\\envs\\tic\\lib\\site-packages (from stack_data->ipython>=7.23.1->ipykernel->-r tic-tac-toe/requirements.txt (line 6)) (2.1.0)\n",
      "Requirement already satisfied: asttokens>=2.1.0 in c:\\users\\spencer\\anaconda3\\envs\\tic\\lib\\site-packages (from stack_data->ipython>=7.23.1->ipykernel->-r tic-tac-toe/requirements.txt (line 6)) (3.0.0)\n",
      "Requirement already satisfied: pure_eval in c:\\users\\spencer\\anaconda3\\envs\\tic\\lib\\site-packages (from stack_data->ipython>=7.23.1->ipykernel->-r tic-tac-toe/requirements.txt (line 6)) (0.2.3)\n",
      "Note: you may need to restart the kernel to use updated packages.\n",
      "Obtaining file:///C:/Users/Spencer/Documents/CUBoulder/CSCI7000/Assignment1/tic-tac-toe\n",
      "  Installing build dependencies: started\n",
      "  Installing build dependencies: finished with status 'done'\n",
      "  Checking if build backend supports build_editable: started\n",
      "  Checking if build backend supports build_editable: finished with status 'done'\n",
      "  Getting requirements to build editable: started\n",
      "  Getting requirements to build editable: finished with status 'done'\n",
      "  Preparing editable metadata (pyproject.toml): started\n",
      "  Preparing editable metadata (pyproject.toml): finished with status 'done'\n",
      "Building wheels for collected packages: tictactoe\n",
      "  Building editable for tictactoe (pyproject.toml): started\n",
      "  Building editable for tictactoe (pyproject.toml): finished with status 'done'\n",
      "  Created wheel for tictactoe: filename=tictactoe-0.0.1-0.editable-py3-none-any.whl size=2825 sha256=cbdebc061e4d53f4ba293e67163b676181f7936a2eaf2600b31d1b0a4d7d4332\n",
      "  Stored in directory: C:\\Users\\Spencer\\AppData\\Local\\Temp\\pip-ephem-wheel-cache-b8ly9whp\\wheels\\d6\\5a\\8d\\feebe8c7295a76526ef50a01375931f6375dbc01f17aab1db7\n",
      "Successfully built tictactoe\n",
      "Installing collected packages: tictactoe\n",
      "  Attempting uninstall: tictactoe\n",
      "    Found existing installation: tictactoe 0.0.1\n",
      "    Uninstalling tictactoe-0.0.1:\n",
      "      Successfully uninstalled tictactoe-0.0.1\n",
      "Successfully installed tictactoe-0.0.1\n",
      "Note: you may need to restart the kernel to use updated packages.\n"
     ]
    }
   ],
   "source": [
    "%pip install -r tic-tac-toe/requirements.txt\n",
    "%pip install -e tic-tac-toe/"
   ]
  },
  {
   "cell_type": "code",
   "execution_count": 1,
   "metadata": {},
   "outputs": [],
   "source": [
    "%load_ext autoreload\n",
    "%autoreload 2"
   ]
  },
  {
   "cell_type": "code",
   "execution_count": 5,
   "metadata": {},
   "outputs": [],
   "source": [
    "import json\n",
    "import numpy as np\n",
    "from tictactoe.board import Board\n",
    "\n",
    "import torch\n",
    "from torch import nn"
   ]
  },
  {
   "cell_type": "markdown",
   "metadata": {},
   "source": [
    "# Tasks\n",
    "- Create Data\n",
    "    - Create Recursive function to get all board positions\n",
    "    - Create Function to get best move\n",
    "- Create Transformer\n",
    "- Train Transformer\n",
    "- Write article"
   ]
  },
  {
   "cell_type": "markdown",
   "metadata": {},
   "source": [
    "## Data Work"
   ]
  },
  {
   "cell_type": "markdown",
   "metadata": {},
   "source": [
    "### Generate Data"
   ]
  },
  {
   "cell_type": "code",
   "execution_count": 357,
   "metadata": {},
   "outputs": [
    {
     "name": "stdout",
     "output_type": "stream",
     "text": [
      "i: 1 j: 0 board:[[ 0  1  1]\n",
      " [-1 -1  0]\n",
      " [-1 -1  1]]\n",
      "i: 2 j: 2 board:[[ 0  1  1]\n",
      " [ 0 -1  0]\n",
      " [-1 -1  1]]\n",
      "i: 1 j: 1 board:[[ 0  1  1]\n",
      " [ 0 -1  0]\n",
      " [-1 -1  0]]\n",
      "i: 0 j: 1 board:[[ 0  1  1]\n",
      " [ 0  0  0]\n",
      " [-1 -1  0]]\n",
      "i: 2 j: 0 board:[[ 0  0  1]\n",
      " [ 0  0  0]\n",
      " [-1 -1  0]]\n",
      "i: 0 j: 2 board:[[ 0  0  1]\n",
      " [ 0  0  0]\n",
      " [ 0 -1  0]]\n",
      "i: 2 j: 1 board:[[ 0  0  0]\n",
      " [ 0  0  0]\n",
      " [ 0 -1  0]]\n"
     ]
    },
    {
     "ename": "KeyboardInterrupt",
     "evalue": "",
     "output_type": "error",
     "traceback": [
      "\u001b[1;31m---------------------------------------------------------------------------\u001b[0m",
      "\u001b[1;31mKeyboardInterrupt\u001b[0m                         Traceback (most recent call last)",
      "Cell \u001b[1;32mIn[357], line 26\u001b[0m\n\u001b[0;32m     24\u001b[0m             \u001b[38;5;28mprint\u001b[39m(\u001b[38;5;124mf\u001b[39m\u001b[38;5;124m\"\u001b[39m\u001b[38;5;124mi: \u001b[39m\u001b[38;5;132;01m{\u001b[39;00mi\u001b[38;5;132;01m}\u001b[39;00m\u001b[38;5;124m j: \u001b[39m\u001b[38;5;132;01m{\u001b[39;00mj\u001b[38;5;132;01m}\u001b[39;00m\u001b[38;5;124m board:\u001b[39m\u001b[38;5;132;01m{\u001b[39;00mnew_board\u001b[38;5;132;01m}\u001b[39;00m\u001b[38;5;124m\"\u001b[39m)\n\u001b[0;32m     25\u001b[0m             \u001b[38;5;28;01mraise\u001b[39;00m\n\u001b[1;32m---> 26\u001b[0m \u001b[43mgenerate_data\u001b[49m\u001b[43m(\u001b[49m\u001b[43mnp\u001b[49m\u001b[38;5;241;43m.\u001b[39;49m\u001b[43marray\u001b[49m\u001b[43m(\u001b[49m\u001b[43m[\u001b[49m\u001b[43m[\u001b[49m\u001b[38;5;241;43m0\u001b[39;49m\u001b[43m,\u001b[49m\u001b[38;5;241;43m0\u001b[39;49m\u001b[43m,\u001b[49m\u001b[38;5;241;43m0\u001b[39;49m\u001b[43m]\u001b[49m\u001b[43m,\u001b[49m\n\u001b[0;32m     27\u001b[0m \u001b[43m                        \u001b[49m\u001b[43m[\u001b[49m\u001b[38;5;241;43m0\u001b[39;49m\u001b[43m,\u001b[49m\u001b[38;5;241;43m0\u001b[39;49m\u001b[43m,\u001b[49m\u001b[38;5;241;43m0\u001b[39;49m\u001b[43m]\u001b[49m\u001b[43m,\u001b[49m\n\u001b[0;32m     28\u001b[0m \u001b[43m                        \u001b[49m\u001b[43m[\u001b[49m\u001b[38;5;241;43m0\u001b[39;49m\u001b[43m,\u001b[49m\u001b[38;5;241;43m0\u001b[39;49m\u001b[43m,\u001b[49m\u001b[38;5;241;43m0\u001b[39;49m\u001b[43m]\u001b[49m\u001b[43m]\u001b[49m\u001b[43m)\u001b[49m\u001b[43m)\u001b[49m\n",
      "Cell \u001b[1;32mIn[357], line 22\u001b[0m, in \u001b[0;36mgenerate_data\u001b[1;34m(board)\u001b[0m\n\u001b[0;32m     20\u001b[0m new_board \u001b[38;5;241m=\u001b[39m nb\u001b[38;5;241m.\u001b[39mboard\n\u001b[0;32m     21\u001b[0m \u001b[38;5;28;01mtry\u001b[39;00m:\n\u001b[1;32m---> 22\u001b[0m     \u001b[43mgenerate_data\u001b[49m\u001b[43m(\u001b[49m\u001b[43mnew_board\u001b[49m\u001b[43m)\u001b[49m\n\u001b[0;32m     23\u001b[0m \u001b[38;5;28;01mexcept\u001b[39;00m:\n\u001b[0;32m     24\u001b[0m     \u001b[38;5;28mprint\u001b[39m(\u001b[38;5;124mf\u001b[39m\u001b[38;5;124m\"\u001b[39m\u001b[38;5;124mi: \u001b[39m\u001b[38;5;132;01m{\u001b[39;00mi\u001b[38;5;132;01m}\u001b[39;00m\u001b[38;5;124m j: \u001b[39m\u001b[38;5;132;01m{\u001b[39;00mj\u001b[38;5;132;01m}\u001b[39;00m\u001b[38;5;124m board:\u001b[39m\u001b[38;5;132;01m{\u001b[39;00mnew_board\u001b[38;5;132;01m}\u001b[39;00m\u001b[38;5;124m\"\u001b[39m)\n",
      "Cell \u001b[1;32mIn[357], line 22\u001b[0m, in \u001b[0;36mgenerate_data\u001b[1;34m(board)\u001b[0m\n\u001b[0;32m     20\u001b[0m new_board \u001b[38;5;241m=\u001b[39m nb\u001b[38;5;241m.\u001b[39mboard\n\u001b[0;32m     21\u001b[0m \u001b[38;5;28;01mtry\u001b[39;00m:\n\u001b[1;32m---> 22\u001b[0m     \u001b[43mgenerate_data\u001b[49m\u001b[43m(\u001b[49m\u001b[43mnew_board\u001b[49m\u001b[43m)\u001b[49m\n\u001b[0;32m     23\u001b[0m \u001b[38;5;28;01mexcept\u001b[39;00m:\n\u001b[0;32m     24\u001b[0m     \u001b[38;5;28mprint\u001b[39m(\u001b[38;5;124mf\u001b[39m\u001b[38;5;124m\"\u001b[39m\u001b[38;5;124mi: \u001b[39m\u001b[38;5;132;01m{\u001b[39;00mi\u001b[38;5;132;01m}\u001b[39;00m\u001b[38;5;124m j: \u001b[39m\u001b[38;5;132;01m{\u001b[39;00mj\u001b[38;5;132;01m}\u001b[39;00m\u001b[38;5;124m board:\u001b[39m\u001b[38;5;132;01m{\u001b[39;00mnew_board\u001b[38;5;132;01m}\u001b[39;00m\u001b[38;5;124m\"\u001b[39m)\n",
      "    \u001b[1;31m[... skipping similar frames: generate_data at line 22 (4 times)]\u001b[0m\n",
      "Cell \u001b[1;32mIn[357], line 22\u001b[0m, in \u001b[0;36mgenerate_data\u001b[1;34m(board)\u001b[0m\n\u001b[0;32m     20\u001b[0m new_board \u001b[38;5;241m=\u001b[39m nb\u001b[38;5;241m.\u001b[39mboard\n\u001b[0;32m     21\u001b[0m \u001b[38;5;28;01mtry\u001b[39;00m:\n\u001b[1;32m---> 22\u001b[0m     \u001b[43mgenerate_data\u001b[49m\u001b[43m(\u001b[49m\u001b[43mnew_board\u001b[49m\u001b[43m)\u001b[49m\n\u001b[0;32m     23\u001b[0m \u001b[38;5;28;01mexcept\u001b[39;00m:\n\u001b[0;32m     24\u001b[0m     \u001b[38;5;28mprint\u001b[39m(\u001b[38;5;124mf\u001b[39m\u001b[38;5;124m\"\u001b[39m\u001b[38;5;124mi: \u001b[39m\u001b[38;5;132;01m{\u001b[39;00mi\u001b[38;5;132;01m}\u001b[39;00m\u001b[38;5;124m j: \u001b[39m\u001b[38;5;132;01m{\u001b[39;00mj\u001b[38;5;132;01m}\u001b[39;00m\u001b[38;5;124m board:\u001b[39m\u001b[38;5;132;01m{\u001b[39;00mnew_board\u001b[38;5;132;01m}\u001b[39;00m\u001b[38;5;124m\"\u001b[39m)\n",
      "Cell \u001b[1;32mIn[357], line 5\u001b[0m, in \u001b[0;36mgenerate_data\u001b[1;34m(board)\u001b[0m\n\u001b[0;32m      3\u001b[0m \u001b[38;5;28;01mdef\u001b[39;00m\u001b[38;5;250m \u001b[39m\u001b[38;5;21mgenerate_data\u001b[39m(board):\n\u001b[0;32m      4\u001b[0m     b \u001b[38;5;241m=\u001b[39m Board()\n\u001b[1;32m----> 5\u001b[0m     \u001b[38;5;28;01mif\u001b[39;00m np\u001b[38;5;241m.\u001b[39marray2string(\u001b[43mboard\u001b[49m\u001b[38;5;241;43m.\u001b[39;49m\u001b[43mflatten\u001b[49m\u001b[43m(\u001b[49m\u001b[43m)\u001b[49m) \u001b[38;5;129;01mnot\u001b[39;00m \u001b[38;5;129;01min\u001b[39;00m \u001b[38;5;28mlist\u001b[39m(boards\u001b[38;5;241m.\u001b[39mkeys()) \u001b[38;5;129;01mand\u001b[39;00m np\u001b[38;5;241m.\u001b[39many(board \u001b[38;5;241m==\u001b[39m \u001b[38;5;241m0\u001b[39m):\n\u001b[0;32m      6\u001b[0m         out_boards \u001b[38;5;241m=\u001b[39m []\n\u001b[0;32m      7\u001b[0m         \u001b[38;5;28;01mif\u001b[39;00m \u001b[38;5;28mlen\u001b[39m(b\u001b[38;5;241m.\u001b[39mget_best_moves(board)) \u001b[38;5;241m<\u001b[39m \u001b[38;5;241m1\u001b[39m:\n",
      "\u001b[1;31mKeyboardInterrupt\u001b[0m: "
     ]
    }
   ],
   "source": [
    "size = 3\n",
    "boards = {}\n",
    "def generate_data(board):\n",
    "    b = Board()\n",
    "    if np.array2string(board.flatten()) not in list(boards.keys()):\n",
    "        out_boards = []\n",
    "        for i,j in b.get_best_moves(board):\n",
    "            nb = Board()\n",
    "            nb.set_board(np.copy(board))\n",
    "            nb.place(i,j)\n",
    "            out_boards.append(nb.to_str())\n",
    "        boards[np.array2string(board.flatten())] = out_boards\n",
    "\n",
    "    for i, j in list(zip(*np.where(board==0))):\n",
    "        nb = Board()\n",
    "        nb.set_board(np.copy(board))\n",
    "        nb.place(i,j)\n",
    "        new_board = nb.board\n",
    "        try:\n",
    "            generate_data(new_board)\n",
    "        except:\n",
    "            print(f\"i: {i} j: {j} board:{new_board}\")\n",
    "            raise\n",
    "generate_data(np.array([[0,0,0],\n",
    "                        [0,0,0],\n",
    "                        [0,0,0]]))"
   ]
  },
  {
   "cell_type": "code",
   "execution_count": 370,
   "metadata": {},
   "outputs": [],
   "source": [
    "fixed_data = {k:v for k, v in data.items() if v != []}"
   ]
  },
  {
   "cell_type": "markdown",
   "metadata": {},
   "source": [
    "#### Save Data"
   ]
  },
  {
   "cell_type": "code",
   "execution_count": 4,
   "metadata": {},
   "outputs": [
    {
     "data": {
      "text/plain": [
       "6046"
      ]
     },
     "execution_count": 4,
     "metadata": {},
     "output_type": "execute_result"
    }
   ],
   "source": [
    "len(list(boards.keys()))"
   ]
  },
  {
   "cell_type": "code",
   "execution_count": 5,
   "metadata": {},
   "outputs": [
    {
     "name": "stdout",
     "output_type": "stream",
     "text": [
      "ex_key: [0 0 0 0 0 0 0 0 0] \n",
      " ex_vals: ['[-1  0  0  0  0  0  0  0  0]', '[ 0 -1  0  0  0  0  0  0  0]', '[ 0  0 -1  0  0  0  0  0  0]', '[ 0  0  0 -1  0  0  0  0  0]', '[ 0  0  0  0 -1  0  0  0  0]', '[ 0  0  0  0  0 -1  0  0  0]', '[ 0  0  0  0  0  0 -1  0  0]', '[ 0  0  0  0  0  0  0 -1  0]', '[ 0  0  0  0  0  0  0  0 -1]']\n"
     ]
    }
   ],
   "source": [
    "ex_key = list(boards.keys())[0]\n",
    "print(f\"ex_key: {ex_key} \\n ex_vals: {boards[ex_key]}\")"
   ]
  },
  {
   "cell_type": "code",
   "execution_count": 371,
   "metadata": {},
   "outputs": [],
   "source": [
    "import json\n",
    "with open('./data/data.json', 'w') as f:\n",
    "    json.dump(fixed_data, f, indent=4)"
   ]
  },
  {
   "cell_type": "markdown",
   "metadata": {},
   "source": [
    "#### Load Data"
   ]
  },
  {
   "cell_type": "code",
   "execution_count": 7,
   "metadata": {},
   "outputs": [],
   "source": [
    "import json\n",
    "\n",
    "with open('./data/data.json', 'r') as f:\n",
    "    data = json.load(f)"
   ]
  },
  {
   "cell_type": "code",
   "execution_count": 8,
   "metadata": {},
   "outputs": [
    {
     "data": {
      "text/plain": [
       "5920"
      ]
     },
     "execution_count": 8,
     "metadata": {},
     "output_type": "execute_result"
    }
   ],
   "source": [
    "len(list(data.keys()))"
   ]
  },
  {
   "cell_type": "markdown",
   "metadata": {},
   "source": [
    "#### Split the Data"
   ]
  },
  {
   "cell_type": "code",
   "execution_count": 374,
   "metadata": {},
   "outputs": [],
   "source": [
    "import random\n",
    "\n",
    "train_percent, val_percent, test_percent = 0.7, 0.2, 0.1\n",
    "\n",
    "data_keys = list(data.keys())\n",
    "n = len(data_keys)\n",
    "num_train, num_val, num_test = int(train_percent*n), int(val_percent*n), int(test_percent*n)\n",
    "\n",
    "select_train = random.sample(data_keys, num_train)\n",
    "val_and_test = [value for value in data_keys if value not in select_train]\n",
    "\n",
    "select_val = random.sample(val_and_test, num_val)\n",
    "select_test = [value for value in val_and_test if value not in select_val]"
   ]
  },
  {
   "cell_type": "code",
   "execution_count": 375,
   "metadata": {},
   "outputs": [],
   "source": [
    "def boards_to_format(key):\n",
    "    key = key[1:-1]\n",
    "    return [int(c) for c in key.split(' ') if c in ['-1', '0', '1']]\n",
    "\n",
    "train_data = {int(i): (boards_to_format(k), [boards_to_format(v) for v in data[k]]) for i, k in enumerate(select_train)}\n",
    "val_data = {int(i): (boards_to_format(k), [boards_to_format(v) for v in data[k]]) for i, k in enumerate(select_val)}\n",
    "test_data = {int(i): (boards_to_format(k), [boards_to_format(v) for v in data[k]]) for i, k in enumerate(select_test)}"
   ]
  },
  {
   "cell_type": "code",
   "execution_count": 376,
   "metadata": {},
   "outputs": [
    {
     "name": "stdout",
     "output_type": "stream",
     "text": [
      "4144\n",
      "1184\n",
      "592\n"
     ]
    }
   ],
   "source": [
    "print(len(list(train_data.keys())))\n",
    "print(len(list(val_data.keys())))\n",
    "print(len(list(test_data.keys())))"
   ]
  },
  {
   "cell_type": "markdown",
   "metadata": {},
   "source": [
    "#### Save the Data"
   ]
  },
  {
   "cell_type": "code",
   "execution_count": 377,
   "metadata": {},
   "outputs": [],
   "source": [
    "with open('./data/train.json', 'w') as f:\n",
    "    json.dump(train_data, f)\n",
    "with open('./data/val.json', 'w') as f:\n",
    "    json.dump(val_data, f)\n",
    "with open('./data/test.json', 'w') as f:\n",
    "    json.dump(test_data, f)"
   ]
  },
  {
   "cell_type": "markdown",
   "metadata": {},
   "source": [
    "### Translate Data into dataloaders"
   ]
  },
  {
   "cell_type": "code",
   "execution_count": 6,
   "metadata": {},
   "outputs": [],
   "source": [
    "from torch.utils.data import Dataset\n",
    "class TicTacDataset(Dataset):\n",
    "    def __init__(self, path = './data/train.json'):\n",
    "        with open(path, 'r') as f:\n",
    "            self.data = json.load(f)\n",
    "        self.len = len(list(self.data.keys()))\n",
    "        \n",
    "        # self.inputs, self.outputs = [], []\n",
    "        # for ins, outs in data.items():\n",
    "        #     for out in outs:\n",
    "        #         self.inputs.append(self.boards_to_format(ins))\n",
    "        #         self.outputs.append(self.boards_to_format(out))\n",
    "\n",
    "    # def boards_to_format(self, key):\n",
    "    #     key = key[1:-1]\n",
    "    #     return [int(c) for c in key.split(' ') if c in ['-1', '0', '1']]\n",
    "        \n",
    "    def __len__(self,):\n",
    "        return self.len\n",
    "    \n",
    "    def __getitem__(self, idx):\n",
    "        ins, outs = self.data[str(idx)]\n",
    "        return ins, outs"
   ]
  },
  {
   "cell_type": "code",
   "execution_count": 7,
   "metadata": {},
   "outputs": [],
   "source": [
    "train_dataset = TicTacDataset(path='./data/train.json')\n",
    "val_dataset = TicTacDataset(path='./data/val.json')\n",
    "test_dataset = TicTacDataset(path='./data/test.json')"
   ]
  },
  {
   "cell_type": "code",
   "execution_count": 8,
   "metadata": {},
   "outputs": [],
   "source": [
    "from torch.utils.data import DataLoader"
   ]
  },
  {
   "cell_type": "code",
   "execution_count": 9,
   "metadata": {},
   "outputs": [],
   "source": [
    "def collate(batch):\n",
    "    # print(batch)\n",
    "    ins = [torch.tensor(b[0])+1 for b in batch]\n",
    "    # outs = [torch.tensor(np.average(np.array(b[1])+1, axis=0)) for b in batch]\n",
    "    outs = [torch.tensor(b[1][0])+1 for b in batch]\n",
    "    # print(outs)\n",
    "\n",
    "\n",
    "\n",
    "    # max_outs = max([len(o) for o in outs])\n",
    "    # padded_outs = []\n",
    "    # for o in outs:\n",
    "    #   pad_boxes = max_outs - len(o)\n",
    "    #   padded_out = (o) + [[1,1,1,1,1,1,1,1,1]] * pad_boxes\n",
    "    #   padded_outs.append(torch.tensor(padded_out, dtype=torch.float32)+1)\n",
    "    return torch.stack(ins), torch.stack(outs)\n"
   ]
  },
  {
   "cell_type": "code",
   "execution_count": 31,
   "metadata": {},
   "outputs": [],
   "source": [
    "batch_size = 64\n",
    "train_dataloader = DataLoader(train_dataset, batch_size=batch_size, shuffle=True, collate_fn=collate)\n",
    "val_dataloader = DataLoader(val_dataset, batch_size=batch_size, shuffle=True, collate_fn=collate)\n",
    "test_dataloader = DataLoader(test_dataset, batch_size=batch_size, shuffle=True, collate_fn=collate)"
   ]
  },
  {
   "cell_type": "code",
   "execution_count": 11,
   "metadata": {},
   "outputs": [],
   "source": [
    "out = next(iter(train_dataloader))"
   ]
  },
  {
   "cell_type": "markdown",
   "metadata": {},
   "source": [
    "## Model Work"
   ]
  },
  {
   "cell_type": "code",
   "execution_count": 32,
   "metadata": {},
   "outputs": [],
   "source": [
    "import torch\n",
    "from torch import nn\n",
    "import torch.nn.functional as F\n",
    "\n",
    "torch.manual_seed(42)\n",
    "\n",
    "# Set default device to CUDA if available, otherwise CPU\n",
    "if torch.cuda.is_available():\n",
    "    torch.set_default_device('cuda')\n",
    "else:\n",
    "    torch.set_default_device('cpu')"
   ]
  },
  {
   "cell_type": "markdown",
   "metadata": {},
   "source": [
    "### Build Model"
   ]
  },
  {
   "cell_type": "code",
   "execution_count": 33,
   "metadata": {},
   "outputs": [],
   "source": [
    "vocab_size = 3\n",
    "num_embedding = 32\n",
    "\n",
    "num_heads = 8\n",
    "\n",
    "num_blocks = 4\n",
    "block_size = 9\n",
    "\n",
    "dropout = 0.0"
   ]
  },
  {
   "cell_type": "code",
   "execution_count": 34,
   "metadata": {},
   "outputs": [],
   "source": [
    "class Head(nn.Module):\n",
    "    \"\"\" Singular Head\"\"\"\n",
    "\n",
    "    def __init__(self, num_embedding, head_size):\n",
    "        super().__init__()\n",
    "        self.key = nn.Linear(num_embedding, head_size, bias=False)\n",
    "        self.query = nn.Linear(num_embedding, head_size, bias=False)\n",
    "        self.value = nn.Linear(num_embedding, head_size, bias=False)\n",
    "\n",
    "        self.dropout = nn.Dropout(dropout)\n",
    "\n",
    "    def forward(self, x):\n",
    "        B,T,C = x.shape\n",
    "\n",
    "        k = self.key(x) # (B,T,C)\n",
    "        q = self.query(x) # (B,T,C)\n",
    "\n",
    "        # Computer attention\n",
    "        # C**0.5 is to make the numbers smaller so softmax doesn't do weird things\n",
    "        wei = q @ k.transpose(-2, -1) / C**0.5 # (B, T, C) @ (B, C, T) -> (B, T, T)\n",
    "        wei = F.softmax(wei, dim=-1)\n",
    "        wei = self.dropout(wei)\n",
    "\n",
    "        # \n",
    "        V = self.value(x)\n",
    "        out = wei @ V # (B, T, T) @ (B, T, C) -> (B, T, C)\n",
    "        return out"
   ]
  },
  {
   "cell_type": "code",
   "execution_count": 35,
   "metadata": {},
   "outputs": [],
   "source": [
    "class MultiHeadAttention(nn.Module):\n",
    "    \"\"\"Multiple Attention Heads\"\"\"\n",
    "    def __init__(self, num_heads, num_embedding, head_size):\n",
    "        super().__init__()\n",
    "        self.heads = nn.ModuleList([Head(num_embedding, head_size) for i in range(num_heads)])\n",
    "        self.project = nn.Linear(num_embedding, num_embedding)                  # Projection layer for gettting back into the residual pathway\n",
    "        self.dropout = nn.Dropout(dropout)\n",
    "\n",
    "    def forward(self, x):\n",
    "        out = torch.cat([h(x) for h in self.heads], dim=-1)\n",
    "        out = self.project(out)\n",
    "        out = self.dropout(out)\n",
    "        return out"
   ]
  },
  {
   "cell_type": "code",
   "execution_count": 36,
   "metadata": {},
   "outputs": [],
   "source": [
    "class FeedFoward(nn.Module):\n",
    "    \"\"\"Single Layer\"\"\"\n",
    "\n",
    "    def __init__(self, num_embedding):\n",
    "        super().__init__()\n",
    "\n",
    "        self.m = nn.Sequential(nn.Linear(num_embedding, 4 * num_embedding), # 4* because they did it in the paper\n",
    "                               nn.ReLU(),\n",
    "                               nn.Linear(4 * num_embedding, num_embedding), # Projection layer for gettting back into the residual pathway\n",
    "                               nn.Dropout(dropout)\n",
    "        )\n",
    "    \n",
    "    def forward(self, x):\n",
    "        return self.m(x)"
   ]
  },
  {
   "cell_type": "code",
   "execution_count": 37,
   "metadata": {},
   "outputs": [],
   "source": [
    "class Block(nn.Module):\n",
    "    \"\"\"\"\"\"\n",
    "\n",
    "    def __init__(self, num_embedding, num_head):\n",
    "        super().__init__()\n",
    "\n",
    "        head_size = num_embedding // num_head\n",
    "        self.self_attn = MultiHeadAttention(num_head, num_embedding, head_size)\n",
    "        self.feed_fwd = FeedFoward(num_embedding)\n",
    "\n",
    "        self.lay_norm1 = nn.LayerNorm(num_embedding)\n",
    "        self.lay_norm2 = nn.LayerNorm(num_embedding)\n",
    "\n",
    "    def forward(self, x):\n",
    "        x = x + self.self_attn(self.lay_norm1(x))\n",
    "        x = x + self.feed_fwd(self.lay_norm2(x))\n",
    "        return x\n"
   ]
  },
  {
   "cell_type": "code",
   "execution_count": 38,
   "metadata": {},
   "outputs": [],
   "source": [
    "class TicTacToeModel(nn.Module):\n",
    "    def __init__(self):\n",
    "        super().__init__()\n",
    "\n",
    "        # Embeddings\n",
    "        self.token_embedding_table = nn.Embedding(vocab_size,num_embedding)\n",
    "        self.position_embedding_table = nn.Embedding(block_size, num_embedding)\n",
    "\n",
    "        # Attention\n",
    "        self.attn_blocks = nn.Sequential(\n",
    "            *[Block(num_embedding, num_head = 4) for i in range(num_blocks)],\n",
    "            nn.LayerNorm(num_embedding),\n",
    "        )\n",
    "\n",
    "        self.lm_head = nn.Linear(num_embedding, vocab_size)\n",
    "\n",
    "    def forward(self, inputs): #, labels=None):\n",
    "        B, T = inputs.shape\n",
    "        # print(inputs[0])\n",
    "        # print(labels[0])\n",
    "\n",
    "        token_embedding = self.token_embedding_table(inputs) # (B, T, C)\n",
    "        position_embedding = self.position_embedding_table(torch.arange(T)) # (T, C)\n",
    "        x = token_embedding + position_embedding # (B, T, C)\n",
    "\n",
    "        x = self.attn_blocks(x)\n",
    "        logits = self.lm_head(x) # (B, T, vocab_size)\n",
    "\n",
    "        # if labels is None:\n",
    "        #     loss = None\n",
    "        # else:\n",
    "        #     # print(logits.shape)\n",
    "        #     # print(labels.shape)\n",
    "            \n",
    "        #     # loss = F.cross_entropy(logits, labels) # need to add \n",
    "        #     # loss = F.cross_entropy(logits.view(-1, logits.size(-1)), labels.view(-1), ignore_index=-1)\n",
    "            \n",
    "        return logits #, loss\n"
   ]
  },
  {
   "cell_type": "markdown",
   "metadata": {},
   "source": [
    "## Train Model"
   ]
  },
  {
   "cell_type": "code",
   "execution_count": 39,
   "metadata": {},
   "outputs": [],
   "source": [
    "from tqdm import tqdm"
   ]
  },
  {
   "cell_type": "code",
   "execution_count": 43,
   "metadata": {},
   "outputs": [],
   "source": [
    "class ModelTrainer:\n",
    "    def __init__(self, model,\n",
    "                 train_dataloader,\n",
    "                 val_dataloader, \n",
    "                 lr=1e-3,\n",
    "                 epochs = 100,\n",
    "                 device = None):\n",
    "        self.model = model\n",
    "        self.device = device if device is not None else ('cuda' if torch.cuda.is_available() else 'cpu')\n",
    "\n",
    "        self.model.to(self.device)\n",
    "\n",
    "        self.train_loader = train_dataloader\n",
    "        self.val_loader = val_dataloader\n",
    "\n",
    "        self.epochs = epochs\n",
    "        self.lr = lr\n",
    "        self.optimizer = torch.optim.AdamW(model.parameters(), lr=self.lr)\n",
    "        self.criterion = nn.CrossEntropyLoss() \n",
    "\n",
    "    def train_one_epoch(self):\n",
    "        self.model.train()\n",
    "        running_loss = 0.0\n",
    "        \n",
    "        for inputs, labels in tqdm(self.train_loader, desc=\"Training\", unit=\"batch\"):\n",
    "            inputs, labels = inputs.to(self.device), labels.to(self.device)\n",
    "            \n",
    "            self.optimizer.zero_grad()  # Zero the gradients\n",
    "            logits = self.model(inputs)\n",
    "            \n",
    "            loss = self.criterion(logits.view(-1, logits.size(-1)), labels.view(-1))\n",
    "            loss.backward()  # Backpropagate the loss\n",
    "            self.optimizer.step()  # Update model parameters\n",
    "            \n",
    "            running_loss += loss.item()\n",
    "        \n",
    "        avg_train_loss = running_loss / len(self.train_loader)\n",
    "        return avg_train_loss\n",
    "    \n",
    "    def evaluate(self):\n",
    "        self.model.eval()\n",
    "        correct = 0\n",
    "        total = 0\n",
    "        running_loss = 0.0\n",
    "        \n",
    "        with torch.no_grad():  # No need to track gradients during evaluation\n",
    "            for inputs, labels in tqdm(self.val_loader, desc=\"Evaluating\", unit=\"batch\"):\n",
    "                inputs, labels = inputs.to(self.device), labels.to(self.device)\n",
    "                logits = self.model(inputs)\n",
    "                # print(f\"logit shape: {logits.shape}\")\n",
    "                # print(f\"labels shape: {labels.shape}\")\n",
    "                \n",
    "                outputs = torch.argmax(logits, dim=2)\n",
    "                # print(f\"outputs shape: {outputs.shape}\")\n",
    "                \n",
    "                loss = self.criterion(logits.view(-1, logits.size(-1)), labels.view(-1))\n",
    "                running_loss += loss.item()\n",
    "                \n",
    "                # print(f\"outputs:{outputs}\")\n",
    "                # print(labels.size(0))\n",
    "                # print(outputs == labels)\n",
    "                total += labels.size(0)\n",
    "                correct += (torch.all(outputs == labels, dim=1)).sum().item()\n",
    "                # input()\n",
    "        \n",
    "        avg_val_loss = running_loss / len(self.val_loader)\n",
    "        accuracy = correct / total\n",
    "        return avg_val_loss, accuracy\n",
    "    \n",
    "    def train(self):\n",
    "        best_val_accuracy = 0.0\n",
    "        \n",
    "        for epoch in range(self.epochs):\n",
    "            print(f\"Epoch {epoch+1}/{self.epochs}\")\n",
    "            train_loss = self.train_one_epoch()\n",
    "            val_loss, val_accuracy = self.evaluate()\n",
    "            \n",
    "            print(f\"Train Loss: {train_loss:.4f}\")\n",
    "            print(f\"Validation Loss: {val_loss:.4f}\")\n",
    "            print(f\"Validation Accuracy: {val_accuracy * 100:.2f}%\")\n",
    "            \n",
    "            # Save the best model based on validation accuracy\n",
    "            if val_accuracy > best_val_accuracy:\n",
    "                best_val_accuracy = val_accuracy\n",
    "                print(\"Saving best model...\")\n",
    "                torch.save(self.model.state_dict(), \"./models/best_model.pth\")\n",
    "\n",
    "    def load_best_model(self):\n",
    "        self.model.load_state_dict(torch.load(\"./models/best_model.pth\"))\n",
    "        self.model.to(self.device)\n",
    "        print(\"Best model loaded successfully.\")\n",
    "\n",
    "    def test(self, test_dataloader, model_path: str = None):\n",
    "        if model_path is None:\n",
    "            self.load_best_model()\n",
    "        else:\n",
    "            self.model.load_state_dict(torch.load(model_path))\n",
    "            self.model.to(self.device)\n",
    "\n",
    "        self.model.eval()\n",
    "        correct = 0\n",
    "        total = 0\n",
    "        \n",
    "        with torch.no_grad():  # No need to track gradients during evaluation\n",
    "            for inputs, labels in tqdm(test_dataloader, desc=\"Testing\", unit=\"batch\"):\n",
    "                inputs, labels = inputs.to(self.device), labels.to(self.device)\n",
    "                logits = self.model(inputs)\n",
    "                \n",
    "                \n",
    "                outputs = torch.argmax(logits, dim=2)\n",
    "                # print(f\"outputs shape: {outputs.shape}\")\n",
    "                \n",
    "                total += labels.size(0)\n",
    "                correct += (torch.all(outputs == labels, dim=1)).sum().item()\n",
    "                # input()\n",
    "        \n",
    "        accuracy = correct / total\n",
    "        return accuracy\n",
    "        "
   ]
  },
  {
   "cell_type": "code",
   "execution_count": 44,
   "metadata": {},
   "outputs": [],
   "source": [
    "model = TicTacToeModel()\n",
    "trainer = ModelTrainer(model, train_dataloader, val_dataloader, epochs=500)"
   ]
  },
  {
   "cell_type": "code",
   "execution_count": 42,
   "metadata": {},
   "outputs": [
    {
     "name": "stdout",
     "output_type": "stream",
     "text": [
      "Epoch 1/500\n"
     ]
    },
    {
     "name": "stderr",
     "output_type": "stream",
     "text": [
      "Training: 100%|██████████| 65/65 [00:03<00:00, 20.41batch/s]\n",
      "Evaluating: 100%|██████████| 19/19 [00:00<00:00, 66.16batch/s]\n"
     ]
    },
    {
     "name": "stdout",
     "output_type": "stream",
     "text": [
      "Train Loss: 0.3727\n",
      "Validation Loss: 0.2449\n",
      "Validation Accuracy: 31.17%\n",
      "Saving best model...\n",
      "Epoch 2/500\n"
     ]
    },
    {
     "name": "stderr",
     "output_type": "stream",
     "text": [
      "Training: 100%|██████████| 65/65 [00:03<00:00, 19.62batch/s]\n",
      "Evaluating: 100%|██████████| 19/19 [00:00<00:00, 68.86batch/s]\n"
     ]
    },
    {
     "name": "stdout",
     "output_type": "stream",
     "text": [
      "Train Loss: 0.2041\n",
      "Validation Loss: 0.1888\n",
      "Validation Accuracy: 38.34%\n",
      "Saving best model...\n",
      "Epoch 3/500\n"
     ]
    },
    {
     "name": "stderr",
     "output_type": "stream",
     "text": [
      "Training: 100%|██████████| 65/65 [00:03<00:00, 19.77batch/s]\n",
      "Evaluating: 100%|██████████| 19/19 [00:00<00:00, 77.69batch/s]\n"
     ]
    },
    {
     "name": "stdout",
     "output_type": "stream",
     "text": [
      "Train Loss: 0.1791\n",
      "Validation Loss: 0.1721\n",
      "Validation Accuracy: 50.42%\n",
      "Saving best model...\n",
      "Epoch 4/500\n"
     ]
    },
    {
     "name": "stderr",
     "output_type": "stream",
     "text": [
      "Training: 100%|██████████| 65/65 [00:03<00:00, 21.16batch/s]\n",
      "Evaluating: 100%|██████████| 19/19 [00:00<00:00, 75.47batch/s]\n"
     ]
    },
    {
     "name": "stdout",
     "output_type": "stream",
     "text": [
      "Train Loss: 0.1718\n",
      "Validation Loss: 0.1743\n",
      "Validation Accuracy: 52.79%\n",
      "Saving best model...\n",
      "Epoch 5/500\n"
     ]
    },
    {
     "name": "stderr",
     "output_type": "stream",
     "text": [
      "Training: 100%|██████████| 65/65 [00:03<00:00, 19.42batch/s]\n",
      "Evaluating: 100%|██████████| 19/19 [00:00<00:00, 68.67batch/s]\n"
     ]
    },
    {
     "name": "stdout",
     "output_type": "stream",
     "text": [
      "Train Loss: 0.1697\n",
      "Validation Loss: 0.1693\n",
      "Validation Accuracy: 56.00%\n",
      "Saving best model...\n",
      "Epoch 6/500\n"
     ]
    },
    {
     "name": "stderr",
     "output_type": "stream",
     "text": [
      "Training: 100%|██████████| 65/65 [00:03<00:00, 19.87batch/s]\n",
      "Evaluating: 100%|██████████| 19/19 [00:00<00:00, 69.71batch/s]\n"
     ]
    },
    {
     "name": "stdout",
     "output_type": "stream",
     "text": [
      "Train Loss: 0.1673\n",
      "Validation Loss: 0.1671\n",
      "Validation Accuracy: 57.69%\n",
      "Saving best model...\n",
      "Epoch 7/500\n"
     ]
    },
    {
     "name": "stderr",
     "output_type": "stream",
     "text": [
      "Training: 100%|██████████| 65/65 [00:03<00:00, 20.43batch/s]\n",
      "Evaluating: 100%|██████████| 19/19 [00:00<00:00, 66.12batch/s]\n"
     ]
    },
    {
     "name": "stdout",
     "output_type": "stream",
     "text": [
      "Train Loss: 0.1649\n",
      "Validation Loss: 0.1654\n",
      "Validation Accuracy: 54.90%\n",
      "Epoch 8/500\n"
     ]
    },
    {
     "name": "stderr",
     "output_type": "stream",
     "text": [
      "Training: 100%|██████████| 65/65 [00:03<00:00, 20.31batch/s]\n",
      "Evaluating: 100%|██████████| 19/19 [00:00<00:00, 71.29batch/s]\n"
     ]
    },
    {
     "name": "stdout",
     "output_type": "stream",
     "text": [
      "Train Loss: 0.1639\n",
      "Validation Loss: 0.1631\n",
      "Validation Accuracy: 59.88%\n",
      "Saving best model...\n",
      "Epoch 9/500\n"
     ]
    },
    {
     "name": "stderr",
     "output_type": "stream",
     "text": [
      "Training: 100%|██████████| 65/65 [00:03<00:00, 20.16batch/s]\n",
      "Evaluating: 100%|██████████| 19/19 [00:00<00:00, 69.44batch/s]\n"
     ]
    },
    {
     "name": "stdout",
     "output_type": "stream",
     "text": [
      "Train Loss: 0.1628\n",
      "Validation Loss: 0.1648\n",
      "Validation Accuracy: 61.82%\n",
      "Saving best model...\n",
      "Epoch 10/500\n"
     ]
    },
    {
     "name": "stderr",
     "output_type": "stream",
     "text": [
      "Training: 100%|██████████| 65/65 [00:03<00:00, 20.49batch/s]\n",
      "Evaluating: 100%|██████████| 19/19 [00:00<00:00, 71.63batch/s]\n"
     ]
    },
    {
     "name": "stdout",
     "output_type": "stream",
     "text": [
      "Train Loss: 0.1631\n",
      "Validation Loss: 0.1624\n",
      "Validation Accuracy: 59.97%\n",
      "Epoch 11/500\n"
     ]
    },
    {
     "name": "stderr",
     "output_type": "stream",
     "text": [
      "Training: 100%|██████████| 65/65 [00:03<00:00, 19.92batch/s]\n",
      "Evaluating: 100%|██████████| 19/19 [00:00<00:00, 62.58batch/s]\n"
     ]
    },
    {
     "name": "stdout",
     "output_type": "stream",
     "text": [
      "Train Loss: 0.1622\n",
      "Validation Loss: 0.1600\n",
      "Validation Accuracy: 59.88%\n",
      "Epoch 12/500\n"
     ]
    },
    {
     "name": "stderr",
     "output_type": "stream",
     "text": [
      "Training: 100%|██████████| 65/65 [00:03<00:00, 21.28batch/s]\n",
      "Evaluating: 100%|██████████| 19/19 [00:00<00:00, 73.14batch/s]\n"
     ]
    },
    {
     "name": "stdout",
     "output_type": "stream",
     "text": [
      "Train Loss: 0.1606\n",
      "Validation Loss: 0.1627\n",
      "Validation Accuracy: 57.09%\n",
      "Epoch 13/500\n"
     ]
    },
    {
     "name": "stderr",
     "output_type": "stream",
     "text": [
      "Training: 100%|██████████| 65/65 [00:03<00:00, 20.40batch/s]\n",
      "Evaluating: 100%|██████████| 19/19 [00:00<00:00, 65.25batch/s]\n"
     ]
    },
    {
     "name": "stdout",
     "output_type": "stream",
     "text": [
      "Train Loss: 0.1600\n",
      "Validation Loss: 0.1615\n",
      "Validation Accuracy: 55.15%\n",
      "Epoch 14/500\n"
     ]
    },
    {
     "name": "stderr",
     "output_type": "stream",
     "text": [
      "Training: 100%|██████████| 65/65 [00:03<00:00, 20.84batch/s]\n",
      "Evaluating: 100%|██████████| 19/19 [00:00<00:00, 71.07batch/s]\n"
     ]
    },
    {
     "name": "stdout",
     "output_type": "stream",
     "text": [
      "Train Loss: 0.1585\n",
      "Validation Loss: 0.1601\n",
      "Validation Accuracy: 59.12%\n",
      "Epoch 15/500\n"
     ]
    },
    {
     "name": "stderr",
     "output_type": "stream",
     "text": [
      "Training: 100%|██████████| 65/65 [00:03<00:00, 21.22batch/s]\n",
      "Evaluating: 100%|██████████| 19/19 [00:00<00:00, 71.33batch/s]\n"
     ]
    },
    {
     "name": "stdout",
     "output_type": "stream",
     "text": [
      "Train Loss: 0.1585\n",
      "Validation Loss: 0.1604\n",
      "Validation Accuracy: 59.54%\n",
      "Epoch 16/500\n"
     ]
    },
    {
     "name": "stderr",
     "output_type": "stream",
     "text": [
      "Training: 100%|██████████| 65/65 [00:03<00:00, 20.78batch/s]\n",
      "Evaluating: 100%|██████████| 19/19 [00:00<00:00, 65.17batch/s]\n"
     ]
    },
    {
     "name": "stdout",
     "output_type": "stream",
     "text": [
      "Train Loss: 0.1589\n",
      "Validation Loss: 0.1605\n",
      "Validation Accuracy: 56.00%\n",
      "Epoch 17/500\n"
     ]
    },
    {
     "name": "stderr",
     "output_type": "stream",
     "text": [
      "Training: 100%|██████████| 65/65 [00:03<00:00, 20.46batch/s]\n",
      "Evaluating: 100%|██████████| 19/19 [00:00<00:00, 65.60batch/s]\n"
     ]
    },
    {
     "name": "stdout",
     "output_type": "stream",
     "text": [
      "Train Loss: 0.1579\n",
      "Validation Loss: 0.1621\n",
      "Validation Accuracy: 60.30%\n",
      "Epoch 18/500\n"
     ]
    },
    {
     "name": "stderr",
     "output_type": "stream",
     "text": [
      "Training: 100%|██████████| 65/65 [00:03<00:00, 21.22batch/s]\n",
      "Evaluating: 100%|██████████| 19/19 [00:00<00:00, 69.59batch/s]\n"
     ]
    },
    {
     "name": "stdout",
     "output_type": "stream",
     "text": [
      "Train Loss: 0.1567\n",
      "Validation Loss: 0.1586\n",
      "Validation Accuracy: 58.19%\n",
      "Epoch 19/500\n"
     ]
    },
    {
     "name": "stderr",
     "output_type": "stream",
     "text": [
      "Training: 100%|██████████| 65/65 [00:03<00:00, 20.76batch/s]\n",
      "Evaluating: 100%|██████████| 19/19 [00:00<00:00, 66.54batch/s]\n"
     ]
    },
    {
     "name": "stdout",
     "output_type": "stream",
     "text": [
      "Train Loss: 0.1551\n",
      "Validation Loss: 0.1565\n",
      "Validation Accuracy: 60.22%\n",
      "Epoch 20/500\n"
     ]
    },
    {
     "name": "stderr",
     "output_type": "stream",
     "text": [
      "Training: 100%|██████████| 65/65 [00:03<00:00, 21.39batch/s]\n",
      "Evaluating: 100%|██████████| 19/19 [00:00<00:00, 72.92batch/s]\n"
     ]
    },
    {
     "name": "stdout",
     "output_type": "stream",
     "text": [
      "Train Loss: 0.1530\n",
      "Validation Loss: 0.1573\n",
      "Validation Accuracy: 58.11%\n",
      "Epoch 21/500\n"
     ]
    },
    {
     "name": "stderr",
     "output_type": "stream",
     "text": [
      "Training: 100%|██████████| 65/65 [00:03<00:00, 20.82batch/s]\n",
      "Evaluating: 100%|██████████| 19/19 [00:00<00:00, 69.32batch/s]\n"
     ]
    },
    {
     "name": "stdout",
     "output_type": "stream",
     "text": [
      "Train Loss: 0.1486\n",
      "Validation Loss: 0.1533\n",
      "Validation Accuracy: 62.75%\n",
      "Saving best model...\n",
      "Epoch 22/500\n"
     ]
    },
    {
     "name": "stderr",
     "output_type": "stream",
     "text": [
      "Training: 100%|██████████| 65/65 [00:03<00:00, 20.35batch/s]\n",
      "Evaluating: 100%|██████████| 19/19 [00:00<00:00, 70.44batch/s]\n"
     ]
    },
    {
     "name": "stdout",
     "output_type": "stream",
     "text": [
      "Train Loss: 0.1449\n",
      "Validation Loss: 0.1502\n",
      "Validation Accuracy: 59.12%\n",
      "Epoch 23/500\n"
     ]
    },
    {
     "name": "stderr",
     "output_type": "stream",
     "text": [
      "Training: 100%|██████████| 65/65 [00:03<00:00, 20.96batch/s]\n",
      "Evaluating: 100%|██████████| 19/19 [00:00<00:00, 71.28batch/s]\n"
     ]
    },
    {
     "name": "stdout",
     "output_type": "stream",
     "text": [
      "Train Loss: 0.1405\n",
      "Validation Loss: 0.1408\n",
      "Validation Accuracy: 59.97%\n",
      "Epoch 24/500\n"
     ]
    },
    {
     "name": "stderr",
     "output_type": "stream",
     "text": [
      "Training: 100%|██████████| 65/65 [00:03<00:00, 20.75batch/s]\n",
      "Evaluating: 100%|██████████| 19/19 [00:00<00:00, 78.81batch/s]\n"
     ]
    },
    {
     "name": "stdout",
     "output_type": "stream",
     "text": [
      "Train Loss: 0.1330\n",
      "Validation Loss: 0.1394\n",
      "Validation Accuracy: 64.27%\n",
      "Saving best model...\n",
      "Epoch 25/500\n"
     ]
    },
    {
     "name": "stderr",
     "output_type": "stream",
     "text": [
      "Training: 100%|██████████| 65/65 [00:03<00:00, 20.19batch/s]\n",
      "Evaluating: 100%|██████████| 19/19 [00:00<00:00, 73.96batch/s]\n"
     ]
    },
    {
     "name": "stdout",
     "output_type": "stream",
     "text": [
      "Train Loss: 0.1279\n",
      "Validation Loss: 0.1355\n",
      "Validation Accuracy: 63.01%\n",
      "Epoch 26/500\n"
     ]
    },
    {
     "name": "stderr",
     "output_type": "stream",
     "text": [
      "Training: 100%|██████████| 65/65 [00:03<00:00, 21.11batch/s]\n",
      "Evaluating: 100%|██████████| 19/19 [00:00<00:00, 72.67batch/s]\n"
     ]
    },
    {
     "name": "stdout",
     "output_type": "stream",
     "text": [
      "Train Loss: 0.1260\n",
      "Validation Loss: 0.1290\n",
      "Validation Accuracy: 64.02%\n",
      "Epoch 27/500\n"
     ]
    },
    {
     "name": "stderr",
     "output_type": "stream",
     "text": [
      "Training: 100%|██████████| 65/65 [00:03<00:00, 20.79batch/s]\n",
      "Evaluating: 100%|██████████| 19/19 [00:00<00:00, 52.66batch/s]\n"
     ]
    },
    {
     "name": "stdout",
     "output_type": "stream",
     "text": [
      "Train Loss: 0.1175\n",
      "Validation Loss: 0.1251\n",
      "Validation Accuracy: 65.03%\n",
      "Saving best model...\n",
      "Epoch 28/500\n"
     ]
    },
    {
     "name": "stderr",
     "output_type": "stream",
     "text": [
      "Training: 100%|██████████| 65/65 [00:03<00:00, 19.91batch/s]\n",
      "Evaluating: 100%|██████████| 19/19 [00:00<00:00, 72.99batch/s]\n"
     ]
    },
    {
     "name": "stdout",
     "output_type": "stream",
     "text": [
      "Train Loss: 0.1120\n",
      "Validation Loss: 0.1184\n",
      "Validation Accuracy: 68.07%\n",
      "Saving best model...\n",
      "Epoch 29/500\n"
     ]
    },
    {
     "name": "stderr",
     "output_type": "stream",
     "text": [
      "Training: 100%|██████████| 65/65 [00:03<00:00, 20.33batch/s]\n",
      "Evaluating: 100%|██████████| 19/19 [00:00<00:00, 67.19batch/s]\n"
     ]
    },
    {
     "name": "stdout",
     "output_type": "stream",
     "text": [
      "Train Loss: 0.1056\n",
      "Validation Loss: 0.1206\n",
      "Validation Accuracy: 66.39%\n",
      "Epoch 30/500\n"
     ]
    },
    {
     "name": "stderr",
     "output_type": "stream",
     "text": [
      "Training: 100%|██████████| 65/65 [00:03<00:00, 20.60batch/s]\n",
      "Evaluating: 100%|██████████| 19/19 [00:00<00:00, 72.18batch/s]\n"
     ]
    },
    {
     "name": "stdout",
     "output_type": "stream",
     "text": [
      "Train Loss: 0.1018\n",
      "Validation Loss: 0.1112\n",
      "Validation Accuracy: 69.34%\n",
      "Saving best model...\n",
      "Epoch 31/500\n"
     ]
    },
    {
     "name": "stderr",
     "output_type": "stream",
     "text": [
      "Training: 100%|██████████| 65/65 [00:03<00:00, 20.54batch/s]\n",
      "Evaluating: 100%|██████████| 19/19 [00:00<00:00, 71.09batch/s]\n"
     ]
    },
    {
     "name": "stdout",
     "output_type": "stream",
     "text": [
      "Train Loss: 0.0996\n",
      "Validation Loss: 0.1125\n",
      "Validation Accuracy: 68.24%\n",
      "Epoch 32/500\n"
     ]
    },
    {
     "name": "stderr",
     "output_type": "stream",
     "text": [
      "Training: 100%|██████████| 65/65 [00:03<00:00, 20.19batch/s]\n",
      "Evaluating: 100%|██████████| 19/19 [00:00<00:00, 71.28batch/s]\n"
     ]
    },
    {
     "name": "stdout",
     "output_type": "stream",
     "text": [
      "Train Loss: 0.0938\n",
      "Validation Loss: 0.1126\n",
      "Validation Accuracy: 72.13%\n",
      "Saving best model...\n",
      "Epoch 33/500\n"
     ]
    },
    {
     "name": "stderr",
     "output_type": "stream",
     "text": [
      "Training: 100%|██████████| 65/65 [00:03<00:00, 20.65batch/s]\n",
      "Evaluating: 100%|██████████| 19/19 [00:00<00:00, 68.69batch/s]\n"
     ]
    },
    {
     "name": "stdout",
     "output_type": "stream",
     "text": [
      "Train Loss: 0.0874\n",
      "Validation Loss: 0.1117\n",
      "Validation Accuracy: 70.35%\n",
      "Epoch 34/500\n"
     ]
    },
    {
     "name": "stderr",
     "output_type": "stream",
     "text": [
      "Training: 100%|██████████| 65/65 [00:03<00:00, 21.18batch/s]\n",
      "Evaluating: 100%|██████████| 19/19 [00:00<00:00, 69.22batch/s]\n"
     ]
    },
    {
     "name": "stdout",
     "output_type": "stream",
     "text": [
      "Train Loss: 0.0849\n",
      "Validation Loss: 0.1076\n",
      "Validation Accuracy: 71.28%\n",
      "Epoch 35/500\n"
     ]
    },
    {
     "name": "stderr",
     "output_type": "stream",
     "text": [
      "Training: 100%|██████████| 65/65 [00:03<00:00, 20.33batch/s]\n",
      "Evaluating: 100%|██████████| 19/19 [00:00<00:00, 74.45batch/s]\n"
     ]
    },
    {
     "name": "stdout",
     "output_type": "stream",
     "text": [
      "Train Loss: 0.0828\n",
      "Validation Loss: 0.1026\n",
      "Validation Accuracy: 73.56%\n",
      "Saving best model...\n",
      "Epoch 36/500\n"
     ]
    },
    {
     "name": "stderr",
     "output_type": "stream",
     "text": [
      "Training: 100%|██████████| 65/65 [00:03<00:00, 20.77batch/s]\n",
      "Evaluating: 100%|██████████| 19/19 [00:00<00:00, 73.69batch/s]\n"
     ]
    },
    {
     "name": "stdout",
     "output_type": "stream",
     "text": [
      "Train Loss: 0.0773\n",
      "Validation Loss: 0.0989\n",
      "Validation Accuracy: 73.65%\n",
      "Saving best model...\n",
      "Epoch 37/500\n"
     ]
    },
    {
     "name": "stderr",
     "output_type": "stream",
     "text": [
      "Training: 100%|██████████| 65/65 [00:03<00:00, 19.48batch/s]\n",
      "Evaluating: 100%|██████████| 19/19 [00:00<00:00, 75.33batch/s]\n"
     ]
    },
    {
     "name": "stdout",
     "output_type": "stream",
     "text": [
      "Train Loss: 0.0733\n",
      "Validation Loss: 0.0981\n",
      "Validation Accuracy: 74.49%\n",
      "Saving best model...\n",
      "Epoch 38/500\n"
     ]
    },
    {
     "name": "stderr",
     "output_type": "stream",
     "text": [
      "Training: 100%|██████████| 65/65 [00:03<00:00, 20.75batch/s]\n",
      "Evaluating: 100%|██████████| 19/19 [00:00<00:00, 73.48batch/s]\n"
     ]
    },
    {
     "name": "stdout",
     "output_type": "stream",
     "text": [
      "Train Loss: 0.0716\n",
      "Validation Loss: 0.0979\n",
      "Validation Accuracy: 74.58%\n",
      "Saving best model...\n",
      "Epoch 39/500\n"
     ]
    },
    {
     "name": "stderr",
     "output_type": "stream",
     "text": [
      "Training: 100%|██████████| 65/65 [00:03<00:00, 20.17batch/s]\n",
      "Evaluating: 100%|██████████| 19/19 [00:00<00:00, 80.46batch/s]\n"
     ]
    },
    {
     "name": "stdout",
     "output_type": "stream",
     "text": [
      "Train Loss: 0.0687\n",
      "Validation Loss: 0.0959\n",
      "Validation Accuracy: 75.93%\n",
      "Saving best model...\n",
      "Epoch 40/500\n"
     ]
    },
    {
     "name": "stderr",
     "output_type": "stream",
     "text": [
      "Training: 100%|██████████| 65/65 [00:03<00:00, 20.66batch/s]\n",
      "Evaluating: 100%|██████████| 19/19 [00:00<00:00, 61.40batch/s]\n"
     ]
    },
    {
     "name": "stdout",
     "output_type": "stream",
     "text": [
      "Train Loss: 0.0667\n",
      "Validation Loss: 0.0916\n",
      "Validation Accuracy: 77.36%\n",
      "Saving best model...\n",
      "Epoch 41/500\n"
     ]
    },
    {
     "name": "stderr",
     "output_type": "stream",
     "text": [
      "Training: 100%|██████████| 65/65 [00:03<00:00, 20.74batch/s]\n",
      "Evaluating: 100%|██████████| 19/19 [00:00<00:00, 72.96batch/s]\n"
     ]
    },
    {
     "name": "stdout",
     "output_type": "stream",
     "text": [
      "Train Loss: 0.0616\n",
      "Validation Loss: 0.1034\n",
      "Validation Accuracy: 77.53%\n",
      "Saving best model...\n",
      "Epoch 42/500\n"
     ]
    },
    {
     "name": "stderr",
     "output_type": "stream",
     "text": [
      "Training: 100%|██████████| 65/65 [00:03<00:00, 20.68batch/s]\n",
      "Evaluating: 100%|██████████| 19/19 [00:00<00:00, 73.71batch/s]\n"
     ]
    },
    {
     "name": "stdout",
     "output_type": "stream",
     "text": [
      "Train Loss: 0.0621\n",
      "Validation Loss: 0.0932\n",
      "Validation Accuracy: 76.69%\n",
      "Epoch 43/500\n"
     ]
    },
    {
     "name": "stderr",
     "output_type": "stream",
     "text": [
      "Training: 100%|██████████| 65/65 [00:03<00:00, 20.42batch/s]\n",
      "Evaluating: 100%|██████████| 19/19 [00:00<00:00, 74.79batch/s]\n"
     ]
    },
    {
     "name": "stdout",
     "output_type": "stream",
     "text": [
      "Train Loss: 0.0558\n",
      "Validation Loss: 0.0918\n",
      "Validation Accuracy: 78.72%\n",
      "Saving best model...\n",
      "Epoch 44/500\n"
     ]
    },
    {
     "name": "stderr",
     "output_type": "stream",
     "text": [
      "Training: 100%|██████████| 65/65 [00:03<00:00, 20.24batch/s]\n",
      "Evaluating: 100%|██████████| 19/19 [00:00<00:00, 72.74batch/s]\n"
     ]
    },
    {
     "name": "stdout",
     "output_type": "stream",
     "text": [
      "Train Loss: 0.0540\n",
      "Validation Loss: 0.0947\n",
      "Validation Accuracy: 77.62%\n",
      "Epoch 45/500\n"
     ]
    },
    {
     "name": "stderr",
     "output_type": "stream",
     "text": [
      "Training: 100%|██████████| 65/65 [00:03<00:00, 20.79batch/s]\n",
      "Evaluating: 100%|██████████| 19/19 [00:00<00:00, 74.25batch/s]\n"
     ]
    },
    {
     "name": "stdout",
     "output_type": "stream",
     "text": [
      "Train Loss: 0.0554\n",
      "Validation Loss: 0.1032\n",
      "Validation Accuracy: 75.51%\n",
      "Epoch 46/500\n"
     ]
    },
    {
     "name": "stderr",
     "output_type": "stream",
     "text": [
      "Training: 100%|██████████| 65/65 [00:03<00:00, 20.24batch/s]\n",
      "Evaluating: 100%|██████████| 19/19 [00:00<00:00, 64.16batch/s]\n"
     ]
    },
    {
     "name": "stdout",
     "output_type": "stream",
     "text": [
      "Train Loss: 0.0514\n",
      "Validation Loss: 0.0908\n",
      "Validation Accuracy: 79.90%\n",
      "Saving best model...\n",
      "Epoch 47/500\n"
     ]
    },
    {
     "name": "stderr",
     "output_type": "stream",
     "text": [
      "Training: 100%|██████████| 65/65 [00:03<00:00, 19.64batch/s]\n",
      "Evaluating: 100%|██████████| 19/19 [00:00<00:00, 75.15batch/s]\n"
     ]
    },
    {
     "name": "stdout",
     "output_type": "stream",
     "text": [
      "Train Loss: 0.0458\n",
      "Validation Loss: 0.0999\n",
      "Validation Accuracy: 77.62%\n",
      "Epoch 48/500\n"
     ]
    },
    {
     "name": "stderr",
     "output_type": "stream",
     "text": [
      "Training: 100%|██████████| 65/65 [00:03<00:00, 21.06batch/s]\n",
      "Evaluating: 100%|██████████| 19/19 [00:00<00:00, 69.14batch/s]\n"
     ]
    },
    {
     "name": "stdout",
     "output_type": "stream",
     "text": [
      "Train Loss: 0.0477\n",
      "Validation Loss: 0.1033\n",
      "Validation Accuracy: 77.36%\n",
      "Epoch 49/500\n"
     ]
    },
    {
     "name": "stderr",
     "output_type": "stream",
     "text": [
      "Training: 100%|██████████| 65/65 [00:03<00:00, 20.88batch/s]\n",
      "Evaluating: 100%|██████████| 19/19 [00:00<00:00, 73.76batch/s]\n"
     ]
    },
    {
     "name": "stdout",
     "output_type": "stream",
     "text": [
      "Train Loss: 0.0439\n",
      "Validation Loss: 0.0944\n",
      "Validation Accuracy: 77.53%\n",
      "Epoch 50/500\n"
     ]
    },
    {
     "name": "stderr",
     "output_type": "stream",
     "text": [
      "Training: 100%|██████████| 65/65 [00:03<00:00, 20.83batch/s]\n",
      "Evaluating: 100%|██████████| 19/19 [00:00<00:00, 68.98batch/s]\n"
     ]
    },
    {
     "name": "stdout",
     "output_type": "stream",
     "text": [
      "Train Loss: 0.0437\n",
      "Validation Loss: 0.0906\n",
      "Validation Accuracy: 79.56%\n",
      "Epoch 51/500\n"
     ]
    },
    {
     "name": "stderr",
     "output_type": "stream",
     "text": [
      "Training: 100%|██████████| 65/65 [00:03<00:00, 20.94batch/s]\n",
      "Evaluating: 100%|██████████| 19/19 [00:00<00:00, 61.20batch/s]\n"
     ]
    },
    {
     "name": "stdout",
     "output_type": "stream",
     "text": [
      "Train Loss: 0.0420\n",
      "Validation Loss: 0.0997\n",
      "Validation Accuracy: 79.22%\n",
      "Epoch 52/500\n"
     ]
    },
    {
     "name": "stderr",
     "output_type": "stream",
     "text": [
      "Training: 100%|██████████| 65/65 [00:03<00:00, 20.03batch/s]\n",
      "Evaluating: 100%|██████████| 19/19 [00:00<00:00, 73.91batch/s]\n"
     ]
    },
    {
     "name": "stdout",
     "output_type": "stream",
     "text": [
      "Train Loss: 0.0391\n",
      "Validation Loss: 0.0996\n",
      "Validation Accuracy: 80.74%\n",
      "Saving best model...\n",
      "Epoch 53/500\n"
     ]
    },
    {
     "name": "stderr",
     "output_type": "stream",
     "text": [
      "Training: 100%|██████████| 65/65 [00:03<00:00, 20.30batch/s]\n",
      "Evaluating: 100%|██████████| 19/19 [00:00<00:00, 74.42batch/s]\n"
     ]
    },
    {
     "name": "stdout",
     "output_type": "stream",
     "text": [
      "Train Loss: 0.0374\n",
      "Validation Loss: 0.0998\n",
      "Validation Accuracy: 79.39%\n",
      "Epoch 54/500\n"
     ]
    },
    {
     "name": "stderr",
     "output_type": "stream",
     "text": [
      "Training: 100%|██████████| 65/65 [00:03<00:00, 21.35batch/s]\n",
      "Evaluating: 100%|██████████| 19/19 [00:00<00:00, 73.96batch/s]\n"
     ]
    },
    {
     "name": "stdout",
     "output_type": "stream",
     "text": [
      "Train Loss: 0.0367\n",
      "Validation Loss: 0.1019\n",
      "Validation Accuracy: 78.29%\n",
      "Epoch 55/500\n"
     ]
    },
    {
     "name": "stderr",
     "output_type": "stream",
     "text": [
      "Training: 100%|██████████| 65/65 [00:03<00:00, 21.22batch/s]\n",
      "Evaluating: 100%|██████████| 19/19 [00:00<00:00, 77.03batch/s]\n"
     ]
    },
    {
     "name": "stdout",
     "output_type": "stream",
     "text": [
      "Train Loss: 0.0325\n",
      "Validation Loss: 0.1000\n",
      "Validation Accuracy: 80.24%\n",
      "Epoch 56/500\n"
     ]
    },
    {
     "name": "stderr",
     "output_type": "stream",
     "text": [
      "Training: 100%|██████████| 65/65 [00:03<00:00, 20.58batch/s]\n",
      "Evaluating: 100%|██████████| 19/19 [00:00<00:00, 72.18batch/s]\n"
     ]
    },
    {
     "name": "stdout",
     "output_type": "stream",
     "text": [
      "Train Loss: 0.0298\n",
      "Validation Loss: 0.1031\n",
      "Validation Accuracy: 79.22%\n",
      "Epoch 57/500\n"
     ]
    },
    {
     "name": "stderr",
     "output_type": "stream",
     "text": [
      "Training: 100%|██████████| 65/65 [00:03<00:00, 20.27batch/s]\n",
      "Evaluating: 100%|██████████| 19/19 [00:00<00:00, 75.79batch/s]\n"
     ]
    },
    {
     "name": "stdout",
     "output_type": "stream",
     "text": [
      "Train Loss: 0.0308\n",
      "Validation Loss: 0.1028\n",
      "Validation Accuracy: 79.05%\n",
      "Epoch 58/500\n"
     ]
    },
    {
     "name": "stderr",
     "output_type": "stream",
     "text": [
      "Training: 100%|██████████| 65/65 [00:03<00:00, 21.12batch/s]\n",
      "Evaluating: 100%|██████████| 19/19 [00:00<00:00, 78.67batch/s]\n"
     ]
    },
    {
     "name": "stdout",
     "output_type": "stream",
     "text": [
      "Train Loss: 0.0287\n",
      "Validation Loss: 0.1125\n",
      "Validation Accuracy: 79.39%\n",
      "Epoch 59/500\n"
     ]
    },
    {
     "name": "stderr",
     "output_type": "stream",
     "text": [
      "Training: 100%|██████████| 65/65 [00:03<00:00, 20.73batch/s]\n",
      "Evaluating: 100%|██████████| 19/19 [00:00<00:00, 70.74batch/s]\n"
     ]
    },
    {
     "name": "stdout",
     "output_type": "stream",
     "text": [
      "Train Loss: 0.0292\n",
      "Validation Loss: 0.1239\n",
      "Validation Accuracy: 78.46%\n",
      "Epoch 60/500\n"
     ]
    },
    {
     "name": "stderr",
     "output_type": "stream",
     "text": [
      "Training: 100%|██████████| 65/65 [00:03<00:00, 21.02batch/s]\n",
      "Evaluating: 100%|██████████| 19/19 [00:00<00:00, 66.34batch/s]\n"
     ]
    },
    {
     "name": "stdout",
     "output_type": "stream",
     "text": [
      "Train Loss: 0.0263\n",
      "Validation Loss: 0.1164\n",
      "Validation Accuracy: 80.49%\n",
      "Epoch 61/500\n"
     ]
    },
    {
     "name": "stderr",
     "output_type": "stream",
     "text": [
      "Training: 100%|██████████| 65/65 [00:03<00:00, 20.59batch/s]\n",
      "Evaluating: 100%|██████████| 19/19 [00:00<00:00, 72.89batch/s]\n"
     ]
    },
    {
     "name": "stdout",
     "output_type": "stream",
     "text": [
      "Train Loss: 0.0241\n",
      "Validation Loss: 0.1200\n",
      "Validation Accuracy: 79.05%\n",
      "Epoch 62/500\n"
     ]
    },
    {
     "name": "stderr",
     "output_type": "stream",
     "text": [
      "Training: 100%|██████████| 65/65 [00:03<00:00, 20.98batch/s]\n",
      "Evaluating: 100%|██████████| 19/19 [00:00<00:00, 66.83batch/s]\n"
     ]
    },
    {
     "name": "stdout",
     "output_type": "stream",
     "text": [
      "Train Loss: 0.0276\n",
      "Validation Loss: 0.1195\n",
      "Validation Accuracy: 80.32%\n",
      "Epoch 63/500\n"
     ]
    },
    {
     "name": "stderr",
     "output_type": "stream",
     "text": [
      "Training: 100%|██████████| 65/65 [00:03<00:00, 20.55batch/s]\n",
      "Evaluating: 100%|██████████| 19/19 [00:00<00:00, 73.56batch/s]\n"
     ]
    },
    {
     "name": "stdout",
     "output_type": "stream",
     "text": [
      "Train Loss: 0.0257\n",
      "Validation Loss: 0.1057\n",
      "Validation Accuracy: 82.35%\n",
      "Saving best model...\n",
      "Epoch 64/500\n"
     ]
    },
    {
     "name": "stderr",
     "output_type": "stream",
     "text": [
      "Training: 100%|██████████| 65/65 [00:03<00:00, 20.51batch/s]\n",
      "Evaluating: 100%|██████████| 19/19 [00:00<00:00, 69.60batch/s]\n"
     ]
    },
    {
     "name": "stdout",
     "output_type": "stream",
     "text": [
      "Train Loss: 0.0235\n",
      "Validation Loss: 0.1301\n",
      "Validation Accuracy: 80.49%\n",
      "Epoch 65/500\n"
     ]
    },
    {
     "name": "stderr",
     "output_type": "stream",
     "text": [
      "Training: 100%|██████████| 65/65 [00:03<00:00, 20.96batch/s]\n",
      "Evaluating: 100%|██████████| 19/19 [00:00<00:00, 71.25batch/s]\n"
     ]
    },
    {
     "name": "stdout",
     "output_type": "stream",
     "text": [
      "Train Loss: 0.0214\n",
      "Validation Loss: 0.1127\n",
      "Validation Accuracy: 80.15%\n",
      "Epoch 66/500\n"
     ]
    },
    {
     "name": "stderr",
     "output_type": "stream",
     "text": [
      "Training: 100%|██████████| 65/65 [00:03<00:00, 21.44batch/s]\n",
      "Evaluating: 100%|██████████| 19/19 [00:00<00:00, 74.05batch/s]\n"
     ]
    },
    {
     "name": "stdout",
     "output_type": "stream",
     "text": [
      "Train Loss: 0.0211\n",
      "Validation Loss: 0.1219\n",
      "Validation Accuracy: 80.49%\n",
      "Epoch 67/500\n"
     ]
    },
    {
     "name": "stderr",
     "output_type": "stream",
     "text": [
      "Training: 100%|██████████| 65/65 [00:03<00:00, 20.66batch/s]\n",
      "Evaluating: 100%|██████████| 19/19 [00:00<00:00, 66.98batch/s]\n"
     ]
    },
    {
     "name": "stdout",
     "output_type": "stream",
     "text": [
      "Train Loss: 0.0184\n",
      "Validation Loss: 0.1247\n",
      "Validation Accuracy: 81.93%\n",
      "Epoch 68/500\n"
     ]
    },
    {
     "name": "stderr",
     "output_type": "stream",
     "text": [
      "Training: 100%|██████████| 65/65 [00:03<00:00, 21.42batch/s]\n",
      "Evaluating: 100%|██████████| 19/19 [00:00<00:00, 73.59batch/s]\n"
     ]
    },
    {
     "name": "stdout",
     "output_type": "stream",
     "text": [
      "Train Loss: 0.0163\n",
      "Validation Loss: 0.1260\n",
      "Validation Accuracy: 81.42%\n",
      "Epoch 69/500\n"
     ]
    },
    {
     "name": "stderr",
     "output_type": "stream",
     "text": [
      "Training: 100%|██████████| 65/65 [00:03<00:00, 20.41batch/s]\n",
      "Evaluating: 100%|██████████| 19/19 [00:00<00:00, 67.15batch/s]\n"
     ]
    },
    {
     "name": "stdout",
     "output_type": "stream",
     "text": [
      "Train Loss: 0.0169\n",
      "Validation Loss: 0.1402\n",
      "Validation Accuracy: 80.57%\n",
      "Epoch 70/500\n"
     ]
    },
    {
     "name": "stderr",
     "output_type": "stream",
     "text": [
      "Training: 100%|██████████| 65/65 [00:03<00:00, 20.77batch/s]\n",
      "Evaluating: 100%|██████████| 19/19 [00:00<00:00, 56.22batch/s]\n"
     ]
    },
    {
     "name": "stdout",
     "output_type": "stream",
     "text": [
      "Train Loss: 0.0206\n",
      "Validation Loss: 0.1296\n",
      "Validation Accuracy: 81.42%\n",
      "Epoch 71/500\n"
     ]
    },
    {
     "name": "stderr",
     "output_type": "stream",
     "text": [
      "Training: 100%|██████████| 65/65 [00:03<00:00, 18.96batch/s]\n",
      "Evaluating: 100%|██████████| 19/19 [00:00<00:00, 79.48batch/s]\n"
     ]
    },
    {
     "name": "stdout",
     "output_type": "stream",
     "text": [
      "Train Loss: 0.0179\n",
      "Validation Loss: 0.1303\n",
      "Validation Accuracy: 80.57%\n",
      "Epoch 72/500\n"
     ]
    },
    {
     "name": "stderr",
     "output_type": "stream",
     "text": [
      "Training: 100%|██████████| 65/65 [00:03<00:00, 20.46batch/s]\n",
      "Evaluating: 100%|██████████| 19/19 [00:00<00:00, 69.63batch/s]\n"
     ]
    },
    {
     "name": "stdout",
     "output_type": "stream",
     "text": [
      "Train Loss: 0.0159\n",
      "Validation Loss: 0.1318\n",
      "Validation Accuracy: 81.59%\n",
      "Epoch 73/500\n"
     ]
    },
    {
     "name": "stderr",
     "output_type": "stream",
     "text": [
      "Training: 100%|██████████| 65/65 [00:03<00:00, 20.61batch/s]\n",
      "Evaluating: 100%|██████████| 19/19 [00:00<00:00, 72.01batch/s]\n"
     ]
    },
    {
     "name": "stdout",
     "output_type": "stream",
     "text": [
      "Train Loss: 0.0193\n",
      "Validation Loss: 0.1215\n",
      "Validation Accuracy: 78.29%\n",
      "Epoch 74/500\n"
     ]
    },
    {
     "name": "stderr",
     "output_type": "stream",
     "text": [
      "Training: 100%|██████████| 65/65 [00:03<00:00, 20.15batch/s]\n",
      "Evaluating: 100%|██████████| 19/19 [00:00<00:00, 72.10batch/s]\n"
     ]
    },
    {
     "name": "stdout",
     "output_type": "stream",
     "text": [
      "Train Loss: 0.0189\n",
      "Validation Loss: 0.1230\n",
      "Validation Accuracy: 80.32%\n",
      "Epoch 75/500\n"
     ]
    },
    {
     "name": "stderr",
     "output_type": "stream",
     "text": [
      "Training: 100%|██████████| 65/65 [00:03<00:00, 20.68batch/s]\n",
      "Evaluating: 100%|██████████| 19/19 [00:00<00:00, 77.08batch/s]\n"
     ]
    },
    {
     "name": "stdout",
     "output_type": "stream",
     "text": [
      "Train Loss: 0.0119\n",
      "Validation Loss: 0.1400\n",
      "Validation Accuracy: 80.07%\n",
      "Epoch 76/500\n"
     ]
    },
    {
     "name": "stderr",
     "output_type": "stream",
     "text": [
      "Training: 100%|██████████| 65/65 [00:03<00:00, 20.74batch/s]\n",
      "Evaluating: 100%|██████████| 19/19 [00:00<00:00, 71.02batch/s]\n"
     ]
    },
    {
     "name": "stdout",
     "output_type": "stream",
     "text": [
      "Train Loss: 0.0152\n",
      "Validation Loss: 0.1238\n",
      "Validation Accuracy: 81.59%\n",
      "Epoch 77/500\n"
     ]
    },
    {
     "name": "stderr",
     "output_type": "stream",
     "text": [
      "Training: 100%|██████████| 65/65 [00:03<00:00, 20.44batch/s]\n",
      "Evaluating: 100%|██████████| 19/19 [00:00<00:00, 67.39batch/s]\n"
     ]
    },
    {
     "name": "stdout",
     "output_type": "stream",
     "text": [
      "Train Loss: 0.0126\n",
      "Validation Loss: 0.1374\n",
      "Validation Accuracy: 81.84%\n",
      "Epoch 78/500\n"
     ]
    },
    {
     "name": "stderr",
     "output_type": "stream",
     "text": [
      "Training: 100%|██████████| 65/65 [00:03<00:00, 20.58batch/s]\n",
      "Evaluating: 100%|██████████| 19/19 [00:00<00:00, 74.48batch/s]\n"
     ]
    },
    {
     "name": "stdout",
     "output_type": "stream",
     "text": [
      "Train Loss: 0.0086\n",
      "Validation Loss: 0.1491\n",
      "Validation Accuracy: 81.84%\n",
      "Epoch 79/500\n"
     ]
    },
    {
     "name": "stderr",
     "output_type": "stream",
     "text": [
      "Training: 100%|██████████| 65/65 [00:03<00:00, 20.24batch/s]\n",
      "Evaluating: 100%|██████████| 19/19 [00:00<00:00, 70.48batch/s]\n"
     ]
    },
    {
     "name": "stdout",
     "output_type": "stream",
     "text": [
      "Train Loss: 0.0133\n",
      "Validation Loss: 0.1384\n",
      "Validation Accuracy: 80.24%\n",
      "Epoch 80/500\n"
     ]
    },
    {
     "name": "stderr",
     "output_type": "stream",
     "text": [
      "Training: 100%|██████████| 65/65 [00:03<00:00, 20.65batch/s]\n",
      "Evaluating: 100%|██████████| 19/19 [00:00<00:00, 72.39batch/s]\n"
     ]
    },
    {
     "name": "stdout",
     "output_type": "stream",
     "text": [
      "Train Loss: 0.0176\n",
      "Validation Loss: 0.1349\n",
      "Validation Accuracy: 81.08%\n",
      "Epoch 81/500\n"
     ]
    },
    {
     "name": "stderr",
     "output_type": "stream",
     "text": [
      "Training: 100%|██████████| 65/65 [00:03<00:00, 20.12batch/s]\n",
      "Evaluating: 100%|██████████| 19/19 [00:00<00:00, 65.84batch/s]\n"
     ]
    },
    {
     "name": "stdout",
     "output_type": "stream",
     "text": [
      "Train Loss: 0.0097\n",
      "Validation Loss: 0.1355\n",
      "Validation Accuracy: 82.60%\n",
      "Saving best model...\n",
      "Epoch 82/500\n"
     ]
    },
    {
     "name": "stderr",
     "output_type": "stream",
     "text": [
      "Training: 100%|██████████| 65/65 [00:03<00:00, 20.53batch/s]\n",
      "Evaluating: 100%|██████████| 19/19 [00:00<00:00, 73.88batch/s]\n"
     ]
    },
    {
     "name": "stdout",
     "output_type": "stream",
     "text": [
      "Train Loss: 0.0072\n",
      "Validation Loss: 0.1593\n",
      "Validation Accuracy: 81.76%\n",
      "Epoch 83/500\n"
     ]
    },
    {
     "name": "stderr",
     "output_type": "stream",
     "text": [
      "Training: 100%|██████████| 65/65 [00:03<00:00, 20.35batch/s]\n",
      "Evaluating: 100%|██████████| 19/19 [00:00<00:00, 77.34batch/s]\n"
     ]
    },
    {
     "name": "stdout",
     "output_type": "stream",
     "text": [
      "Train Loss: 0.0144\n",
      "Validation Loss: 0.1506\n",
      "Validation Accuracy: 80.57%\n",
      "Epoch 84/500\n"
     ]
    },
    {
     "name": "stderr",
     "output_type": "stream",
     "text": [
      "Training: 100%|██████████| 65/65 [00:03<00:00, 20.60batch/s]\n",
      "Evaluating: 100%|██████████| 19/19 [00:00<00:00, 72.90batch/s]\n"
     ]
    },
    {
     "name": "stdout",
     "output_type": "stream",
     "text": [
      "Train Loss: 0.0135\n",
      "Validation Loss: 0.1458\n",
      "Validation Accuracy: 80.74%\n",
      "Epoch 85/500\n"
     ]
    },
    {
     "name": "stderr",
     "output_type": "stream",
     "text": [
      "Training: 100%|██████████| 65/65 [00:03<00:00, 19.40batch/s]\n",
      "Evaluating: 100%|██████████| 19/19 [00:00<00:00, 70.02batch/s]\n"
     ]
    },
    {
     "name": "stdout",
     "output_type": "stream",
     "text": [
      "Train Loss: 0.0093\n",
      "Validation Loss: 0.1418\n",
      "Validation Accuracy: 82.18%\n",
      "Epoch 86/500\n"
     ]
    },
    {
     "name": "stderr",
     "output_type": "stream",
     "text": [
      "Training: 100%|██████████| 65/65 [00:03<00:00, 20.77batch/s]\n",
      "Evaluating: 100%|██████████| 19/19 [00:00<00:00, 68.39batch/s]\n"
     ]
    },
    {
     "name": "stdout",
     "output_type": "stream",
     "text": [
      "Train Loss: 0.0143\n",
      "Validation Loss: 0.1374\n",
      "Validation Accuracy: 82.01%\n",
      "Epoch 87/500\n"
     ]
    },
    {
     "name": "stderr",
     "output_type": "stream",
     "text": [
      "Training: 100%|██████████| 65/65 [00:03<00:00, 20.89batch/s]\n",
      "Evaluating: 100%|██████████| 19/19 [00:00<00:00, 78.11batch/s]\n"
     ]
    },
    {
     "name": "stdout",
     "output_type": "stream",
     "text": [
      "Train Loss: 0.0111\n",
      "Validation Loss: 0.1543\n",
      "Validation Accuracy: 81.59%\n",
      "Epoch 88/500\n"
     ]
    },
    {
     "name": "stderr",
     "output_type": "stream",
     "text": [
      "Training: 100%|██████████| 65/65 [00:03<00:00, 20.60batch/s]\n",
      "Evaluating: 100%|██████████| 19/19 [00:00<00:00, 73.67batch/s]\n"
     ]
    },
    {
     "name": "stdout",
     "output_type": "stream",
     "text": [
      "Train Loss: 0.0153\n",
      "Validation Loss: 0.1368\n",
      "Validation Accuracy: 80.15%\n",
      "Epoch 89/500\n"
     ]
    },
    {
     "name": "stderr",
     "output_type": "stream",
     "text": [
      "Training: 100%|██████████| 65/65 [00:03<00:00, 20.68batch/s]\n",
      "Evaluating: 100%|██████████| 19/19 [00:00<00:00, 57.35batch/s]\n"
     ]
    },
    {
     "name": "stdout",
     "output_type": "stream",
     "text": [
      "Train Loss: 0.0123\n",
      "Validation Loss: 0.1385\n",
      "Validation Accuracy: 83.28%\n",
      "Saving best model...\n",
      "Epoch 90/500\n"
     ]
    },
    {
     "name": "stderr",
     "output_type": "stream",
     "text": [
      "Training: 100%|██████████| 65/65 [00:03<00:00, 20.43batch/s]\n",
      "Evaluating: 100%|██████████| 19/19 [00:00<00:00, 73.13batch/s]\n"
     ]
    },
    {
     "name": "stdout",
     "output_type": "stream",
     "text": [
      "Train Loss: 0.0084\n",
      "Validation Loss: 0.1481\n",
      "Validation Accuracy: 81.67%\n",
      "Epoch 91/500\n"
     ]
    },
    {
     "name": "stderr",
     "output_type": "stream",
     "text": [
      "Training: 100%|██████████| 65/65 [00:03<00:00, 21.01batch/s]\n",
      "Evaluating: 100%|██████████| 19/19 [00:00<00:00, 66.39batch/s]\n"
     ]
    },
    {
     "name": "stdout",
     "output_type": "stream",
     "text": [
      "Train Loss: 0.0072\n",
      "Validation Loss: 0.1675\n",
      "Validation Accuracy: 81.59%\n",
      "Epoch 92/500\n"
     ]
    },
    {
     "name": "stderr",
     "output_type": "stream",
     "text": [
      "Training: 100%|██████████| 65/65 [00:03<00:00, 20.69batch/s]\n",
      "Evaluating: 100%|██████████| 19/19 [00:00<00:00, 76.76batch/s]\n"
     ]
    },
    {
     "name": "stdout",
     "output_type": "stream",
     "text": [
      "Train Loss: 0.0067\n",
      "Validation Loss: 0.1633\n",
      "Validation Accuracy: 82.26%\n",
      "Epoch 93/500\n"
     ]
    },
    {
     "name": "stderr",
     "output_type": "stream",
     "text": [
      "Training: 100%|██████████| 65/65 [00:03<00:00, 20.24batch/s]\n",
      "Evaluating: 100%|██████████| 19/19 [00:00<00:00, 76.49batch/s]\n"
     ]
    },
    {
     "name": "stdout",
     "output_type": "stream",
     "text": [
      "Train Loss: 0.0033\n",
      "Validation Loss: 0.1885\n",
      "Validation Accuracy: 81.84%\n",
      "Epoch 94/500\n"
     ]
    },
    {
     "name": "stderr",
     "output_type": "stream",
     "text": [
      "Training: 100%|██████████| 65/65 [00:03<00:00, 20.85batch/s]\n",
      "Evaluating: 100%|██████████| 19/19 [00:00<00:00, 66.98batch/s]\n"
     ]
    },
    {
     "name": "stdout",
     "output_type": "stream",
     "text": [
      "Train Loss: 0.0047\n",
      "Validation Loss: 0.1792\n",
      "Validation Accuracy: 81.50%\n",
      "Epoch 95/500\n"
     ]
    },
    {
     "name": "stderr",
     "output_type": "stream",
     "text": [
      "Training: 100%|██████████| 65/65 [00:03<00:00, 20.95batch/s]\n",
      "Evaluating: 100%|██████████| 19/19 [00:00<00:00, 70.74batch/s]\n"
     ]
    },
    {
     "name": "stdout",
     "output_type": "stream",
     "text": [
      "Train Loss: 0.0105\n",
      "Validation Loss: 0.1572\n",
      "Validation Accuracy: 81.59%\n",
      "Epoch 96/500\n"
     ]
    },
    {
     "name": "stderr",
     "output_type": "stream",
     "text": [
      "Training: 100%|██████████| 65/65 [00:03<00:00, 20.59batch/s]\n",
      "Evaluating: 100%|██████████| 19/19 [00:00<00:00, 65.49batch/s]\n"
     ]
    },
    {
     "name": "stdout",
     "output_type": "stream",
     "text": [
      "Train Loss: 0.0126\n",
      "Validation Loss: 0.1336\n",
      "Validation Accuracy: 83.28%\n",
      "Epoch 97/500\n"
     ]
    },
    {
     "name": "stderr",
     "output_type": "stream",
     "text": [
      "Training: 100%|██████████| 65/65 [00:03<00:00, 20.96batch/s]\n",
      "Evaluating: 100%|██████████| 19/19 [00:00<00:00, 71.56batch/s]\n"
     ]
    },
    {
     "name": "stdout",
     "output_type": "stream",
     "text": [
      "Train Loss: 0.0148\n",
      "Validation Loss: 0.1395\n",
      "Validation Accuracy: 81.93%\n",
      "Epoch 98/500\n"
     ]
    },
    {
     "name": "stderr",
     "output_type": "stream",
     "text": [
      "Training: 100%|██████████| 65/65 [00:03<00:00, 21.16batch/s]\n",
      "Evaluating: 100%|██████████| 19/19 [00:00<00:00, 72.82batch/s]\n"
     ]
    },
    {
     "name": "stdout",
     "output_type": "stream",
     "text": [
      "Train Loss: 0.0038\n",
      "Validation Loss: 0.1691\n",
      "Validation Accuracy: 81.67%\n",
      "Epoch 99/500\n"
     ]
    },
    {
     "name": "stderr",
     "output_type": "stream",
     "text": [
      "Training: 100%|██████████| 65/65 [00:03<00:00, 20.66batch/s]\n",
      "Evaluating: 100%|██████████| 19/19 [00:00<00:00, 74.21batch/s]\n"
     ]
    },
    {
     "name": "stdout",
     "output_type": "stream",
     "text": [
      "Train Loss: 0.0076\n",
      "Validation Loss: 0.1561\n",
      "Validation Accuracy: 83.02%\n",
      "Epoch 100/500\n"
     ]
    },
    {
     "name": "stderr",
     "output_type": "stream",
     "text": [
      "Training: 100%|██████████| 65/65 [00:03<00:00, 20.28batch/s]\n",
      "Evaluating: 100%|██████████| 19/19 [00:00<00:00, 60.26batch/s]\n"
     ]
    },
    {
     "name": "stdout",
     "output_type": "stream",
     "text": [
      "Train Loss: 0.0027\n",
      "Validation Loss: 0.1758\n",
      "Validation Accuracy: 83.53%\n",
      "Saving best model...\n",
      "Epoch 101/500\n"
     ]
    },
    {
     "name": "stderr",
     "output_type": "stream",
     "text": [
      "Training: 100%|██████████| 65/65 [00:03<00:00, 20.64batch/s]\n",
      "Evaluating: 100%|██████████| 19/19 [00:00<00:00, 68.34batch/s]\n"
     ]
    },
    {
     "name": "stdout",
     "output_type": "stream",
     "text": [
      "Train Loss: 0.0023\n",
      "Validation Loss: 0.1856\n",
      "Validation Accuracy: 82.18%\n",
      "Epoch 102/500\n"
     ]
    },
    {
     "name": "stderr",
     "output_type": "stream",
     "text": [
      "Training: 100%|██████████| 65/65 [00:03<00:00, 19.93batch/s]\n",
      "Evaluating: 100%|██████████| 19/19 [00:00<00:00, 69.15batch/s]\n"
     ]
    },
    {
     "name": "stdout",
     "output_type": "stream",
     "text": [
      "Train Loss: 0.0060\n",
      "Validation Loss: 0.1758\n",
      "Validation Accuracy: 80.66%\n",
      "Epoch 103/500\n"
     ]
    },
    {
     "name": "stderr",
     "output_type": "stream",
     "text": [
      "Training: 100%|██████████| 65/65 [00:03<00:00, 20.60batch/s]\n",
      "Evaluating: 100%|██████████| 19/19 [00:00<00:00, 75.76batch/s]\n"
     ]
    },
    {
     "name": "stdout",
     "output_type": "stream",
     "text": [
      "Train Loss: 0.0131\n",
      "Validation Loss: 0.1448\n",
      "Validation Accuracy: 80.15%\n",
      "Epoch 104/500\n"
     ]
    },
    {
     "name": "stderr",
     "output_type": "stream",
     "text": [
      "Training: 100%|██████████| 65/65 [00:03<00:00, 20.78batch/s]\n",
      "Evaluating: 100%|██████████| 19/19 [00:00<00:00, 71.65batch/s]\n"
     ]
    },
    {
     "name": "stdout",
     "output_type": "stream",
     "text": [
      "Train Loss: 0.0122\n",
      "Validation Loss: 0.1500\n",
      "Validation Accuracy: 78.80%\n",
      "Epoch 105/500\n"
     ]
    },
    {
     "name": "stderr",
     "output_type": "stream",
     "text": [
      "Training: 100%|██████████| 65/65 [00:03<00:00, 21.07batch/s]\n",
      "Evaluating: 100%|██████████| 19/19 [00:00<00:00, 68.96batch/s]\n"
     ]
    },
    {
     "name": "stdout",
     "output_type": "stream",
     "text": [
      "Train Loss: 0.0102\n",
      "Validation Loss: 0.1578\n",
      "Validation Accuracy: 80.57%\n",
      "Epoch 106/500\n"
     ]
    },
    {
     "name": "stderr",
     "output_type": "stream",
     "text": [
      "Training: 100%|██████████| 65/65 [00:03<00:00, 20.58batch/s]\n",
      "Evaluating: 100%|██████████| 19/19 [00:00<00:00, 70.27batch/s]\n"
     ]
    },
    {
     "name": "stdout",
     "output_type": "stream",
     "text": [
      "Train Loss: 0.0080\n",
      "Validation Loss: 0.1700\n",
      "Validation Accuracy: 80.91%\n",
      "Epoch 107/500\n"
     ]
    },
    {
     "name": "stderr",
     "output_type": "stream",
     "text": [
      "Training: 100%|██████████| 65/65 [00:03<00:00, 21.05batch/s]\n",
      "Evaluating: 100%|██████████| 19/19 [00:00<00:00, 65.56batch/s]\n"
     ]
    },
    {
     "name": "stdout",
     "output_type": "stream",
     "text": [
      "Train Loss: 0.0068\n",
      "Validation Loss: 0.1552\n",
      "Validation Accuracy: 82.60%\n",
      "Epoch 108/500\n"
     ]
    },
    {
     "name": "stderr",
     "output_type": "stream",
     "text": [
      "Training: 100%|██████████| 65/65 [00:03<00:00, 20.80batch/s]\n",
      "Evaluating: 100%|██████████| 19/19 [00:00<00:00, 77.81batch/s]\n"
     ]
    },
    {
     "name": "stdout",
     "output_type": "stream",
     "text": [
      "Train Loss: 0.0073\n",
      "Validation Loss: 0.1730\n",
      "Validation Accuracy: 81.08%\n",
      "Epoch 109/500\n"
     ]
    },
    {
     "name": "stderr",
     "output_type": "stream",
     "text": [
      "Training: 100%|██████████| 65/65 [00:03<00:00, 20.91batch/s]\n",
      "Evaluating: 100%|██████████| 19/19 [00:00<00:00, 63.28batch/s]\n"
     ]
    },
    {
     "name": "stdout",
     "output_type": "stream",
     "text": [
      "Train Loss: 0.0102\n",
      "Validation Loss: 0.1509\n",
      "Validation Accuracy: 82.26%\n",
      "Epoch 110/500\n"
     ]
    },
    {
     "name": "stderr",
     "output_type": "stream",
     "text": [
      "Training: 100%|██████████| 65/65 [00:03<00:00, 20.33batch/s]\n",
      "Evaluating: 100%|██████████| 19/19 [00:00<00:00, 69.31batch/s]\n"
     ]
    },
    {
     "name": "stdout",
     "output_type": "stream",
     "text": [
      "Train Loss: 0.0061\n",
      "Validation Loss: 0.1554\n",
      "Validation Accuracy: 82.35%\n",
      "Epoch 111/500\n"
     ]
    },
    {
     "name": "stderr",
     "output_type": "stream",
     "text": [
      "Training: 100%|██████████| 65/65 [00:03<00:00, 19.95batch/s]\n",
      "Evaluating: 100%|██████████| 19/19 [00:00<00:00, 68.84batch/s]\n"
     ]
    },
    {
     "name": "stdout",
     "output_type": "stream",
     "text": [
      "Train Loss: 0.0083\n",
      "Validation Loss: 0.1597\n",
      "Validation Accuracy: 82.77%\n",
      "Epoch 112/500\n"
     ]
    },
    {
     "name": "stderr",
     "output_type": "stream",
     "text": [
      "Training: 100%|██████████| 65/65 [00:03<00:00, 20.58batch/s]\n",
      "Evaluating: 100%|██████████| 19/19 [00:00<00:00, 73.22batch/s]\n"
     ]
    },
    {
     "name": "stdout",
     "output_type": "stream",
     "text": [
      "Train Loss: 0.0130\n",
      "Validation Loss: 0.1388\n",
      "Validation Accuracy: 80.24%\n",
      "Epoch 113/500\n"
     ]
    },
    {
     "name": "stderr",
     "output_type": "stream",
     "text": [
      "Training: 100%|██████████| 65/65 [00:03<00:00, 21.12batch/s]\n",
      "Evaluating: 100%|██████████| 19/19 [00:00<00:00, 68.69batch/s]\n"
     ]
    },
    {
     "name": "stdout",
     "output_type": "stream",
     "text": [
      "Train Loss: 0.0107\n",
      "Validation Loss: 0.1565\n",
      "Validation Accuracy: 82.09%\n",
      "Epoch 114/500\n"
     ]
    },
    {
     "name": "stderr",
     "output_type": "stream",
     "text": [
      "Training: 100%|██████████| 65/65 [00:03<00:00, 20.46batch/s]\n",
      "Evaluating: 100%|██████████| 19/19 [00:00<00:00, 67.61batch/s]\n"
     ]
    },
    {
     "name": "stdout",
     "output_type": "stream",
     "text": [
      "Train Loss: 0.0050\n",
      "Validation Loss: 0.1694\n",
      "Validation Accuracy: 82.09%\n",
      "Epoch 115/500\n"
     ]
    },
    {
     "name": "stderr",
     "output_type": "stream",
     "text": [
      "Training: 100%|██████████| 65/65 [00:03<00:00, 20.97batch/s]\n",
      "Evaluating: 100%|██████████| 19/19 [00:00<00:00, 75.39batch/s]\n"
     ]
    },
    {
     "name": "stdout",
     "output_type": "stream",
     "text": [
      "Train Loss: 0.0025\n",
      "Validation Loss: 0.1699\n",
      "Validation Accuracy: 82.09%\n",
      "Epoch 116/500\n"
     ]
    },
    {
     "name": "stderr",
     "output_type": "stream",
     "text": [
      "Training: 100%|██████████| 65/65 [00:03<00:00, 20.61batch/s]\n",
      "Evaluating: 100%|██████████| 19/19 [00:00<00:00, 72.25batch/s]\n"
     ]
    },
    {
     "name": "stdout",
     "output_type": "stream",
     "text": [
      "Train Loss: 0.0016\n",
      "Validation Loss: 0.1922\n",
      "Validation Accuracy: 81.33%\n",
      "Epoch 117/500\n"
     ]
    },
    {
     "name": "stderr",
     "output_type": "stream",
     "text": [
      "Training: 100%|██████████| 65/65 [00:03<00:00, 20.39batch/s]\n",
      "Evaluating: 100%|██████████| 19/19 [00:00<00:00, 68.48batch/s]\n"
     ]
    },
    {
     "name": "stdout",
     "output_type": "stream",
     "text": [
      "Train Loss: 0.0013\n",
      "Validation Loss: 0.1760\n",
      "Validation Accuracy: 82.35%\n",
      "Epoch 118/500\n"
     ]
    },
    {
     "name": "stderr",
     "output_type": "stream",
     "text": [
      "Training: 100%|██████████| 65/65 [00:03<00:00, 20.86batch/s]\n",
      "Evaluating: 100%|██████████| 19/19 [00:00<00:00, 75.79batch/s]\n"
     ]
    },
    {
     "name": "stdout",
     "output_type": "stream",
     "text": [
      "Train Loss: 0.0007\n",
      "Validation Loss: 0.1779\n",
      "Validation Accuracy: 83.02%\n",
      "Epoch 119/500\n"
     ]
    },
    {
     "name": "stderr",
     "output_type": "stream",
     "text": [
      "Training: 100%|██████████| 65/65 [00:03<00:00, 20.47batch/s]\n",
      "Evaluating: 100%|██████████| 19/19 [00:00<00:00, 65.57batch/s]\n"
     ]
    },
    {
     "name": "stdout",
     "output_type": "stream",
     "text": [
      "Train Loss: 0.0002\n",
      "Validation Loss: 0.1884\n",
      "Validation Accuracy: 83.28%\n",
      "Epoch 120/500\n"
     ]
    },
    {
     "name": "stderr",
     "output_type": "stream",
     "text": [
      "Training: 100%|██████████| 65/65 [00:03<00:00, 20.07batch/s]\n",
      "Evaluating: 100%|██████████| 19/19 [00:00<00:00, 73.71batch/s]\n"
     ]
    },
    {
     "name": "stdout",
     "output_type": "stream",
     "text": [
      "Train Loss: 0.0006\n",
      "Validation Loss: 0.2011\n",
      "Validation Accuracy: 81.33%\n",
      "Epoch 121/500\n"
     ]
    },
    {
     "name": "stderr",
     "output_type": "stream",
     "text": [
      "Training: 100%|██████████| 65/65 [00:03<00:00, 20.59batch/s]\n",
      "Evaluating: 100%|██████████| 19/19 [00:00<00:00, 70.77batch/s]\n"
     ]
    },
    {
     "name": "stdout",
     "output_type": "stream",
     "text": [
      "Train Loss: 0.0185\n",
      "Validation Loss: 0.1528\n",
      "Validation Accuracy: 77.62%\n",
      "Epoch 122/500\n"
     ]
    },
    {
     "name": "stderr",
     "output_type": "stream",
     "text": [
      "Training: 100%|██████████| 65/65 [00:03<00:00, 20.50batch/s]\n",
      "Evaluating: 100%|██████████| 19/19 [00:00<00:00, 70.44batch/s]\n"
     ]
    },
    {
     "name": "stdout",
     "output_type": "stream",
     "text": [
      "Train Loss: 0.0136\n",
      "Validation Loss: 0.1420\n",
      "Validation Accuracy: 82.01%\n",
      "Epoch 123/500\n"
     ]
    },
    {
     "name": "stderr",
     "output_type": "stream",
     "text": [
      "Training: 100%|██████████| 65/65 [00:03<00:00, 20.01batch/s]\n",
      "Evaluating: 100%|██████████| 19/19 [00:00<00:00, 71.69batch/s]\n"
     ]
    },
    {
     "name": "stdout",
     "output_type": "stream",
     "text": [
      "Train Loss: 0.0043\n",
      "Validation Loss: 0.1690\n",
      "Validation Accuracy: 80.66%\n",
      "Epoch 124/500\n"
     ]
    },
    {
     "name": "stderr",
     "output_type": "stream",
     "text": [
      "Training: 100%|██████████| 65/65 [00:03<00:00, 21.07batch/s]\n",
      "Evaluating: 100%|██████████| 19/19 [00:00<00:00, 66.40batch/s]\n"
     ]
    },
    {
     "name": "stdout",
     "output_type": "stream",
     "text": [
      "Train Loss: 0.0084\n",
      "Validation Loss: 0.1628\n",
      "Validation Accuracy: 80.07%\n",
      "Epoch 125/500\n"
     ]
    },
    {
     "name": "stderr",
     "output_type": "stream",
     "text": [
      "Training: 100%|██████████| 65/65 [00:03<00:00, 20.36batch/s]\n",
      "Evaluating: 100%|██████████| 19/19 [00:00<00:00, 64.87batch/s]\n"
     ]
    },
    {
     "name": "stdout",
     "output_type": "stream",
     "text": [
      "Train Loss: 0.0071\n",
      "Validation Loss: 0.1639\n",
      "Validation Accuracy: 82.43%\n",
      "Epoch 126/500\n"
     ]
    },
    {
     "name": "stderr",
     "output_type": "stream",
     "text": [
      "Training: 100%|██████████| 65/65 [00:03<00:00, 20.37batch/s]\n",
      "Evaluating: 100%|██████████| 19/19 [00:00<00:00, 63.84batch/s]\n"
     ]
    },
    {
     "name": "stdout",
     "output_type": "stream",
     "text": [
      "Train Loss: 0.0057\n",
      "Validation Loss: 0.1718\n",
      "Validation Accuracy: 82.09%\n",
      "Epoch 127/500\n"
     ]
    },
    {
     "name": "stderr",
     "output_type": "stream",
     "text": [
      "Training: 100%|██████████| 65/65 [00:03<00:00, 20.83batch/s]\n",
      "Evaluating: 100%|██████████| 19/19 [00:00<00:00, 67.87batch/s]\n"
     ]
    },
    {
     "name": "stdout",
     "output_type": "stream",
     "text": [
      "Train Loss: 0.0078\n",
      "Validation Loss: 0.1713\n",
      "Validation Accuracy: 80.83%\n",
      "Epoch 128/500\n"
     ]
    },
    {
     "name": "stderr",
     "output_type": "stream",
     "text": [
      "Training: 100%|██████████| 65/65 [00:03<00:00, 19.94batch/s]\n",
      "Evaluating: 100%|██████████| 19/19 [00:00<00:00, 70.30batch/s]\n"
     ]
    },
    {
     "name": "stdout",
     "output_type": "stream",
     "text": [
      "Train Loss: 0.0076\n",
      "Validation Loss: 0.1789\n",
      "Validation Accuracy: 81.59%\n",
      "Epoch 129/500\n"
     ]
    },
    {
     "name": "stderr",
     "output_type": "stream",
     "text": [
      "Training: 100%|██████████| 65/65 [00:03<00:00, 20.16batch/s]\n",
      "Evaluating: 100%|██████████| 19/19 [00:00<00:00, 72.24batch/s]\n"
     ]
    },
    {
     "name": "stdout",
     "output_type": "stream",
     "text": [
      "Train Loss: 0.0117\n",
      "Validation Loss: 0.1355\n",
      "Validation Accuracy: 83.19%\n",
      "Epoch 130/500\n"
     ]
    },
    {
     "name": "stderr",
     "output_type": "stream",
     "text": [
      "Training: 100%|██████████| 65/65 [00:03<00:00, 20.67batch/s]\n",
      "Evaluating: 100%|██████████| 19/19 [00:00<00:00, 72.41batch/s]\n"
     ]
    },
    {
     "name": "stdout",
     "output_type": "stream",
     "text": [
      "Train Loss: 0.0050\n",
      "Validation Loss: 0.1513\n",
      "Validation Accuracy: 83.02%\n",
      "Epoch 131/500\n"
     ]
    },
    {
     "name": "stderr",
     "output_type": "stream",
     "text": [
      "Training: 100%|██████████| 65/65 [00:03<00:00, 20.77batch/s]\n",
      "Evaluating: 100%|██████████| 19/19 [00:00<00:00, 68.14batch/s]\n"
     ]
    },
    {
     "name": "stdout",
     "output_type": "stream",
     "text": [
      "Train Loss: 0.0015\n",
      "Validation Loss: 0.1586\n",
      "Validation Accuracy: 84.12%\n",
      "Saving best model...\n",
      "Epoch 132/500\n"
     ]
    },
    {
     "name": "stderr",
     "output_type": "stream",
     "text": [
      "Training: 100%|██████████| 65/65 [00:03<00:00, 20.25batch/s]\n",
      "Evaluating: 100%|██████████| 19/19 [00:00<00:00, 68.67batch/s]\n"
     ]
    },
    {
     "name": "stdout",
     "output_type": "stream",
     "text": [
      "Train Loss: 0.0002\n",
      "Validation Loss: 0.1646\n",
      "Validation Accuracy: 84.29%\n",
      "Saving best model...\n",
      "Epoch 133/500\n"
     ]
    },
    {
     "name": "stderr",
     "output_type": "stream",
     "text": [
      "Training: 100%|██████████| 65/65 [00:03<00:00, 20.06batch/s]\n",
      "Evaluating: 100%|██████████| 19/19 [00:00<00:00, 72.06batch/s]\n"
     ]
    },
    {
     "name": "stdout",
     "output_type": "stream",
     "text": [
      "Train Loss: 0.0001\n",
      "Validation Loss: 0.1707\n",
      "Validation Accuracy: 84.71%\n",
      "Saving best model...\n",
      "Epoch 134/500\n"
     ]
    },
    {
     "name": "stderr",
     "output_type": "stream",
     "text": [
      "Training: 100%|██████████| 65/65 [00:03<00:00, 20.86batch/s]\n",
      "Evaluating: 100%|██████████| 19/19 [00:00<00:00, 65.11batch/s]\n"
     ]
    },
    {
     "name": "stdout",
     "output_type": "stream",
     "text": [
      "Train Loss: 0.0001\n",
      "Validation Loss: 0.1761\n",
      "Validation Accuracy: 84.71%\n",
      "Epoch 135/500\n"
     ]
    },
    {
     "name": "stderr",
     "output_type": "stream",
     "text": [
      "Training: 100%|██████████| 65/65 [00:03<00:00, 20.41batch/s]\n",
      "Evaluating: 100%|██████████| 19/19 [00:00<00:00, 68.22batch/s]\n"
     ]
    },
    {
     "name": "stdout",
     "output_type": "stream",
     "text": [
      "Train Loss: 0.0001\n",
      "Validation Loss: 0.1770\n",
      "Validation Accuracy: 84.54%\n",
      "Epoch 136/500\n"
     ]
    },
    {
     "name": "stderr",
     "output_type": "stream",
     "text": [
      "Training: 100%|██████████| 65/65 [00:03<00:00, 20.65batch/s]\n",
      "Evaluating: 100%|██████████| 19/19 [00:00<00:00, 68.06batch/s]\n"
     ]
    },
    {
     "name": "stdout",
     "output_type": "stream",
     "text": [
      "Train Loss: 0.0001\n",
      "Validation Loss: 0.1775\n",
      "Validation Accuracy: 84.63%\n",
      "Epoch 137/500\n"
     ]
    },
    {
     "name": "stderr",
     "output_type": "stream",
     "text": [
      "Training: 100%|██████████| 65/65 [00:03<00:00, 20.80batch/s]\n",
      "Evaluating: 100%|██████████| 19/19 [00:00<00:00, 72.23batch/s]\n"
     ]
    },
    {
     "name": "stdout",
     "output_type": "stream",
     "text": [
      "Train Loss: 0.0000\n",
      "Validation Loss: 0.1839\n",
      "Validation Accuracy: 84.54%\n",
      "Epoch 138/500\n"
     ]
    },
    {
     "name": "stderr",
     "output_type": "stream",
     "text": [
      "Training: 100%|██████████| 65/65 [00:03<00:00, 20.70batch/s]\n",
      "Evaluating: 100%|██████████| 19/19 [00:00<00:00, 70.81batch/s]\n"
     ]
    },
    {
     "name": "stdout",
     "output_type": "stream",
     "text": [
      "Train Loss: 0.0000\n",
      "Validation Loss: 0.1818\n",
      "Validation Accuracy: 84.63%\n",
      "Epoch 139/500\n"
     ]
    },
    {
     "name": "stderr",
     "output_type": "stream",
     "text": [
      "Training: 100%|██████████| 65/65 [00:03<00:00, 20.62batch/s]\n",
      "Evaluating: 100%|██████████| 19/19 [00:00<00:00, 77.73batch/s]\n"
     ]
    },
    {
     "name": "stdout",
     "output_type": "stream",
     "text": [
      "Train Loss: 0.0000\n",
      "Validation Loss: 0.1879\n",
      "Validation Accuracy: 84.46%\n",
      "Epoch 140/500\n"
     ]
    },
    {
     "name": "stderr",
     "output_type": "stream",
     "text": [
      "Training: 100%|██████████| 65/65 [00:03<00:00, 20.23batch/s]\n",
      "Evaluating: 100%|██████████| 19/19 [00:00<00:00, 73.42batch/s]\n"
     ]
    },
    {
     "name": "stdout",
     "output_type": "stream",
     "text": [
      "Train Loss: 0.0000\n",
      "Validation Loss: 0.1963\n",
      "Validation Accuracy: 84.46%\n",
      "Epoch 141/500\n"
     ]
    },
    {
     "name": "stderr",
     "output_type": "stream",
     "text": [
      "Training: 100%|██████████| 65/65 [00:03<00:00, 20.76batch/s]\n",
      "Evaluating: 100%|██████████| 19/19 [00:00<00:00, 67.95batch/s]\n"
     ]
    },
    {
     "name": "stdout",
     "output_type": "stream",
     "text": [
      "Train Loss: 0.0000\n",
      "Validation Loss: 0.1938\n",
      "Validation Accuracy: 84.46%\n",
      "Epoch 142/500\n"
     ]
    },
    {
     "name": "stderr",
     "output_type": "stream",
     "text": [
      "Training: 100%|██████████| 65/65 [00:03<00:00, 20.49batch/s]\n",
      "Evaluating: 100%|██████████| 19/19 [00:00<00:00, 71.59batch/s]\n"
     ]
    },
    {
     "name": "stdout",
     "output_type": "stream",
     "text": [
      "Train Loss: 0.0000\n",
      "Validation Loss: 0.1950\n",
      "Validation Accuracy: 84.46%\n",
      "Epoch 143/500\n"
     ]
    },
    {
     "name": "stderr",
     "output_type": "stream",
     "text": [
      "Training: 100%|██████████| 65/65 [00:03<00:00, 20.51batch/s]\n",
      "Evaluating: 100%|██████████| 19/19 [00:00<00:00, 71.80batch/s]\n"
     ]
    },
    {
     "name": "stdout",
     "output_type": "stream",
     "text": [
      "Train Loss: 0.0000\n",
      "Validation Loss: 0.1916\n",
      "Validation Accuracy: 84.54%\n",
      "Epoch 144/500\n"
     ]
    },
    {
     "name": "stderr",
     "output_type": "stream",
     "text": [
      "Training: 100%|██████████| 65/65 [00:03<00:00, 20.11batch/s]\n",
      "Evaluating: 100%|██████████| 19/19 [00:00<00:00, 70.22batch/s]\n"
     ]
    },
    {
     "name": "stdout",
     "output_type": "stream",
     "text": [
      "Train Loss: 0.0000\n",
      "Validation Loss: 0.1908\n",
      "Validation Accuracy: 84.80%\n",
      "Saving best model...\n",
      "Epoch 145/500\n"
     ]
    },
    {
     "name": "stderr",
     "output_type": "stream",
     "text": [
      "Training: 100%|██████████| 65/65 [00:03<00:00, 19.52batch/s]\n",
      "Evaluating: 100%|██████████| 19/19 [00:00<00:00, 68.92batch/s]\n"
     ]
    },
    {
     "name": "stdout",
     "output_type": "stream",
     "text": [
      "Train Loss: 0.0000\n",
      "Validation Loss: 0.1914\n",
      "Validation Accuracy: 84.80%\n",
      "Epoch 146/500\n"
     ]
    },
    {
     "name": "stderr",
     "output_type": "stream",
     "text": [
      "Training: 100%|██████████| 65/65 [00:03<00:00, 21.63batch/s]\n",
      "Evaluating: 100%|██████████| 19/19 [00:00<00:00, 74.04batch/s]\n"
     ]
    },
    {
     "name": "stdout",
     "output_type": "stream",
     "text": [
      "Train Loss: 0.0000\n",
      "Validation Loss: 0.1934\n",
      "Validation Accuracy: 84.88%\n",
      "Saving best model...\n",
      "Epoch 147/500\n"
     ]
    },
    {
     "name": "stderr",
     "output_type": "stream",
     "text": [
      "Training: 100%|██████████| 65/65 [00:03<00:00, 19.76batch/s]\n",
      "Evaluating: 100%|██████████| 19/19 [00:00<00:00, 74.34batch/s]\n"
     ]
    },
    {
     "name": "stdout",
     "output_type": "stream",
     "text": [
      "Train Loss: 0.0000\n",
      "Validation Loss: 0.1936\n",
      "Validation Accuracy: 84.88%\n",
      "Epoch 148/500\n"
     ]
    },
    {
     "name": "stderr",
     "output_type": "stream",
     "text": [
      "Training: 100%|██████████| 65/65 [00:03<00:00, 19.76batch/s]\n",
      "Evaluating: 100%|██████████| 19/19 [00:00<00:00, 77.74batch/s]\n"
     ]
    },
    {
     "name": "stdout",
     "output_type": "stream",
     "text": [
      "Train Loss: 0.0000\n",
      "Validation Loss: 0.1946\n",
      "Validation Accuracy: 84.80%\n",
      "Epoch 149/500\n"
     ]
    },
    {
     "name": "stderr",
     "output_type": "stream",
     "text": [
      "Training: 100%|██████████| 65/65 [00:03<00:00, 20.23batch/s]\n",
      "Evaluating: 100%|██████████| 19/19 [00:00<00:00, 74.25batch/s]\n"
     ]
    },
    {
     "name": "stdout",
     "output_type": "stream",
     "text": [
      "Train Loss: 0.0000\n",
      "Validation Loss: 0.1947\n",
      "Validation Accuracy: 84.71%\n",
      "Epoch 150/500\n"
     ]
    },
    {
     "name": "stderr",
     "output_type": "stream",
     "text": [
      "Training: 100%|██████████| 65/65 [00:03<00:00, 20.14batch/s]\n",
      "Evaluating: 100%|██████████| 19/19 [00:00<00:00, 79.18batch/s]\n"
     ]
    },
    {
     "name": "stdout",
     "output_type": "stream",
     "text": [
      "Train Loss: 0.0000\n",
      "Validation Loss: 0.1962\n",
      "Validation Accuracy: 84.71%\n",
      "Epoch 151/500\n"
     ]
    },
    {
     "name": "stderr",
     "output_type": "stream",
     "text": [
      "Training: 100%|██████████| 65/65 [00:03<00:00, 20.17batch/s]\n",
      "Evaluating: 100%|██████████| 19/19 [00:00<00:00, 62.82batch/s]\n"
     ]
    },
    {
     "name": "stdout",
     "output_type": "stream",
     "text": [
      "Train Loss: 0.0000\n",
      "Validation Loss: 0.2014\n",
      "Validation Accuracy: 84.71%\n",
      "Epoch 152/500\n"
     ]
    },
    {
     "name": "stderr",
     "output_type": "stream",
     "text": [
      "Training: 100%|██████████| 65/65 [00:03<00:00, 21.00batch/s]\n",
      "Evaluating: 100%|██████████| 19/19 [00:00<00:00, 72.44batch/s]\n"
     ]
    },
    {
     "name": "stdout",
     "output_type": "stream",
     "text": [
      "Train Loss: 0.0000\n",
      "Validation Loss: 0.1984\n",
      "Validation Accuracy: 84.80%\n",
      "Epoch 153/500\n"
     ]
    },
    {
     "name": "stderr",
     "output_type": "stream",
     "text": [
      "Training: 100%|██████████| 65/65 [00:03<00:00, 21.04batch/s]\n",
      "Evaluating: 100%|██████████| 19/19 [00:00<00:00, 77.20batch/s]\n"
     ]
    },
    {
     "name": "stdout",
     "output_type": "stream",
     "text": [
      "Train Loss: 0.0000\n",
      "Validation Loss: 0.2010\n",
      "Validation Accuracy: 84.71%\n",
      "Epoch 154/500\n"
     ]
    },
    {
     "name": "stderr",
     "output_type": "stream",
     "text": [
      "Training: 100%|██████████| 65/65 [00:03<00:00, 20.57batch/s]\n",
      "Evaluating: 100%|██████████| 19/19 [00:00<00:00, 71.67batch/s]\n"
     ]
    },
    {
     "name": "stdout",
     "output_type": "stream",
     "text": [
      "Train Loss: 0.0000\n",
      "Validation Loss: 0.2043\n",
      "Validation Accuracy: 84.71%\n",
      "Epoch 155/500\n"
     ]
    },
    {
     "name": "stderr",
     "output_type": "stream",
     "text": [
      "Training: 100%|██████████| 65/65 [00:03<00:00, 20.14batch/s]\n",
      "Evaluating: 100%|██████████| 19/19 [00:00<00:00, 75.07batch/s]\n"
     ]
    },
    {
     "name": "stdout",
     "output_type": "stream",
     "text": [
      "Train Loss: 0.0000\n",
      "Validation Loss: 0.2039\n",
      "Validation Accuracy: 84.71%\n",
      "Epoch 156/500\n"
     ]
    },
    {
     "name": "stderr",
     "output_type": "stream",
     "text": [
      "Training: 100%|██████████| 65/65 [00:03<00:00, 21.21batch/s]\n",
      "Evaluating: 100%|██████████| 19/19 [00:00<00:00, 75.01batch/s]\n"
     ]
    },
    {
     "name": "stdout",
     "output_type": "stream",
     "text": [
      "Train Loss: 0.0000\n",
      "Validation Loss: 0.2004\n",
      "Validation Accuracy: 84.71%\n",
      "Epoch 157/500\n"
     ]
    },
    {
     "name": "stderr",
     "output_type": "stream",
     "text": [
      "Training: 100%|██████████| 65/65 [00:03<00:00, 21.02batch/s]\n",
      "Evaluating: 100%|██████████| 19/19 [00:00<00:00, 72.50batch/s]\n"
     ]
    },
    {
     "name": "stdout",
     "output_type": "stream",
     "text": [
      "Train Loss: 0.0000\n",
      "Validation Loss: 0.2024\n",
      "Validation Accuracy: 84.71%\n",
      "Epoch 158/500\n"
     ]
    },
    {
     "name": "stderr",
     "output_type": "stream",
     "text": [
      "Training: 100%|██████████| 65/65 [00:03<00:00, 21.07batch/s]\n",
      "Evaluating: 100%|██████████| 19/19 [00:00<00:00, 70.94batch/s]\n"
     ]
    },
    {
     "name": "stdout",
     "output_type": "stream",
     "text": [
      "Train Loss: 0.0000\n",
      "Validation Loss: 0.2004\n",
      "Validation Accuracy: 84.71%\n",
      "Epoch 159/500\n"
     ]
    },
    {
     "name": "stderr",
     "output_type": "stream",
     "text": [
      "Training: 100%|██████████| 65/65 [00:03<00:00, 20.91batch/s]\n",
      "Evaluating: 100%|██████████| 19/19 [00:00<00:00, 71.29batch/s]\n"
     ]
    },
    {
     "name": "stdout",
     "output_type": "stream",
     "text": [
      "Train Loss: 0.0000\n",
      "Validation Loss: 0.2082\n",
      "Validation Accuracy: 84.80%\n",
      "Epoch 160/500\n"
     ]
    },
    {
     "name": "stderr",
     "output_type": "stream",
     "text": [
      "Training: 100%|██████████| 65/65 [00:03<00:00, 20.95batch/s]\n",
      "Evaluating: 100%|██████████| 19/19 [00:00<00:00, 65.47batch/s]\n"
     ]
    },
    {
     "name": "stdout",
     "output_type": "stream",
     "text": [
      "Train Loss: 0.0000\n",
      "Validation Loss: 0.2038\n",
      "Validation Accuracy: 84.80%\n",
      "Epoch 161/500\n"
     ]
    },
    {
     "name": "stderr",
     "output_type": "stream",
     "text": [
      "Training: 100%|██████████| 65/65 [00:03<00:00, 20.31batch/s]\n",
      "Evaluating: 100%|██████████| 19/19 [00:00<00:00, 67.26batch/s]\n"
     ]
    },
    {
     "name": "stdout",
     "output_type": "stream",
     "text": [
      "Train Loss: 0.0000\n",
      "Validation Loss: 0.2076\n",
      "Validation Accuracy: 84.88%\n",
      "Epoch 162/500\n"
     ]
    },
    {
     "name": "stderr",
     "output_type": "stream",
     "text": [
      "Training: 100%|██████████| 65/65 [00:03<00:00, 20.75batch/s]\n",
      "Evaluating: 100%|██████████| 19/19 [00:00<00:00, 69.23batch/s]\n"
     ]
    },
    {
     "name": "stdout",
     "output_type": "stream",
     "text": [
      "Train Loss: 0.0000\n",
      "Validation Loss: 0.2120\n",
      "Validation Accuracy: 84.80%\n",
      "Epoch 163/500\n"
     ]
    },
    {
     "name": "stderr",
     "output_type": "stream",
     "text": [
      "Training: 100%|██████████| 65/65 [00:03<00:00, 20.78batch/s]\n",
      "Evaluating: 100%|██████████| 19/19 [00:00<00:00, 72.41batch/s]\n"
     ]
    },
    {
     "name": "stdout",
     "output_type": "stream",
     "text": [
      "Train Loss: 0.0000\n",
      "Validation Loss: 0.2082\n",
      "Validation Accuracy: 84.63%\n",
      "Epoch 164/500\n"
     ]
    },
    {
     "name": "stderr",
     "output_type": "stream",
     "text": [
      "Training: 100%|██████████| 65/65 [00:03<00:00, 20.47batch/s]\n",
      "Evaluating: 100%|██████████| 19/19 [00:00<00:00, 78.00batch/s]\n"
     ]
    },
    {
     "name": "stdout",
     "output_type": "stream",
     "text": [
      "Train Loss: 0.0000\n",
      "Validation Loss: 0.2070\n",
      "Validation Accuracy: 84.71%\n",
      "Epoch 165/500\n"
     ]
    },
    {
     "name": "stderr",
     "output_type": "stream",
     "text": [
      "Training: 100%|██████████| 65/65 [00:03<00:00, 20.59batch/s]\n",
      "Evaluating: 100%|██████████| 19/19 [00:00<00:00, 77.36batch/s]\n"
     ]
    },
    {
     "name": "stdout",
     "output_type": "stream",
     "text": [
      "Train Loss: 0.0000\n",
      "Validation Loss: 0.2087\n",
      "Validation Accuracy: 84.71%\n",
      "Epoch 166/500\n"
     ]
    },
    {
     "name": "stderr",
     "output_type": "stream",
     "text": [
      "Training: 100%|██████████| 65/65 [00:03<00:00, 20.47batch/s]\n",
      "Evaluating: 100%|██████████| 19/19 [00:00<00:00, 73.95batch/s]\n"
     ]
    },
    {
     "name": "stdout",
     "output_type": "stream",
     "text": [
      "Train Loss: 0.0000\n",
      "Validation Loss: 0.2196\n",
      "Validation Accuracy: 84.80%\n",
      "Epoch 167/500\n"
     ]
    },
    {
     "name": "stderr",
     "output_type": "stream",
     "text": [
      "Training: 100%|██████████| 65/65 [00:03<00:00, 20.72batch/s]\n",
      "Evaluating: 100%|██████████| 19/19 [00:00<00:00, 71.94batch/s]\n"
     ]
    },
    {
     "name": "stdout",
     "output_type": "stream",
     "text": [
      "Train Loss: 0.0000\n",
      "Validation Loss: 0.2116\n",
      "Validation Accuracy: 84.88%\n",
      "Epoch 168/500\n"
     ]
    },
    {
     "name": "stderr",
     "output_type": "stream",
     "text": [
      "Training: 100%|██████████| 65/65 [00:03<00:00, 21.26batch/s]\n",
      "Evaluating: 100%|██████████| 19/19 [00:00<00:00, 71.05batch/s]\n"
     ]
    },
    {
     "name": "stdout",
     "output_type": "stream",
     "text": [
      "Train Loss: 0.0000\n",
      "Validation Loss: 0.2136\n",
      "Validation Accuracy: 84.88%\n",
      "Epoch 169/500\n"
     ]
    },
    {
     "name": "stderr",
     "output_type": "stream",
     "text": [
      "Training: 100%|██████████| 65/65 [00:03<00:00, 21.04batch/s]\n",
      "Evaluating: 100%|██████████| 19/19 [00:00<00:00, 74.06batch/s]\n"
     ]
    },
    {
     "name": "stdout",
     "output_type": "stream",
     "text": [
      "Train Loss: 0.0000\n",
      "Validation Loss: 0.2115\n",
      "Validation Accuracy: 84.80%\n",
      "Epoch 170/500\n"
     ]
    },
    {
     "name": "stderr",
     "output_type": "stream",
     "text": [
      "Training: 100%|██████████| 65/65 [00:03<00:00, 20.73batch/s]\n",
      "Evaluating: 100%|██████████| 19/19 [00:00<00:00, 72.81batch/s]\n"
     ]
    },
    {
     "name": "stdout",
     "output_type": "stream",
     "text": [
      "Train Loss: 0.0000\n",
      "Validation Loss: 0.2152\n",
      "Validation Accuracy: 84.80%\n",
      "Epoch 171/500\n"
     ]
    },
    {
     "name": "stderr",
     "output_type": "stream",
     "text": [
      "Training: 100%|██████████| 65/65 [00:03<00:00, 20.32batch/s]\n",
      "Evaluating: 100%|██████████| 19/19 [00:00<00:00, 70.52batch/s]\n"
     ]
    },
    {
     "name": "stdout",
     "output_type": "stream",
     "text": [
      "Train Loss: 0.0000\n",
      "Validation Loss: 0.2117\n",
      "Validation Accuracy: 84.88%\n",
      "Epoch 172/500\n"
     ]
    },
    {
     "name": "stderr",
     "output_type": "stream",
     "text": [
      "Training: 100%|██████████| 65/65 [00:03<00:00, 20.83batch/s]\n",
      "Evaluating: 100%|██████████| 19/19 [00:00<00:00, 68.37batch/s]\n"
     ]
    },
    {
     "name": "stdout",
     "output_type": "stream",
     "text": [
      "Train Loss: 0.0000\n",
      "Validation Loss: 0.2137\n",
      "Validation Accuracy: 84.88%\n",
      "Epoch 173/500\n"
     ]
    },
    {
     "name": "stderr",
     "output_type": "stream",
     "text": [
      "Training: 100%|██████████| 65/65 [00:03<00:00, 21.13batch/s]\n",
      "Evaluating: 100%|██████████| 19/19 [00:00<00:00, 63.38batch/s]\n"
     ]
    },
    {
     "name": "stdout",
     "output_type": "stream",
     "text": [
      "Train Loss: 0.0000\n",
      "Validation Loss: 0.2140\n",
      "Validation Accuracy: 84.80%\n",
      "Epoch 174/500\n"
     ]
    },
    {
     "name": "stderr",
     "output_type": "stream",
     "text": [
      "Training: 100%|██████████| 65/65 [00:03<00:00, 21.29batch/s]\n",
      "Evaluating: 100%|██████████| 19/19 [00:00<00:00, 72.36batch/s]\n"
     ]
    },
    {
     "name": "stdout",
     "output_type": "stream",
     "text": [
      "Train Loss: 0.0000\n",
      "Validation Loss: 0.2125\n",
      "Validation Accuracy: 84.88%\n",
      "Epoch 175/500\n"
     ]
    },
    {
     "name": "stderr",
     "output_type": "stream",
     "text": [
      "Training: 100%|██████████| 65/65 [00:03<00:00, 20.62batch/s]\n",
      "Evaluating: 100%|██████████| 19/19 [00:00<00:00, 74.68batch/s]\n"
     ]
    },
    {
     "name": "stdout",
     "output_type": "stream",
     "text": [
      "Train Loss: 0.0000\n",
      "Validation Loss: 0.2171\n",
      "Validation Accuracy: 84.88%\n",
      "Epoch 176/500\n"
     ]
    },
    {
     "name": "stderr",
     "output_type": "stream",
     "text": [
      "Training: 100%|██████████| 65/65 [00:03<00:00, 19.84batch/s]\n",
      "Evaluating: 100%|██████████| 19/19 [00:00<00:00, 67.25batch/s]\n"
     ]
    },
    {
     "name": "stdout",
     "output_type": "stream",
     "text": [
      "Train Loss: 0.0000\n",
      "Validation Loss: 0.2161\n",
      "Validation Accuracy: 85.05%\n",
      "Saving best model...\n",
      "Epoch 177/500\n"
     ]
    },
    {
     "name": "stderr",
     "output_type": "stream",
     "text": [
      "Training: 100%|██████████| 65/65 [00:03<00:00, 20.30batch/s]\n",
      "Evaluating: 100%|██████████| 19/19 [00:00<00:00, 74.91batch/s]\n"
     ]
    },
    {
     "name": "stdout",
     "output_type": "stream",
     "text": [
      "Train Loss: 0.0000\n",
      "Validation Loss: 0.2185\n",
      "Validation Accuracy: 84.97%\n",
      "Epoch 178/500\n"
     ]
    },
    {
     "name": "stderr",
     "output_type": "stream",
     "text": [
      "Training: 100%|██████████| 65/65 [00:03<00:00, 21.06batch/s]\n",
      "Evaluating: 100%|██████████| 19/19 [00:00<00:00, 73.00batch/s]\n"
     ]
    },
    {
     "name": "stdout",
     "output_type": "stream",
     "text": [
      "Train Loss: 0.0000\n",
      "Validation Loss: 0.2246\n",
      "Validation Accuracy: 85.14%\n",
      "Saving best model...\n",
      "Epoch 179/500\n"
     ]
    },
    {
     "name": "stderr",
     "output_type": "stream",
     "text": [
      "Training: 100%|██████████| 65/65 [00:03<00:00, 19.94batch/s]\n",
      "Evaluating: 100%|██████████| 19/19 [00:00<00:00, 69.97batch/s]\n"
     ]
    },
    {
     "name": "stdout",
     "output_type": "stream",
     "text": [
      "Train Loss: 0.0000\n",
      "Validation Loss: 0.2193\n",
      "Validation Accuracy: 85.14%\n",
      "Epoch 180/500\n"
     ]
    },
    {
     "name": "stderr",
     "output_type": "stream",
     "text": [
      "Training: 100%|██████████| 65/65 [00:03<00:00, 20.75batch/s]\n",
      "Evaluating: 100%|██████████| 19/19 [00:00<00:00, 73.19batch/s]\n"
     ]
    },
    {
     "name": "stdout",
     "output_type": "stream",
     "text": [
      "Train Loss: 0.0000\n",
      "Validation Loss: 0.2252\n",
      "Validation Accuracy: 85.14%\n",
      "Epoch 181/500\n"
     ]
    },
    {
     "name": "stderr",
     "output_type": "stream",
     "text": [
      "Training: 100%|██████████| 65/65 [00:03<00:00, 19.81batch/s]\n",
      "Evaluating: 100%|██████████| 19/19 [00:00<00:00, 65.79batch/s]\n"
     ]
    },
    {
     "name": "stdout",
     "output_type": "stream",
     "text": [
      "Train Loss: 0.0000\n",
      "Validation Loss: 0.2251\n",
      "Validation Accuracy: 85.30%\n",
      "Saving best model...\n",
      "Epoch 182/500\n"
     ]
    },
    {
     "name": "stderr",
     "output_type": "stream",
     "text": [
      "Training: 100%|██████████| 65/65 [00:04<00:00, 14.63batch/s]\n",
      "Evaluating: 100%|██████████| 19/19 [00:00<00:00, 44.56batch/s]\n"
     ]
    },
    {
     "name": "stdout",
     "output_type": "stream",
     "text": [
      "Train Loss: 0.0000\n",
      "Validation Loss: 0.2256\n",
      "Validation Accuracy: 85.22%\n",
      "Epoch 183/500\n"
     ]
    },
    {
     "name": "stderr",
     "output_type": "stream",
     "text": [
      "Training: 100%|██████████| 65/65 [00:03<00:00, 16.60batch/s]\n",
      "Evaluating: 100%|██████████| 19/19 [00:00<00:00, 66.62batch/s]\n"
     ]
    },
    {
     "name": "stdout",
     "output_type": "stream",
     "text": [
      "Train Loss: 0.0000\n",
      "Validation Loss: 0.2300\n",
      "Validation Accuracy: 85.14%\n",
      "Epoch 184/500\n"
     ]
    },
    {
     "name": "stderr",
     "output_type": "stream",
     "text": [
      "Training: 100%|██████████| 65/65 [00:03<00:00, 19.71batch/s]\n",
      "Evaluating: 100%|██████████| 19/19 [00:00<00:00, 71.54batch/s]\n"
     ]
    },
    {
     "name": "stdout",
     "output_type": "stream",
     "text": [
      "Train Loss: 0.0000\n",
      "Validation Loss: 0.2239\n",
      "Validation Accuracy: 85.30%\n",
      "Epoch 185/500\n"
     ]
    },
    {
     "name": "stderr",
     "output_type": "stream",
     "text": [
      "Training: 100%|██████████| 65/65 [00:03<00:00, 18.43batch/s]\n",
      "Evaluating: 100%|██████████| 19/19 [00:00<00:00, 63.29batch/s]\n"
     ]
    },
    {
     "name": "stdout",
     "output_type": "stream",
     "text": [
      "Train Loss: 0.0000\n",
      "Validation Loss: 0.2243\n",
      "Validation Accuracy: 85.30%\n",
      "Epoch 186/500\n"
     ]
    },
    {
     "name": "stderr",
     "output_type": "stream",
     "text": [
      "Training: 100%|██████████| 65/65 [00:03<00:00, 17.84batch/s]\n",
      "Evaluating: 100%|██████████| 19/19 [00:00<00:00, 55.65batch/s]\n"
     ]
    },
    {
     "name": "stdout",
     "output_type": "stream",
     "text": [
      "Train Loss: 0.0000\n",
      "Validation Loss: 0.2321\n",
      "Validation Accuracy: 85.30%\n",
      "Epoch 187/500\n"
     ]
    },
    {
     "name": "stderr",
     "output_type": "stream",
     "text": [
      "Training: 100%|██████████| 65/65 [00:03<00:00, 18.34batch/s]\n",
      "Evaluating: 100%|██████████| 19/19 [00:00<00:00, 67.32batch/s]\n"
     ]
    },
    {
     "name": "stdout",
     "output_type": "stream",
     "text": [
      "Train Loss: 0.0000\n",
      "Validation Loss: 0.2265\n",
      "Validation Accuracy: 85.22%\n",
      "Epoch 188/500\n"
     ]
    },
    {
     "name": "stderr",
     "output_type": "stream",
     "text": [
      "Training: 100%|██████████| 65/65 [00:03<00:00, 20.24batch/s]\n",
      "Evaluating: 100%|██████████| 19/19 [00:00<00:00, 69.07batch/s]\n"
     ]
    },
    {
     "name": "stdout",
     "output_type": "stream",
     "text": [
      "Train Loss: 0.0000\n",
      "Validation Loss: 0.2238\n",
      "Validation Accuracy: 85.22%\n",
      "Epoch 189/500\n"
     ]
    },
    {
     "name": "stderr",
     "output_type": "stream",
     "text": [
      "Training: 100%|██████████| 65/65 [00:03<00:00, 20.19batch/s]\n",
      "Evaluating: 100%|██████████| 19/19 [00:00<00:00, 69.99batch/s]\n"
     ]
    },
    {
     "name": "stdout",
     "output_type": "stream",
     "text": [
      "Train Loss: 0.0000\n",
      "Validation Loss: 0.2279\n",
      "Validation Accuracy: 85.14%\n",
      "Epoch 190/500\n"
     ]
    },
    {
     "name": "stderr",
     "output_type": "stream",
     "text": [
      "Training: 100%|██████████| 65/65 [00:03<00:00, 20.25batch/s]\n",
      "Evaluating: 100%|██████████| 19/19 [00:00<00:00, 71.77batch/s]\n"
     ]
    },
    {
     "name": "stdout",
     "output_type": "stream",
     "text": [
      "Train Loss: 0.0000\n",
      "Validation Loss: 0.2349\n",
      "Validation Accuracy: 85.22%\n",
      "Epoch 191/500\n"
     ]
    },
    {
     "name": "stderr",
     "output_type": "stream",
     "text": [
      "Training: 100%|██████████| 65/65 [00:03<00:00, 21.01batch/s]\n",
      "Evaluating: 100%|██████████| 19/19 [00:00<00:00, 69.11batch/s]\n"
     ]
    },
    {
     "name": "stdout",
     "output_type": "stream",
     "text": [
      "Train Loss: 0.0000\n",
      "Validation Loss: 0.2323\n",
      "Validation Accuracy: 85.22%\n",
      "Epoch 192/500\n"
     ]
    },
    {
     "name": "stderr",
     "output_type": "stream",
     "text": [
      "Training: 100%|██████████| 65/65 [00:03<00:00, 21.19batch/s]\n",
      "Evaluating: 100%|██████████| 19/19 [00:00<00:00, 78.49batch/s]\n"
     ]
    },
    {
     "name": "stdout",
     "output_type": "stream",
     "text": [
      "Train Loss: 0.0000\n",
      "Validation Loss: 0.2304\n",
      "Validation Accuracy: 85.14%\n",
      "Epoch 193/500\n"
     ]
    },
    {
     "name": "stderr",
     "output_type": "stream",
     "text": [
      "Training: 100%|██████████| 65/65 [00:03<00:00, 21.22batch/s]\n",
      "Evaluating: 100%|██████████| 19/19 [00:00<00:00, 64.77batch/s]\n"
     ]
    },
    {
     "name": "stdout",
     "output_type": "stream",
     "text": [
      "Train Loss: 0.0000\n",
      "Validation Loss: 0.2310\n",
      "Validation Accuracy: 85.14%\n",
      "Epoch 194/500\n"
     ]
    },
    {
     "name": "stderr",
     "output_type": "stream",
     "text": [
      "Training: 100%|██████████| 65/65 [00:03<00:00, 20.92batch/s]\n",
      "Evaluating: 100%|██████████| 19/19 [00:00<00:00, 67.88batch/s]\n"
     ]
    },
    {
     "name": "stdout",
     "output_type": "stream",
     "text": [
      "Train Loss: 0.0000\n",
      "Validation Loss: 0.2332\n",
      "Validation Accuracy: 85.14%\n",
      "Epoch 195/500\n"
     ]
    },
    {
     "name": "stderr",
     "output_type": "stream",
     "text": [
      "Training: 100%|██████████| 65/65 [00:03<00:00, 20.82batch/s]\n",
      "Evaluating: 100%|██████████| 19/19 [00:00<00:00, 76.83batch/s]\n"
     ]
    },
    {
     "name": "stdout",
     "output_type": "stream",
     "text": [
      "Train Loss: 0.0000\n",
      "Validation Loss: 0.2387\n",
      "Validation Accuracy: 85.14%\n",
      "Epoch 196/500\n"
     ]
    },
    {
     "name": "stderr",
     "output_type": "stream",
     "text": [
      "Training: 100%|██████████| 65/65 [00:03<00:00, 19.54batch/s]\n",
      "Evaluating: 100%|██████████| 19/19 [00:00<00:00, 69.07batch/s]\n"
     ]
    },
    {
     "name": "stdout",
     "output_type": "stream",
     "text": [
      "Train Loss: 0.0000\n",
      "Validation Loss: 0.2350\n",
      "Validation Accuracy: 85.14%\n",
      "Epoch 197/500\n"
     ]
    },
    {
     "name": "stderr",
     "output_type": "stream",
     "text": [
      "Training: 100%|██████████| 65/65 [00:03<00:00, 20.47batch/s]\n",
      "Evaluating: 100%|██████████| 19/19 [00:00<00:00, 64.10batch/s]\n"
     ]
    },
    {
     "name": "stdout",
     "output_type": "stream",
     "text": [
      "Train Loss: 0.0000\n",
      "Validation Loss: 0.2349\n",
      "Validation Accuracy: 85.14%\n",
      "Epoch 198/500\n"
     ]
    },
    {
     "name": "stderr",
     "output_type": "stream",
     "text": [
      "Training: 100%|██████████| 65/65 [00:03<00:00, 21.13batch/s]\n",
      "Evaluating: 100%|██████████| 19/19 [00:00<00:00, 65.84batch/s]\n"
     ]
    },
    {
     "name": "stdout",
     "output_type": "stream",
     "text": [
      "Train Loss: 0.0000\n",
      "Validation Loss: 0.2357\n",
      "Validation Accuracy: 85.14%\n",
      "Epoch 199/500\n"
     ]
    },
    {
     "name": "stderr",
     "output_type": "stream",
     "text": [
      "Training: 100%|██████████| 65/65 [00:03<00:00, 21.48batch/s]\n",
      "Evaluating: 100%|██████████| 19/19 [00:00<00:00, 72.09batch/s]\n"
     ]
    },
    {
     "name": "stdout",
     "output_type": "stream",
     "text": [
      "Train Loss: 0.0000\n",
      "Validation Loss: 0.2311\n",
      "Validation Accuracy: 85.05%\n",
      "Epoch 200/500\n"
     ]
    },
    {
     "name": "stderr",
     "output_type": "stream",
     "text": [
      "Training: 100%|██████████| 65/65 [00:03<00:00, 20.74batch/s]\n",
      "Evaluating: 100%|██████████| 19/19 [00:00<00:00, 69.67batch/s]\n"
     ]
    },
    {
     "name": "stdout",
     "output_type": "stream",
     "text": [
      "Train Loss: 0.0000\n",
      "Validation Loss: 0.2320\n",
      "Validation Accuracy: 85.05%\n",
      "Epoch 201/500\n"
     ]
    },
    {
     "name": "stderr",
     "output_type": "stream",
     "text": [
      "Training: 100%|██████████| 65/65 [00:03<00:00, 20.87batch/s]\n",
      "Evaluating: 100%|██████████| 19/19 [00:00<00:00, 74.67batch/s]\n"
     ]
    },
    {
     "name": "stdout",
     "output_type": "stream",
     "text": [
      "Train Loss: 0.0000\n",
      "Validation Loss: 0.2410\n",
      "Validation Accuracy: 85.05%\n",
      "Epoch 202/500\n"
     ]
    },
    {
     "name": "stderr",
     "output_type": "stream",
     "text": [
      "Training: 100%|██████████| 65/65 [00:03<00:00, 20.79batch/s]\n",
      "Evaluating: 100%|██████████| 19/19 [00:00<00:00, 73.62batch/s]\n"
     ]
    },
    {
     "name": "stdout",
     "output_type": "stream",
     "text": [
      "Train Loss: 0.0000\n",
      "Validation Loss: 0.2403\n",
      "Validation Accuracy: 84.97%\n",
      "Epoch 203/500\n"
     ]
    },
    {
     "name": "stderr",
     "output_type": "stream",
     "text": [
      "Training: 100%|██████████| 65/65 [00:03<00:00, 20.76batch/s]\n",
      "Evaluating: 100%|██████████| 19/19 [00:00<00:00, 67.38batch/s]\n"
     ]
    },
    {
     "name": "stdout",
     "output_type": "stream",
     "text": [
      "Train Loss: 0.0000\n",
      "Validation Loss: 0.2561\n",
      "Validation Accuracy: 84.97%\n",
      "Epoch 204/500\n"
     ]
    },
    {
     "name": "stderr",
     "output_type": "stream",
     "text": [
      "Training: 100%|██████████| 65/65 [00:03<00:00, 20.96batch/s]\n",
      "Evaluating: 100%|██████████| 19/19 [00:00<00:00, 69.76batch/s]\n"
     ]
    },
    {
     "name": "stdout",
     "output_type": "stream",
     "text": [
      "Train Loss: 0.0000\n",
      "Validation Loss: 0.2446\n",
      "Validation Accuracy: 84.97%\n",
      "Epoch 205/500\n"
     ]
    },
    {
     "name": "stderr",
     "output_type": "stream",
     "text": [
      "Training: 100%|██████████| 65/65 [00:03<00:00, 21.08batch/s]\n",
      "Evaluating: 100%|██████████| 19/19 [00:00<00:00, 72.55batch/s]\n"
     ]
    },
    {
     "name": "stdout",
     "output_type": "stream",
     "text": [
      "Train Loss: 0.0000\n",
      "Validation Loss: 0.2406\n",
      "Validation Accuracy: 85.05%\n",
      "Epoch 206/500\n"
     ]
    },
    {
     "name": "stderr",
     "output_type": "stream",
     "text": [
      "Training: 100%|██████████| 65/65 [00:03<00:00, 21.02batch/s]\n",
      "Evaluating: 100%|██████████| 19/19 [00:00<00:00, 74.53batch/s]\n"
     ]
    },
    {
     "name": "stdout",
     "output_type": "stream",
     "text": [
      "Train Loss: 0.0000\n",
      "Validation Loss: 0.2415\n",
      "Validation Accuracy: 85.14%\n",
      "Epoch 207/500\n"
     ]
    },
    {
     "name": "stderr",
     "output_type": "stream",
     "text": [
      "Training: 100%|██████████| 65/65 [00:03<00:00, 21.33batch/s]\n",
      "Evaluating: 100%|██████████| 19/19 [00:00<00:00, 72.79batch/s]\n"
     ]
    },
    {
     "name": "stdout",
     "output_type": "stream",
     "text": [
      "Train Loss: 0.0000\n",
      "Validation Loss: 0.2381\n",
      "Validation Accuracy: 84.97%\n",
      "Epoch 208/500\n"
     ]
    },
    {
     "name": "stderr",
     "output_type": "stream",
     "text": [
      "Training: 100%|██████████| 65/65 [00:03<00:00, 20.41batch/s]\n",
      "Evaluating: 100%|██████████| 19/19 [00:00<00:00, 71.52batch/s]\n"
     ]
    },
    {
     "name": "stdout",
     "output_type": "stream",
     "text": [
      "Train Loss: 0.0000\n",
      "Validation Loss: 0.2421\n",
      "Validation Accuracy: 85.05%\n",
      "Epoch 209/500\n"
     ]
    },
    {
     "name": "stderr",
     "output_type": "stream",
     "text": [
      "Training: 100%|██████████| 65/65 [00:03<00:00, 20.38batch/s]\n",
      "Evaluating: 100%|██████████| 19/19 [00:00<00:00, 74.43batch/s]\n"
     ]
    },
    {
     "name": "stdout",
     "output_type": "stream",
     "text": [
      "Train Loss: 0.0000\n",
      "Validation Loss: 0.2488\n",
      "Validation Accuracy: 84.97%\n",
      "Epoch 210/500\n"
     ]
    },
    {
     "name": "stderr",
     "output_type": "stream",
     "text": [
      "Training: 100%|██████████| 65/65 [00:03<00:00, 20.91batch/s]\n",
      "Evaluating: 100%|██████████| 19/19 [00:00<00:00, 71.95batch/s]\n"
     ]
    },
    {
     "name": "stdout",
     "output_type": "stream",
     "text": [
      "Train Loss: 0.0000\n",
      "Validation Loss: 0.2463\n",
      "Validation Accuracy: 84.97%\n",
      "Epoch 211/500\n"
     ]
    },
    {
     "name": "stderr",
     "output_type": "stream",
     "text": [
      "Training: 100%|██████████| 65/65 [00:03<00:00, 21.17batch/s]\n",
      "Evaluating: 100%|██████████| 19/19 [00:00<00:00, 70.88batch/s]\n"
     ]
    },
    {
     "name": "stdout",
     "output_type": "stream",
     "text": [
      "Train Loss: 0.0000\n",
      "Validation Loss: 0.2430\n",
      "Validation Accuracy: 84.97%\n",
      "Epoch 212/500\n"
     ]
    },
    {
     "name": "stderr",
     "output_type": "stream",
     "text": [
      "Training: 100%|██████████| 65/65 [00:03<00:00, 20.58batch/s]\n",
      "Evaluating: 100%|██████████| 19/19 [00:00<00:00, 74.96batch/s]\n"
     ]
    },
    {
     "name": "stdout",
     "output_type": "stream",
     "text": [
      "Train Loss: 0.0000\n",
      "Validation Loss: 0.2557\n",
      "Validation Accuracy: 84.97%\n",
      "Epoch 213/500\n"
     ]
    },
    {
     "name": "stderr",
     "output_type": "stream",
     "text": [
      "Training: 100%|██████████| 65/65 [00:03<00:00, 21.02batch/s]\n",
      "Evaluating: 100%|██████████| 19/19 [00:00<00:00, 67.08batch/s]\n"
     ]
    },
    {
     "name": "stdout",
     "output_type": "stream",
     "text": [
      "Train Loss: 0.0000\n",
      "Validation Loss: 0.2497\n",
      "Validation Accuracy: 84.97%\n",
      "Epoch 214/500\n"
     ]
    },
    {
     "name": "stderr",
     "output_type": "stream",
     "text": [
      "Training: 100%|██████████| 65/65 [00:03<00:00, 21.22batch/s]\n",
      "Evaluating: 100%|██████████| 19/19 [00:00<00:00, 71.01batch/s]\n"
     ]
    },
    {
     "name": "stdout",
     "output_type": "stream",
     "text": [
      "Train Loss: 0.0000\n",
      "Validation Loss: 0.2514\n",
      "Validation Accuracy: 84.97%\n",
      "Epoch 215/500\n"
     ]
    },
    {
     "name": "stderr",
     "output_type": "stream",
     "text": [
      "Training: 100%|██████████| 65/65 [00:03<00:00, 20.91batch/s]\n",
      "Evaluating: 100%|██████████| 19/19 [00:00<00:00, 75.78batch/s]\n"
     ]
    },
    {
     "name": "stdout",
     "output_type": "stream",
     "text": [
      "Train Loss: 0.0000\n",
      "Validation Loss: 0.2536\n",
      "Validation Accuracy: 85.05%\n",
      "Epoch 216/500\n"
     ]
    },
    {
     "name": "stderr",
     "output_type": "stream",
     "text": [
      "Training: 100%|██████████| 65/65 [00:03<00:00, 21.16batch/s]\n",
      "Evaluating: 100%|██████████| 19/19 [00:00<00:00, 69.02batch/s]\n"
     ]
    },
    {
     "name": "stdout",
     "output_type": "stream",
     "text": [
      "Train Loss: 0.0000\n",
      "Validation Loss: 0.2504\n",
      "Validation Accuracy: 85.05%\n",
      "Epoch 217/500\n"
     ]
    },
    {
     "name": "stderr",
     "output_type": "stream",
     "text": [
      "Training: 100%|██████████| 65/65 [00:03<00:00, 21.35batch/s]\n",
      "Evaluating: 100%|██████████| 19/19 [00:00<00:00, 75.02batch/s]\n"
     ]
    },
    {
     "name": "stdout",
     "output_type": "stream",
     "text": [
      "Train Loss: 0.0000\n",
      "Validation Loss: 0.2550\n",
      "Validation Accuracy: 85.05%\n",
      "Epoch 218/500\n"
     ]
    },
    {
     "name": "stderr",
     "output_type": "stream",
     "text": [
      "Training: 100%|██████████| 65/65 [00:03<00:00, 20.97batch/s]\n",
      "Evaluating: 100%|██████████| 19/19 [00:00<00:00, 74.47batch/s]\n"
     ]
    },
    {
     "name": "stdout",
     "output_type": "stream",
     "text": [
      "Train Loss: 0.0000\n",
      "Validation Loss: 0.2570\n",
      "Validation Accuracy: 85.05%\n",
      "Epoch 219/500\n"
     ]
    },
    {
     "name": "stderr",
     "output_type": "stream",
     "text": [
      "Training: 100%|██████████| 65/65 [00:03<00:00, 20.73batch/s]\n",
      "Evaluating: 100%|██████████| 19/19 [00:00<00:00, 71.88batch/s]\n"
     ]
    },
    {
     "name": "stdout",
     "output_type": "stream",
     "text": [
      "Train Loss: 0.0000\n",
      "Validation Loss: 0.2558\n",
      "Validation Accuracy: 84.88%\n",
      "Epoch 220/500\n"
     ]
    },
    {
     "name": "stderr",
     "output_type": "stream",
     "text": [
      "Training: 100%|██████████| 65/65 [00:03<00:00, 20.60batch/s]\n",
      "Evaluating: 100%|██████████| 19/19 [00:00<00:00, 74.18batch/s]\n"
     ]
    },
    {
     "name": "stdout",
     "output_type": "stream",
     "text": [
      "Train Loss: 0.0000\n",
      "Validation Loss: 0.2526\n",
      "Validation Accuracy: 84.80%\n",
      "Epoch 221/500\n"
     ]
    },
    {
     "name": "stderr",
     "output_type": "stream",
     "text": [
      "Training: 100%|██████████| 65/65 [00:03<00:00, 21.34batch/s]\n",
      "Evaluating: 100%|██████████| 19/19 [00:00<00:00, 72.48batch/s]\n"
     ]
    },
    {
     "name": "stdout",
     "output_type": "stream",
     "text": [
      "Train Loss: 0.0000\n",
      "Validation Loss: 0.2574\n",
      "Validation Accuracy: 84.80%\n",
      "Epoch 222/500\n"
     ]
    },
    {
     "name": "stderr",
     "output_type": "stream",
     "text": [
      "Training: 100%|██████████| 65/65 [00:03<00:00, 21.36batch/s]\n",
      "Evaluating: 100%|██████████| 19/19 [00:00<00:00, 76.10batch/s]\n"
     ]
    },
    {
     "name": "stdout",
     "output_type": "stream",
     "text": [
      "Train Loss: 0.0000\n",
      "Validation Loss: 0.2545\n",
      "Validation Accuracy: 84.80%\n",
      "Epoch 223/500\n"
     ]
    },
    {
     "name": "stderr",
     "output_type": "stream",
     "text": [
      "Training: 100%|██████████| 65/65 [00:03<00:00, 20.51batch/s]\n",
      "Evaluating: 100%|██████████| 19/19 [00:00<00:00, 74.67batch/s]\n"
     ]
    },
    {
     "name": "stdout",
     "output_type": "stream",
     "text": [
      "Train Loss: 0.0000\n",
      "Validation Loss: 0.2636\n",
      "Validation Accuracy: 84.80%\n",
      "Epoch 224/500\n"
     ]
    },
    {
     "name": "stderr",
     "output_type": "stream",
     "text": [
      "Training: 100%|██████████| 65/65 [00:03<00:00, 21.26batch/s]\n",
      "Evaluating: 100%|██████████| 19/19 [00:00<00:00, 73.43batch/s]\n"
     ]
    },
    {
     "name": "stdout",
     "output_type": "stream",
     "text": [
      "Train Loss: 0.0000\n",
      "Validation Loss: 0.2588\n",
      "Validation Accuracy: 84.80%\n",
      "Epoch 225/500\n"
     ]
    },
    {
     "name": "stderr",
     "output_type": "stream",
     "text": [
      "Training: 100%|██████████| 65/65 [00:03<00:00, 20.88batch/s]\n",
      "Evaluating: 100%|██████████| 19/19 [00:00<00:00, 69.20batch/s]\n"
     ]
    },
    {
     "name": "stdout",
     "output_type": "stream",
     "text": [
      "Train Loss: 0.0000\n",
      "Validation Loss: 0.2572\n",
      "Validation Accuracy: 84.80%\n",
      "Epoch 226/500\n"
     ]
    },
    {
     "name": "stderr",
     "output_type": "stream",
     "text": [
      "Training: 100%|██████████| 65/65 [00:03<00:00, 20.97batch/s]\n",
      "Evaluating: 100%|██████████| 19/19 [00:00<00:00, 71.25batch/s]\n"
     ]
    },
    {
     "name": "stdout",
     "output_type": "stream",
     "text": [
      "Train Loss: 0.0000\n",
      "Validation Loss: 0.2613\n",
      "Validation Accuracy: 84.80%\n",
      "Epoch 227/500\n"
     ]
    },
    {
     "name": "stderr",
     "output_type": "stream",
     "text": [
      "Training: 100%|██████████| 65/65 [00:03<00:00, 21.38batch/s]\n",
      "Evaluating: 100%|██████████| 19/19 [00:00<00:00, 69.69batch/s]\n"
     ]
    },
    {
     "name": "stdout",
     "output_type": "stream",
     "text": [
      "Train Loss: 0.0000\n",
      "Validation Loss: 0.2591\n",
      "Validation Accuracy: 84.88%\n",
      "Epoch 228/500\n"
     ]
    },
    {
     "name": "stderr",
     "output_type": "stream",
     "text": [
      "Training: 100%|██████████| 65/65 [00:03<00:00, 21.22batch/s]\n",
      "Evaluating: 100%|██████████| 19/19 [00:00<00:00, 76.75batch/s]\n"
     ]
    },
    {
     "name": "stdout",
     "output_type": "stream",
     "text": [
      "Train Loss: 0.0000\n",
      "Validation Loss: 0.2638\n",
      "Validation Accuracy: 84.80%\n",
      "Epoch 229/500\n"
     ]
    },
    {
     "name": "stderr",
     "output_type": "stream",
     "text": [
      "Training: 100%|██████████| 65/65 [00:03<00:00, 21.38batch/s]\n",
      "Evaluating: 100%|██████████| 19/19 [00:00<00:00, 70.42batch/s]\n"
     ]
    },
    {
     "name": "stdout",
     "output_type": "stream",
     "text": [
      "Train Loss: 0.0000\n",
      "Validation Loss: 0.2658\n",
      "Validation Accuracy: 84.71%\n",
      "Epoch 230/500\n"
     ]
    },
    {
     "name": "stderr",
     "output_type": "stream",
     "text": [
      "Training: 100%|██████████| 65/65 [00:03<00:00, 20.44batch/s]\n",
      "Evaluating: 100%|██████████| 19/19 [00:00<00:00, 82.52batch/s]\n"
     ]
    },
    {
     "name": "stdout",
     "output_type": "stream",
     "text": [
      "Train Loss: 0.0000\n",
      "Validation Loss: 0.2687\n",
      "Validation Accuracy: 84.80%\n",
      "Epoch 231/500\n"
     ]
    },
    {
     "name": "stderr",
     "output_type": "stream",
     "text": [
      "Training: 100%|██████████| 65/65 [00:03<00:00, 20.70batch/s]\n",
      "Evaluating: 100%|██████████| 19/19 [00:00<00:00, 70.11batch/s]\n"
     ]
    },
    {
     "name": "stdout",
     "output_type": "stream",
     "text": [
      "Train Loss: 0.0000\n",
      "Validation Loss: 0.2704\n",
      "Validation Accuracy: 84.71%\n",
      "Epoch 232/500\n"
     ]
    },
    {
     "name": "stderr",
     "output_type": "stream",
     "text": [
      "Training: 100%|██████████| 65/65 [00:03<00:00, 21.16batch/s]\n",
      "Evaluating: 100%|██████████| 19/19 [00:00<00:00, 73.67batch/s]\n"
     ]
    },
    {
     "name": "stdout",
     "output_type": "stream",
     "text": [
      "Train Loss: 0.0000\n",
      "Validation Loss: 0.2654\n",
      "Validation Accuracy: 84.71%\n",
      "Epoch 233/500\n"
     ]
    },
    {
     "name": "stderr",
     "output_type": "stream",
     "text": [
      "Training: 100%|██████████| 65/65 [00:03<00:00, 21.12batch/s]\n",
      "Evaluating: 100%|██████████| 19/19 [00:00<00:00, 74.19batch/s]\n"
     ]
    },
    {
     "name": "stdout",
     "output_type": "stream",
     "text": [
      "Train Loss: 0.0000\n",
      "Validation Loss: 0.2727\n",
      "Validation Accuracy: 84.71%\n",
      "Epoch 234/500\n"
     ]
    },
    {
     "name": "stderr",
     "output_type": "stream",
     "text": [
      "Training: 100%|██████████| 65/65 [00:03<00:00, 21.46batch/s]\n",
      "Evaluating: 100%|██████████| 19/19 [00:00<00:00, 73.13batch/s]\n"
     ]
    },
    {
     "name": "stdout",
     "output_type": "stream",
     "text": [
      "Train Loss: 0.0000\n",
      "Validation Loss: 0.2684\n",
      "Validation Accuracy: 84.63%\n",
      "Epoch 235/500\n"
     ]
    },
    {
     "name": "stderr",
     "output_type": "stream",
     "text": [
      "Training: 100%|██████████| 65/65 [00:03<00:00, 21.23batch/s]\n",
      "Evaluating: 100%|██████████| 19/19 [00:00<00:00, 65.97batch/s]\n"
     ]
    },
    {
     "name": "stdout",
     "output_type": "stream",
     "text": [
      "Train Loss: 0.0000\n",
      "Validation Loss: 0.2753\n",
      "Validation Accuracy: 84.63%\n",
      "Epoch 236/500\n"
     ]
    },
    {
     "name": "stderr",
     "output_type": "stream",
     "text": [
      "Training: 100%|██████████| 65/65 [00:03<00:00, 20.78batch/s]\n",
      "Evaluating: 100%|██████████| 19/19 [00:00<00:00, 75.85batch/s]\n"
     ]
    },
    {
     "name": "stdout",
     "output_type": "stream",
     "text": [
      "Train Loss: 0.0000\n",
      "Validation Loss: 0.2646\n",
      "Validation Accuracy: 84.63%\n",
      "Epoch 237/500\n"
     ]
    },
    {
     "name": "stderr",
     "output_type": "stream",
     "text": [
      "Training: 100%|██████████| 65/65 [00:03<00:00, 20.88batch/s]\n",
      "Evaluating: 100%|██████████| 19/19 [00:00<00:00, 72.08batch/s]\n"
     ]
    },
    {
     "name": "stdout",
     "output_type": "stream",
     "text": [
      "Train Loss: 0.0000\n",
      "Validation Loss: 0.2761\n",
      "Validation Accuracy: 84.54%\n",
      "Epoch 238/500\n"
     ]
    },
    {
     "name": "stderr",
     "output_type": "stream",
     "text": [
      "Training: 100%|██████████| 65/65 [00:03<00:00, 20.71batch/s]\n",
      "Evaluating: 100%|██████████| 19/19 [00:00<00:00, 70.76batch/s]\n"
     ]
    },
    {
     "name": "stdout",
     "output_type": "stream",
     "text": [
      "Train Loss: 0.0000\n",
      "Validation Loss: 0.2739\n",
      "Validation Accuracy: 84.54%\n",
      "Epoch 239/500\n"
     ]
    },
    {
     "name": "stderr",
     "output_type": "stream",
     "text": [
      "Training: 100%|██████████| 65/65 [00:03<00:00, 20.35batch/s]\n",
      "Evaluating: 100%|██████████| 19/19 [00:00<00:00, 75.44batch/s]\n"
     ]
    },
    {
     "name": "stdout",
     "output_type": "stream",
     "text": [
      "Train Loss: 0.0000\n",
      "Validation Loss: 0.2731\n",
      "Validation Accuracy: 84.54%\n",
      "Epoch 240/500\n"
     ]
    },
    {
     "name": "stderr",
     "output_type": "stream",
     "text": [
      "Training: 100%|██████████| 65/65 [00:03<00:00, 21.42batch/s]\n",
      "Evaluating: 100%|██████████| 19/19 [00:00<00:00, 78.36batch/s]\n"
     ]
    },
    {
     "name": "stdout",
     "output_type": "stream",
     "text": [
      "Train Loss: 0.0000\n",
      "Validation Loss: 0.2762\n",
      "Validation Accuracy: 84.54%\n",
      "Epoch 241/500\n"
     ]
    },
    {
     "name": "stderr",
     "output_type": "stream",
     "text": [
      "Training: 100%|██████████| 65/65 [00:03<00:00, 21.22batch/s]\n",
      "Evaluating: 100%|██████████| 19/19 [00:00<00:00, 76.69batch/s]\n"
     ]
    },
    {
     "name": "stdout",
     "output_type": "stream",
     "text": [
      "Train Loss: 0.0000\n",
      "Validation Loss: 0.2807\n",
      "Validation Accuracy: 84.46%\n",
      "Epoch 242/500\n"
     ]
    },
    {
     "name": "stderr",
     "output_type": "stream",
     "text": [
      "Training: 100%|██████████| 65/65 [00:03<00:00, 20.60batch/s]\n",
      "Evaluating: 100%|██████████| 19/19 [00:00<00:00, 74.08batch/s]\n"
     ]
    },
    {
     "name": "stdout",
     "output_type": "stream",
     "text": [
      "Train Loss: 0.0000\n",
      "Validation Loss: 0.2778\n",
      "Validation Accuracy: 84.54%\n",
      "Epoch 243/500\n"
     ]
    },
    {
     "name": "stderr",
     "output_type": "stream",
     "text": [
      "Training: 100%|██████████| 65/65 [00:03<00:00, 20.47batch/s]\n",
      "Evaluating: 100%|██████████| 19/19 [00:00<00:00, 66.56batch/s]\n"
     ]
    },
    {
     "name": "stdout",
     "output_type": "stream",
     "text": [
      "Train Loss: 0.0000\n",
      "Validation Loss: 0.2784\n",
      "Validation Accuracy: 84.46%\n",
      "Epoch 244/500\n"
     ]
    },
    {
     "name": "stderr",
     "output_type": "stream",
     "text": [
      "Training: 100%|██████████| 65/65 [00:03<00:00, 21.02batch/s]\n",
      "Evaluating: 100%|██████████| 19/19 [00:00<00:00, 71.22batch/s]\n"
     ]
    },
    {
     "name": "stdout",
     "output_type": "stream",
     "text": [
      "Train Loss: 0.0000\n",
      "Validation Loss: 0.2787\n",
      "Validation Accuracy: 84.46%\n",
      "Epoch 245/500\n"
     ]
    },
    {
     "name": "stderr",
     "output_type": "stream",
     "text": [
      "Training: 100%|██████████| 65/65 [00:03<00:00, 20.62batch/s]\n",
      "Evaluating: 100%|██████████| 19/19 [00:00<00:00, 78.35batch/s]\n"
     ]
    },
    {
     "name": "stdout",
     "output_type": "stream",
     "text": [
      "Train Loss: 0.0000\n",
      "Validation Loss: 0.2823\n",
      "Validation Accuracy: 84.46%\n",
      "Epoch 246/500\n"
     ]
    },
    {
     "name": "stderr",
     "output_type": "stream",
     "text": [
      "Training: 100%|██████████| 65/65 [00:03<00:00, 21.32batch/s]\n",
      "Evaluating: 100%|██████████| 19/19 [00:00<00:00, 68.10batch/s]\n"
     ]
    },
    {
     "name": "stdout",
     "output_type": "stream",
     "text": [
      "Train Loss: 0.0000\n",
      "Validation Loss: 0.2787\n",
      "Validation Accuracy: 84.46%\n",
      "Epoch 247/500\n"
     ]
    },
    {
     "name": "stderr",
     "output_type": "stream",
     "text": [
      "Training: 100%|██████████| 65/65 [00:03<00:00, 21.49batch/s]\n",
      "Evaluating: 100%|██████████| 19/19 [00:00<00:00, 77.37batch/s]\n"
     ]
    },
    {
     "name": "stdout",
     "output_type": "stream",
     "text": [
      "Train Loss: 0.0000\n",
      "Validation Loss: 0.2844\n",
      "Validation Accuracy: 84.54%\n",
      "Epoch 248/500\n"
     ]
    },
    {
     "name": "stderr",
     "output_type": "stream",
     "text": [
      "Training: 100%|██████████| 65/65 [00:03<00:00, 20.69batch/s]\n",
      "Evaluating: 100%|██████████| 19/19 [00:00<00:00, 75.25batch/s]\n"
     ]
    },
    {
     "name": "stdout",
     "output_type": "stream",
     "text": [
      "Train Loss: 0.0000\n",
      "Validation Loss: 0.2809\n",
      "Validation Accuracy: 84.46%\n",
      "Epoch 249/500\n"
     ]
    },
    {
     "name": "stderr",
     "output_type": "stream",
     "text": [
      "Training: 100%|██████████| 65/65 [00:03<00:00, 20.58batch/s]\n",
      "Evaluating: 100%|██████████| 19/19 [00:00<00:00, 73.73batch/s]\n"
     ]
    },
    {
     "name": "stdout",
     "output_type": "stream",
     "text": [
      "Train Loss: 0.0000\n",
      "Validation Loss: 0.2809\n",
      "Validation Accuracy: 84.63%\n",
      "Epoch 250/500\n"
     ]
    },
    {
     "name": "stderr",
     "output_type": "stream",
     "text": [
      "Training: 100%|██████████| 65/65 [00:03<00:00, 21.15batch/s]\n",
      "Evaluating: 100%|██████████| 19/19 [00:00<00:00, 67.84batch/s]\n"
     ]
    },
    {
     "name": "stdout",
     "output_type": "stream",
     "text": [
      "Train Loss: 0.0000\n",
      "Validation Loss: 0.2790\n",
      "Validation Accuracy: 84.46%\n",
      "Epoch 251/500\n"
     ]
    },
    {
     "name": "stderr",
     "output_type": "stream",
     "text": [
      "Training: 100%|██████████| 65/65 [00:03<00:00, 19.62batch/s]\n",
      "Evaluating: 100%|██████████| 19/19 [00:00<00:00, 60.04batch/s]\n"
     ]
    },
    {
     "name": "stdout",
     "output_type": "stream",
     "text": [
      "Train Loss: 0.0000\n",
      "Validation Loss: 0.2871\n",
      "Validation Accuracy: 84.38%\n",
      "Epoch 252/500\n"
     ]
    },
    {
     "name": "stderr",
     "output_type": "stream",
     "text": [
      "Training: 100%|██████████| 65/65 [00:03<00:00, 18.86batch/s]\n",
      "Evaluating: 100%|██████████| 19/19 [00:00<00:00, 73.25batch/s]\n"
     ]
    },
    {
     "name": "stdout",
     "output_type": "stream",
     "text": [
      "Train Loss: 0.0000\n",
      "Validation Loss: 0.2851\n",
      "Validation Accuracy: 84.46%\n",
      "Epoch 253/500\n"
     ]
    },
    {
     "name": "stderr",
     "output_type": "stream",
     "text": [
      "Training: 100%|██████████| 65/65 [00:03<00:00, 21.18batch/s]\n",
      "Evaluating: 100%|██████████| 19/19 [00:00<00:00, 80.49batch/s]\n"
     ]
    },
    {
     "name": "stdout",
     "output_type": "stream",
     "text": [
      "Train Loss: 0.0000\n",
      "Validation Loss: 0.2843\n",
      "Validation Accuracy: 84.46%\n",
      "Epoch 254/500\n"
     ]
    },
    {
     "name": "stderr",
     "output_type": "stream",
     "text": [
      "Training: 100%|██████████| 65/65 [00:03<00:00, 21.28batch/s]\n",
      "Evaluating: 100%|██████████| 19/19 [00:00<00:00, 66.54batch/s]\n"
     ]
    },
    {
     "name": "stdout",
     "output_type": "stream",
     "text": [
      "Train Loss: 0.0000\n",
      "Validation Loss: 0.2878\n",
      "Validation Accuracy: 84.38%\n",
      "Epoch 255/500\n"
     ]
    },
    {
     "name": "stderr",
     "output_type": "stream",
     "text": [
      "Training: 100%|██████████| 65/65 [00:03<00:00, 21.06batch/s]\n",
      "Evaluating: 100%|██████████| 19/19 [00:00<00:00, 61.05batch/s]\n"
     ]
    },
    {
     "name": "stdout",
     "output_type": "stream",
     "text": [
      "Train Loss: 0.0000\n",
      "Validation Loss: 0.2982\n",
      "Validation Accuracy: 84.38%\n",
      "Epoch 256/500\n"
     ]
    },
    {
     "name": "stderr",
     "output_type": "stream",
     "text": [
      "Training: 100%|██████████| 65/65 [00:03<00:00, 20.46batch/s]\n",
      "Evaluating: 100%|██████████| 19/19 [00:00<00:00, 67.75batch/s]\n"
     ]
    },
    {
     "name": "stdout",
     "output_type": "stream",
     "text": [
      "Train Loss: 0.0000\n",
      "Validation Loss: 0.2958\n",
      "Validation Accuracy: 84.46%\n",
      "Epoch 257/500\n"
     ]
    },
    {
     "name": "stderr",
     "output_type": "stream",
     "text": [
      "Training: 100%|██████████| 65/65 [00:03<00:00, 21.51batch/s]\n",
      "Evaluating: 100%|██████████| 19/19 [00:00<00:00, 71.43batch/s]\n"
     ]
    },
    {
     "name": "stdout",
     "output_type": "stream",
     "text": [
      "Train Loss: 0.0000\n",
      "Validation Loss: 0.2966\n",
      "Validation Accuracy: 84.38%\n",
      "Epoch 258/500\n"
     ]
    },
    {
     "name": "stderr",
     "output_type": "stream",
     "text": [
      "Training: 100%|██████████| 65/65 [00:03<00:00, 20.95batch/s]\n",
      "Evaluating: 100%|██████████| 19/19 [00:00<00:00, 67.08batch/s]\n"
     ]
    },
    {
     "name": "stdout",
     "output_type": "stream",
     "text": [
      "Train Loss: 0.0000\n",
      "Validation Loss: 0.2924\n",
      "Validation Accuracy: 84.29%\n",
      "Epoch 259/500\n"
     ]
    },
    {
     "name": "stderr",
     "output_type": "stream",
     "text": [
      "Training: 100%|██████████| 65/65 [00:03<00:00, 21.10batch/s]\n",
      "Evaluating: 100%|██████████| 19/19 [00:00<00:00, 79.35batch/s]\n"
     ]
    },
    {
     "name": "stdout",
     "output_type": "stream",
     "text": [
      "Train Loss: 0.0000\n",
      "Validation Loss: 0.2999\n",
      "Validation Accuracy: 84.38%\n",
      "Epoch 260/500\n"
     ]
    },
    {
     "name": "stderr",
     "output_type": "stream",
     "text": [
      "Training: 100%|██████████| 65/65 [00:03<00:00, 20.85batch/s]\n",
      "Evaluating: 100%|██████████| 19/19 [00:00<00:00, 78.04batch/s]\n"
     ]
    },
    {
     "name": "stdout",
     "output_type": "stream",
     "text": [
      "Train Loss: 0.0000\n",
      "Validation Loss: 0.2970\n",
      "Validation Accuracy: 84.29%\n",
      "Epoch 261/500\n"
     ]
    },
    {
     "name": "stderr",
     "output_type": "stream",
     "text": [
      "Training: 100%|██████████| 65/65 [00:03<00:00, 20.83batch/s]\n",
      "Evaluating: 100%|██████████| 19/19 [00:00<00:00, 73.20batch/s]\n"
     ]
    },
    {
     "name": "stdout",
     "output_type": "stream",
     "text": [
      "Train Loss: 0.0000\n",
      "Validation Loss: 0.3045\n",
      "Validation Accuracy: 84.38%\n",
      "Epoch 262/500\n"
     ]
    },
    {
     "name": "stderr",
     "output_type": "stream",
     "text": [
      "Training: 100%|██████████| 65/65 [00:03<00:00, 20.40batch/s]\n",
      "Evaluating: 100%|██████████| 19/19 [00:00<00:00, 73.39batch/s]\n"
     ]
    },
    {
     "name": "stdout",
     "output_type": "stream",
     "text": [
      "Train Loss: 0.0000\n",
      "Validation Loss: 0.2945\n",
      "Validation Accuracy: 84.54%\n",
      "Epoch 263/500\n"
     ]
    },
    {
     "name": "stderr",
     "output_type": "stream",
     "text": [
      "Training: 100%|██████████| 65/65 [00:03<00:00, 21.14batch/s]\n",
      "Evaluating: 100%|██████████| 19/19 [00:00<00:00, 64.59batch/s]\n"
     ]
    },
    {
     "name": "stdout",
     "output_type": "stream",
     "text": [
      "Train Loss: 0.0000\n",
      "Validation Loss: 0.2993\n",
      "Validation Accuracy: 84.46%\n",
      "Epoch 264/500\n"
     ]
    },
    {
     "name": "stderr",
     "output_type": "stream",
     "text": [
      "Training: 100%|██████████| 65/65 [00:03<00:00, 20.77batch/s]\n",
      "Evaluating: 100%|██████████| 19/19 [00:00<00:00, 72.62batch/s]\n"
     ]
    },
    {
     "name": "stdout",
     "output_type": "stream",
     "text": [
      "Train Loss: 0.0000\n",
      "Validation Loss: 0.3061\n",
      "Validation Accuracy: 84.54%\n",
      "Epoch 265/500\n"
     ]
    },
    {
     "name": "stderr",
     "output_type": "stream",
     "text": [
      "Training: 100%|██████████| 65/65 [00:03<00:00, 20.31batch/s]\n",
      "Evaluating: 100%|██████████| 19/19 [00:00<00:00, 64.96batch/s]\n"
     ]
    },
    {
     "name": "stdout",
     "output_type": "stream",
     "text": [
      "Train Loss: 0.0000\n",
      "Validation Loss: 0.3037\n",
      "Validation Accuracy: 84.46%\n",
      "Epoch 266/500\n"
     ]
    },
    {
     "name": "stderr",
     "output_type": "stream",
     "text": [
      "Training: 100%|██████████| 65/65 [00:03<00:00, 20.89batch/s]\n",
      "Evaluating: 100%|██████████| 19/19 [00:00<00:00, 72.33batch/s]\n"
     ]
    },
    {
     "name": "stdout",
     "output_type": "stream",
     "text": [
      "Train Loss: 0.0000\n",
      "Validation Loss: 0.3027\n",
      "Validation Accuracy: 84.38%\n",
      "Epoch 267/500\n"
     ]
    },
    {
     "name": "stderr",
     "output_type": "stream",
     "text": [
      "Training: 100%|██████████| 65/65 [00:03<00:00, 20.89batch/s]\n",
      "Evaluating: 100%|██████████| 19/19 [00:00<00:00, 71.18batch/s]\n"
     ]
    },
    {
     "name": "stdout",
     "output_type": "stream",
     "text": [
      "Train Loss: 0.0000\n",
      "Validation Loss: 0.3005\n",
      "Validation Accuracy: 84.54%\n",
      "Epoch 268/500\n"
     ]
    },
    {
     "name": "stderr",
     "output_type": "stream",
     "text": [
      "Training: 100%|██████████| 65/65 [00:03<00:00, 20.58batch/s]\n",
      "Evaluating: 100%|██████████| 19/19 [00:00<00:00, 66.43batch/s]\n"
     ]
    },
    {
     "name": "stdout",
     "output_type": "stream",
     "text": [
      "Train Loss: 0.0000\n",
      "Validation Loss: 0.3086\n",
      "Validation Accuracy: 84.46%\n",
      "Epoch 269/500\n"
     ]
    },
    {
     "name": "stderr",
     "output_type": "stream",
     "text": [
      "Training: 100%|██████████| 65/65 [00:03<00:00, 21.48batch/s]\n",
      "Evaluating: 100%|██████████| 19/19 [00:00<00:00, 70.22batch/s]\n"
     ]
    },
    {
     "name": "stdout",
     "output_type": "stream",
     "text": [
      "Train Loss: 0.0000\n",
      "Validation Loss: 0.3114\n",
      "Validation Accuracy: 84.46%\n",
      "Epoch 270/500\n"
     ]
    },
    {
     "name": "stderr",
     "output_type": "stream",
     "text": [
      "Training: 100%|██████████| 65/65 [00:03<00:00, 21.12batch/s]\n",
      "Evaluating: 100%|██████████| 19/19 [00:00<00:00, 71.33batch/s]\n"
     ]
    },
    {
     "name": "stdout",
     "output_type": "stream",
     "text": [
      "Train Loss: 0.0000\n",
      "Validation Loss: 0.3029\n",
      "Validation Accuracy: 84.21%\n",
      "Epoch 271/500\n"
     ]
    },
    {
     "name": "stderr",
     "output_type": "stream",
     "text": [
      "Training: 100%|██████████| 65/65 [00:03<00:00, 20.37batch/s]\n",
      "Evaluating: 100%|██████████| 19/19 [00:00<00:00, 76.43batch/s]\n"
     ]
    },
    {
     "name": "stdout",
     "output_type": "stream",
     "text": [
      "Train Loss: 0.0000\n",
      "Validation Loss: 0.3055\n",
      "Validation Accuracy: 84.38%\n",
      "Epoch 272/500\n"
     ]
    },
    {
     "name": "stderr",
     "output_type": "stream",
     "text": [
      "Training: 100%|██████████| 65/65 [00:03<00:00, 20.86batch/s]\n",
      "Evaluating: 100%|██████████| 19/19 [00:00<00:00, 78.76batch/s]\n"
     ]
    },
    {
     "name": "stdout",
     "output_type": "stream",
     "text": [
      "Train Loss: 0.0000\n",
      "Validation Loss: 0.3078\n",
      "Validation Accuracy: 84.21%\n",
      "Epoch 273/500\n"
     ]
    },
    {
     "name": "stderr",
     "output_type": "stream",
     "text": [
      "Training: 100%|██████████| 65/65 [00:03<00:00, 21.21batch/s]\n",
      "Evaluating: 100%|██████████| 19/19 [00:00<00:00, 69.77batch/s]\n"
     ]
    },
    {
     "name": "stdout",
     "output_type": "stream",
     "text": [
      "Train Loss: 0.0000\n",
      "Validation Loss: 0.3203\n",
      "Validation Accuracy: 84.38%\n",
      "Epoch 274/500\n"
     ]
    },
    {
     "name": "stderr",
     "output_type": "stream",
     "text": [
      "Training: 100%|██████████| 65/65 [00:03<00:00, 21.64batch/s]\n",
      "Evaluating: 100%|██████████| 19/19 [00:00<00:00, 76.36batch/s]\n"
     ]
    },
    {
     "name": "stdout",
     "output_type": "stream",
     "text": [
      "Train Loss: 0.0000\n",
      "Validation Loss: 0.3076\n",
      "Validation Accuracy: 84.21%\n",
      "Epoch 275/500\n"
     ]
    },
    {
     "name": "stderr",
     "output_type": "stream",
     "text": [
      "Training: 100%|██████████| 65/65 [00:03<00:00, 20.24batch/s]\n",
      "Evaluating: 100%|██████████| 19/19 [00:00<00:00, 77.80batch/s]\n"
     ]
    },
    {
     "name": "stdout",
     "output_type": "stream",
     "text": [
      "Train Loss: 0.0000\n",
      "Validation Loss: 0.3086\n",
      "Validation Accuracy: 84.21%\n",
      "Epoch 276/500\n"
     ]
    },
    {
     "name": "stderr",
     "output_type": "stream",
     "text": [
      "Training: 100%|██████████| 65/65 [00:03<00:00, 21.11batch/s]\n",
      "Evaluating: 100%|██████████| 19/19 [00:00<00:00, 79.60batch/s]\n"
     ]
    },
    {
     "name": "stdout",
     "output_type": "stream",
     "text": [
      "Train Loss: 0.0000\n",
      "Validation Loss: 0.3225\n",
      "Validation Accuracy: 84.46%\n",
      "Epoch 277/500\n"
     ]
    },
    {
     "name": "stderr",
     "output_type": "stream",
     "text": [
      "Training: 100%|██████████| 65/65 [00:03<00:00, 21.36batch/s]\n",
      "Evaluating: 100%|██████████| 19/19 [00:00<00:00, 68.22batch/s]\n"
     ]
    },
    {
     "name": "stdout",
     "output_type": "stream",
     "text": [
      "Train Loss: 0.0000\n",
      "Validation Loss: 0.3192\n",
      "Validation Accuracy: 84.29%\n",
      "Epoch 278/500\n"
     ]
    },
    {
     "name": "stderr",
     "output_type": "stream",
     "text": [
      "Training: 100%|██████████| 65/65 [00:03<00:00, 21.53batch/s]\n",
      "Evaluating: 100%|██████████| 19/19 [00:00<00:00, 74.15batch/s]\n"
     ]
    },
    {
     "name": "stdout",
     "output_type": "stream",
     "text": [
      "Train Loss: 0.0000\n",
      "Validation Loss: 0.3100\n",
      "Validation Accuracy: 84.29%\n",
      "Epoch 279/500\n"
     ]
    },
    {
     "name": "stderr",
     "output_type": "stream",
     "text": [
      "Training: 100%|██████████| 65/65 [00:03<00:00, 21.00batch/s]\n",
      "Evaluating: 100%|██████████| 19/19 [00:00<00:00, 77.64batch/s]\n"
     ]
    },
    {
     "name": "stdout",
     "output_type": "stream",
     "text": [
      "Train Loss: 0.0000\n",
      "Validation Loss: 0.3189\n",
      "Validation Accuracy: 84.29%\n",
      "Epoch 280/500\n"
     ]
    },
    {
     "name": "stderr",
     "output_type": "stream",
     "text": [
      "Training: 100%|██████████| 65/65 [00:03<00:00, 21.31batch/s]\n",
      "Evaluating: 100%|██████████| 19/19 [00:00<00:00, 75.45batch/s]\n"
     ]
    },
    {
     "name": "stdout",
     "output_type": "stream",
     "text": [
      "Train Loss: 0.0000\n",
      "Validation Loss: 0.3126\n",
      "Validation Accuracy: 84.21%\n",
      "Epoch 281/500\n"
     ]
    },
    {
     "name": "stderr",
     "output_type": "stream",
     "text": [
      "Training: 100%|██████████| 65/65 [00:03<00:00, 21.01batch/s]\n",
      "Evaluating: 100%|██████████| 19/19 [00:00<00:00, 72.85batch/s]\n"
     ]
    },
    {
     "name": "stdout",
     "output_type": "stream",
     "text": [
      "Train Loss: 0.0000\n",
      "Validation Loss: 0.3273\n",
      "Validation Accuracy: 84.12%\n",
      "Epoch 282/500\n"
     ]
    },
    {
     "name": "stderr",
     "output_type": "stream",
     "text": [
      "Training: 100%|██████████| 65/65 [00:03<00:00, 20.72batch/s]\n",
      "Evaluating: 100%|██████████| 19/19 [00:00<00:00, 71.69batch/s]\n"
     ]
    },
    {
     "name": "stdout",
     "output_type": "stream",
     "text": [
      "Train Loss: 0.0000\n",
      "Validation Loss: 0.3164\n",
      "Validation Accuracy: 84.21%\n",
      "Epoch 283/500\n"
     ]
    },
    {
     "name": "stderr",
     "output_type": "stream",
     "text": [
      "Training: 100%|██████████| 65/65 [00:03<00:00, 21.31batch/s]\n",
      "Evaluating: 100%|██████████| 19/19 [00:00<00:00, 65.46batch/s]\n"
     ]
    },
    {
     "name": "stdout",
     "output_type": "stream",
     "text": [
      "Train Loss: 0.0000\n",
      "Validation Loss: 0.3151\n",
      "Validation Accuracy: 84.21%\n",
      "Epoch 284/500\n"
     ]
    },
    {
     "name": "stderr",
     "output_type": "stream",
     "text": [
      "Training: 100%|██████████| 65/65 [00:03<00:00, 21.06batch/s]\n",
      "Evaluating: 100%|██████████| 19/19 [00:00<00:00, 70.48batch/s]\n"
     ]
    },
    {
     "name": "stdout",
     "output_type": "stream",
     "text": [
      "Train Loss: 0.0000\n",
      "Validation Loss: 0.3257\n",
      "Validation Accuracy: 84.21%\n",
      "Epoch 285/500\n"
     ]
    },
    {
     "name": "stderr",
     "output_type": "stream",
     "text": [
      "Training: 100%|██████████| 65/65 [00:03<00:00, 20.96batch/s]\n",
      "Evaluating: 100%|██████████| 19/19 [00:00<00:00, 73.81batch/s]\n"
     ]
    },
    {
     "name": "stdout",
     "output_type": "stream",
     "text": [
      "Train Loss: 0.0000\n",
      "Validation Loss: 0.3186\n",
      "Validation Accuracy: 84.21%\n",
      "Epoch 286/500\n"
     ]
    },
    {
     "name": "stderr",
     "output_type": "stream",
     "text": [
      "Training: 100%|██████████| 65/65 [00:03<00:00, 21.55batch/s]\n",
      "Evaluating: 100%|██████████| 19/19 [00:00<00:00, 78.35batch/s]\n"
     ]
    },
    {
     "name": "stdout",
     "output_type": "stream",
     "text": [
      "Train Loss: 0.0000\n",
      "Validation Loss: 0.3291\n",
      "Validation Accuracy: 84.21%\n",
      "Epoch 287/500\n"
     ]
    },
    {
     "name": "stderr",
     "output_type": "stream",
     "text": [
      "Training: 100%|██████████| 65/65 [00:03<00:00, 20.80batch/s]\n",
      "Evaluating: 100%|██████████| 19/19 [00:00<00:00, 77.08batch/s]\n"
     ]
    },
    {
     "name": "stdout",
     "output_type": "stream",
     "text": [
      "Train Loss: 0.0000\n",
      "Validation Loss: 0.3243\n",
      "Validation Accuracy: 84.04%\n",
      "Epoch 288/500\n"
     ]
    },
    {
     "name": "stderr",
     "output_type": "stream",
     "text": [
      "Training: 100%|██████████| 65/65 [00:03<00:00, 20.62batch/s]\n",
      "Evaluating: 100%|██████████| 19/19 [00:00<00:00, 76.13batch/s]\n"
     ]
    },
    {
     "name": "stdout",
     "output_type": "stream",
     "text": [
      "Train Loss: 0.0000\n",
      "Validation Loss: 0.3280\n",
      "Validation Accuracy: 84.04%\n",
      "Epoch 289/500\n"
     ]
    },
    {
     "name": "stderr",
     "output_type": "stream",
     "text": [
      "Training: 100%|██████████| 65/65 [00:03<00:00, 20.96batch/s]\n",
      "Evaluating: 100%|██████████| 19/19 [00:00<00:00, 69.83batch/s]\n"
     ]
    },
    {
     "name": "stdout",
     "output_type": "stream",
     "text": [
      "Train Loss: 0.0000\n",
      "Validation Loss: 0.3236\n",
      "Validation Accuracy: 83.95%\n",
      "Epoch 290/500\n"
     ]
    },
    {
     "name": "stderr",
     "output_type": "stream",
     "text": [
      "Training: 100%|██████████| 65/65 [00:03<00:00, 20.41batch/s]\n",
      "Evaluating: 100%|██████████| 19/19 [00:00<00:00, 78.34batch/s]\n"
     ]
    },
    {
     "name": "stdout",
     "output_type": "stream",
     "text": [
      "Train Loss: 0.0000\n",
      "Validation Loss: 0.3243\n",
      "Validation Accuracy: 83.87%\n",
      "Epoch 291/500\n"
     ]
    },
    {
     "name": "stderr",
     "output_type": "stream",
     "text": [
      "Training: 100%|██████████| 65/65 [00:03<00:00, 21.10batch/s]\n",
      "Evaluating: 100%|██████████| 19/19 [00:00<00:00, 73.65batch/s]\n"
     ]
    },
    {
     "name": "stdout",
     "output_type": "stream",
     "text": [
      "Train Loss: 0.0000\n",
      "Validation Loss: 0.3316\n",
      "Validation Accuracy: 84.12%\n",
      "Epoch 292/500\n"
     ]
    },
    {
     "name": "stderr",
     "output_type": "stream",
     "text": [
      "Training: 100%|██████████| 65/65 [00:03<00:00, 21.38batch/s]\n",
      "Evaluating: 100%|██████████| 19/19 [00:00<00:00, 71.78batch/s]\n"
     ]
    },
    {
     "name": "stdout",
     "output_type": "stream",
     "text": [
      "Train Loss: 0.0000\n",
      "Validation Loss: 0.3267\n",
      "Validation Accuracy: 83.95%\n",
      "Epoch 293/500\n"
     ]
    },
    {
     "name": "stderr",
     "output_type": "stream",
     "text": [
      "Training: 100%|██████████| 65/65 [00:03<00:00, 20.29batch/s]\n",
      "Evaluating: 100%|██████████| 19/19 [00:00<00:00, 68.36batch/s]\n"
     ]
    },
    {
     "name": "stdout",
     "output_type": "stream",
     "text": [
      "Train Loss: 0.0000\n",
      "Validation Loss: 0.3363\n",
      "Validation Accuracy: 83.95%\n",
      "Epoch 294/500\n"
     ]
    },
    {
     "name": "stderr",
     "output_type": "stream",
     "text": [
      "Training: 100%|██████████| 65/65 [00:03<00:00, 21.19batch/s]\n",
      "Evaluating: 100%|██████████| 19/19 [00:00<00:00, 61.54batch/s]\n"
     ]
    },
    {
     "name": "stdout",
     "output_type": "stream",
     "text": [
      "Train Loss: 0.0000\n",
      "Validation Loss: 0.3331\n",
      "Validation Accuracy: 83.95%\n",
      "Epoch 295/500\n"
     ]
    },
    {
     "name": "stderr",
     "output_type": "stream",
     "text": [
      "Training: 100%|██████████| 65/65 [00:03<00:00, 21.48batch/s]\n",
      "Evaluating: 100%|██████████| 19/19 [00:00<00:00, 75.99batch/s]\n"
     ]
    },
    {
     "name": "stdout",
     "output_type": "stream",
     "text": [
      "Train Loss: 0.0000\n",
      "Validation Loss: 0.3322\n",
      "Validation Accuracy: 83.95%\n",
      "Epoch 296/500\n"
     ]
    },
    {
     "name": "stderr",
     "output_type": "stream",
     "text": [
      "Training: 100%|██████████| 65/65 [00:03<00:00, 21.23batch/s]\n",
      "Evaluating: 100%|██████████| 19/19 [00:00<00:00, 75.03batch/s]\n"
     ]
    },
    {
     "name": "stdout",
     "output_type": "stream",
     "text": [
      "Train Loss: 0.0000\n",
      "Validation Loss: 0.3366\n",
      "Validation Accuracy: 84.04%\n",
      "Epoch 297/500\n"
     ]
    },
    {
     "name": "stderr",
     "output_type": "stream",
     "text": [
      "Training: 100%|██████████| 65/65 [00:03<00:00, 21.30batch/s]\n",
      "Evaluating: 100%|██████████| 19/19 [00:00<00:00, 73.39batch/s]\n"
     ]
    },
    {
     "name": "stdout",
     "output_type": "stream",
     "text": [
      "Train Loss: 0.0000\n",
      "Validation Loss: 0.3405\n",
      "Validation Accuracy: 84.04%\n",
      "Epoch 298/500\n"
     ]
    },
    {
     "name": "stderr",
     "output_type": "stream",
     "text": [
      "Training: 100%|██████████| 65/65 [00:03<00:00, 20.88batch/s]\n",
      "Evaluating: 100%|██████████| 19/19 [00:00<00:00, 78.10batch/s]\n"
     ]
    },
    {
     "name": "stdout",
     "output_type": "stream",
     "text": [
      "Train Loss: 0.0000\n",
      "Validation Loss: 0.3447\n",
      "Validation Accuracy: 84.12%\n",
      "Epoch 299/500\n"
     ]
    },
    {
     "name": "stderr",
     "output_type": "stream",
     "text": [
      "Training: 100%|██████████| 65/65 [00:03<00:00, 20.79batch/s]\n",
      "Evaluating: 100%|██████████| 19/19 [00:00<00:00, 70.14batch/s]\n"
     ]
    },
    {
     "name": "stdout",
     "output_type": "stream",
     "text": [
      "Train Loss: 0.0000\n",
      "Validation Loss: 0.3422\n",
      "Validation Accuracy: 84.12%\n",
      "Epoch 300/500\n"
     ]
    },
    {
     "name": "stderr",
     "output_type": "stream",
     "text": [
      "Training: 100%|██████████| 65/65 [00:03<00:00, 21.25batch/s]\n",
      "Evaluating: 100%|██████████| 19/19 [00:00<00:00, 70.95batch/s]\n"
     ]
    },
    {
     "name": "stdout",
     "output_type": "stream",
     "text": [
      "Train Loss: 0.0000\n",
      "Validation Loss: 0.3351\n",
      "Validation Accuracy: 84.04%\n",
      "Epoch 301/500\n"
     ]
    },
    {
     "name": "stderr",
     "output_type": "stream",
     "text": [
      "Training: 100%|██████████| 65/65 [00:03<00:00, 20.79batch/s]\n",
      "Evaluating: 100%|██████████| 19/19 [00:00<00:00, 78.40batch/s]\n"
     ]
    },
    {
     "name": "stdout",
     "output_type": "stream",
     "text": [
      "Train Loss: 0.0000\n",
      "Validation Loss: 0.3384\n",
      "Validation Accuracy: 84.12%\n",
      "Epoch 302/500\n"
     ]
    },
    {
     "name": "stderr",
     "output_type": "stream",
     "text": [
      "Training: 100%|██████████| 65/65 [00:03<00:00, 21.28batch/s]\n",
      "Evaluating: 100%|██████████| 19/19 [00:00<00:00, 68.82batch/s]\n"
     ]
    },
    {
     "name": "stdout",
     "output_type": "stream",
     "text": [
      "Train Loss: 0.0000\n",
      "Validation Loss: 0.3350\n",
      "Validation Accuracy: 83.95%\n",
      "Epoch 303/500\n"
     ]
    },
    {
     "name": "stderr",
     "output_type": "stream",
     "text": [
      "Training: 100%|██████████| 65/65 [00:03<00:00, 21.44batch/s]\n",
      "Evaluating: 100%|██████████| 19/19 [00:00<00:00, 70.99batch/s]\n"
     ]
    },
    {
     "name": "stdout",
     "output_type": "stream",
     "text": [
      "Train Loss: 0.0000\n",
      "Validation Loss: 0.3377\n",
      "Validation Accuracy: 84.04%\n",
      "Epoch 304/500\n"
     ]
    },
    {
     "name": "stderr",
     "output_type": "stream",
     "text": [
      "Training: 100%|██████████| 65/65 [00:03<00:00, 21.62batch/s]\n",
      "Evaluating: 100%|██████████| 19/19 [00:00<00:00, 68.37batch/s]\n"
     ]
    },
    {
     "name": "stdout",
     "output_type": "stream",
     "text": [
      "Train Loss: 0.0000\n",
      "Validation Loss: 0.3464\n",
      "Validation Accuracy: 84.12%\n",
      "Epoch 305/500\n"
     ]
    },
    {
     "name": "stderr",
     "output_type": "stream",
     "text": [
      "Training: 100%|██████████| 65/65 [00:03<00:00, 20.98batch/s]\n",
      "Evaluating: 100%|██████████| 19/19 [00:00<00:00, 76.67batch/s]\n"
     ]
    },
    {
     "name": "stdout",
     "output_type": "stream",
     "text": [
      "Train Loss: 0.0000\n",
      "Validation Loss: 0.3473\n",
      "Validation Accuracy: 84.04%\n",
      "Epoch 306/500\n"
     ]
    },
    {
     "name": "stderr",
     "output_type": "stream",
     "text": [
      "Training: 100%|██████████| 65/65 [00:03<00:00, 20.85batch/s]\n",
      "Evaluating: 100%|██████████| 19/19 [00:00<00:00, 77.66batch/s]\n"
     ]
    },
    {
     "name": "stdout",
     "output_type": "stream",
     "text": [
      "Train Loss: 0.0000\n",
      "Validation Loss: 0.3514\n",
      "Validation Accuracy: 84.12%\n",
      "Epoch 307/500\n"
     ]
    },
    {
     "name": "stderr",
     "output_type": "stream",
     "text": [
      "Training: 100%|██████████| 65/65 [00:03<00:00, 20.65batch/s]\n",
      "Evaluating: 100%|██████████| 19/19 [00:00<00:00, 76.43batch/s]\n"
     ]
    },
    {
     "name": "stdout",
     "output_type": "stream",
     "text": [
      "Train Loss: 0.0000\n",
      "Validation Loss: 0.3436\n",
      "Validation Accuracy: 83.95%\n",
      "Epoch 308/500\n"
     ]
    },
    {
     "name": "stderr",
     "output_type": "stream",
     "text": [
      "Training: 100%|██████████| 65/65 [00:03<00:00, 20.39batch/s]\n",
      "Evaluating: 100%|██████████| 19/19 [00:00<00:00, 71.40batch/s]\n"
     ]
    },
    {
     "name": "stdout",
     "output_type": "stream",
     "text": [
      "Train Loss: 0.0000\n",
      "Validation Loss: 0.3422\n",
      "Validation Accuracy: 84.04%\n",
      "Epoch 309/500\n"
     ]
    },
    {
     "name": "stderr",
     "output_type": "stream",
     "text": [
      "Training: 100%|██████████| 65/65 [00:03<00:00, 20.56batch/s]\n",
      "Evaluating: 100%|██████████| 19/19 [00:00<00:00, 71.14batch/s]\n"
     ]
    },
    {
     "name": "stdout",
     "output_type": "stream",
     "text": [
      "Train Loss: 0.0000\n",
      "Validation Loss: 0.3433\n",
      "Validation Accuracy: 84.04%\n",
      "Epoch 310/500\n"
     ]
    },
    {
     "name": "stderr",
     "output_type": "stream",
     "text": [
      "Training: 100%|██████████| 65/65 [00:03<00:00, 20.44batch/s]\n",
      "Evaluating: 100%|██████████| 19/19 [00:00<00:00, 69.42batch/s]\n"
     ]
    },
    {
     "name": "stdout",
     "output_type": "stream",
     "text": [
      "Train Loss: 0.0000\n",
      "Validation Loss: 0.3571\n",
      "Validation Accuracy: 84.12%\n",
      "Epoch 311/500\n"
     ]
    },
    {
     "name": "stderr",
     "output_type": "stream",
     "text": [
      "Training: 100%|██████████| 65/65 [00:03<00:00, 21.27batch/s]\n",
      "Evaluating: 100%|██████████| 19/19 [00:00<00:00, 74.01batch/s]\n"
     ]
    },
    {
     "name": "stdout",
     "output_type": "stream",
     "text": [
      "Train Loss: 0.0000\n",
      "Validation Loss: 0.3570\n",
      "Validation Accuracy: 84.04%\n",
      "Epoch 312/500\n"
     ]
    },
    {
     "name": "stderr",
     "output_type": "stream",
     "text": [
      "Training: 100%|██████████| 65/65 [00:03<00:00, 20.88batch/s]\n",
      "Evaluating: 100%|██████████| 19/19 [00:00<00:00, 75.17batch/s]\n"
     ]
    },
    {
     "name": "stdout",
     "output_type": "stream",
     "text": [
      "Train Loss: 0.0000\n",
      "Validation Loss: 0.3544\n",
      "Validation Accuracy: 84.04%\n",
      "Epoch 313/500\n"
     ]
    },
    {
     "name": "stderr",
     "output_type": "stream",
     "text": [
      "Training: 100%|██████████| 65/65 [00:02<00:00, 21.83batch/s]\n",
      "Evaluating: 100%|██████████| 19/19 [00:00<00:00, 60.20batch/s]\n"
     ]
    },
    {
     "name": "stdout",
     "output_type": "stream",
     "text": [
      "Train Loss: 0.0000\n",
      "Validation Loss: 0.3556\n",
      "Validation Accuracy: 84.12%\n",
      "Epoch 314/500\n"
     ]
    },
    {
     "name": "stderr",
     "output_type": "stream",
     "text": [
      "Training: 100%|██████████| 65/65 [00:03<00:00, 20.80batch/s]\n",
      "Evaluating: 100%|██████████| 19/19 [00:00<00:00, 80.21batch/s]\n"
     ]
    },
    {
     "name": "stdout",
     "output_type": "stream",
     "text": [
      "Train Loss: 0.0000\n",
      "Validation Loss: 0.3529\n",
      "Validation Accuracy: 83.87%\n",
      "Epoch 315/500\n"
     ]
    },
    {
     "name": "stderr",
     "output_type": "stream",
     "text": [
      "Training: 100%|██████████| 65/65 [00:03<00:00, 20.67batch/s]\n",
      "Evaluating: 100%|██████████| 19/19 [00:00<00:00, 76.24batch/s]\n"
     ]
    },
    {
     "name": "stdout",
     "output_type": "stream",
     "text": [
      "Train Loss: 0.0000\n",
      "Validation Loss: 0.3587\n",
      "Validation Accuracy: 83.78%\n",
      "Epoch 316/500\n"
     ]
    },
    {
     "name": "stderr",
     "output_type": "stream",
     "text": [
      "Training: 100%|██████████| 65/65 [00:03<00:00, 21.04batch/s]\n",
      "Evaluating: 100%|██████████| 19/19 [00:00<00:00, 70.72batch/s]\n"
     ]
    },
    {
     "name": "stdout",
     "output_type": "stream",
     "text": [
      "Train Loss: 0.0000\n",
      "Validation Loss: 0.3616\n",
      "Validation Accuracy: 84.04%\n",
      "Epoch 317/500\n"
     ]
    },
    {
     "name": "stderr",
     "output_type": "stream",
     "text": [
      "Training: 100%|██████████| 65/65 [00:03<00:00, 20.23batch/s]\n",
      "Evaluating: 100%|██████████| 19/19 [00:00<00:00, 75.75batch/s]\n"
     ]
    },
    {
     "name": "stdout",
     "output_type": "stream",
     "text": [
      "Train Loss: 0.0000\n",
      "Validation Loss: 0.3545\n",
      "Validation Accuracy: 83.78%\n",
      "Epoch 318/500\n"
     ]
    },
    {
     "name": "stderr",
     "output_type": "stream",
     "text": [
      "Training: 100%|██████████| 65/65 [00:03<00:00, 21.23batch/s]\n",
      "Evaluating: 100%|██████████| 19/19 [00:00<00:00, 79.05batch/s]\n"
     ]
    },
    {
     "name": "stdout",
     "output_type": "stream",
     "text": [
      "Train Loss: 0.0000\n",
      "Validation Loss: 0.3639\n",
      "Validation Accuracy: 83.87%\n",
      "Epoch 319/500\n"
     ]
    },
    {
     "name": "stderr",
     "output_type": "stream",
     "text": [
      "Training: 100%|██████████| 65/65 [00:03<00:00, 20.98batch/s]\n",
      "Evaluating: 100%|██████████| 19/19 [00:00<00:00, 70.26batch/s]\n"
     ]
    },
    {
     "name": "stdout",
     "output_type": "stream",
     "text": [
      "Train Loss: 0.0000\n",
      "Validation Loss: 0.3610\n",
      "Validation Accuracy: 83.78%\n",
      "Epoch 320/500\n"
     ]
    },
    {
     "name": "stderr",
     "output_type": "stream",
     "text": [
      "Training: 100%|██████████| 65/65 [00:03<00:00, 20.63batch/s]\n",
      "Evaluating: 100%|██████████| 19/19 [00:00<00:00, 79.79batch/s]\n"
     ]
    },
    {
     "name": "stdout",
     "output_type": "stream",
     "text": [
      "Train Loss: 0.0000\n",
      "Validation Loss: 0.3550\n",
      "Validation Accuracy: 83.78%\n",
      "Epoch 321/500\n"
     ]
    },
    {
     "name": "stderr",
     "output_type": "stream",
     "text": [
      "Training: 100%|██████████| 65/65 [00:03<00:00, 20.85batch/s]\n",
      "Evaluating: 100%|██████████| 19/19 [00:00<00:00, 70.97batch/s]\n"
     ]
    },
    {
     "name": "stdout",
     "output_type": "stream",
     "text": [
      "Train Loss: 0.0000\n",
      "Validation Loss: 0.3598\n",
      "Validation Accuracy: 83.87%\n",
      "Epoch 322/500\n"
     ]
    },
    {
     "name": "stderr",
     "output_type": "stream",
     "text": [
      "Training: 100%|██████████| 65/65 [00:03<00:00, 20.90batch/s]\n",
      "Evaluating: 100%|██████████| 19/19 [00:00<00:00, 65.28batch/s]\n"
     ]
    },
    {
     "name": "stdout",
     "output_type": "stream",
     "text": [
      "Train Loss: 0.0000\n",
      "Validation Loss: 0.3691\n",
      "Validation Accuracy: 83.87%\n",
      "Epoch 323/500\n"
     ]
    },
    {
     "name": "stderr",
     "output_type": "stream",
     "text": [
      "Training: 100%|██████████| 65/65 [00:03<00:00, 20.66batch/s]\n",
      "Evaluating: 100%|██████████| 19/19 [00:00<00:00, 68.16batch/s]\n"
     ]
    },
    {
     "name": "stdout",
     "output_type": "stream",
     "text": [
      "Train Loss: 0.0000\n",
      "Validation Loss: 0.3616\n",
      "Validation Accuracy: 83.95%\n",
      "Epoch 324/500\n"
     ]
    },
    {
     "name": "stderr",
     "output_type": "stream",
     "text": [
      "Training: 100%|██████████| 65/65 [00:03<00:00, 21.35batch/s]\n",
      "Evaluating: 100%|██████████| 19/19 [00:00<00:00, 70.96batch/s]\n"
     ]
    },
    {
     "name": "stdout",
     "output_type": "stream",
     "text": [
      "Train Loss: 0.0000\n",
      "Validation Loss: 0.3627\n",
      "Validation Accuracy: 83.87%\n",
      "Epoch 325/500\n"
     ]
    },
    {
     "name": "stderr",
     "output_type": "stream",
     "text": [
      "Training: 100%|██████████| 65/65 [00:03<00:00, 21.23batch/s]\n",
      "Evaluating: 100%|██████████| 19/19 [00:00<00:00, 69.58batch/s]\n"
     ]
    },
    {
     "name": "stdout",
     "output_type": "stream",
     "text": [
      "Train Loss: 0.0000\n",
      "Validation Loss: 0.3602\n",
      "Validation Accuracy: 83.87%\n",
      "Epoch 326/500\n"
     ]
    },
    {
     "name": "stderr",
     "output_type": "stream",
     "text": [
      "Training: 100%|██████████| 65/65 [00:03<00:00, 21.60batch/s]\n",
      "Evaluating: 100%|██████████| 19/19 [00:00<00:00, 73.49batch/s]\n"
     ]
    },
    {
     "name": "stdout",
     "output_type": "stream",
     "text": [
      "Train Loss: 0.0000\n",
      "Validation Loss: 0.3591\n",
      "Validation Accuracy: 83.87%\n",
      "Epoch 327/500\n"
     ]
    },
    {
     "name": "stderr",
     "output_type": "stream",
     "text": [
      "Training: 100%|██████████| 65/65 [00:03<00:00, 20.86batch/s]\n",
      "Evaluating: 100%|██████████| 19/19 [00:00<00:00, 69.67batch/s]\n"
     ]
    },
    {
     "name": "stdout",
     "output_type": "stream",
     "text": [
      "Train Loss: 0.0000\n",
      "Validation Loss: 0.3606\n",
      "Validation Accuracy: 83.95%\n",
      "Epoch 328/500\n"
     ]
    },
    {
     "name": "stderr",
     "output_type": "stream",
     "text": [
      "Training: 100%|██████████| 65/65 [00:03<00:00, 20.70batch/s]\n",
      "Evaluating: 100%|██████████| 19/19 [00:00<00:00, 71.18batch/s]\n"
     ]
    },
    {
     "name": "stdout",
     "output_type": "stream",
     "text": [
      "Train Loss: 0.0000\n",
      "Validation Loss: 0.3798\n",
      "Validation Accuracy: 83.87%\n",
      "Epoch 329/500\n"
     ]
    },
    {
     "name": "stderr",
     "output_type": "stream",
     "text": [
      "Training: 100%|██████████| 65/65 [00:03<00:00, 21.19batch/s]\n",
      "Evaluating: 100%|██████████| 19/19 [00:00<00:00, 67.61batch/s]\n"
     ]
    },
    {
     "name": "stdout",
     "output_type": "stream",
     "text": [
      "Train Loss: 0.0000\n",
      "Validation Loss: 0.3660\n",
      "Validation Accuracy: 83.87%\n",
      "Epoch 330/500\n"
     ]
    },
    {
     "name": "stderr",
     "output_type": "stream",
     "text": [
      "Training: 100%|██████████| 65/65 [00:03<00:00, 20.77batch/s]\n",
      "Evaluating: 100%|██████████| 19/19 [00:00<00:00, 73.78batch/s]\n"
     ]
    },
    {
     "name": "stdout",
     "output_type": "stream",
     "text": [
      "Train Loss: 0.0000\n",
      "Validation Loss: 0.3681\n",
      "Validation Accuracy: 83.95%\n",
      "Epoch 331/500\n"
     ]
    },
    {
     "name": "stderr",
     "output_type": "stream",
     "text": [
      "Training: 100%|██████████| 65/65 [00:03<00:00, 21.27batch/s]\n",
      "Evaluating: 100%|██████████| 19/19 [00:00<00:00, 70.38batch/s]\n"
     ]
    },
    {
     "name": "stdout",
     "output_type": "stream",
     "text": [
      "Train Loss: 0.0000\n",
      "Validation Loss: 0.3703\n",
      "Validation Accuracy: 83.78%\n",
      "Epoch 332/500\n"
     ]
    },
    {
     "name": "stderr",
     "output_type": "stream",
     "text": [
      "Training: 100%|██████████| 65/65 [00:03<00:00, 20.79batch/s]\n",
      "Evaluating: 100%|██████████| 19/19 [00:00<00:00, 55.57batch/s]\n"
     ]
    },
    {
     "name": "stdout",
     "output_type": "stream",
     "text": [
      "Train Loss: 0.0000\n",
      "Validation Loss: 0.3718\n",
      "Validation Accuracy: 83.95%\n",
      "Epoch 333/500\n"
     ]
    },
    {
     "name": "stderr",
     "output_type": "stream",
     "text": [
      "Training: 100%|██████████| 65/65 [00:03<00:00, 21.33batch/s]\n",
      "Evaluating: 100%|██████████| 19/19 [00:00<00:00, 76.58batch/s]\n"
     ]
    },
    {
     "name": "stdout",
     "output_type": "stream",
     "text": [
      "Train Loss: 0.0000\n",
      "Validation Loss: 0.3765\n",
      "Validation Accuracy: 83.61%\n",
      "Epoch 334/500\n"
     ]
    },
    {
     "name": "stderr",
     "output_type": "stream",
     "text": [
      "Training: 100%|██████████| 65/65 [00:03<00:00, 20.73batch/s]\n",
      "Evaluating: 100%|██████████| 19/19 [00:00<00:00, 66.42batch/s]\n"
     ]
    },
    {
     "name": "stdout",
     "output_type": "stream",
     "text": [
      "Train Loss: 0.0000\n",
      "Validation Loss: 0.3747\n",
      "Validation Accuracy: 83.70%\n",
      "Epoch 335/500\n"
     ]
    },
    {
     "name": "stderr",
     "output_type": "stream",
     "text": [
      "Training: 100%|██████████| 65/65 [00:03<00:00, 21.12batch/s]\n",
      "Evaluating: 100%|██████████| 19/19 [00:00<00:00, 71.71batch/s]\n"
     ]
    },
    {
     "name": "stdout",
     "output_type": "stream",
     "text": [
      "Train Loss: 0.0000\n",
      "Validation Loss: 0.3794\n",
      "Validation Accuracy: 83.78%\n",
      "Epoch 336/500\n"
     ]
    },
    {
     "name": "stderr",
     "output_type": "stream",
     "text": [
      "Training: 100%|██████████| 65/65 [00:03<00:00, 20.68batch/s]\n",
      "Evaluating: 100%|██████████| 19/19 [00:00<00:00, 75.04batch/s]\n"
     ]
    },
    {
     "name": "stdout",
     "output_type": "stream",
     "text": [
      "Train Loss: 0.0000\n",
      "Validation Loss: 0.3762\n",
      "Validation Accuracy: 83.78%\n",
      "Epoch 337/500\n"
     ]
    },
    {
     "name": "stderr",
     "output_type": "stream",
     "text": [
      "Training: 100%|██████████| 65/65 [00:03<00:00, 20.55batch/s]\n",
      "Evaluating: 100%|██████████| 19/19 [00:00<00:00, 71.25batch/s]\n"
     ]
    },
    {
     "name": "stdout",
     "output_type": "stream",
     "text": [
      "Train Loss: 0.0000\n",
      "Validation Loss: 0.3784\n",
      "Validation Accuracy: 83.78%\n",
      "Epoch 338/500\n"
     ]
    },
    {
     "name": "stderr",
     "output_type": "stream",
     "text": [
      "Training: 100%|██████████| 65/65 [00:03<00:00, 21.13batch/s]\n",
      "Evaluating: 100%|██████████| 19/19 [00:00<00:00, 73.14batch/s]\n"
     ]
    },
    {
     "name": "stdout",
     "output_type": "stream",
     "text": [
      "Train Loss: 0.0000\n",
      "Validation Loss: 0.3811\n",
      "Validation Accuracy: 83.95%\n",
      "Epoch 339/500\n"
     ]
    },
    {
     "name": "stderr",
     "output_type": "stream",
     "text": [
      "Training: 100%|██████████| 65/65 [00:03<00:00, 20.10batch/s]\n",
      "Evaluating: 100%|██████████| 19/19 [00:00<00:00, 72.58batch/s]\n"
     ]
    },
    {
     "name": "stdout",
     "output_type": "stream",
     "text": [
      "Train Loss: 0.0000\n",
      "Validation Loss: 0.3853\n",
      "Validation Accuracy: 83.61%\n",
      "Epoch 340/500\n"
     ]
    },
    {
     "name": "stderr",
     "output_type": "stream",
     "text": [
      "Training: 100%|██████████| 65/65 [00:03<00:00, 20.90batch/s]\n",
      "Evaluating: 100%|██████████| 19/19 [00:00<00:00, 76.57batch/s]\n"
     ]
    },
    {
     "name": "stdout",
     "output_type": "stream",
     "text": [
      "Train Loss: 0.0000\n",
      "Validation Loss: 0.3775\n",
      "Validation Accuracy: 83.78%\n",
      "Epoch 341/500\n"
     ]
    },
    {
     "name": "stderr",
     "output_type": "stream",
     "text": [
      "Training: 100%|██████████| 65/65 [00:03<00:00, 20.88batch/s]\n",
      "Evaluating: 100%|██████████| 19/19 [00:00<00:00, 73.18batch/s]\n"
     ]
    },
    {
     "name": "stdout",
     "output_type": "stream",
     "text": [
      "Train Loss: 0.0000\n",
      "Validation Loss: 0.3770\n",
      "Validation Accuracy: 83.87%\n",
      "Epoch 342/500\n"
     ]
    },
    {
     "name": "stderr",
     "output_type": "stream",
     "text": [
      "Training: 100%|██████████| 65/65 [00:02<00:00, 22.05batch/s]\n",
      "Evaluating: 100%|██████████| 19/19 [00:00<00:00, 74.92batch/s]\n"
     ]
    },
    {
     "name": "stdout",
     "output_type": "stream",
     "text": [
      "Train Loss: 0.0000\n",
      "Validation Loss: 0.3860\n",
      "Validation Accuracy: 83.87%\n",
      "Epoch 343/500\n"
     ]
    },
    {
     "name": "stderr",
     "output_type": "stream",
     "text": [
      "Training: 100%|██████████| 65/65 [00:03<00:00, 21.47batch/s]\n",
      "Evaluating: 100%|██████████| 19/19 [00:00<00:00, 74.69batch/s]\n"
     ]
    },
    {
     "name": "stdout",
     "output_type": "stream",
     "text": [
      "Train Loss: 0.0000\n",
      "Validation Loss: 0.3895\n",
      "Validation Accuracy: 83.70%\n",
      "Epoch 344/500\n"
     ]
    },
    {
     "name": "stderr",
     "output_type": "stream",
     "text": [
      "Training: 100%|██████████| 65/65 [00:03<00:00, 20.69batch/s]\n",
      "Evaluating: 100%|██████████| 19/19 [00:00<00:00, 74.88batch/s]\n"
     ]
    },
    {
     "name": "stdout",
     "output_type": "stream",
     "text": [
      "Train Loss: 0.0000\n",
      "Validation Loss: 0.3858\n",
      "Validation Accuracy: 83.87%\n",
      "Epoch 345/500\n"
     ]
    },
    {
     "name": "stderr",
     "output_type": "stream",
     "text": [
      "Training: 100%|██████████| 65/65 [00:03<00:00, 21.22batch/s]\n",
      "Evaluating: 100%|██████████| 19/19 [00:00<00:00, 67.14batch/s]\n"
     ]
    },
    {
     "name": "stdout",
     "output_type": "stream",
     "text": [
      "Train Loss: 0.0000\n",
      "Validation Loss: 0.3929\n",
      "Validation Accuracy: 83.53%\n",
      "Epoch 346/500\n"
     ]
    },
    {
     "name": "stderr",
     "output_type": "stream",
     "text": [
      "Training: 100%|██████████| 65/65 [00:03<00:00, 21.08batch/s]\n",
      "Evaluating: 100%|██████████| 19/19 [00:00<00:00, 75.62batch/s]\n"
     ]
    },
    {
     "name": "stdout",
     "output_type": "stream",
     "text": [
      "Train Loss: 0.0000\n",
      "Validation Loss: 0.3939\n",
      "Validation Accuracy: 83.70%\n",
      "Epoch 347/500\n"
     ]
    },
    {
     "name": "stderr",
     "output_type": "stream",
     "text": [
      "Training: 100%|██████████| 65/65 [00:03<00:00, 21.18batch/s]\n",
      "Evaluating: 100%|██████████| 19/19 [00:00<00:00, 68.01batch/s]\n"
     ]
    },
    {
     "name": "stdout",
     "output_type": "stream",
     "text": [
      "Train Loss: 0.0000\n",
      "Validation Loss: 0.3804\n",
      "Validation Accuracy: 83.78%\n",
      "Epoch 348/500\n"
     ]
    },
    {
     "name": "stderr",
     "output_type": "stream",
     "text": [
      "Training: 100%|██████████| 65/65 [00:03<00:00, 21.30batch/s]\n",
      "Evaluating: 100%|██████████| 19/19 [00:00<00:00, 68.62batch/s]\n"
     ]
    },
    {
     "name": "stdout",
     "output_type": "stream",
     "text": [
      "Train Loss: 0.0000\n",
      "Validation Loss: 0.3818\n",
      "Validation Accuracy: 83.87%\n",
      "Epoch 349/500\n"
     ]
    },
    {
     "name": "stderr",
     "output_type": "stream",
     "text": [
      "Training: 100%|██████████| 65/65 [00:03<00:00, 20.36batch/s]\n",
      "Evaluating: 100%|██████████| 19/19 [00:00<00:00, 67.18batch/s]\n"
     ]
    },
    {
     "name": "stdout",
     "output_type": "stream",
     "text": [
      "Train Loss: 0.0000\n",
      "Validation Loss: 0.3914\n",
      "Validation Accuracy: 83.95%\n",
      "Epoch 350/500\n"
     ]
    },
    {
     "name": "stderr",
     "output_type": "stream",
     "text": [
      "Training: 100%|██████████| 65/65 [00:03<00:00, 21.02batch/s]\n",
      "Evaluating: 100%|██████████| 19/19 [00:00<00:00, 76.69batch/s]\n"
     ]
    },
    {
     "name": "stdout",
     "output_type": "stream",
     "text": [
      "Train Loss: 0.0000\n",
      "Validation Loss: 0.3883\n",
      "Validation Accuracy: 83.78%\n",
      "Epoch 351/500\n"
     ]
    },
    {
     "name": "stderr",
     "output_type": "stream",
     "text": [
      "Training: 100%|██████████| 65/65 [00:03<00:00, 21.05batch/s]\n",
      "Evaluating: 100%|██████████| 19/19 [00:00<00:00, 76.80batch/s]\n"
     ]
    },
    {
     "name": "stdout",
     "output_type": "stream",
     "text": [
      "Train Loss: 0.0000\n",
      "Validation Loss: 0.3845\n",
      "Validation Accuracy: 83.87%\n",
      "Epoch 352/500\n"
     ]
    },
    {
     "name": "stderr",
     "output_type": "stream",
     "text": [
      "Training: 100%|██████████| 65/65 [00:03<00:00, 20.42batch/s]\n",
      "Evaluating: 100%|██████████| 19/19 [00:00<00:00, 69.32batch/s]\n"
     ]
    },
    {
     "name": "stdout",
     "output_type": "stream",
     "text": [
      "Train Loss: 0.0000\n",
      "Validation Loss: 0.3936\n",
      "Validation Accuracy: 83.87%\n",
      "Epoch 353/500\n"
     ]
    },
    {
     "name": "stderr",
     "output_type": "stream",
     "text": [
      "Training: 100%|██████████| 65/65 [00:03<00:00, 20.91batch/s]\n",
      "Evaluating: 100%|██████████| 19/19 [00:00<00:00, 77.10batch/s]\n"
     ]
    },
    {
     "name": "stdout",
     "output_type": "stream",
     "text": [
      "Train Loss: 0.0000\n",
      "Validation Loss: 0.3941\n",
      "Validation Accuracy: 84.12%\n",
      "Epoch 354/500\n"
     ]
    },
    {
     "name": "stderr",
     "output_type": "stream",
     "text": [
      "Training: 100%|██████████| 65/65 [00:03<00:00, 21.16batch/s]\n",
      "Evaluating: 100%|██████████| 19/19 [00:00<00:00, 74.59batch/s]\n"
     ]
    },
    {
     "name": "stdout",
     "output_type": "stream",
     "text": [
      "Train Loss: 0.0000\n",
      "Validation Loss: 0.4018\n",
      "Validation Accuracy: 84.04%\n",
      "Epoch 355/500\n"
     ]
    },
    {
     "name": "stderr",
     "output_type": "stream",
     "text": [
      "Training: 100%|██████████| 65/65 [00:03<00:00, 20.88batch/s]\n",
      "Evaluating: 100%|██████████| 19/19 [00:00<00:00, 74.41batch/s]\n"
     ]
    },
    {
     "name": "stdout",
     "output_type": "stream",
     "text": [
      "Train Loss: 0.0000\n",
      "Validation Loss: 0.3950\n",
      "Validation Accuracy: 84.04%\n",
      "Epoch 356/500\n"
     ]
    },
    {
     "name": "stderr",
     "output_type": "stream",
     "text": [
      "Training: 100%|██████████| 65/65 [00:03<00:00, 20.41batch/s]\n",
      "Evaluating: 100%|██████████| 19/19 [00:00<00:00, 74.52batch/s]\n"
     ]
    },
    {
     "name": "stdout",
     "output_type": "stream",
     "text": [
      "Train Loss: 0.0000\n",
      "Validation Loss: 0.3910\n",
      "Validation Accuracy: 84.04%\n",
      "Epoch 357/500\n"
     ]
    },
    {
     "name": "stderr",
     "output_type": "stream",
     "text": [
      "Training: 100%|██████████| 65/65 [00:03<00:00, 21.16batch/s]\n",
      "Evaluating: 100%|██████████| 19/19 [00:00<00:00, 66.33batch/s]\n"
     ]
    },
    {
     "name": "stdout",
     "output_type": "stream",
     "text": [
      "Train Loss: 0.0000\n",
      "Validation Loss: 0.3979\n",
      "Validation Accuracy: 84.04%\n",
      "Epoch 358/500\n"
     ]
    },
    {
     "name": "stderr",
     "output_type": "stream",
     "text": [
      "Training: 100%|██████████| 65/65 [00:03<00:00, 21.03batch/s]\n",
      "Evaluating: 100%|██████████| 19/19 [00:00<00:00, 74.81batch/s]\n"
     ]
    },
    {
     "name": "stdout",
     "output_type": "stream",
     "text": [
      "Train Loss: 0.0000\n",
      "Validation Loss: 0.4091\n",
      "Validation Accuracy: 83.95%\n",
      "Epoch 359/500\n"
     ]
    },
    {
     "name": "stderr",
     "output_type": "stream",
     "text": [
      "Training: 100%|██████████| 65/65 [00:03<00:00, 20.99batch/s]\n",
      "Evaluating: 100%|██████████| 19/19 [00:00<00:00, 73.35batch/s]\n"
     ]
    },
    {
     "name": "stdout",
     "output_type": "stream",
     "text": [
      "Train Loss: 0.0000\n",
      "Validation Loss: 0.4043\n",
      "Validation Accuracy: 83.70%\n",
      "Epoch 360/500\n"
     ]
    },
    {
     "name": "stderr",
     "output_type": "stream",
     "text": [
      "Training: 100%|██████████| 65/65 [00:03<00:00, 21.09batch/s]\n",
      "Evaluating: 100%|██████████| 19/19 [00:00<00:00, 68.76batch/s]\n"
     ]
    },
    {
     "name": "stdout",
     "output_type": "stream",
     "text": [
      "Train Loss: 0.0000\n",
      "Validation Loss: 0.4015\n",
      "Validation Accuracy: 83.87%\n",
      "Epoch 361/500\n"
     ]
    },
    {
     "name": "stderr",
     "output_type": "stream",
     "text": [
      "Training: 100%|██████████| 65/65 [00:03<00:00, 21.18batch/s]\n",
      "Evaluating: 100%|██████████| 19/19 [00:00<00:00, 79.99batch/s]\n"
     ]
    },
    {
     "name": "stdout",
     "output_type": "stream",
     "text": [
      "Train Loss: 0.0000\n",
      "Validation Loss: 0.3980\n",
      "Validation Accuracy: 84.12%\n",
      "Epoch 362/500\n"
     ]
    },
    {
     "name": "stderr",
     "output_type": "stream",
     "text": [
      "Training: 100%|██████████| 65/65 [00:03<00:00, 20.72batch/s]\n",
      "Evaluating: 100%|██████████| 19/19 [00:00<00:00, 73.10batch/s]\n"
     ]
    },
    {
     "name": "stdout",
     "output_type": "stream",
     "text": [
      "Train Loss: 0.0000\n",
      "Validation Loss: 0.4005\n",
      "Validation Accuracy: 84.04%\n",
      "Epoch 363/500\n"
     ]
    },
    {
     "name": "stderr",
     "output_type": "stream",
     "text": [
      "Training: 100%|██████████| 65/65 [00:03<00:00, 20.94batch/s]\n",
      "Evaluating: 100%|██████████| 19/19 [00:00<00:00, 73.41batch/s]\n"
     ]
    },
    {
     "name": "stdout",
     "output_type": "stream",
     "text": [
      "Train Loss: 0.0000\n",
      "Validation Loss: 0.3998\n",
      "Validation Accuracy: 83.95%\n",
      "Epoch 364/500\n"
     ]
    },
    {
     "name": "stderr",
     "output_type": "stream",
     "text": [
      "Training: 100%|██████████| 65/65 [00:03<00:00, 20.99batch/s]\n",
      "Evaluating: 100%|██████████| 19/19 [00:00<00:00, 65.98batch/s]\n"
     ]
    },
    {
     "name": "stdout",
     "output_type": "stream",
     "text": [
      "Train Loss: 0.0000\n",
      "Validation Loss: 0.4024\n",
      "Validation Accuracy: 83.87%\n",
      "Epoch 365/500\n"
     ]
    },
    {
     "name": "stderr",
     "output_type": "stream",
     "text": [
      "Training: 100%|██████████| 65/65 [00:03<00:00, 21.25batch/s]\n",
      "Evaluating: 100%|██████████| 19/19 [00:00<00:00, 75.85batch/s]\n"
     ]
    },
    {
     "name": "stdout",
     "output_type": "stream",
     "text": [
      "Train Loss: 0.0000\n",
      "Validation Loss: 0.3988\n",
      "Validation Accuracy: 83.95%\n",
      "Epoch 366/500\n"
     ]
    },
    {
     "name": "stderr",
     "output_type": "stream",
     "text": [
      "Training: 100%|██████████| 65/65 [00:03<00:00, 20.86batch/s]\n",
      "Evaluating: 100%|██████████| 19/19 [00:00<00:00, 68.03batch/s]\n"
     ]
    },
    {
     "name": "stdout",
     "output_type": "stream",
     "text": [
      "Train Loss: 0.0000\n",
      "Validation Loss: 0.4049\n",
      "Validation Accuracy: 83.87%\n",
      "Epoch 367/500\n"
     ]
    },
    {
     "name": "stderr",
     "output_type": "stream",
     "text": [
      "Training: 100%|██████████| 65/65 [00:03<00:00, 21.18batch/s]\n",
      "Evaluating: 100%|██████████| 19/19 [00:00<00:00, 74.51batch/s]\n"
     ]
    },
    {
     "name": "stdout",
     "output_type": "stream",
     "text": [
      "Train Loss: 0.0000\n",
      "Validation Loss: 0.3994\n",
      "Validation Accuracy: 83.70%\n",
      "Epoch 368/500\n"
     ]
    },
    {
     "name": "stderr",
     "output_type": "stream",
     "text": [
      "Training: 100%|██████████| 65/65 [00:03<00:00, 20.11batch/s]\n",
      "Evaluating: 100%|██████████| 19/19 [00:00<00:00, 63.93batch/s]\n"
     ]
    },
    {
     "name": "stdout",
     "output_type": "stream",
     "text": [
      "Train Loss: 0.0000\n",
      "Validation Loss: 0.4088\n",
      "Validation Accuracy: 83.70%\n",
      "Epoch 369/500\n"
     ]
    },
    {
     "name": "stderr",
     "output_type": "stream",
     "text": [
      "Training: 100%|██████████| 65/65 [00:03<00:00, 20.47batch/s]\n",
      "Evaluating: 100%|██████████| 19/19 [00:00<00:00, 75.96batch/s]\n"
     ]
    },
    {
     "name": "stdout",
     "output_type": "stream",
     "text": [
      "Train Loss: 0.0000\n",
      "Validation Loss: 0.4083\n",
      "Validation Accuracy: 83.87%\n",
      "Epoch 370/500\n"
     ]
    },
    {
     "name": "stderr",
     "output_type": "stream",
     "text": [
      "Training: 100%|██████████| 65/65 [00:03<00:00, 20.84batch/s]\n",
      "Evaluating: 100%|██████████| 19/19 [00:00<00:00, 74.00batch/s]\n"
     ]
    },
    {
     "name": "stdout",
     "output_type": "stream",
     "text": [
      "Train Loss: 0.0000\n",
      "Validation Loss: 0.4190\n",
      "Validation Accuracy: 83.70%\n",
      "Epoch 371/500\n"
     ]
    },
    {
     "name": "stderr",
     "output_type": "stream",
     "text": [
      "Training: 100%|██████████| 65/65 [00:03<00:00, 20.88batch/s]\n",
      "Evaluating: 100%|██████████| 19/19 [00:00<00:00, 80.09batch/s]\n"
     ]
    },
    {
     "name": "stdout",
     "output_type": "stream",
     "text": [
      "Train Loss: 0.0000\n",
      "Validation Loss: 0.4210\n",
      "Validation Accuracy: 83.87%\n",
      "Epoch 372/500\n"
     ]
    },
    {
     "name": "stderr",
     "output_type": "stream",
     "text": [
      "Training: 100%|██████████| 65/65 [00:03<00:00, 20.73batch/s]\n",
      "Evaluating: 100%|██████████| 19/19 [00:00<00:00, 76.53batch/s]\n"
     ]
    },
    {
     "name": "stdout",
     "output_type": "stream",
     "text": [
      "Train Loss: 0.0000\n",
      "Validation Loss: 0.4169\n",
      "Validation Accuracy: 83.61%\n",
      "Epoch 373/500\n"
     ]
    },
    {
     "name": "stderr",
     "output_type": "stream",
     "text": [
      "Training: 100%|██████████| 65/65 [00:03<00:00, 21.16batch/s]\n",
      "Evaluating: 100%|██████████| 19/19 [00:00<00:00, 70.72batch/s]\n"
     ]
    },
    {
     "name": "stdout",
     "output_type": "stream",
     "text": [
      "Train Loss: 0.0000\n",
      "Validation Loss: 0.4091\n",
      "Validation Accuracy: 83.70%\n",
      "Epoch 374/500\n"
     ]
    },
    {
     "name": "stderr",
     "output_type": "stream",
     "text": [
      "Training: 100%|██████████| 65/65 [00:03<00:00, 21.29batch/s]\n",
      "Evaluating: 100%|██████████| 19/19 [00:00<00:00, 76.07batch/s]\n"
     ]
    },
    {
     "name": "stdout",
     "output_type": "stream",
     "text": [
      "Train Loss: 0.0000\n",
      "Validation Loss: 0.4125\n",
      "Validation Accuracy: 83.78%\n",
      "Epoch 375/500\n"
     ]
    },
    {
     "name": "stderr",
     "output_type": "stream",
     "text": [
      "Training: 100%|██████████| 65/65 [00:03<00:00, 20.20batch/s]\n",
      "Evaluating: 100%|██████████| 19/19 [00:00<00:00, 69.58batch/s]\n"
     ]
    },
    {
     "name": "stdout",
     "output_type": "stream",
     "text": [
      "Train Loss: 0.0000\n",
      "Validation Loss: 0.4207\n",
      "Validation Accuracy: 83.70%\n",
      "Epoch 376/500\n"
     ]
    },
    {
     "name": "stderr",
     "output_type": "stream",
     "text": [
      "Training: 100%|██████████| 65/65 [00:03<00:00, 21.18batch/s]\n",
      "Evaluating: 100%|██████████| 19/19 [00:00<00:00, 74.02batch/s]\n"
     ]
    },
    {
     "name": "stdout",
     "output_type": "stream",
     "text": [
      "Train Loss: 0.0000\n",
      "Validation Loss: 0.4180\n",
      "Validation Accuracy: 83.61%\n",
      "Epoch 377/500\n"
     ]
    },
    {
     "name": "stderr",
     "output_type": "stream",
     "text": [
      "Training: 100%|██████████| 65/65 [00:03<00:00, 21.17batch/s]\n",
      "Evaluating: 100%|██████████| 19/19 [00:00<00:00, 77.32batch/s]\n"
     ]
    },
    {
     "name": "stdout",
     "output_type": "stream",
     "text": [
      "Train Loss: 0.0000\n",
      "Validation Loss: 0.4299\n",
      "Validation Accuracy: 83.78%\n",
      "Epoch 378/500\n"
     ]
    },
    {
     "name": "stderr",
     "output_type": "stream",
     "text": [
      "Training: 100%|██████████| 65/65 [00:02<00:00, 21.68batch/s]\n",
      "Evaluating: 100%|██████████| 19/19 [00:00<00:00, 70.93batch/s]\n"
     ]
    },
    {
     "name": "stdout",
     "output_type": "stream",
     "text": [
      "Train Loss: 0.0000\n",
      "Validation Loss: 0.4133\n",
      "Validation Accuracy: 83.78%\n",
      "Epoch 379/500\n"
     ]
    },
    {
     "name": "stderr",
     "output_type": "stream",
     "text": [
      "Training: 100%|██████████| 65/65 [00:03<00:00, 21.01batch/s]\n",
      "Evaluating: 100%|██████████| 19/19 [00:00<00:00, 76.80batch/s]\n"
     ]
    },
    {
     "name": "stdout",
     "output_type": "stream",
     "text": [
      "Train Loss: 0.0000\n",
      "Validation Loss: 0.4219\n",
      "Validation Accuracy: 83.78%\n",
      "Epoch 380/500\n"
     ]
    },
    {
     "name": "stderr",
     "output_type": "stream",
     "text": [
      "Training: 100%|██████████| 65/65 [00:03<00:00, 21.25batch/s]\n",
      "Evaluating: 100%|██████████| 19/19 [00:00<00:00, 75.87batch/s]\n"
     ]
    },
    {
     "name": "stdout",
     "output_type": "stream",
     "text": [
      "Train Loss: 0.0000\n",
      "Validation Loss: 0.4170\n",
      "Validation Accuracy: 83.61%\n",
      "Epoch 381/500\n"
     ]
    },
    {
     "name": "stderr",
     "output_type": "stream",
     "text": [
      "Training: 100%|██████████| 65/65 [00:03<00:00, 20.47batch/s]\n",
      "Evaluating: 100%|██████████| 19/19 [00:00<00:00, 67.35batch/s]\n"
     ]
    },
    {
     "name": "stdout",
     "output_type": "stream",
     "text": [
      "Train Loss: 0.0000\n",
      "Validation Loss: 0.4166\n",
      "Validation Accuracy: 83.70%\n",
      "Epoch 382/500\n"
     ]
    },
    {
     "name": "stderr",
     "output_type": "stream",
     "text": [
      "Training: 100%|██████████| 65/65 [00:03<00:00, 21.11batch/s]\n",
      "Evaluating: 100%|██████████| 19/19 [00:00<00:00, 76.04batch/s]\n"
     ]
    },
    {
     "name": "stdout",
     "output_type": "stream",
     "text": [
      "Train Loss: 0.0000\n",
      "Validation Loss: 0.4263\n",
      "Validation Accuracy: 83.87%\n",
      "Epoch 383/500\n"
     ]
    },
    {
     "name": "stderr",
     "output_type": "stream",
     "text": [
      "Training: 100%|██████████| 65/65 [00:03<00:00, 20.87batch/s]\n",
      "Evaluating: 100%|██████████| 19/19 [00:00<00:00, 76.17batch/s]\n"
     ]
    },
    {
     "name": "stdout",
     "output_type": "stream",
     "text": [
      "Train Loss: 0.0000\n",
      "Validation Loss: 0.4216\n",
      "Validation Accuracy: 83.87%\n",
      "Epoch 384/500\n"
     ]
    },
    {
     "name": "stderr",
     "output_type": "stream",
     "text": [
      "Training: 100%|██████████| 65/65 [00:03<00:00, 20.53batch/s]\n",
      "Evaluating: 100%|██████████| 19/19 [00:00<00:00, 72.33batch/s]\n"
     ]
    },
    {
     "name": "stdout",
     "output_type": "stream",
     "text": [
      "Train Loss: 0.0000\n",
      "Validation Loss: 0.4235\n",
      "Validation Accuracy: 83.70%\n",
      "Epoch 385/500\n"
     ]
    },
    {
     "name": "stderr",
     "output_type": "stream",
     "text": [
      "Training: 100%|██████████| 65/65 [00:03<00:00, 20.80batch/s]\n",
      "Evaluating: 100%|██████████| 19/19 [00:00<00:00, 68.17batch/s]\n"
     ]
    },
    {
     "name": "stdout",
     "output_type": "stream",
     "text": [
      "Train Loss: 0.0000\n",
      "Validation Loss: 0.4281\n",
      "Validation Accuracy: 83.70%\n",
      "Epoch 386/500\n"
     ]
    },
    {
     "name": "stderr",
     "output_type": "stream",
     "text": [
      "Training: 100%|██████████| 65/65 [00:03<00:00, 21.22batch/s]\n",
      "Evaluating: 100%|██████████| 19/19 [00:00<00:00, 75.51batch/s]\n"
     ]
    },
    {
     "name": "stdout",
     "output_type": "stream",
     "text": [
      "Train Loss: 0.0000\n",
      "Validation Loss: 0.4202\n",
      "Validation Accuracy: 83.95%\n",
      "Epoch 387/500\n"
     ]
    },
    {
     "name": "stderr",
     "output_type": "stream",
     "text": [
      "Training: 100%|██████████| 65/65 [00:03<00:00, 20.62batch/s]\n",
      "Evaluating: 100%|██████████| 19/19 [00:00<00:00, 73.24batch/s]\n"
     ]
    },
    {
     "name": "stdout",
     "output_type": "stream",
     "text": [
      "Train Loss: 0.0000\n",
      "Validation Loss: 0.4345\n",
      "Validation Accuracy: 83.78%\n",
      "Epoch 388/500\n"
     ]
    },
    {
     "name": "stderr",
     "output_type": "stream",
     "text": [
      "Training: 100%|██████████| 65/65 [00:03<00:00, 20.63batch/s]\n",
      "Evaluating: 100%|██████████| 19/19 [00:00<00:00, 68.38batch/s]\n"
     ]
    },
    {
     "name": "stdout",
     "output_type": "stream",
     "text": [
      "Train Loss: 0.0000\n",
      "Validation Loss: 0.4236\n",
      "Validation Accuracy: 83.78%\n",
      "Epoch 389/500\n"
     ]
    },
    {
     "name": "stderr",
     "output_type": "stream",
     "text": [
      "Training: 100%|██████████| 65/65 [00:03<00:00, 20.84batch/s]\n",
      "Evaluating: 100%|██████████| 19/19 [00:00<00:00, 64.25batch/s]\n"
     ]
    },
    {
     "name": "stdout",
     "output_type": "stream",
     "text": [
      "Train Loss: 0.0000\n",
      "Validation Loss: 0.4265\n",
      "Validation Accuracy: 83.78%\n",
      "Epoch 390/500\n"
     ]
    },
    {
     "name": "stderr",
     "output_type": "stream",
     "text": [
      "Training: 100%|██████████| 65/65 [00:03<00:00, 21.19batch/s]\n",
      "Evaluating: 100%|██████████| 19/19 [00:00<00:00, 70.63batch/s]\n"
     ]
    },
    {
     "name": "stdout",
     "output_type": "stream",
     "text": [
      "Train Loss: 0.0000\n",
      "Validation Loss: 0.4351\n",
      "Validation Accuracy: 83.87%\n",
      "Epoch 391/500\n"
     ]
    },
    {
     "name": "stderr",
     "output_type": "stream",
     "text": [
      "Training: 100%|██████████| 65/65 [00:03<00:00, 20.62batch/s]\n",
      "Evaluating: 100%|██████████| 19/19 [00:00<00:00, 70.65batch/s]\n"
     ]
    },
    {
     "name": "stdout",
     "output_type": "stream",
     "text": [
      "Train Loss: 0.0000\n",
      "Validation Loss: 0.4352\n",
      "Validation Accuracy: 83.78%\n",
      "Epoch 392/500\n"
     ]
    },
    {
     "name": "stderr",
     "output_type": "stream",
     "text": [
      "Training: 100%|██████████| 65/65 [00:03<00:00, 21.45batch/s]\n",
      "Evaluating: 100%|██████████| 19/19 [00:00<00:00, 70.54batch/s]\n"
     ]
    },
    {
     "name": "stdout",
     "output_type": "stream",
     "text": [
      "Train Loss: 0.0000\n",
      "Validation Loss: 0.4383\n",
      "Validation Accuracy: 83.61%\n",
      "Epoch 393/500\n"
     ]
    },
    {
     "name": "stderr",
     "output_type": "stream",
     "text": [
      "Training: 100%|██████████| 65/65 [00:03<00:00, 21.12batch/s]\n",
      "Evaluating: 100%|██████████| 19/19 [00:00<00:00, 69.02batch/s]\n"
     ]
    },
    {
     "name": "stdout",
     "output_type": "stream",
     "text": [
      "Train Loss: 0.0000\n",
      "Validation Loss: 0.4415\n",
      "Validation Accuracy: 83.78%\n",
      "Epoch 394/500\n"
     ]
    },
    {
     "name": "stderr",
     "output_type": "stream",
     "text": [
      "Training: 100%|██████████| 65/65 [00:03<00:00, 20.38batch/s]\n",
      "Evaluating: 100%|██████████| 19/19 [00:00<00:00, 81.40batch/s]\n"
     ]
    },
    {
     "name": "stdout",
     "output_type": "stream",
     "text": [
      "Train Loss: 0.0000\n",
      "Validation Loss: 0.4413\n",
      "Validation Accuracy: 83.70%\n",
      "Epoch 395/500\n"
     ]
    },
    {
     "name": "stderr",
     "output_type": "stream",
     "text": [
      "Training: 100%|██████████| 65/65 [00:03<00:00, 21.27batch/s]\n",
      "Evaluating: 100%|██████████| 19/19 [00:00<00:00, 64.85batch/s]\n"
     ]
    },
    {
     "name": "stdout",
     "output_type": "stream",
     "text": [
      "Train Loss: 0.0000\n",
      "Validation Loss: 0.4553\n",
      "Validation Accuracy: 83.78%\n",
      "Epoch 396/500\n"
     ]
    },
    {
     "name": "stderr",
     "output_type": "stream",
     "text": [
      "Training: 100%|██████████| 65/65 [00:03<00:00, 21.23batch/s]\n",
      "Evaluating: 100%|██████████| 19/19 [00:00<00:00, 72.92batch/s]\n"
     ]
    },
    {
     "name": "stdout",
     "output_type": "stream",
     "text": [
      "Train Loss: 0.0000\n",
      "Validation Loss: 0.4360\n",
      "Validation Accuracy: 83.87%\n",
      "Epoch 397/500\n"
     ]
    },
    {
     "name": "stderr",
     "output_type": "stream",
     "text": [
      "Training: 100%|██████████| 65/65 [00:03<00:00, 20.80batch/s]\n",
      "Evaluating: 100%|██████████| 19/19 [00:00<00:00, 68.94batch/s]\n"
     ]
    },
    {
     "name": "stdout",
     "output_type": "stream",
     "text": [
      "Train Loss: 0.0000\n",
      "Validation Loss: 0.4335\n",
      "Validation Accuracy: 83.61%\n",
      "Epoch 398/500\n"
     ]
    },
    {
     "name": "stderr",
     "output_type": "stream",
     "text": [
      "Training: 100%|██████████| 65/65 [00:03<00:00, 20.91batch/s]\n",
      "Evaluating: 100%|██████████| 19/19 [00:00<00:00, 63.88batch/s]\n"
     ]
    },
    {
     "name": "stdout",
     "output_type": "stream",
     "text": [
      "Train Loss: 0.0000\n",
      "Validation Loss: 0.4448\n",
      "Validation Accuracy: 83.78%\n",
      "Epoch 399/500\n"
     ]
    },
    {
     "name": "stderr",
     "output_type": "stream",
     "text": [
      "Training: 100%|██████████| 65/65 [00:03<00:00, 20.77batch/s]\n",
      "Evaluating: 100%|██████████| 19/19 [00:00<00:00, 78.97batch/s]\n"
     ]
    },
    {
     "name": "stdout",
     "output_type": "stream",
     "text": [
      "Train Loss: 0.0000\n",
      "Validation Loss: 0.4432\n",
      "Validation Accuracy: 83.53%\n",
      "Epoch 400/500\n"
     ]
    },
    {
     "name": "stderr",
     "output_type": "stream",
     "text": [
      "Training: 100%|██████████| 65/65 [00:03<00:00, 21.00batch/s]\n",
      "Evaluating: 100%|██████████| 19/19 [00:00<00:00, 76.85batch/s]\n"
     ]
    },
    {
     "name": "stdout",
     "output_type": "stream",
     "text": [
      "Train Loss: 0.0000\n",
      "Validation Loss: 0.4471\n",
      "Validation Accuracy: 83.78%\n",
      "Epoch 401/500\n"
     ]
    },
    {
     "name": "stderr",
     "output_type": "stream",
     "text": [
      "Training: 100%|██████████| 65/65 [00:03<00:00, 21.50batch/s]\n",
      "Evaluating: 100%|██████████| 19/19 [00:00<00:00, 75.97batch/s]\n"
     ]
    },
    {
     "name": "stdout",
     "output_type": "stream",
     "text": [
      "Train Loss: 0.0000\n",
      "Validation Loss: 0.4410\n",
      "Validation Accuracy: 83.70%\n",
      "Epoch 402/500\n"
     ]
    },
    {
     "name": "stderr",
     "output_type": "stream",
     "text": [
      "Training: 100%|██████████| 65/65 [00:03<00:00, 20.93batch/s]\n",
      "Evaluating: 100%|██████████| 19/19 [00:00<00:00, 73.11batch/s]\n"
     ]
    },
    {
     "name": "stdout",
     "output_type": "stream",
     "text": [
      "Train Loss: 0.0000\n",
      "Validation Loss: 0.4436\n",
      "Validation Accuracy: 83.78%\n",
      "Epoch 403/500\n"
     ]
    },
    {
     "name": "stderr",
     "output_type": "stream",
     "text": [
      "Training: 100%|██████████| 65/65 [00:03<00:00, 20.66batch/s]\n",
      "Evaluating: 100%|██████████| 19/19 [00:00<00:00, 73.28batch/s]\n"
     ]
    },
    {
     "name": "stdout",
     "output_type": "stream",
     "text": [
      "Train Loss: 0.0000\n",
      "Validation Loss: 0.4430\n",
      "Validation Accuracy: 83.70%\n",
      "Epoch 404/500\n"
     ]
    },
    {
     "name": "stderr",
     "output_type": "stream",
     "text": [
      "Training: 100%|██████████| 65/65 [00:03<00:00, 21.28batch/s]\n",
      "Evaluating: 100%|██████████| 19/19 [00:00<00:00, 65.81batch/s]\n"
     ]
    },
    {
     "name": "stdout",
     "output_type": "stream",
     "text": [
      "Train Loss: 0.0000\n",
      "Validation Loss: 0.4450\n",
      "Validation Accuracy: 83.53%\n",
      "Epoch 405/500\n"
     ]
    },
    {
     "name": "stderr",
     "output_type": "stream",
     "text": [
      "Training: 100%|██████████| 65/65 [00:03<00:00, 21.15batch/s]\n",
      "Evaluating: 100%|██████████| 19/19 [00:00<00:00, 77.04batch/s]\n"
     ]
    },
    {
     "name": "stdout",
     "output_type": "stream",
     "text": [
      "Train Loss: 0.0000\n",
      "Validation Loss: 0.4457\n",
      "Validation Accuracy: 83.78%\n",
      "Epoch 406/500\n"
     ]
    },
    {
     "name": "stderr",
     "output_type": "stream",
     "text": [
      "Training: 100%|██████████| 65/65 [00:03<00:00, 20.88batch/s]\n",
      "Evaluating: 100%|██████████| 19/19 [00:00<00:00, 75.19batch/s]\n"
     ]
    },
    {
     "name": "stdout",
     "output_type": "stream",
     "text": [
      "Train Loss: 0.0000\n",
      "Validation Loss: 0.4473\n",
      "Validation Accuracy: 83.61%\n",
      "Epoch 407/500\n"
     ]
    },
    {
     "name": "stderr",
     "output_type": "stream",
     "text": [
      "Training: 100%|██████████| 65/65 [00:03<00:00, 20.42batch/s]\n",
      "Evaluating: 100%|██████████| 19/19 [00:00<00:00, 73.78batch/s]\n"
     ]
    },
    {
     "name": "stdout",
     "output_type": "stream",
     "text": [
      "Train Loss: 0.0000\n",
      "Validation Loss: 0.4513\n",
      "Validation Accuracy: 83.78%\n",
      "Epoch 408/500\n"
     ]
    },
    {
     "name": "stderr",
     "output_type": "stream",
     "text": [
      "Training: 100%|██████████| 65/65 [00:03<00:00, 21.28batch/s]\n",
      "Evaluating: 100%|██████████| 19/19 [00:00<00:00, 70.68batch/s]\n"
     ]
    },
    {
     "name": "stdout",
     "output_type": "stream",
     "text": [
      "Train Loss: 0.0000\n",
      "Validation Loss: 0.4412\n",
      "Validation Accuracy: 83.78%\n",
      "Epoch 409/500\n"
     ]
    },
    {
     "name": "stderr",
     "output_type": "stream",
     "text": [
      "Training: 100%|██████████| 65/65 [00:03<00:00, 20.84batch/s]\n",
      "Evaluating: 100%|██████████| 19/19 [00:00<00:00, 73.20batch/s]\n"
     ]
    },
    {
     "name": "stdout",
     "output_type": "stream",
     "text": [
      "Train Loss: 0.0000\n",
      "Validation Loss: 0.4475\n",
      "Validation Accuracy: 83.45%\n",
      "Epoch 410/500\n"
     ]
    },
    {
     "name": "stderr",
     "output_type": "stream",
     "text": [
      "Training: 100%|██████████| 65/65 [00:03<00:00, 21.01batch/s]\n",
      "Evaluating: 100%|██████████| 19/19 [00:00<00:00, 71.02batch/s]\n"
     ]
    },
    {
     "name": "stdout",
     "output_type": "stream",
     "text": [
      "Train Loss: 0.0000\n",
      "Validation Loss: 0.4626\n",
      "Validation Accuracy: 83.70%\n",
      "Epoch 411/500\n"
     ]
    },
    {
     "name": "stderr",
     "output_type": "stream",
     "text": [
      "Training: 100%|██████████| 65/65 [00:03<00:00, 20.91batch/s]\n",
      "Evaluating: 100%|██████████| 19/19 [00:00<00:00, 67.62batch/s]\n"
     ]
    },
    {
     "name": "stdout",
     "output_type": "stream",
     "text": [
      "Train Loss: 0.0000\n",
      "Validation Loss: 0.4431\n",
      "Validation Accuracy: 83.78%\n",
      "Epoch 412/500\n"
     ]
    },
    {
     "name": "stderr",
     "output_type": "stream",
     "text": [
      "Training: 100%|██████████| 65/65 [00:03<00:00, 21.18batch/s]\n",
      "Evaluating: 100%|██████████| 19/19 [00:00<00:00, 71.47batch/s]\n"
     ]
    },
    {
     "name": "stdout",
     "output_type": "stream",
     "text": [
      "Train Loss: 0.1695\n",
      "Validation Loss: 0.1551\n",
      "Validation Accuracy: 53.21%\n",
      "Epoch 413/500\n"
     ]
    },
    {
     "name": "stderr",
     "output_type": "stream",
     "text": [
      "Training: 100%|██████████| 65/65 [00:03<00:00, 20.79batch/s]\n",
      "Evaluating: 100%|██████████| 19/19 [00:00<00:00, 75.16batch/s]\n"
     ]
    },
    {
     "name": "stdout",
     "output_type": "stream",
     "text": [
      "Train Loss: 0.1223\n",
      "Validation Loss: 0.1187\n",
      "Validation Accuracy: 65.71%\n",
      "Epoch 414/500\n"
     ]
    },
    {
     "name": "stderr",
     "output_type": "stream",
     "text": [
      "Training: 100%|██████████| 65/65 [00:03<00:00, 21.01batch/s]\n",
      "Evaluating: 100%|██████████| 19/19 [00:00<00:00, 73.43batch/s]\n"
     ]
    },
    {
     "name": "stdout",
     "output_type": "stream",
     "text": [
      "Train Loss: 0.0866\n",
      "Validation Loss: 0.1000\n",
      "Validation Accuracy: 75.08%\n",
      "Epoch 415/500\n"
     ]
    },
    {
     "name": "stderr",
     "output_type": "stream",
     "text": [
      "Training: 100%|██████████| 65/65 [00:03<00:00, 20.83batch/s]\n",
      "Evaluating: 100%|██████████| 19/19 [00:00<00:00, 71.49batch/s]\n"
     ]
    },
    {
     "name": "stdout",
     "output_type": "stream",
     "text": [
      "Train Loss: 0.0646\n",
      "Validation Loss: 0.0942\n",
      "Validation Accuracy: 77.53%\n",
      "Epoch 416/500\n"
     ]
    },
    {
     "name": "stderr",
     "output_type": "stream",
     "text": [
      "Training: 100%|██████████| 65/65 [00:03<00:00, 21.17batch/s]\n",
      "Evaluating: 100%|██████████| 19/19 [00:00<00:00, 75.15batch/s]\n"
     ]
    },
    {
     "name": "stdout",
     "output_type": "stream",
     "text": [
      "Train Loss: 0.0503\n",
      "Validation Loss: 0.1051\n",
      "Validation Accuracy: 76.86%\n",
      "Epoch 417/500\n"
     ]
    },
    {
     "name": "stderr",
     "output_type": "stream",
     "text": [
      "Training: 100%|██████████| 65/65 [00:03<00:00, 20.63batch/s]\n",
      "Evaluating: 100%|██████████| 19/19 [00:00<00:00, 73.13batch/s]\n"
     ]
    },
    {
     "name": "stdout",
     "output_type": "stream",
     "text": [
      "Train Loss: 0.0405\n",
      "Validation Loss: 0.0889\n",
      "Validation Accuracy: 82.18%\n",
      "Epoch 418/500\n"
     ]
    },
    {
     "name": "stderr",
     "output_type": "stream",
     "text": [
      "Training: 100%|██████████| 65/65 [00:03<00:00, 20.71batch/s]\n",
      "Evaluating: 100%|██████████| 19/19 [00:00<00:00, 72.97batch/s]\n"
     ]
    },
    {
     "name": "stdout",
     "output_type": "stream",
     "text": [
      "Train Loss: 0.0317\n",
      "Validation Loss: 0.1040\n",
      "Validation Accuracy: 79.90%\n",
      "Epoch 419/500\n"
     ]
    },
    {
     "name": "stderr",
     "output_type": "stream",
     "text": [
      "Training: 100%|██████████| 65/65 [00:03<00:00, 21.32batch/s]\n",
      "Evaluating: 100%|██████████| 19/19 [00:00<00:00, 63.33batch/s]\n"
     ]
    },
    {
     "name": "stdout",
     "output_type": "stream",
     "text": [
      "Train Loss: 0.0282\n",
      "Validation Loss: 0.1072\n",
      "Validation Accuracy: 80.83%\n",
      "Epoch 420/500\n"
     ]
    },
    {
     "name": "stderr",
     "output_type": "stream",
     "text": [
      "Training: 100%|██████████| 65/65 [00:03<00:00, 21.23batch/s]\n",
      "Evaluating: 100%|██████████| 19/19 [00:00<00:00, 73.33batch/s]\n"
     ]
    },
    {
     "name": "stdout",
     "output_type": "stream",
     "text": [
      "Train Loss: 0.0255\n",
      "Validation Loss: 0.1099\n",
      "Validation Accuracy: 81.76%\n",
      "Epoch 421/500\n"
     ]
    },
    {
     "name": "stderr",
     "output_type": "stream",
     "text": [
      "Training: 100%|██████████| 65/65 [00:03<00:00, 20.47batch/s]\n",
      "Evaluating: 100%|██████████| 19/19 [00:00<00:00, 70.62batch/s]\n"
     ]
    },
    {
     "name": "stdout",
     "output_type": "stream",
     "text": [
      "Train Loss: 0.0182\n",
      "Validation Loss: 0.1090\n",
      "Validation Accuracy: 82.09%\n",
      "Epoch 422/500\n"
     ]
    },
    {
     "name": "stderr",
     "output_type": "stream",
     "text": [
      "Training: 100%|██████████| 65/65 [00:03<00:00, 21.22batch/s]\n",
      "Evaluating: 100%|██████████| 19/19 [00:00<00:00, 72.80batch/s]\n"
     ]
    },
    {
     "name": "stdout",
     "output_type": "stream",
     "text": [
      "Train Loss: 0.0149\n",
      "Validation Loss: 0.1214\n",
      "Validation Accuracy: 81.76%\n",
      "Epoch 423/500\n"
     ]
    },
    {
     "name": "stderr",
     "output_type": "stream",
     "text": [
      "Training: 100%|██████████| 65/65 [00:03<00:00, 21.31batch/s]\n",
      "Evaluating: 100%|██████████| 19/19 [00:00<00:00, 74.79batch/s]\n"
     ]
    },
    {
     "name": "stdout",
     "output_type": "stream",
     "text": [
      "Train Loss: 0.0154\n",
      "Validation Loss: 0.1302\n",
      "Validation Accuracy: 79.90%\n",
      "Epoch 424/500\n"
     ]
    },
    {
     "name": "stderr",
     "output_type": "stream",
     "text": [
      "Training: 100%|██████████| 65/65 [00:03<00:00, 21.19batch/s]\n",
      "Evaluating: 100%|██████████| 19/19 [00:00<00:00, 60.22batch/s]\n"
     ]
    },
    {
     "name": "stdout",
     "output_type": "stream",
     "text": [
      "Train Loss: 0.0136\n",
      "Validation Loss: 0.1382\n",
      "Validation Accuracy: 80.66%\n",
      "Epoch 425/500\n"
     ]
    },
    {
     "name": "stderr",
     "output_type": "stream",
     "text": [
      "Training: 100%|██████████| 65/65 [00:03<00:00, 20.65batch/s]\n",
      "Evaluating: 100%|██████████| 19/19 [00:00<00:00, 72.37batch/s]\n"
     ]
    },
    {
     "name": "stdout",
     "output_type": "stream",
     "text": [
      "Train Loss: 0.0141\n",
      "Validation Loss: 0.1322\n",
      "Validation Accuracy: 82.85%\n",
      "Epoch 426/500\n"
     ]
    },
    {
     "name": "stderr",
     "output_type": "stream",
     "text": [
      "Training: 100%|██████████| 65/65 [00:03<00:00, 21.37batch/s]\n",
      "Evaluating: 100%|██████████| 19/19 [00:00<00:00, 74.02batch/s]\n"
     ]
    },
    {
     "name": "stdout",
     "output_type": "stream",
     "text": [
      "Train Loss: 0.0101\n",
      "Validation Loss: 0.1383\n",
      "Validation Accuracy: 82.77%\n",
      "Epoch 427/500\n"
     ]
    },
    {
     "name": "stderr",
     "output_type": "stream",
     "text": [
      "Training: 100%|██████████| 65/65 [00:03<00:00, 20.57batch/s]\n",
      "Evaluating: 100%|██████████| 19/19 [00:00<00:00, 74.64batch/s]\n"
     ]
    },
    {
     "name": "stdout",
     "output_type": "stream",
     "text": [
      "Train Loss: 0.0107\n",
      "Validation Loss: 0.1254\n",
      "Validation Accuracy: 81.59%\n",
      "Epoch 428/500\n"
     ]
    },
    {
     "name": "stderr",
     "output_type": "stream",
     "text": [
      "Training: 100%|██████████| 65/65 [00:03<00:00, 20.75batch/s]\n",
      "Evaluating: 100%|██████████| 19/19 [00:00<00:00, 66.85batch/s]\n"
     ]
    },
    {
     "name": "stdout",
     "output_type": "stream",
     "text": [
      "Train Loss: 0.0091\n",
      "Validation Loss: 0.1408\n",
      "Validation Accuracy: 82.43%\n",
      "Epoch 429/500\n"
     ]
    },
    {
     "name": "stderr",
     "output_type": "stream",
     "text": [
      "Training: 100%|██████████| 65/65 [00:03<00:00, 20.97batch/s]\n",
      "Evaluating: 100%|██████████| 19/19 [00:00<00:00, 75.30batch/s]\n"
     ]
    },
    {
     "name": "stdout",
     "output_type": "stream",
     "text": [
      "Train Loss: 0.0083\n",
      "Validation Loss: 0.1448\n",
      "Validation Accuracy: 82.77%\n",
      "Epoch 430/500\n"
     ]
    },
    {
     "name": "stderr",
     "output_type": "stream",
     "text": [
      "Training: 100%|██████████| 65/65 [00:03<00:00, 20.40batch/s]\n",
      "Evaluating: 100%|██████████| 19/19 [00:00<00:00, 72.94batch/s]\n"
     ]
    },
    {
     "name": "stdout",
     "output_type": "stream",
     "text": [
      "Train Loss: 0.0058\n",
      "Validation Loss: 0.1493\n",
      "Validation Accuracy: 82.01%\n",
      "Epoch 431/500\n"
     ]
    },
    {
     "name": "stderr",
     "output_type": "stream",
     "text": [
      "Training: 100%|██████████| 65/65 [00:03<00:00, 20.43batch/s]\n",
      "Evaluating: 100%|██████████| 19/19 [00:00<00:00, 72.36batch/s]\n"
     ]
    },
    {
     "name": "stdout",
     "output_type": "stream",
     "text": [
      "Train Loss: 0.0041\n",
      "Validation Loss: 0.1564\n",
      "Validation Accuracy: 82.94%\n",
      "Epoch 432/500\n"
     ]
    },
    {
     "name": "stderr",
     "output_type": "stream",
     "text": [
      "Training: 100%|██████████| 65/65 [00:03<00:00, 20.50batch/s]\n",
      "Evaluating: 100%|██████████| 19/19 [00:00<00:00, 69.40batch/s]\n"
     ]
    },
    {
     "name": "stdout",
     "output_type": "stream",
     "text": [
      "Train Loss: 0.0101\n",
      "Validation Loss: 0.1404\n",
      "Validation Accuracy: 82.69%\n",
      "Epoch 433/500\n"
     ]
    },
    {
     "name": "stderr",
     "output_type": "stream",
     "text": [
      "Training: 100%|██████████| 65/65 [00:03<00:00, 20.77batch/s]\n",
      "Evaluating: 100%|██████████| 19/19 [00:00<00:00, 73.97batch/s]\n"
     ]
    },
    {
     "name": "stdout",
     "output_type": "stream",
     "text": [
      "Train Loss: 0.0066\n",
      "Validation Loss: 0.1589\n",
      "Validation Accuracy: 81.84%\n",
      "Epoch 434/500\n"
     ]
    },
    {
     "name": "stderr",
     "output_type": "stream",
     "text": [
      "Training: 100%|██████████| 65/65 [00:03<00:00, 21.43batch/s]\n",
      "Evaluating: 100%|██████████| 19/19 [00:00<00:00, 69.84batch/s]\n"
     ]
    },
    {
     "name": "stdout",
     "output_type": "stream",
     "text": [
      "Train Loss: 0.0079\n",
      "Validation Loss: 0.1536\n",
      "Validation Accuracy: 82.85%\n",
      "Epoch 435/500\n"
     ]
    },
    {
     "name": "stderr",
     "output_type": "stream",
     "text": [
      "Training: 100%|██████████| 65/65 [00:03<00:00, 21.08batch/s]\n",
      "Evaluating: 100%|██████████| 19/19 [00:00<00:00, 74.44batch/s]\n"
     ]
    },
    {
     "name": "stdout",
     "output_type": "stream",
     "text": [
      "Train Loss: 0.0079\n",
      "Validation Loss: 0.1396\n",
      "Validation Accuracy: 82.94%\n",
      "Epoch 436/500\n"
     ]
    },
    {
     "name": "stderr",
     "output_type": "stream",
     "text": [
      "Training: 100%|██████████| 65/65 [00:03<00:00, 20.70batch/s]\n",
      "Evaluating: 100%|██████████| 19/19 [00:00<00:00, 68.94batch/s]\n"
     ]
    },
    {
     "name": "stdout",
     "output_type": "stream",
     "text": [
      "Train Loss: 0.0130\n",
      "Validation Loss: 0.1393\n",
      "Validation Accuracy: 83.19%\n",
      "Epoch 437/500\n"
     ]
    },
    {
     "name": "stderr",
     "output_type": "stream",
     "text": [
      "Training: 100%|██████████| 65/65 [00:03<00:00, 20.74batch/s]\n",
      "Evaluating: 100%|██████████| 19/19 [00:00<00:00, 74.65batch/s]\n"
     ]
    },
    {
     "name": "stdout",
     "output_type": "stream",
     "text": [
      "Train Loss: 0.0052\n",
      "Validation Loss: 0.1453\n",
      "Validation Accuracy: 84.21%\n",
      "Epoch 438/500\n"
     ]
    },
    {
     "name": "stderr",
     "output_type": "stream",
     "text": [
      "Training: 100%|██████████| 65/65 [00:03<00:00, 20.88batch/s]\n",
      "Evaluating: 100%|██████████| 19/19 [00:00<00:00, 77.95batch/s]\n"
     ]
    },
    {
     "name": "stdout",
     "output_type": "stream",
     "text": [
      "Train Loss: 0.0019\n",
      "Validation Loss: 0.1660\n",
      "Validation Accuracy: 83.78%\n",
      "Epoch 439/500\n"
     ]
    },
    {
     "name": "stderr",
     "output_type": "stream",
     "text": [
      "Training: 100%|██████████| 65/65 [00:03<00:00, 20.29batch/s]\n",
      "Evaluating: 100%|██████████| 19/19 [00:00<00:00, 71.15batch/s]\n"
     ]
    },
    {
     "name": "stdout",
     "output_type": "stream",
     "text": [
      "Train Loss: 0.0009\n",
      "Validation Loss: 0.1655\n",
      "Validation Accuracy: 83.95%\n",
      "Epoch 440/500\n"
     ]
    },
    {
     "name": "stderr",
     "output_type": "stream",
     "text": [
      "Training: 100%|██████████| 65/65 [00:03<00:00, 21.55batch/s]\n",
      "Evaluating: 100%|██████████| 19/19 [00:00<00:00, 74.79batch/s]\n"
     ]
    },
    {
     "name": "stdout",
     "output_type": "stream",
     "text": [
      "Train Loss: 0.0007\n",
      "Validation Loss: 0.1693\n",
      "Validation Accuracy: 83.78%\n",
      "Epoch 441/500\n"
     ]
    },
    {
     "name": "stderr",
     "output_type": "stream",
     "text": [
      "Training: 100%|██████████| 65/65 [00:03<00:00, 20.52batch/s]\n",
      "Evaluating: 100%|██████████| 19/19 [00:00<00:00, 71.53batch/s]\n"
     ]
    },
    {
     "name": "stdout",
     "output_type": "stream",
     "text": [
      "Train Loss: 0.0012\n",
      "Validation Loss: 0.1784\n",
      "Validation Accuracy: 83.02%\n",
      "Epoch 442/500\n"
     ]
    },
    {
     "name": "stderr",
     "output_type": "stream",
     "text": [
      "Training: 100%|██████████| 65/65 [00:03<00:00, 20.48batch/s]\n",
      "Evaluating: 100%|██████████| 19/19 [00:00<00:00, 54.90batch/s]\n"
     ]
    },
    {
     "name": "stdout",
     "output_type": "stream",
     "text": [
      "Train Loss: 0.0082\n",
      "Validation Loss: 0.1457\n",
      "Validation Accuracy: 83.11%\n",
      "Epoch 443/500\n"
     ]
    },
    {
     "name": "stderr",
     "output_type": "stream",
     "text": [
      "Training: 100%|██████████| 65/65 [00:03<00:00, 21.25batch/s]\n",
      "Evaluating: 100%|██████████| 19/19 [00:00<00:00, 71.02batch/s]\n"
     ]
    },
    {
     "name": "stdout",
     "output_type": "stream",
     "text": [
      "Train Loss: 0.0087\n",
      "Validation Loss: 0.1551\n",
      "Validation Accuracy: 82.35%\n",
      "Epoch 444/500\n"
     ]
    },
    {
     "name": "stderr",
     "output_type": "stream",
     "text": [
      "Training: 100%|██████████| 65/65 [00:03<00:00, 21.09batch/s]\n",
      "Evaluating: 100%|██████████| 19/19 [00:00<00:00, 73.87batch/s]\n"
     ]
    },
    {
     "name": "stdout",
     "output_type": "stream",
     "text": [
      "Train Loss: 0.0064\n",
      "Validation Loss: 0.1456\n",
      "Validation Accuracy: 82.85%\n",
      "Epoch 445/500\n"
     ]
    },
    {
     "name": "stderr",
     "output_type": "stream",
     "text": [
      "Training: 100%|██████████| 65/65 [00:03<00:00, 20.51batch/s]\n",
      "Evaluating: 100%|██████████| 19/19 [00:00<00:00, 69.13batch/s]\n"
     ]
    },
    {
     "name": "stdout",
     "output_type": "stream",
     "text": [
      "Train Loss: 0.0040\n",
      "Validation Loss: 0.1611\n",
      "Validation Accuracy: 81.93%\n",
      "Epoch 446/500\n"
     ]
    },
    {
     "name": "stderr",
     "output_type": "stream",
     "text": [
      "Training: 100%|██████████| 65/65 [00:03<00:00, 20.92batch/s]\n",
      "Evaluating: 100%|██████████| 19/19 [00:00<00:00, 70.14batch/s]\n"
     ]
    },
    {
     "name": "stdout",
     "output_type": "stream",
     "text": [
      "Train Loss: 0.0108\n",
      "Validation Loss: 0.1666\n",
      "Validation Accuracy: 79.90%\n",
      "Epoch 447/500\n"
     ]
    },
    {
     "name": "stderr",
     "output_type": "stream",
     "text": [
      "Training: 100%|██████████| 65/65 [00:03<00:00, 20.83batch/s]\n",
      "Evaluating: 100%|██████████| 19/19 [00:00<00:00, 68.09batch/s]\n"
     ]
    },
    {
     "name": "stdout",
     "output_type": "stream",
     "text": [
      "Train Loss: 0.0082\n",
      "Validation Loss: 0.1393\n",
      "Validation Accuracy: 82.77%\n",
      "Epoch 448/500\n"
     ]
    },
    {
     "name": "stderr",
     "output_type": "stream",
     "text": [
      "Training: 100%|██████████| 65/65 [00:03<00:00, 20.29batch/s]\n",
      "Evaluating: 100%|██████████| 19/19 [00:00<00:00, 78.32batch/s]\n"
     ]
    },
    {
     "name": "stdout",
     "output_type": "stream",
     "text": [
      "Train Loss: 0.0082\n",
      "Validation Loss: 0.1380\n",
      "Validation Accuracy: 83.02%\n",
      "Epoch 449/500\n"
     ]
    },
    {
     "name": "stderr",
     "output_type": "stream",
     "text": [
      "Training: 100%|██████████| 65/65 [00:03<00:00, 20.56batch/s]\n",
      "Evaluating: 100%|██████████| 19/19 [00:00<00:00, 67.42batch/s]\n"
     ]
    },
    {
     "name": "stdout",
     "output_type": "stream",
     "text": [
      "Train Loss: 0.0061\n",
      "Validation Loss: 0.1384\n",
      "Validation Accuracy: 82.94%\n",
      "Epoch 450/500\n"
     ]
    },
    {
     "name": "stderr",
     "output_type": "stream",
     "text": [
      "Training: 100%|██████████| 65/65 [00:03<00:00, 21.41batch/s]\n",
      "Evaluating: 100%|██████████| 19/19 [00:00<00:00, 70.38batch/s]\n"
     ]
    },
    {
     "name": "stdout",
     "output_type": "stream",
     "text": [
      "Train Loss: 0.0049\n",
      "Validation Loss: 0.1699\n",
      "Validation Accuracy: 81.84%\n",
      "Epoch 451/500\n"
     ]
    },
    {
     "name": "stderr",
     "output_type": "stream",
     "text": [
      "Training: 100%|██████████| 65/65 [00:03<00:00, 20.90batch/s]\n",
      "Evaluating: 100%|██████████| 19/19 [00:00<00:00, 73.54batch/s]\n"
     ]
    },
    {
     "name": "stdout",
     "output_type": "stream",
     "text": [
      "Train Loss: 0.0037\n",
      "Validation Loss: 0.1682\n",
      "Validation Accuracy: 83.19%\n",
      "Epoch 452/500\n"
     ]
    },
    {
     "name": "stderr",
     "output_type": "stream",
     "text": [
      "Training: 100%|██████████| 65/65 [00:03<00:00, 20.73batch/s]\n",
      "Evaluating: 100%|██████████| 19/19 [00:00<00:00, 69.65batch/s]\n"
     ]
    },
    {
     "name": "stdout",
     "output_type": "stream",
     "text": [
      "Train Loss: 0.0015\n",
      "Validation Loss: 0.1708\n",
      "Validation Accuracy: 82.77%\n",
      "Epoch 453/500\n"
     ]
    },
    {
     "name": "stderr",
     "output_type": "stream",
     "text": [
      "Training: 100%|██████████| 65/65 [00:03<00:00, 20.99batch/s]\n",
      "Evaluating: 100%|██████████| 19/19 [00:00<00:00, 74.50batch/s]\n"
     ]
    },
    {
     "name": "stdout",
     "output_type": "stream",
     "text": [
      "Train Loss: 0.0081\n",
      "Validation Loss: 0.1320\n",
      "Validation Accuracy: 82.35%\n",
      "Epoch 454/500\n"
     ]
    },
    {
     "name": "stderr",
     "output_type": "stream",
     "text": [
      "Training: 100%|██████████| 65/65 [00:03<00:00, 20.56batch/s]\n",
      "Evaluating: 100%|██████████| 19/19 [00:00<00:00, 75.38batch/s]\n"
     ]
    },
    {
     "name": "stdout",
     "output_type": "stream",
     "text": [
      "Train Loss: 0.0048\n",
      "Validation Loss: 0.1732\n",
      "Validation Accuracy: 81.76%\n",
      "Epoch 455/500\n"
     ]
    },
    {
     "name": "stderr",
     "output_type": "stream",
     "text": [
      "Training: 100%|██████████| 65/65 [00:02<00:00, 21.73batch/s]\n",
      "Evaluating: 100%|██████████| 19/19 [00:00<00:00, 71.73batch/s]\n"
     ]
    },
    {
     "name": "stdout",
     "output_type": "stream",
     "text": [
      "Train Loss: 0.0084\n",
      "Validation Loss: 0.1612\n",
      "Validation Accuracy: 80.74%\n",
      "Epoch 456/500\n"
     ]
    },
    {
     "name": "stderr",
     "output_type": "stream",
     "text": [
      "Training: 100%|██████████| 65/65 [00:03<00:00, 21.50batch/s]\n",
      "Evaluating: 100%|██████████| 19/19 [00:00<00:00, 72.01batch/s]\n"
     ]
    },
    {
     "name": "stdout",
     "output_type": "stream",
     "text": [
      "Train Loss: 0.0068\n",
      "Validation Loss: 0.1455\n",
      "Validation Accuracy: 84.04%\n",
      "Epoch 457/500\n"
     ]
    },
    {
     "name": "stderr",
     "output_type": "stream",
     "text": [
      "Training: 100%|██████████| 65/65 [00:03<00:00, 20.85batch/s]\n",
      "Evaluating: 100%|██████████| 19/19 [00:00<00:00, 80.63batch/s]\n"
     ]
    },
    {
     "name": "stdout",
     "output_type": "stream",
     "text": [
      "Train Loss: 0.0048\n",
      "Validation Loss: 0.1536\n",
      "Validation Accuracy: 83.11%\n",
      "Epoch 458/500\n"
     ]
    },
    {
     "name": "stderr",
     "output_type": "stream",
     "text": [
      "Training: 100%|██████████| 65/65 [00:03<00:00, 21.04batch/s]\n",
      "Evaluating: 100%|██████████| 19/19 [00:00<00:00, 71.12batch/s]\n"
     ]
    },
    {
     "name": "stdout",
     "output_type": "stream",
     "text": [
      "Train Loss: 0.0028\n",
      "Validation Loss: 0.1730\n",
      "Validation Accuracy: 83.95%\n",
      "Epoch 459/500\n"
     ]
    },
    {
     "name": "stderr",
     "output_type": "stream",
     "text": [
      "Training: 100%|██████████| 65/65 [00:03<00:00, 20.08batch/s]\n",
      "Evaluating: 100%|██████████| 19/19 [00:00<00:00, 73.03batch/s]\n"
     ]
    },
    {
     "name": "stdout",
     "output_type": "stream",
     "text": [
      "Train Loss: 0.0049\n",
      "Validation Loss: 0.1467\n",
      "Validation Accuracy: 83.45%\n",
      "Epoch 460/500\n"
     ]
    },
    {
     "name": "stderr",
     "output_type": "stream",
     "text": [
      "Training: 100%|██████████| 65/65 [00:03<00:00, 20.49batch/s]\n",
      "Evaluating: 100%|██████████| 19/19 [00:00<00:00, 71.04batch/s]\n"
     ]
    },
    {
     "name": "stdout",
     "output_type": "stream",
     "text": [
      "Train Loss: 0.0042\n",
      "Validation Loss: 0.1672\n",
      "Validation Accuracy: 84.21%\n",
      "Epoch 461/500\n"
     ]
    },
    {
     "name": "stderr",
     "output_type": "stream",
     "text": [
      "Training: 100%|██████████| 65/65 [00:03<00:00, 20.74batch/s]\n",
      "Evaluating: 100%|██████████| 19/19 [00:00<00:00, 65.96batch/s]\n"
     ]
    },
    {
     "name": "stdout",
     "output_type": "stream",
     "text": [
      "Train Loss: 0.0119\n",
      "Validation Loss: 0.1312\n",
      "Validation Accuracy: 82.26%\n",
      "Epoch 462/500\n"
     ]
    },
    {
     "name": "stderr",
     "output_type": "stream",
     "text": [
      "Training: 100%|██████████| 65/65 [00:03<00:00, 21.27batch/s]\n",
      "Evaluating: 100%|██████████| 19/19 [00:00<00:00, 77.64batch/s]\n"
     ]
    },
    {
     "name": "stdout",
     "output_type": "stream",
     "text": [
      "Train Loss: 0.0071\n",
      "Validation Loss: 0.1527\n",
      "Validation Accuracy: 82.09%\n",
      "Epoch 463/500\n"
     ]
    },
    {
     "name": "stderr",
     "output_type": "stream",
     "text": [
      "Training: 100%|██████████| 65/65 [00:02<00:00, 21.77batch/s]\n",
      "Evaluating: 100%|██████████| 19/19 [00:00<00:00, 72.85batch/s]\n"
     ]
    },
    {
     "name": "stdout",
     "output_type": "stream",
     "text": [
      "Train Loss: 0.0040\n",
      "Validation Loss: 0.1509\n",
      "Validation Accuracy: 83.36%\n",
      "Epoch 464/500\n"
     ]
    },
    {
     "name": "stderr",
     "output_type": "stream",
     "text": [
      "Training: 100%|██████████| 65/65 [00:03<00:00, 20.71batch/s]\n",
      "Evaluating: 100%|██████████| 19/19 [00:00<00:00, 77.17batch/s]\n"
     ]
    },
    {
     "name": "stdout",
     "output_type": "stream",
     "text": [
      "Train Loss: 0.0041\n",
      "Validation Loss: 0.1622\n",
      "Validation Accuracy: 82.52%\n",
      "Epoch 465/500\n"
     ]
    },
    {
     "name": "stderr",
     "output_type": "stream",
     "text": [
      "Training: 100%|██████████| 65/65 [00:03<00:00, 21.01batch/s]\n",
      "Evaluating: 100%|██████████| 19/19 [00:00<00:00, 72.08batch/s]\n"
     ]
    },
    {
     "name": "stdout",
     "output_type": "stream",
     "text": [
      "Train Loss: 0.0052\n",
      "Validation Loss: 0.1722\n",
      "Validation Accuracy: 83.19%\n",
      "Epoch 466/500\n"
     ]
    },
    {
     "name": "stderr",
     "output_type": "stream",
     "text": [
      "Training: 100%|██████████| 65/65 [00:03<00:00, 20.60batch/s]\n",
      "Evaluating: 100%|██████████| 19/19 [00:00<00:00, 71.79batch/s]\n"
     ]
    },
    {
     "name": "stdout",
     "output_type": "stream",
     "text": [
      "Train Loss: 0.0050\n",
      "Validation Loss: 0.1519\n",
      "Validation Accuracy: 82.94%\n",
      "Epoch 467/500\n"
     ]
    },
    {
     "name": "stderr",
     "output_type": "stream",
     "text": [
      "Training: 100%|██████████| 65/65 [00:03<00:00, 20.61batch/s]\n",
      "Evaluating: 100%|██████████| 19/19 [00:00<00:00, 66.09batch/s]\n"
     ]
    },
    {
     "name": "stdout",
     "output_type": "stream",
     "text": [
      "Train Loss: 0.0043\n",
      "Validation Loss: 0.1735\n",
      "Validation Accuracy: 82.85%\n",
      "Epoch 468/500\n"
     ]
    },
    {
     "name": "stderr",
     "output_type": "stream",
     "text": [
      "Training: 100%|██████████| 65/65 [00:03<00:00, 20.45batch/s]\n",
      "Evaluating: 100%|██████████| 19/19 [00:00<00:00, 69.97batch/s]\n"
     ]
    },
    {
     "name": "stdout",
     "output_type": "stream",
     "text": [
      "Train Loss: 0.0062\n",
      "Validation Loss: 0.1439\n",
      "Validation Accuracy: 83.11%\n",
      "Epoch 469/500\n"
     ]
    },
    {
     "name": "stderr",
     "output_type": "stream",
     "text": [
      "Training: 100%|██████████| 65/65 [00:03<00:00, 21.03batch/s]\n",
      "Evaluating: 100%|██████████| 19/19 [00:00<00:00, 71.25batch/s]\n"
     ]
    },
    {
     "name": "stdout",
     "output_type": "stream",
     "text": [
      "Train Loss: 0.0045\n",
      "Validation Loss: 0.1537\n",
      "Validation Accuracy: 83.95%\n",
      "Epoch 470/500\n"
     ]
    },
    {
     "name": "stderr",
     "output_type": "stream",
     "text": [
      "Training: 100%|██████████| 65/65 [00:03<00:00, 20.56batch/s]\n",
      "Evaluating: 100%|██████████| 19/19 [00:00<00:00, 70.17batch/s]\n"
     ]
    },
    {
     "name": "stdout",
     "output_type": "stream",
     "text": [
      "Train Loss: 0.0029\n",
      "Validation Loss: 0.1726\n",
      "Validation Accuracy: 82.09%\n",
      "Epoch 471/500\n"
     ]
    },
    {
     "name": "stderr",
     "output_type": "stream",
     "text": [
      "Training: 100%|██████████| 65/65 [00:03<00:00, 20.37batch/s]\n",
      "Evaluating: 100%|██████████| 19/19 [00:00<00:00, 77.30batch/s]\n"
     ]
    },
    {
     "name": "stdout",
     "output_type": "stream",
     "text": [
      "Train Loss: 0.0022\n",
      "Validation Loss: 0.1644\n",
      "Validation Accuracy: 84.63%\n",
      "Epoch 472/500\n"
     ]
    },
    {
     "name": "stderr",
     "output_type": "stream",
     "text": [
      "Training: 100%|██████████| 65/65 [00:03<00:00, 20.86batch/s]\n",
      "Evaluating: 100%|██████████| 19/19 [00:00<00:00, 65.93batch/s]\n"
     ]
    },
    {
     "name": "stdout",
     "output_type": "stream",
     "text": [
      "Train Loss: 0.0083\n",
      "Validation Loss: 0.1410\n",
      "Validation Accuracy: 81.33%\n",
      "Epoch 473/500\n"
     ]
    },
    {
     "name": "stderr",
     "output_type": "stream",
     "text": [
      "Training: 100%|██████████| 65/65 [00:03<00:00, 20.71batch/s]\n",
      "Evaluating: 100%|██████████| 19/19 [00:00<00:00, 70.99batch/s]\n"
     ]
    },
    {
     "name": "stdout",
     "output_type": "stream",
     "text": [
      "Train Loss: 0.0050\n",
      "Validation Loss: 0.1442\n",
      "Validation Accuracy: 82.26%\n",
      "Epoch 474/500\n"
     ]
    },
    {
     "name": "stderr",
     "output_type": "stream",
     "text": [
      "Training: 100%|██████████| 65/65 [00:03<00:00, 20.91batch/s]\n",
      "Evaluating: 100%|██████████| 19/19 [00:00<00:00, 72.57batch/s]\n"
     ]
    },
    {
     "name": "stdout",
     "output_type": "stream",
     "text": [
      "Train Loss: 0.0029\n",
      "Validation Loss: 0.1471\n",
      "Validation Accuracy: 82.94%\n",
      "Epoch 475/500\n"
     ]
    },
    {
     "name": "stderr",
     "output_type": "stream",
     "text": [
      "Training: 100%|██████████| 65/65 [00:03<00:00, 20.69batch/s]\n",
      "Evaluating: 100%|██████████| 19/19 [00:00<00:00, 67.61batch/s]\n"
     ]
    },
    {
     "name": "stdout",
     "output_type": "stream",
     "text": [
      "Train Loss: 0.0028\n",
      "Validation Loss: 0.1566\n",
      "Validation Accuracy: 83.53%\n",
      "Epoch 476/500\n"
     ]
    },
    {
     "name": "stderr",
     "output_type": "stream",
     "text": [
      "Training: 100%|██████████| 65/65 [00:03<00:00, 20.98batch/s]\n",
      "Evaluating: 100%|██████████| 19/19 [00:00<00:00, 74.93batch/s]\n"
     ]
    },
    {
     "name": "stdout",
     "output_type": "stream",
     "text": [
      "Train Loss: 0.0015\n",
      "Validation Loss: 0.1742\n",
      "Validation Accuracy: 83.45%\n",
      "Epoch 477/500\n"
     ]
    },
    {
     "name": "stderr",
     "output_type": "stream",
     "text": [
      "Training: 100%|██████████| 65/65 [00:03<00:00, 21.32batch/s]\n",
      "Evaluating: 100%|██████████| 19/19 [00:00<00:00, 73.19batch/s]\n"
     ]
    },
    {
     "name": "stdout",
     "output_type": "stream",
     "text": [
      "Train Loss: 0.0030\n",
      "Validation Loss: 0.1808\n",
      "Validation Accuracy: 81.67%\n",
      "Epoch 478/500\n"
     ]
    },
    {
     "name": "stderr",
     "output_type": "stream",
     "text": [
      "Training: 100%|██████████| 65/65 [00:03<00:00, 20.96batch/s]\n",
      "Evaluating: 100%|██████████| 19/19 [00:00<00:00, 69.10batch/s]\n"
     ]
    },
    {
     "name": "stdout",
     "output_type": "stream",
     "text": [
      "Train Loss: 0.0116\n",
      "Validation Loss: 0.1385\n",
      "Validation Accuracy: 83.53%\n",
      "Epoch 479/500\n"
     ]
    },
    {
     "name": "stderr",
     "output_type": "stream",
     "text": [
      "Training: 100%|██████████| 65/65 [00:03<00:00, 21.28batch/s]\n",
      "Evaluating: 100%|██████████| 19/19 [00:00<00:00, 79.66batch/s]\n"
     ]
    },
    {
     "name": "stdout",
     "output_type": "stream",
     "text": [
      "Train Loss: 0.0069\n",
      "Validation Loss: 0.1383\n",
      "Validation Accuracy: 84.46%\n",
      "Epoch 480/500\n"
     ]
    },
    {
     "name": "stderr",
     "output_type": "stream",
     "text": [
      "Training: 100%|██████████| 65/65 [00:03<00:00, 20.91batch/s]\n",
      "Evaluating: 100%|██████████| 19/19 [00:00<00:00, 71.58batch/s]\n"
     ]
    },
    {
     "name": "stdout",
     "output_type": "stream",
     "text": [
      "Train Loss: 0.0007\n",
      "Validation Loss: 0.1603\n",
      "Validation Accuracy: 84.38%\n",
      "Epoch 481/500\n"
     ]
    },
    {
     "name": "stderr",
     "output_type": "stream",
     "text": [
      "Training: 100%|██████████| 65/65 [00:03<00:00, 21.36batch/s]\n",
      "Evaluating: 100%|██████████| 19/19 [00:00<00:00, 72.57batch/s]\n"
     ]
    },
    {
     "name": "stdout",
     "output_type": "stream",
     "text": [
      "Train Loss: 0.0003\n",
      "Validation Loss: 0.1628\n",
      "Validation Accuracy: 85.05%\n",
      "Epoch 482/500\n"
     ]
    },
    {
     "name": "stderr",
     "output_type": "stream",
     "text": [
      "Training: 100%|██████████| 65/65 [00:03<00:00, 18.72batch/s]\n",
      "Evaluating: 100%|██████████| 19/19 [00:00<00:00, 63.46batch/s]\n"
     ]
    },
    {
     "name": "stdout",
     "output_type": "stream",
     "text": [
      "Train Loss: 0.0001\n",
      "Validation Loss: 0.1711\n",
      "Validation Accuracy: 85.30%\n",
      "Epoch 483/500\n"
     ]
    },
    {
     "name": "stderr",
     "output_type": "stream",
     "text": [
      "Training: 100%|██████████| 65/65 [00:03<00:00, 20.44batch/s]\n",
      "Evaluating: 100%|██████████| 19/19 [00:00<00:00, 68.89batch/s]\n"
     ]
    },
    {
     "name": "stdout",
     "output_type": "stream",
     "text": [
      "Train Loss: 0.0000\n",
      "Validation Loss: 0.1712\n",
      "Validation Accuracy: 85.14%\n",
      "Epoch 484/500\n"
     ]
    },
    {
     "name": "stderr",
     "output_type": "stream",
     "text": [
      "Training: 100%|██████████| 65/65 [00:03<00:00, 20.88batch/s]\n",
      "Evaluating: 100%|██████████| 19/19 [00:00<00:00, 74.32batch/s]\n"
     ]
    },
    {
     "name": "stdout",
     "output_type": "stream",
     "text": [
      "Train Loss: 0.0000\n",
      "Validation Loss: 0.1728\n",
      "Validation Accuracy: 85.14%\n",
      "Epoch 485/500\n"
     ]
    },
    {
     "name": "stderr",
     "output_type": "stream",
     "text": [
      "Training: 100%|██████████| 65/65 [00:03<00:00, 19.60batch/s]\n",
      "Evaluating: 100%|██████████| 19/19 [00:00<00:00, 72.07batch/s]\n"
     ]
    },
    {
     "name": "stdout",
     "output_type": "stream",
     "text": [
      "Train Loss: 0.0000\n",
      "Validation Loss: 0.1791\n",
      "Validation Accuracy: 85.14%\n",
      "Epoch 486/500\n"
     ]
    },
    {
     "name": "stderr",
     "output_type": "stream",
     "text": [
      "Training: 100%|██████████| 65/65 [00:03<00:00, 20.99batch/s]\n",
      "Evaluating: 100%|██████████| 19/19 [00:00<00:00, 75.68batch/s]\n"
     ]
    },
    {
     "name": "stdout",
     "output_type": "stream",
     "text": [
      "Train Loss: 0.0000\n",
      "Validation Loss: 0.1792\n",
      "Validation Accuracy: 85.14%\n",
      "Epoch 487/500\n"
     ]
    },
    {
     "name": "stderr",
     "output_type": "stream",
     "text": [
      "Training: 100%|██████████| 65/65 [00:03<00:00, 20.72batch/s]\n",
      "Evaluating: 100%|██████████| 19/19 [00:00<00:00, 69.87batch/s]\n"
     ]
    },
    {
     "name": "stdout",
     "output_type": "stream",
     "text": [
      "Train Loss: 0.0000\n",
      "Validation Loss: 0.1842\n",
      "Validation Accuracy: 85.05%\n",
      "Epoch 488/500\n"
     ]
    },
    {
     "name": "stderr",
     "output_type": "stream",
     "text": [
      "Training: 100%|██████████| 65/65 [00:03<00:00, 20.98batch/s]\n",
      "Evaluating: 100%|██████████| 19/19 [00:00<00:00, 70.88batch/s]\n"
     ]
    },
    {
     "name": "stdout",
     "output_type": "stream",
     "text": [
      "Train Loss: 0.0000\n",
      "Validation Loss: 0.1875\n",
      "Validation Accuracy: 85.14%\n",
      "Epoch 489/500\n"
     ]
    },
    {
     "name": "stderr",
     "output_type": "stream",
     "text": [
      "Training: 100%|██████████| 65/65 [00:03<00:00, 20.26batch/s]\n",
      "Evaluating: 100%|██████████| 19/19 [00:00<00:00, 68.40batch/s]\n"
     ]
    },
    {
     "name": "stdout",
     "output_type": "stream",
     "text": [
      "Train Loss: 0.0000\n",
      "Validation Loss: 0.1860\n",
      "Validation Accuracy: 85.05%\n",
      "Epoch 490/500\n"
     ]
    },
    {
     "name": "stderr",
     "output_type": "stream",
     "text": [
      "Training: 100%|██████████| 65/65 [00:03<00:00, 20.96batch/s]\n",
      "Evaluating: 100%|██████████| 19/19 [00:00<00:00, 75.02batch/s]\n"
     ]
    },
    {
     "name": "stdout",
     "output_type": "stream",
     "text": [
      "Train Loss: 0.0000\n",
      "Validation Loss: 0.1894\n",
      "Validation Accuracy: 84.97%\n",
      "Epoch 491/500\n"
     ]
    },
    {
     "name": "stderr",
     "output_type": "stream",
     "text": [
      "Training: 100%|██████████| 65/65 [00:03<00:00, 20.59batch/s]\n",
      "Evaluating: 100%|██████████| 19/19 [00:00<00:00, 77.81batch/s]\n"
     ]
    },
    {
     "name": "stdout",
     "output_type": "stream",
     "text": [
      "Train Loss: 0.0000\n",
      "Validation Loss: 0.1903\n",
      "Validation Accuracy: 85.05%\n",
      "Epoch 492/500\n"
     ]
    },
    {
     "name": "stderr",
     "output_type": "stream",
     "text": [
      "Training: 100%|██████████| 65/65 [00:03<00:00, 20.84batch/s]\n",
      "Evaluating: 100%|██████████| 19/19 [00:00<00:00, 76.47batch/s]\n"
     ]
    },
    {
     "name": "stdout",
     "output_type": "stream",
     "text": [
      "Train Loss: 0.0000\n",
      "Validation Loss: 0.1898\n",
      "Validation Accuracy: 84.97%\n",
      "Epoch 493/500\n"
     ]
    },
    {
     "name": "stderr",
     "output_type": "stream",
     "text": [
      "Training: 100%|██████████| 65/65 [00:03<00:00, 20.24batch/s]\n",
      "Evaluating: 100%|██████████| 19/19 [00:00<00:00, 74.23batch/s]\n"
     ]
    },
    {
     "name": "stdout",
     "output_type": "stream",
     "text": [
      "Train Loss: 0.0000\n",
      "Validation Loss: 0.1884\n",
      "Validation Accuracy: 85.05%\n",
      "Epoch 494/500\n"
     ]
    },
    {
     "name": "stderr",
     "output_type": "stream",
     "text": [
      "Training: 100%|██████████| 65/65 [00:03<00:00, 20.72batch/s]\n",
      "Evaluating: 100%|██████████| 19/19 [00:00<00:00, 75.96batch/s]\n"
     ]
    },
    {
     "name": "stdout",
     "output_type": "stream",
     "text": [
      "Train Loss: 0.0000\n",
      "Validation Loss: 0.1912\n",
      "Validation Accuracy: 85.05%\n",
      "Epoch 495/500\n"
     ]
    },
    {
     "name": "stderr",
     "output_type": "stream",
     "text": [
      "Training: 100%|██████████| 65/65 [00:03<00:00, 20.90batch/s]\n",
      "Evaluating: 100%|██████████| 19/19 [00:00<00:00, 63.77batch/s]\n"
     ]
    },
    {
     "name": "stdout",
     "output_type": "stream",
     "text": [
      "Train Loss: 0.0000\n",
      "Validation Loss: 0.1924\n",
      "Validation Accuracy: 84.97%\n",
      "Epoch 496/500\n"
     ]
    },
    {
     "name": "stderr",
     "output_type": "stream",
     "text": [
      "Training: 100%|██████████| 65/65 [00:03<00:00, 20.38batch/s]\n",
      "Evaluating: 100%|██████████| 19/19 [00:00<00:00, 77.05batch/s]\n"
     ]
    },
    {
     "name": "stdout",
     "output_type": "stream",
     "text": [
      "Train Loss: 0.0000\n",
      "Validation Loss: 0.1911\n",
      "Validation Accuracy: 84.97%\n",
      "Epoch 497/500\n"
     ]
    },
    {
     "name": "stderr",
     "output_type": "stream",
     "text": [
      "Training: 100%|██████████| 65/65 [00:03<00:00, 20.80batch/s]\n",
      "Evaluating: 100%|██████████| 19/19 [00:00<00:00, 75.59batch/s]\n"
     ]
    },
    {
     "name": "stdout",
     "output_type": "stream",
     "text": [
      "Train Loss: 0.0000\n",
      "Validation Loss: 0.1938\n",
      "Validation Accuracy: 84.97%\n",
      "Epoch 498/500\n"
     ]
    },
    {
     "name": "stderr",
     "output_type": "stream",
     "text": [
      "Training: 100%|██████████| 65/65 [00:03<00:00, 21.00batch/s]\n",
      "Evaluating: 100%|██████████| 19/19 [00:00<00:00, 71.73batch/s]\n"
     ]
    },
    {
     "name": "stdout",
     "output_type": "stream",
     "text": [
      "Train Loss: 0.0000\n",
      "Validation Loss: 0.1953\n",
      "Validation Accuracy: 84.97%\n",
      "Epoch 499/500\n"
     ]
    },
    {
     "name": "stderr",
     "output_type": "stream",
     "text": [
      "Training: 100%|██████████| 65/65 [00:03<00:00, 20.97batch/s]\n",
      "Evaluating: 100%|██████████| 19/19 [00:00<00:00, 72.53batch/s]\n"
     ]
    },
    {
     "name": "stdout",
     "output_type": "stream",
     "text": [
      "Train Loss: 0.0000\n",
      "Validation Loss: 0.1957\n",
      "Validation Accuracy: 84.88%\n",
      "Epoch 500/500\n"
     ]
    },
    {
     "name": "stderr",
     "output_type": "stream",
     "text": [
      "Training: 100%|██████████| 65/65 [00:03<00:00, 20.65batch/s]\n",
      "Evaluating: 100%|██████████| 19/19 [00:00<00:00, 76.45batch/s]"
     ]
    },
    {
     "name": "stdout",
     "output_type": "stream",
     "text": [
      "Train Loss: 0.0000\n",
      "Validation Loss: 0.2017\n",
      "Validation Accuracy: 85.05%\n"
     ]
    },
    {
     "name": "stderr",
     "output_type": "stream",
     "text": [
      "\n"
     ]
    }
   ],
   "source": [
    "trainer.train()"
   ]
  },
  {
   "cell_type": "code",
   "execution_count": 45,
   "metadata": {},
   "outputs": [
    {
     "name": "stdout",
     "output_type": "stream",
     "text": [
      "Best model loaded successfully.\n"
     ]
    },
    {
     "name": "stderr",
     "output_type": "stream",
     "text": [
      "Testing: 100%|██████████| 10/10 [00:00<00:00, 61.76batch/s]\n"
     ]
    },
    {
     "data": {
      "text/plain": [
       "0.847972972972973"
      ]
     },
     "execution_count": 45,
     "metadata": {},
     "output_type": "execute_result"
    }
   ],
   "source": [
    "trainer.test(test_dataloader)"
   ]
  },
  {
   "cell_type": "code",
   "execution_count": null,
   "metadata": {},
   "outputs": [],
   "source": []
  }
 ],
 "metadata": {
  "kernelspec": {
   "display_name": "tic",
   "language": "python",
   "name": "python3"
  },
  "language_info": {
   "codemirror_mode": {
    "name": "ipython",
    "version": 3
   },
   "file_extension": ".py",
   "mimetype": "text/x-python",
   "name": "python",
   "nbconvert_exporter": "python",
   "pygments_lexer": "ipython3",
   "version": "3.10.16"
  }
 },
 "nbformat": 4,
 "nbformat_minor": 2
}
