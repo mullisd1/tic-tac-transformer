{
 "cells": [
  {
   "cell_type": "markdown",
   "metadata": {},
   "source": [
    "### imports"
   ]
  },
  {
   "cell_type": "code",
   "execution_count": 1,
   "metadata": {},
   "outputs": [],
   "source": [
    "import json\n",
    "import random\n",
    "import numpy as np\n",
    "from tqdm import tqdm\n",
    "import matplotlib.pyplot as plt\n",
    "\n",
    "import torch\n",
    "from torch import nn\n",
    "import torch.nn.functional as F\n",
    "from torch.utils.data import Dataset\n",
    "from torch.utils.data import DataLoader\n",
    "\n",
    "from tictactoe.board import Board"
   ]
  },
  {
   "cell_type": "markdown",
   "metadata": {},
   "source": [
    "### Generate Data"
   ]
  },
  {
   "cell_type": "code",
   "execution_count": 2,
   "metadata": {},
   "outputs": [],
   "source": [
    "size = 3\n",
    "boards = {}\n",
    "def generate_data(board):\n",
    "    b = Board()\n",
    "    if np.array2string(board.flatten()) not in list(boards.keys()):\n",
    "        out_boards = []\n",
    "        for i,j in b.get_best_moves(board):\n",
    "            nb = Board()\n",
    "            nb.set_board(np.copy(board))\n",
    "            nb.place(i,j)\n",
    "            out_boards.append(nb.to_str())\n",
    "        boards[np.array2string(board.flatten())] = out_boards\n",
    "\n",
    "    for i, j in list(zip(*np.where(board==0))):\n",
    "        nb = Board()\n",
    "        nb.set_board(np.copy(board))\n",
    "        nb.place(i,j)\n",
    "        new_board = nb.board\n",
    "        try:\n",
    "            generate_data(new_board)\n",
    "        except:\n",
    "            print(f\"i: {i} j: {j} board:{new_board}\")\n",
    "            raise\n",
    "generate_data(np.array([[0,0,0],\n",
    "                        [0,0,0],\n",
    "                        [0,0,0]]))"
   ]
  },
  {
   "cell_type": "markdown",
   "metadata": {},
   "source": [
    "#### Save data"
   ]
  },
  {
   "cell_type": "code",
   "execution_count": 6,
   "metadata": {},
   "outputs": [],
   "source": [
    "fixed_data = {k:v for k, v in boards.items() if v != []}\n",
    "with open('./data/data.json', 'w') as f:\n",
    "    json.dump(fixed_data, f, indent=4)"
   ]
  },
  {
   "cell_type": "markdown",
   "metadata": {},
   "source": [
    "### Split Data"
   ]
  },
  {
   "cell_type": "code",
   "execution_count": 8,
   "metadata": {},
   "outputs": [],
   "source": [
    "with open('./data/data.json', 'r') as f:\n",
    "    data = json.load(f)"
   ]
  },
  {
   "cell_type": "code",
   "execution_count": 9,
   "metadata": {},
   "outputs": [],
   "source": [
    "train_percent, val_percent, test_percent = 0.7, 0.2, 0.1\n",
    "\n",
    "data_keys = list(data.keys())\n",
    "n = len(data_keys)\n",
    "num_train, num_val, num_test = int(train_percent*n), int(val_percent*n), int(test_percent*n)\n",
    "\n",
    "select_train = random.sample(data_keys, num_train)\n",
    "val_and_test = [value for value in data_keys if value not in select_train]\n",
    "\n",
    "select_val = random.sample(val_and_test, num_val)\n",
    "select_test = [value for value in val_and_test if value not in select_val]"
   ]
  },
  {
   "cell_type": "code",
   "execution_count": 10,
   "metadata": {},
   "outputs": [],
   "source": [
    "def boards_to_format(key):\n",
    "    key = key[1:-1]\n",
    "    return [int(c) for c in key.split(' ') if c in ['-1', '0', '1']]\n",
    "\n",
    "train_data = {int(i): (boards_to_format(k), [boards_to_format(v) for v in data[k]]) for i, k in enumerate(select_train)}\n",
    "val_data = {int(i): (boards_to_format(k), [boards_to_format(v) for v in data[k]]) for i, k in enumerate(select_val)}\n",
    "test_data = {int(i): (boards_to_format(k), [boards_to_format(v) for v in data[k]]) for i, k in enumerate(select_test)}"
   ]
  },
  {
   "cell_type": "code",
   "execution_count": 11,
   "metadata": {},
   "outputs": [
    {
     "name": "stdout",
     "output_type": "stream",
     "text": [
      "Amount train: 4144\n",
      "Amount val: 1184\n",
      "Amount test: 592\n"
     ]
    }
   ],
   "source": [
    "print(f\"Amount train: {len(list(train_data.keys()))}\")\n",
    "print(f\"Amount val: {len(list(val_data.keys()))}\")\n",
    "print(f\"Amount test: {len(list(test_data.keys()))}\")"
   ]
  },
  {
   "cell_type": "markdown",
   "metadata": {},
   "source": [
    "#### Save the Data"
   ]
  },
  {
   "cell_type": "code",
   "execution_count": 12,
   "metadata": {},
   "outputs": [],
   "source": [
    "with open('./data/train.json', 'w') as f:\n",
    "    json.dump(train_data, f)\n",
    "with open('./data/val.json', 'w') as f:\n",
    "    json.dump(val_data, f)\n",
    "with open('./data/test.json', 'w') as f:\n",
    "    json.dump(test_data, f)"
   ]
  },
  {
   "cell_type": "markdown",
   "metadata": {},
   "source": [
    "### Load Data"
   ]
  },
  {
   "cell_type": "code",
   "execution_count": 2,
   "metadata": {},
   "outputs": [],
   "source": [
    "class TicTacDataset(Dataset):\n",
    "    def __init__(self, path = './data/train.json'):\n",
    "        with open(path, 'r') as f:\n",
    "            self.data = json.load(f)\n",
    "        self.len = len(list(self.data.keys()))\n",
    "        \n",
    "    def __len__(self,):\n",
    "        return self.len\n",
    "    \n",
    "    def __getitem__(self, idx):\n",
    "        ins, outs = self.data[str(idx)]\n",
    "        return ins, outs"
   ]
  },
  {
   "cell_type": "code",
   "execution_count": 3,
   "metadata": {},
   "outputs": [],
   "source": [
    "train_dataset = TicTacDataset(path='./data/train.json')\n",
    "val_dataset = TicTacDataset(path='./data/val.json')\n",
    "test_dataset = TicTacDataset(path='./data/test.json')"
   ]
  },
  {
   "cell_type": "code",
   "execution_count": 4,
   "metadata": {},
   "outputs": [],
   "source": [
    "def collate(batch):\n",
    "    ins = [torch.tensor(b[0])+1 for b in batch]\n",
    "    outs = [torch.tensor(b[1][0])+1 for b in batch]\n",
    "    return torch.stack(ins), torch.stack(outs)\n",
    "\n",
    "batch_size = 64\n",
    "train_dataloader = DataLoader(train_dataset, batch_size=batch_size, shuffle=True, collate_fn=collate)\n",
    "val_dataloader = DataLoader(val_dataset, batch_size=batch_size, shuffle=True, collate_fn=collate)\n",
    "test_dataloader = DataLoader(test_dataset, batch_size=batch_size, shuffle=True, collate_fn=collate)"
   ]
  },
  {
   "cell_type": "markdown",
   "metadata": {},
   "source": [
    "### Create Model"
   ]
  },
  {
   "cell_type": "code",
   "execution_count": 5,
   "metadata": {},
   "outputs": [],
   "source": [
    "class Head(nn.Module):\n",
    "    \"\"\" Singular Head\"\"\"\n",
    "\n",
    "    def __init__(self,\n",
    "                 num_embedding,\n",
    "                 head_size,\n",
    "                 dropout\n",
    "                 ):\n",
    "        super().__init__()\n",
    "        self.key = nn.Linear(num_embedding, head_size, bias=False)\n",
    "        self.query = nn.Linear(num_embedding, head_size, bias=False)\n",
    "        self.value = nn.Linear(num_embedding, head_size, bias=False)\n",
    "\n",
    "        self.dropout = nn.Dropout(dropout)\n",
    "\n",
    "    def forward(self, x):\n",
    "        B,T,C = x.shape\n",
    "\n",
    "        k = self.key(x) # (B,T,C)\n",
    "        q = self.query(x) # (B,T,C)\n",
    "\n",
    "        # Computer attention\n",
    "        # C**0.5 is to make the numbers smaller so softmax doesn't do weird things\n",
    "        wei = q @ k.transpose(-2, -1) / C**0.5 # (B, T, C) @ (B, C, T) -> (B, T, T)\n",
    "        wei = F.softmax(wei, dim=-1)\n",
    "        wei = self.dropout(wei)\n",
    "\n",
    "        # \n",
    "        V = self.value(x)\n",
    "        out = wei @ V # (B, T, T) @ (B, T, C) -> (B, T, C)\n",
    "        return out\n",
    "    \n",
    "class MultiHeadAttention(nn.Module):\n",
    "    \"\"\"Multiple Attention Heads\"\"\"\n",
    "    def __init__(self, num_heads, num_embedding, head_size, dropout):\n",
    "        super().__init__()\n",
    "        self.heads = nn.ModuleList([Head(num_embedding, head_size, dropout) for i in range(num_heads)])\n",
    "        self.project = nn.Linear(num_embedding, num_embedding)                  # Projection layer for gettting back into the residual pathway\n",
    "        self.dropout = nn.Dropout(dropout)\n",
    "\n",
    "    def forward(self, x):\n",
    "        out = torch.cat([h(x) for h in self.heads], dim=-1)\n",
    "        out = self.project(out)\n",
    "        out = self.dropout(out)\n",
    "        return out\n",
    "    \n",
    "class FeedFoward(nn.Module):\n",
    "    \"\"\"Single Layer\"\"\"\n",
    "\n",
    "    def __init__(self, num_embedding, dropout):\n",
    "        super().__init__()\n",
    "\n",
    "        self.m = nn.Sequential(nn.Linear(num_embedding, 4 * num_embedding), # 4* because they did it in the paper\n",
    "                               nn.ReLU(),\n",
    "                               nn.Linear(4 * num_embedding, num_embedding), # Projection layer for gettting back into the residual pathway\n",
    "                               nn.Dropout(dropout)\n",
    "        )\n",
    "    \n",
    "    def forward(self, x):\n",
    "        return self.m(x)\n",
    "    \n",
    "class Block(nn.Module):\n",
    "    \"\"\"\"\"\"\n",
    "\n",
    "    def __init__(self, num_embedding, num_heads, dropout):\n",
    "        super().__init__()\n",
    "\n",
    "        head_size = num_embedding // num_heads\n",
    "        self.self_attn = MultiHeadAttention(num_heads, num_embedding, head_size, dropout)\n",
    "        self.feed_fwd = FeedFoward(num_embedding, dropout)\n",
    "\n",
    "        self.lay_norm1 = nn.LayerNorm(num_embedding)\n",
    "        self.lay_norm2 = nn.LayerNorm(num_embedding)\n",
    "\n",
    "    def forward(self, x):\n",
    "        x = x + self.self_attn(self.lay_norm1(x))\n",
    "        x = x + self.feed_fwd(self.lay_norm2(x))\n",
    "        return x\n",
    "    \n",
    "class TicTacToeModel(nn.Module):\n",
    "    def __init__(self,\n",
    "                 vocab_size,\n",
    "                 block_size,\n",
    "                 num_embedding,\n",
    "                 num_heads,\n",
    "                 num_blocks,\n",
    "                 dropout,\n",
    "                ):\n",
    "        super().__init__()\n",
    "\n",
    "        # Embeddings\n",
    "        self.token_embedding_table = nn.Embedding(vocab_size,num_embedding)\n",
    "        self.position_embedding_table = nn.Embedding(block_size, num_embedding)\n",
    "\n",
    "        # Attention\n",
    "        self.attn_blocks = nn.Sequential(\n",
    "            *[Block(num_embedding, num_heads, dropout) for i in range(num_blocks)],\n",
    "            nn.LayerNorm(num_embedding),\n",
    "        )\n",
    "\n",
    "        self.lm_head = nn.Linear(num_embedding, vocab_size)\n",
    "\n",
    "    def forward(self, inputs):\n",
    "        B, T = inputs.shape\n",
    "\n",
    "        token_embedding = self.token_embedding_table(inputs) # (B, T, C)\n",
    "        position_embedding = self.position_embedding_table(torch.arange(T)) # (T, C)\n",
    "        x = token_embedding + position_embedding # (B, T, C)\n",
    "\n",
    "        x = self.attn_blocks(x)\n",
    "        logits = self.lm_head(x) # (B, T, vocab_size)\n",
    "            \n",
    "        return logits\n"
   ]
  },
  {
   "cell_type": "markdown",
   "metadata": {},
   "source": [
    "### Create Trainer"
   ]
  },
  {
   "cell_type": "code",
   "execution_count": 13,
   "metadata": {},
   "outputs": [],
   "source": [
    "class ModelTrainer:\n",
    "    def __init__(self, model,\n",
    "                 train_dataloader,\n",
    "                 val_dataloader, \n",
    "                 lr=1e-3,\n",
    "                 epochs = 100,\n",
    "                 early_stopping = 100,\n",
    "                 device = None):\n",
    "        self.verbose = False\n",
    "\n",
    "        self.model = model\n",
    "        self.device = device if device is not None else ('cuda' if torch.cuda.is_available() else 'cpu')\n",
    "\n",
    "        self.model.to(self.device)\n",
    "\n",
    "        self.train_loader = train_dataloader\n",
    "        self.val_loader = val_dataloader\n",
    "\n",
    "        self.epochs = epochs\n",
    "        self.early_stopping = early_stopping\n",
    "        self.lr = lr\n",
    "        self.optimizer = torch.optim.AdamW(model.parameters(), lr=self.lr)\n",
    "        self.criterion = nn.CrossEntropyLoss() \n",
    "        self.scheduler = torch.optim.lr_scheduler.ReduceLROnPlateau(self.optimizer,\n",
    "                                                                    mode='min',\n",
    "                                                                    factor = 0.5,\n",
    "                                                                    patience = 30)  # Reduce LR when learning stops\n",
    "\n",
    "    def train_one_epoch(self):\n",
    "        self.model.train()\n",
    "        running_loss = 0.0\n",
    "        \n",
    "        for inputs, labels in tqdm(self.train_loader, desc=\"Training\", unit=\"batch\"):\n",
    "            inputs, labels = inputs.to(self.device), labels.to(self.device)\n",
    "            \n",
    "            self.optimizer.zero_grad()  # Zero the gradients\n",
    "            logits = self.model(inputs)\n",
    "            \n",
    "            loss = self.criterion(logits.view(-1, logits.size(-1)), labels.view(-1))\n",
    "            loss.backward()  # Backpropagate the loss\n",
    "            self.optimizer.step()  # Update model parameters\n",
    "            \n",
    "            running_loss += loss.item()\n",
    "        \n",
    "        avg_train_loss = running_loss / len(self.train_loader)\n",
    "        return avg_train_loss\n",
    "    \n",
    "    def evaluate(self):\n",
    "        self.model.eval()\n",
    "        correct = 0\n",
    "        total = 0\n",
    "        running_loss = 0.0\n",
    "        \n",
    "        with torch.no_grad():  # No need to track gradients during evaluation\n",
    "            for inputs, labels in self.val_loader: #tqdm(self.val_loader, desc=\"Evaluating\", unit=\"batch\"):\n",
    "                inputs, labels = inputs.to(self.device), labels.to(self.device)\n",
    "                logits = self.model(inputs)\n",
    "                outputs = torch.argmax(logits, dim=2)\n",
    "                \n",
    "                loss = self.criterion(logits.view(-1, logits.size(-1)), labels.view(-1))\n",
    "                running_loss += loss.item()\n",
    "                \n",
    "                total += labels.size(0)\n",
    "                correct += (torch.all(outputs == labels, dim=1)).sum().item()\n",
    "        \n",
    "        avg_val_loss = running_loss / len(self.val_loader)\n",
    "        accuracy = correct / total\n",
    "        return avg_val_loss, accuracy\n",
    "    \n",
    "    def train(self):\n",
    "        best_val_loss = np.inf\n",
    "        train_losses = []\n",
    "        val_losses = []\n",
    "        \n",
    "        for epoch in range(self.epochs):\n",
    "            # print(f\"Epoch {epoch+1}/{self.epochs}\")\n",
    "            train_loss = self.train_one_epoch()\n",
    "            val_loss, val_accuracy = self.evaluate()\n",
    "\n",
    "            train_losses.append(train_loss)\n",
    "            val_losses.append(val_loss)\n",
    "            \n",
    "            if self.verbose:\n",
    "                print(f\"Train Loss: {train_loss:.4f}\")\n",
    "                print(f\"Validation Loss: {val_loss:.4f}\")\n",
    "                print(f\"Validation Accuracy: {val_accuracy * 100:.2f}%\")\n",
    "            \n",
    "            # Save the best model based on validation accuracy\n",
    "            if val_loss < best_val_loss:\n",
    "                counter = 0\n",
    "                best_val_loss = val_loss\n",
    "                print(\"Saving best model...\")\n",
    "                torch.save(self.model.state_dict(), \"./models/best_model.pth\")\n",
    "            else:\n",
    "                counter += 1\n",
    "\n",
    "            if counter > 50:\n",
    "                print(f\"Early stopping at Epoch {epoch}\")\n",
    "                break\n",
    "        return train_losses, val_losses\n",
    "\n",
    "\n",
    "    def load_best_model(self):\n",
    "        self.model.load_state_dict(torch.load(\"./models/best_model.pth\"))\n",
    "        self.model.to(self.device)\n",
    "        print(\"Best model loaded successfully.\")\n",
    "\n",
    "    def test(self, test_dataloader, model_path: str = None):\n",
    "        if model_path is None:\n",
    "            self.load_best_model()\n",
    "        else:\n",
    "            self.model.load_state_dict(torch.load(model_path))\n",
    "            self.model.to(self.device)\n",
    "\n",
    "        self.model.eval()\n",
    "        correct = 0\n",
    "        total = 0\n",
    "        \n",
    "        with torch.no_grad():  # No need to track gradients during evaluation\n",
    "            for inputs, labels in tqdm(test_dataloader, desc=\"Testing\", unit=\"batch\"):\n",
    "                inputs, labels = inputs.to(self.device), labels.to(self.device)\n",
    "                logits = self.model(inputs)\n",
    "                \n",
    "                \n",
    "                outputs = torch.argmax(logits, dim=2)\n",
    "                # print(f\"outputs shape: {outputs.shape}\")\n",
    "                \n",
    "                total += labels.size(0)\n",
    "                correct += (torch.all(outputs == labels, dim=1)).sum().item()\n",
    "                # input()\n",
    "        \n",
    "        accuracy = correct / total\n",
    "        return accuracy\n",
    "        "
   ]
  },
  {
   "cell_type": "markdown",
   "metadata": {},
   "source": [
    "### Train Model"
   ]
  },
  {
   "cell_type": "code",
   "execution_count": 14,
   "metadata": {},
   "outputs": [],
   "source": [
    "model = TicTacToeModel(vocab_size = 3,\n",
    "                       num_embedding = 128,\n",
    "                       num_heads = 8,\n",
    "                       num_blocks = 4,\n",
    "                       block_size = 9,\n",
    "                       dropout = 0.1\n",
    "                       )\n",
    "trainer = ModelTrainer(model, train_dataloader, val_dataloader, epochs=500)"
   ]
  },
  {
   "cell_type": "code",
   "execution_count": 15,
   "metadata": {},
   "outputs": [
    {
     "name": "stderr",
     "output_type": "stream",
     "text": [
      "Training: 100%|██████████| 65/65 [00:06<00:00, 10.52batch/s]\n"
     ]
    },
    {
     "name": "stdout",
     "output_type": "stream",
     "text": [
      "Saving best model...\n"
     ]
    },
    {
     "name": "stderr",
     "output_type": "stream",
     "text": [
      "Training: 100%|██████████| 65/65 [00:06<00:00, 10.12batch/s]\n"
     ]
    },
    {
     "name": "stdout",
     "output_type": "stream",
     "text": [
      "Saving best model...\n"
     ]
    },
    {
     "name": "stderr",
     "output_type": "stream",
     "text": [
      "Training: 100%|██████████| 65/65 [00:06<00:00, 10.67batch/s]\n",
      "Training: 100%|██████████| 65/65 [00:05<00:00, 11.39batch/s]\n"
     ]
    },
    {
     "name": "stdout",
     "output_type": "stream",
     "text": [
      "Saving best model...\n"
     ]
    },
    {
     "name": "stderr",
     "output_type": "stream",
     "text": [
      "Training: 100%|██████████| 65/65 [00:05<00:00, 11.25batch/s]\n"
     ]
    },
    {
     "name": "stdout",
     "output_type": "stream",
     "text": [
      "Saving best model...\n"
     ]
    },
    {
     "name": "stderr",
     "output_type": "stream",
     "text": [
      "Training: 100%|██████████| 65/65 [00:06<00:00, 10.45batch/s]\n"
     ]
    },
    {
     "name": "stdout",
     "output_type": "stream",
     "text": [
      "Saving best model...\n"
     ]
    },
    {
     "name": "stderr",
     "output_type": "stream",
     "text": [
      "Training: 100%|██████████| 65/65 [00:05<00:00, 11.07batch/s]\n"
     ]
    },
    {
     "name": "stdout",
     "output_type": "stream",
     "text": [
      "Saving best model...\n"
     ]
    },
    {
     "name": "stderr",
     "output_type": "stream",
     "text": [
      "Training: 100%|██████████| 65/65 [00:05<00:00, 11.45batch/s]\n"
     ]
    },
    {
     "name": "stdout",
     "output_type": "stream",
     "text": [
      "Saving best model...\n"
     ]
    },
    {
     "name": "stderr",
     "output_type": "stream",
     "text": [
      "Training: 100%|██████████| 65/65 [00:05<00:00, 11.89batch/s]\n"
     ]
    },
    {
     "name": "stdout",
     "output_type": "stream",
     "text": [
      "Saving best model...\n"
     ]
    },
    {
     "name": "stderr",
     "output_type": "stream",
     "text": [
      "Training: 100%|██████████| 65/65 [00:05<00:00, 12.17batch/s]\n"
     ]
    },
    {
     "name": "stdout",
     "output_type": "stream",
     "text": [
      "Saving best model...\n"
     ]
    },
    {
     "name": "stderr",
     "output_type": "stream",
     "text": [
      "Training: 100%|██████████| 65/65 [00:05<00:00, 11.48batch/s]\n"
     ]
    },
    {
     "name": "stdout",
     "output_type": "stream",
     "text": [
      "Saving best model...\n"
     ]
    },
    {
     "name": "stderr",
     "output_type": "stream",
     "text": [
      "Training: 100%|██████████| 65/65 [00:05<00:00, 11.72batch/s]\n"
     ]
    },
    {
     "name": "stdout",
     "output_type": "stream",
     "text": [
      "Saving best model...\n"
     ]
    },
    {
     "name": "stderr",
     "output_type": "stream",
     "text": [
      "Training: 100%|██████████| 65/65 [00:05<00:00, 11.76batch/s]\n"
     ]
    },
    {
     "name": "stdout",
     "output_type": "stream",
     "text": [
      "Saving best model...\n"
     ]
    },
    {
     "name": "stderr",
     "output_type": "stream",
     "text": [
      "Training: 100%|██████████| 65/65 [00:05<00:00, 11.42batch/s]\n"
     ]
    },
    {
     "name": "stdout",
     "output_type": "stream",
     "text": [
      "Saving best model...\n"
     ]
    },
    {
     "name": "stderr",
     "output_type": "stream",
     "text": [
      "Training: 100%|██████████| 65/65 [00:05<00:00, 11.59batch/s]\n"
     ]
    },
    {
     "name": "stdout",
     "output_type": "stream",
     "text": [
      "Saving best model...\n"
     ]
    },
    {
     "name": "stderr",
     "output_type": "stream",
     "text": [
      "Training: 100%|██████████| 65/65 [00:05<00:00, 11.60batch/s]\n"
     ]
    },
    {
     "name": "stdout",
     "output_type": "stream",
     "text": [
      "Saving best model...\n"
     ]
    },
    {
     "name": "stderr",
     "output_type": "stream",
     "text": [
      "Training: 100%|██████████| 65/65 [00:05<00:00, 11.54batch/s]\n"
     ]
    },
    {
     "name": "stdout",
     "output_type": "stream",
     "text": [
      "Saving best model...\n"
     ]
    },
    {
     "name": "stderr",
     "output_type": "stream",
     "text": [
      "Training: 100%|██████████| 65/65 [00:05<00:00, 11.72batch/s]\n"
     ]
    },
    {
     "name": "stdout",
     "output_type": "stream",
     "text": [
      "Saving best model...\n"
     ]
    },
    {
     "name": "stderr",
     "output_type": "stream",
     "text": [
      "Training: 100%|██████████| 65/65 [00:05<00:00, 11.86batch/s]\n"
     ]
    },
    {
     "name": "stdout",
     "output_type": "stream",
     "text": [
      "Saving best model...\n"
     ]
    },
    {
     "name": "stderr",
     "output_type": "stream",
     "text": [
      "Training: 100%|██████████| 65/65 [00:05<00:00, 11.87batch/s]\n"
     ]
    },
    {
     "name": "stdout",
     "output_type": "stream",
     "text": [
      "Saving best model...\n"
     ]
    },
    {
     "name": "stderr",
     "output_type": "stream",
     "text": [
      "Training: 100%|██████████| 65/65 [00:06<00:00, 10.62batch/s]\n"
     ]
    },
    {
     "name": "stdout",
     "output_type": "stream",
     "text": [
      "Saving best model...\n"
     ]
    },
    {
     "name": "stderr",
     "output_type": "stream",
     "text": [
      "Training: 100%|██████████| 65/65 [00:06<00:00, 10.66batch/s]\n",
      "Training: 100%|██████████| 65/65 [00:06<00:00, 10.16batch/s]\n",
      "Training: 100%|██████████| 65/65 [00:05<00:00, 11.19batch/s]\n",
      "Training: 100%|██████████| 65/65 [00:06<00:00, 10.64batch/s]\n"
     ]
    },
    {
     "name": "stdout",
     "output_type": "stream",
     "text": [
      "Saving best model...\n"
     ]
    },
    {
     "name": "stderr",
     "output_type": "stream",
     "text": [
      "Training: 100%|██████████| 65/65 [00:05<00:00, 11.13batch/s]\n",
      "Training: 100%|██████████| 65/65 [00:05<00:00, 11.51batch/s]\n",
      "Training: 100%|██████████| 65/65 [00:05<00:00, 11.86batch/s]\n",
      "Training: 100%|██████████| 65/65 [00:05<00:00, 11.29batch/s]\n",
      "Training: 100%|██████████| 65/65 [00:05<00:00, 11.62batch/s]\n"
     ]
    },
    {
     "name": "stdout",
     "output_type": "stream",
     "text": [
      "Saving best model...\n"
     ]
    },
    {
     "name": "stderr",
     "output_type": "stream",
     "text": [
      "Training: 100%|██████████| 65/65 [00:05<00:00, 11.50batch/s]\n",
      "Training: 100%|██████████| 65/65 [00:05<00:00, 11.62batch/s]\n",
      "Training: 100%|██████████| 65/65 [00:05<00:00, 11.51batch/s]\n"
     ]
    },
    {
     "name": "stdout",
     "output_type": "stream",
     "text": [
      "Saving best model...\n"
     ]
    },
    {
     "name": "stderr",
     "output_type": "stream",
     "text": [
      "Training: 100%|██████████| 65/65 [00:05<00:00, 11.63batch/s]\n"
     ]
    },
    {
     "name": "stdout",
     "output_type": "stream",
     "text": [
      "Saving best model...\n"
     ]
    },
    {
     "name": "stderr",
     "output_type": "stream",
     "text": [
      "Training: 100%|██████████| 65/65 [00:05<00:00, 11.37batch/s]\n",
      "Training: 100%|██████████| 65/65 [00:05<00:00, 11.72batch/s]\n",
      "Training: 100%|██████████| 65/65 [00:05<00:00, 11.84batch/s]\n",
      "Training: 100%|██████████| 65/65 [00:05<00:00, 11.78batch/s]\n",
      "Training: 100%|██████████| 65/65 [00:05<00:00, 11.74batch/s]\n",
      "Training: 100%|██████████| 65/65 [00:05<00:00, 11.54batch/s]\n",
      "Training: 100%|██████████| 65/65 [00:05<00:00, 11.64batch/s]\n"
     ]
    },
    {
     "name": "stdout",
     "output_type": "stream",
     "text": [
      "Saving best model...\n"
     ]
    },
    {
     "name": "stderr",
     "output_type": "stream",
     "text": [
      "Training: 100%|██████████| 65/65 [00:05<00:00, 11.17batch/s]\n",
      "Training: 100%|██████████| 65/65 [00:05<00:00, 11.88batch/s]\n"
     ]
    },
    {
     "name": "stdout",
     "output_type": "stream",
     "text": [
      "Saving best model...\n"
     ]
    },
    {
     "name": "stderr",
     "output_type": "stream",
     "text": [
      "Training: 100%|██████████| 65/65 [00:05<00:00, 11.48batch/s]\n",
      "Training: 100%|██████████| 65/65 [00:05<00:00, 11.71batch/s]\n"
     ]
    },
    {
     "name": "stdout",
     "output_type": "stream",
     "text": [
      "Saving best model...\n"
     ]
    },
    {
     "name": "stderr",
     "output_type": "stream",
     "text": [
      "Training: 100%|██████████| 65/65 [00:05<00:00, 11.52batch/s]\n",
      "Training: 100%|██████████| 65/65 [00:05<00:00, 11.77batch/s]\n",
      "Training: 100%|██████████| 65/65 [00:05<00:00, 11.50batch/s]\n",
      "Training: 100%|██████████| 65/65 [00:05<00:00, 11.74batch/s]\n"
     ]
    },
    {
     "name": "stdout",
     "output_type": "stream",
     "text": [
      "Saving best model...\n"
     ]
    },
    {
     "name": "stderr",
     "output_type": "stream",
     "text": [
      "Training: 100%|██████████| 65/65 [00:05<00:00, 11.37batch/s]\n",
      "Training: 100%|██████████| 65/65 [00:05<00:00, 11.96batch/s]\n",
      "Training: 100%|██████████| 65/65 [00:05<00:00, 11.89batch/s]\n",
      "Training: 100%|██████████| 65/65 [00:05<00:00, 11.85batch/s]\n",
      "Training: 100%|██████████| 65/65 [00:05<00:00, 11.63batch/s]\n",
      "Training: 100%|██████████| 65/65 [00:05<00:00, 11.58batch/s]\n",
      "Training: 100%|██████████| 65/65 [00:05<00:00, 12.01batch/s]\n"
     ]
    },
    {
     "name": "stdout",
     "output_type": "stream",
     "text": [
      "Saving best model...\n"
     ]
    },
    {
     "name": "stderr",
     "output_type": "stream",
     "text": [
      "Training: 100%|██████████| 65/65 [00:05<00:00, 11.43batch/s]\n",
      "Training: 100%|██████████| 65/65 [00:05<00:00, 11.93batch/s]\n",
      "Training: 100%|██████████| 65/65 [00:05<00:00, 11.69batch/s]\n",
      "Training: 100%|██████████| 65/65 [00:05<00:00, 11.99batch/s]\n",
      "Training: 100%|██████████| 65/65 [00:05<00:00, 11.85batch/s]\n",
      "Training: 100%|██████████| 65/65 [00:05<00:00, 11.82batch/s]\n"
     ]
    },
    {
     "name": "stdout",
     "output_type": "stream",
     "text": [
      "Saving best model...\n"
     ]
    },
    {
     "name": "stderr",
     "output_type": "stream",
     "text": [
      "Training: 100%|██████████| 65/65 [00:05<00:00, 11.69batch/s]\n",
      "Training: 100%|██████████| 65/65 [00:05<00:00, 11.84batch/s]\n",
      "Training: 100%|██████████| 65/65 [00:05<00:00, 11.70batch/s]\n",
      "Training: 100%|██████████| 65/65 [00:05<00:00, 11.21batch/s]\n",
      "Training: 100%|██████████| 65/65 [00:05<00:00, 11.72batch/s]\n"
     ]
    },
    {
     "name": "stdout",
     "output_type": "stream",
     "text": [
      "Saving best model...\n"
     ]
    },
    {
     "name": "stderr",
     "output_type": "stream",
     "text": [
      "Training: 100%|██████████| 65/65 [00:05<00:00, 11.55batch/s]\n",
      "Training: 100%|██████████| 65/65 [00:05<00:00, 11.12batch/s]\n",
      "Training: 100%|██████████| 65/65 [00:05<00:00, 11.72batch/s]\n",
      "Training: 100%|██████████| 65/65 [00:05<00:00, 11.78batch/s]\n",
      "Training: 100%|██████████| 65/65 [00:05<00:00, 11.56batch/s]\n"
     ]
    },
    {
     "name": "stdout",
     "output_type": "stream",
     "text": [
      "Saving best model...\n"
     ]
    },
    {
     "name": "stderr",
     "output_type": "stream",
     "text": [
      "Training: 100%|██████████| 65/65 [00:05<00:00, 11.66batch/s]\n",
      "Training: 100%|██████████| 65/65 [00:05<00:00, 11.76batch/s]\n",
      "Training: 100%|██████████| 65/65 [00:05<00:00, 11.98batch/s]\n",
      "Training: 100%|██████████| 65/65 [00:05<00:00, 11.87batch/s]\n",
      "Training: 100%|██████████| 65/65 [00:05<00:00, 11.65batch/s]\n",
      "Training: 100%|██████████| 65/65 [00:05<00:00, 11.98batch/s]\n",
      "Training: 100%|██████████| 65/65 [00:05<00:00, 11.55batch/s]\n",
      "Training: 100%|██████████| 65/65 [00:05<00:00, 11.63batch/s]\n",
      "Training: 100%|██████████| 65/65 [00:05<00:00, 11.60batch/s]\n",
      "Training: 100%|██████████| 65/65 [00:05<00:00, 11.97batch/s]\n",
      "Training: 100%|██████████| 65/65 [00:05<00:00, 11.68batch/s]\n",
      "Training: 100%|██████████| 65/65 [00:05<00:00, 11.75batch/s]\n",
      "Training: 100%|██████████| 65/65 [00:05<00:00, 11.99batch/s]\n",
      "Training: 100%|██████████| 65/65 [00:05<00:00, 11.63batch/s]\n"
     ]
    },
    {
     "name": "stdout",
     "output_type": "stream",
     "text": [
      "Saving best model...\n"
     ]
    },
    {
     "name": "stderr",
     "output_type": "stream",
     "text": [
      "Training: 100%|██████████| 65/65 [00:05<00:00, 11.57batch/s]\n"
     ]
    },
    {
     "name": "stdout",
     "output_type": "stream",
     "text": [
      "Saving best model...\n"
     ]
    },
    {
     "name": "stderr",
     "output_type": "stream",
     "text": [
      "Training: 100%|██████████| 65/65 [00:05<00:00, 11.48batch/s]\n",
      "Training: 100%|██████████| 65/65 [00:05<00:00, 11.87batch/s]\n",
      "Training: 100%|██████████| 65/65 [00:05<00:00, 12.00batch/s]\n",
      "Training: 100%|██████████| 65/65 [00:05<00:00, 12.07batch/s]\n",
      "Training: 100%|██████████| 65/65 [00:05<00:00, 11.63batch/s]\n",
      "Training: 100%|██████████| 65/65 [00:05<00:00, 11.84batch/s]\n",
      "Training: 100%|██████████| 65/65 [00:05<00:00, 11.74batch/s]\n",
      "Training: 100%|██████████| 65/65 [00:05<00:00, 11.84batch/s]\n",
      "Training: 100%|██████████| 65/65 [00:05<00:00, 11.71batch/s]\n",
      "Training: 100%|██████████| 65/65 [00:05<00:00, 11.84batch/s]\n",
      "Training: 100%|██████████| 65/65 [00:05<00:00, 11.76batch/s]\n",
      "Training: 100%|██████████| 65/65 [00:05<00:00, 11.75batch/s]\n",
      "Training: 100%|██████████| 65/65 [00:05<00:00, 11.70batch/s]\n"
     ]
    },
    {
     "name": "stdout",
     "output_type": "stream",
     "text": [
      "Saving best model...\n"
     ]
    },
    {
     "name": "stderr",
     "output_type": "stream",
     "text": [
      "Training: 100%|██████████| 65/65 [00:05<00:00, 11.51batch/s]\n"
     ]
    },
    {
     "name": "stdout",
     "output_type": "stream",
     "text": [
      "Saving best model...\n"
     ]
    },
    {
     "name": "stderr",
     "output_type": "stream",
     "text": [
      "Training: 100%|██████████| 65/65 [00:05<00:00, 11.51batch/s]\n",
      "Training: 100%|██████████| 65/65 [00:05<00:00, 11.99batch/s]\n",
      "Training: 100%|██████████| 65/65 [00:05<00:00, 11.74batch/s]\n",
      "Training: 100%|██████████| 65/65 [00:05<00:00, 11.77batch/s]\n",
      "Training: 100%|██████████| 65/65 [00:05<00:00, 11.87batch/s]\n",
      "Training: 100%|██████████| 65/65 [00:05<00:00, 11.64batch/s]\n",
      "Training: 100%|██████████| 65/65 [00:05<00:00, 11.77batch/s]\n",
      "Training: 100%|██████████| 65/65 [00:05<00:00, 12.03batch/s]\n",
      "Training: 100%|██████████| 65/65 [00:05<00:00, 11.16batch/s]\n",
      "Training: 100%|██████████| 65/65 [00:05<00:00, 11.83batch/s]\n",
      "Training: 100%|██████████| 65/65 [00:05<00:00, 11.88batch/s]\n"
     ]
    },
    {
     "name": "stdout",
     "output_type": "stream",
     "text": [
      "Saving best model...\n"
     ]
    },
    {
     "name": "stderr",
     "output_type": "stream",
     "text": [
      "Training: 100%|██████████| 65/65 [00:05<00:00, 11.95batch/s]\n",
      "Training: 100%|██████████| 65/65 [00:05<00:00, 11.79batch/s]\n",
      "Training: 100%|██████████| 65/65 [00:05<00:00, 11.88batch/s]\n",
      "Training: 100%|██████████| 65/65 [00:05<00:00, 11.89batch/s]\n",
      "Training: 100%|██████████| 65/65 [00:05<00:00, 11.73batch/s]\n",
      "Training: 100%|██████████| 65/65 [00:05<00:00, 11.92batch/s]\n",
      "Training: 100%|██████████| 65/65 [00:05<00:00, 12.02batch/s]\n",
      "Training: 100%|██████████| 65/65 [00:05<00:00, 12.15batch/s]\n",
      "Training: 100%|██████████| 65/65 [00:05<00:00, 11.97batch/s]\n",
      "Training: 100%|██████████| 65/65 [00:05<00:00, 12.11batch/s]\n",
      "Training: 100%|██████████| 65/65 [00:05<00:00, 11.66batch/s]\n",
      "Training: 100%|██████████| 65/65 [00:05<00:00, 12.00batch/s]\n",
      "Training: 100%|██████████| 65/65 [00:05<00:00, 11.79batch/s]\n",
      "Training: 100%|██████████| 65/65 [00:05<00:00, 11.65batch/s]\n",
      "Training: 100%|██████████| 65/65 [00:05<00:00, 12.01batch/s]\n"
     ]
    },
    {
     "name": "stdout",
     "output_type": "stream",
     "text": [
      "Saving best model...\n"
     ]
    },
    {
     "name": "stderr",
     "output_type": "stream",
     "text": [
      "Training: 100%|██████████| 65/65 [00:05<00:00, 11.56batch/s]\n",
      "Training: 100%|██████████| 65/65 [00:05<00:00, 11.68batch/s]\n",
      "Training: 100%|██████████| 65/65 [00:05<00:00, 11.79batch/s]\n",
      "Training: 100%|██████████| 65/65 [00:05<00:00, 11.85batch/s]\n",
      "Training: 100%|██████████| 65/65 [00:05<00:00, 11.75batch/s]\n",
      "Training: 100%|██████████| 65/65 [00:05<00:00, 11.86batch/s]\n",
      "Training: 100%|██████████| 65/65 [00:05<00:00, 11.91batch/s]\n",
      "Training: 100%|██████████| 65/65 [00:05<00:00, 12.05batch/s]\n",
      "Training: 100%|██████████| 65/65 [00:05<00:00, 11.93batch/s]\n",
      "Training: 100%|██████████| 65/65 [00:05<00:00, 11.48batch/s]\n",
      "Training: 100%|██████████| 65/65 [00:05<00:00, 11.79batch/s]\n",
      "Training: 100%|██████████| 65/65 [00:05<00:00, 11.72batch/s]\n",
      "Training: 100%|██████████| 65/65 [00:05<00:00, 11.60batch/s]\n",
      "Training: 100%|██████████| 65/65 [00:05<00:00, 11.53batch/s]\n",
      "Training: 100%|██████████| 65/65 [00:05<00:00, 11.81batch/s]\n",
      "Training: 100%|██████████| 65/65 [00:05<00:00, 11.46batch/s]\n",
      "Training: 100%|██████████| 65/65 [00:05<00:00, 11.74batch/s]\n",
      "Training: 100%|██████████| 65/65 [00:05<00:00, 11.67batch/s]\n"
     ]
    },
    {
     "name": "stdout",
     "output_type": "stream",
     "text": [
      "Saving best model...\n"
     ]
    },
    {
     "name": "stderr",
     "output_type": "stream",
     "text": [
      "Training: 100%|██████████| 65/65 [00:05<00:00, 11.60batch/s]\n",
      "Training: 100%|██████████| 65/65 [00:05<00:00, 12.13batch/s]\n",
      "Training: 100%|██████████| 65/65 [00:05<00:00, 11.54batch/s]\n",
      "Training: 100%|██████████| 65/65 [00:05<00:00, 11.22batch/s]\n",
      "Training: 100%|██████████| 65/65 [00:05<00:00, 11.84batch/s]\n",
      "Training: 100%|██████████| 65/65 [00:05<00:00, 11.75batch/s]\n",
      "Training: 100%|██████████| 65/65 [00:05<00:00, 11.84batch/s]\n",
      "Training: 100%|██████████| 65/65 [00:05<00:00, 11.83batch/s]\n",
      "Training: 100%|██████████| 65/65 [00:05<00:00, 11.82batch/s]\n",
      "Training: 100%|██████████| 65/65 [00:05<00:00, 11.83batch/s]\n",
      "Training: 100%|██████████| 65/65 [00:05<00:00, 12.05batch/s]\n",
      "Training: 100%|██████████| 65/65 [00:05<00:00, 11.85batch/s]\n",
      "Training: 100%|██████████| 65/65 [00:05<00:00, 11.62batch/s]\n",
      "Training: 100%|██████████| 65/65 [00:05<00:00, 11.83batch/s]\n",
      "Training: 100%|██████████| 65/65 [00:05<00:00, 11.67batch/s]\n",
      "Training: 100%|██████████| 65/65 [00:05<00:00, 12.03batch/s]\n",
      "Training: 100%|██████████| 65/65 [00:05<00:00, 12.03batch/s]\n",
      "Training: 100%|██████████| 65/65 [00:05<00:00, 11.98batch/s]\n",
      "Training: 100%|██████████| 65/65 [00:05<00:00, 12.04batch/s]\n",
      "Training: 100%|██████████| 65/65 [00:05<00:00, 11.97batch/s]\n",
      "Training: 100%|██████████| 65/65 [00:05<00:00, 11.74batch/s]\n",
      "Training: 100%|██████████| 65/65 [00:05<00:00, 11.91batch/s]\n",
      "Training: 100%|██████████| 65/65 [00:05<00:00, 11.63batch/s]\n"
     ]
    },
    {
     "name": "stdout",
     "output_type": "stream",
     "text": [
      "Saving best model...\n"
     ]
    },
    {
     "name": "stderr",
     "output_type": "stream",
     "text": [
      "Training: 100%|██████████| 65/65 [00:05<00:00, 11.48batch/s]\n",
      "Training: 100%|██████████| 65/65 [00:05<00:00, 11.81batch/s]\n",
      "Training: 100%|██████████| 65/65 [00:05<00:00, 11.49batch/s]\n",
      "Training: 100%|██████████| 65/65 [00:05<00:00, 11.71batch/s]\n",
      "Training: 100%|██████████| 65/65 [00:05<00:00, 11.75batch/s]\n",
      "Training: 100%|██████████| 65/65 [00:05<00:00, 11.98batch/s]\n",
      "Training: 100%|██████████| 65/65 [00:05<00:00, 11.67batch/s]\n",
      "Training: 100%|██████████| 65/65 [00:05<00:00, 11.73batch/s]\n",
      "Training: 100%|██████████| 65/65 [00:05<00:00, 11.70batch/s]\n",
      "Training: 100%|██████████| 65/65 [00:05<00:00, 11.88batch/s]\n",
      "Training: 100%|██████████| 65/65 [00:05<00:00, 11.86batch/s]\n",
      "Training: 100%|██████████| 65/65 [00:05<00:00, 11.63batch/s]\n",
      "Training: 100%|██████████| 65/65 [00:05<00:00, 11.90batch/s]\n",
      "Training: 100%|██████████| 65/65 [00:05<00:00, 11.73batch/s]\n",
      "Training: 100%|██████████| 65/65 [00:05<00:00, 12.02batch/s]\n",
      "Training: 100%|██████████| 65/65 [00:05<00:00, 11.81batch/s]\n",
      "Training: 100%|██████████| 65/65 [00:05<00:00, 11.62batch/s]\n",
      "Training: 100%|██████████| 65/65 [00:05<00:00, 11.66batch/s]\n",
      "Training: 100%|██████████| 65/65 [00:05<00:00, 11.78batch/s]\n",
      "Training: 100%|██████████| 65/65 [00:05<00:00, 11.67batch/s]\n",
      "Training: 100%|██████████| 65/65 [00:05<00:00, 12.06batch/s]\n",
      "Training: 100%|██████████| 65/65 [00:05<00:00, 11.87batch/s]\n",
      "Training: 100%|██████████| 65/65 [00:05<00:00, 11.75batch/s]\n"
     ]
    },
    {
     "name": "stdout",
     "output_type": "stream",
     "text": [
      "Saving best model...\n"
     ]
    },
    {
     "name": "stderr",
     "output_type": "stream",
     "text": [
      "Training: 100%|██████████| 65/65 [00:05<00:00, 11.35batch/s]\n",
      "Training: 100%|██████████| 65/65 [00:05<00:00, 11.37batch/s]\n",
      "Training: 100%|██████████| 65/65 [00:05<00:00, 11.39batch/s]\n",
      "Training: 100%|██████████| 65/65 [00:05<00:00, 11.59batch/s]\n",
      "Training: 100%|██████████| 65/65 [00:05<00:00, 11.34batch/s]\n",
      "Training: 100%|██████████| 65/65 [00:05<00:00, 11.89batch/s]\n",
      "Training: 100%|██████████| 65/65 [00:05<00:00, 11.71batch/s]\n",
      "Training: 100%|██████████| 65/65 [00:05<00:00, 11.54batch/s]\n",
      "Training: 100%|██████████| 65/65 [00:05<00:00, 11.72batch/s]\n",
      "Training: 100%|██████████| 65/65 [00:05<00:00, 11.83batch/s]\n",
      "Training: 100%|██████████| 65/65 [00:05<00:00, 11.51batch/s]\n",
      "Training: 100%|██████████| 65/65 [00:05<00:00, 11.95batch/s]\n",
      "Training: 100%|██████████| 65/65 [00:05<00:00, 11.46batch/s]\n",
      "Training: 100%|██████████| 65/65 [00:05<00:00, 11.70batch/s]\n",
      "Training: 100%|██████████| 65/65 [00:05<00:00, 11.83batch/s]\n",
      "Training: 100%|██████████| 65/65 [00:05<00:00, 11.51batch/s]\n",
      "Training: 100%|██████████| 65/65 [00:05<00:00, 11.55batch/s]\n",
      "Training: 100%|██████████| 65/65 [00:05<00:00, 11.93batch/s]\n",
      "Training: 100%|██████████| 65/65 [00:05<00:00, 11.50batch/s]\n",
      "Training: 100%|██████████| 65/65 [00:05<00:00, 11.82batch/s]\n",
      "Training: 100%|██████████| 65/65 [00:05<00:00, 11.75batch/s]\n",
      "Training: 100%|██████████| 65/65 [00:05<00:00, 11.89batch/s]\n",
      "Training: 100%|██████████| 65/65 [00:05<00:00, 11.85batch/s]\n",
      "Training: 100%|██████████| 65/65 [00:05<00:00, 11.40batch/s]\n",
      "Training: 100%|██████████| 65/65 [00:05<00:00, 11.82batch/s]\n",
      "Training: 100%|██████████| 65/65 [00:05<00:00, 11.91batch/s]\n",
      "Training: 100%|██████████| 65/65 [00:05<00:00, 11.68batch/s]\n",
      "Training: 100%|██████████| 65/65 [00:05<00:00, 11.63batch/s]\n",
      "Training: 100%|██████████| 65/65 [00:05<00:00, 11.94batch/s]\n"
     ]
    },
    {
     "name": "stdout",
     "output_type": "stream",
     "text": [
      "Saving best model...\n"
     ]
    },
    {
     "name": "stderr",
     "output_type": "stream",
     "text": [
      "Training: 100%|██████████| 65/65 [00:06<00:00, 10.48batch/s]\n",
      "Training: 100%|██████████| 65/65 [00:05<00:00, 11.89batch/s]\n",
      "Training: 100%|██████████| 65/65 [00:05<00:00, 11.54batch/s]\n",
      "Training: 100%|██████████| 65/65 [00:05<00:00, 11.77batch/s]\n",
      "Training: 100%|██████████| 65/65 [00:05<00:00, 11.67batch/s]\n",
      "Training: 100%|██████████| 65/65 [00:05<00:00, 11.92batch/s]\n",
      "Training: 100%|██████████| 65/65 [00:05<00:00, 11.67batch/s]\n",
      "Training: 100%|██████████| 65/65 [00:05<00:00, 11.76batch/s]\n",
      "Training: 100%|██████████| 65/65 [00:05<00:00, 12.07batch/s]\n",
      "Training: 100%|██████████| 65/65 [00:05<00:00, 11.61batch/s]\n",
      "Training: 100%|██████████| 65/65 [00:05<00:00, 11.40batch/s]\n",
      "Training: 100%|██████████| 65/65 [00:05<00:00, 11.63batch/s]\n",
      "Training: 100%|██████████| 65/65 [00:05<00:00, 11.98batch/s]\n",
      "Training: 100%|██████████| 65/65 [00:05<00:00, 11.78batch/s]\n",
      "Training: 100%|██████████| 65/65 [00:05<00:00, 11.84batch/s]\n",
      "Training: 100%|██████████| 65/65 [00:05<00:00, 11.81batch/s]\n",
      "Training: 100%|██████████| 65/65 [00:05<00:00, 11.61batch/s]\n",
      "Training: 100%|██████████| 65/65 [00:05<00:00, 11.75batch/s]\n",
      "Training: 100%|██████████| 65/65 [00:05<00:00, 11.70batch/s]\n",
      "Training: 100%|██████████| 65/65 [00:05<00:00, 11.53batch/s]\n",
      "Training: 100%|██████████| 65/65 [00:05<00:00, 11.83batch/s]\n",
      "Training: 100%|██████████| 65/65 [00:05<00:00, 11.89batch/s]\n",
      "Training: 100%|██████████| 65/65 [00:05<00:00, 11.81batch/s]\n",
      "Training: 100%|██████████| 65/65 [00:05<00:00, 11.25batch/s]\n",
      "Training: 100%|██████████| 65/65 [00:05<00:00, 11.81batch/s]\n",
      "Training: 100%|██████████| 65/65 [00:05<00:00, 11.94batch/s]\n",
      "Training: 100%|██████████| 65/65 [00:05<00:00, 11.54batch/s]\n",
      "Training: 100%|██████████| 65/65 [00:05<00:00, 11.98batch/s]\n",
      "Training: 100%|██████████| 65/65 [00:05<00:00, 11.68batch/s]\n",
      "Training: 100%|██████████| 65/65 [00:05<00:00, 11.42batch/s]\n",
      "Training: 100%|██████████| 65/65 [00:05<00:00, 11.75batch/s]\n",
      "Training: 100%|██████████| 65/65 [00:05<00:00, 12.06batch/s]\n",
      "Training: 100%|██████████| 65/65 [00:05<00:00, 11.72batch/s]\n",
      "Training: 100%|██████████| 65/65 [00:05<00:00, 11.71batch/s]\n",
      "Training: 100%|██████████| 65/65 [00:05<00:00, 11.79batch/s]\n",
      "Training: 100%|██████████| 65/65 [00:05<00:00, 11.52batch/s]\n",
      "Training: 100%|██████████| 65/65 [00:05<00:00, 11.54batch/s]\n",
      "Training: 100%|██████████| 65/65 [00:05<00:00, 11.94batch/s]\n",
      "Training: 100%|██████████| 65/65 [00:05<00:00, 11.58batch/s]\n",
      "Training: 100%|██████████| 65/65 [00:05<00:00, 11.79batch/s]\n",
      "Training: 100%|██████████| 65/65 [00:05<00:00, 11.69batch/s]\n",
      "Training: 100%|██████████| 65/65 [00:05<00:00, 11.67batch/s]\n",
      "Training: 100%|██████████| 65/65 [00:05<00:00, 11.73batch/s]\n",
      "Training: 100%|██████████| 65/65 [00:05<00:00, 11.72batch/s]\n",
      "Training: 100%|██████████| 65/65 [00:05<00:00, 11.75batch/s]\n",
      "Training: 100%|██████████| 65/65 [00:05<00:00, 11.76batch/s]\n",
      "Training: 100%|██████████| 65/65 [00:05<00:00, 12.11batch/s]\n",
      "Training: 100%|██████████| 65/65 [00:05<00:00, 11.68batch/s]\n",
      "Training: 100%|██████████| 65/65 [00:05<00:00, 11.85batch/s]\n",
      "Training: 100%|██████████| 65/65 [00:05<00:00, 11.39batch/s]\n",
      "Training: 100%|██████████| 65/65 [00:05<00:00, 11.69batch/s]\n"
     ]
    },
    {
     "name": "stdout",
     "output_type": "stream",
     "text": [
      "Early stopping at Epoch 270\n"
     ]
    }
   ],
   "source": [
    "train_loss, val_loss = trainer.train()"
   ]
  },
  {
   "cell_type": "code",
   "execution_count": 16,
   "metadata": {},
   "outputs": [],
   "source": [
    "def plot_losses(train_losses, val_losses):\n",
    "    \"\"\"\n",
    "    Plots training and validation losses over epochs.\n",
    "\n",
    "    Parameters:\n",
    "    - train_losses: List of training loss values (one per epoch).\n",
    "    - val_losses: List of validation loss values (one per epoch).\n",
    "    \"\"\"\n",
    "    plt.figure(figsize=(8, 6))\n",
    "    plt.plot(train_losses, label=\"Training Loss\", marker='o', linestyle='-', color='blue')\n",
    "    plt.plot(val_losses, label=\"Validation Loss\", marker='s', linestyle='--', color='orange')\n",
    "    \n",
    "    plt.xlabel(\"Epochs\")\n",
    "    plt.ylabel(\"Loss\")\n",
    "    plt.title(\"Training & Validation Loss\")\n",
    "    plt.legend()\n",
    "    plt.grid(True)\n",
    "    plt.savefig(f\"./references/models/exp4/losses.png\")\n",
    "    \n",
    "    plt.show()"
   ]
  },
  {
   "cell_type": "code",
   "execution_count": 17,
   "metadata": {},
   "outputs": [
    {
     "data": {
      "image/png": "[encoded data removed]",
      "text/plain": [
       "<Figure size 800x600 with 1 Axes>"
      ]
     },
     "metadata": {},
     "output_type": "display_data"
    }
   ],
   "source": [
    "plot_losses(train_loss, val_loss)"
   ]
  },
  {
   "cell_type": "code",
   "execution_count": 18,
   "metadata": {},
   "outputs": [
    {
     "name": "stdout",
     "output_type": "stream",
     "text": [
      "Best model loaded successfully.\n"
     ]
    },
    {
     "name": "stderr",
     "output_type": "stream",
     "text": [
      "Testing: 100%|██████████| 10/10 [00:00<00:00, 43.14batch/s]\n"
     ]
    },
    {
     "data": {
      "text/plain": [
       "0.9662162162162162"
      ]
     },
     "execution_count": 18,
     "metadata": {},
     "output_type": "execute_result"
    }
   ],
   "source": [
    "trainer.verbose = True\n",
    "trainer.test(test_dataloader)"
   ]
  },
  {
   "cell_type": "markdown",
   "metadata": {},
   "source": [
    "### Testing"
   ]
  },
  {
   "cell_type": "markdown",
   "metadata": {},
   "source": [
    "#### Exp 1"
   ]
  },
  {
   "cell_type": "code",
   "execution_count": 21,
   "metadata": {},
   "outputs": [
    {
     "name": "stderr",
     "output_type": "stream",
     "text": [
      "Testing: 100%|██████████| 10/10 [00:00<00:00, 80.42batch/s]\n"
     ]
    },
    {
     "data": {
      "text/plain": [
       "0.8445945945945946"
      ]
     },
     "execution_count": 21,
     "metadata": {},
     "output_type": "execute_result"
    }
   ],
   "source": [
    "model = TicTacToeModel(vocab_size = 3,\n",
    "                       num_embedding = 32,\n",
    "                       num_heads = 4,\n",
    "                       num_blocks = 4,\n",
    "                       block_size = 9,\n",
    "                       dropout = 0.0\n",
    "                       )\n",
    "trainer = ModelTrainer(model, train_dataloader, val_dataloader, epochs=500)\n",
    "trainer.test(test_dataloader, model_path=\"./models/exp1/best_model.pth\")"
   ]
  },
  {
   "cell_type": "markdown",
   "metadata": {},
   "source": [
    "#### Exp 2"
   ]
  },
  {
   "cell_type": "code",
   "execution_count": 22,
   "metadata": {},
   "outputs": [
    {
     "name": "stderr",
     "output_type": "stream",
     "text": [
      "Testing: 100%|██████████| 10/10 [00:00<00:00, 66.38batch/s]\n"
     ]
    },
    {
     "data": {
      "text/plain": [
       "0.9222972972972973"
      ]
     },
     "execution_count": 22,
     "metadata": {},
     "output_type": "execute_result"
    }
   ],
   "source": [
    "model = TicTacToeModel(vocab_size = 3,\n",
    "                       num_embedding = 32,\n",
    "                       num_heads = 4,\n",
    "                       num_blocks = 4,\n",
    "                       block_size = 9,\n",
    "                       dropout = 0.0\n",
    "                       )\n",
    "trainer = ModelTrainer(model, train_dataloader, val_dataloader, epochs=500)\n",
    "trainer.test(test_dataloader, model_path=\"./models/exp2/best_model.pth\")"
   ]
  },
  {
   "cell_type": "markdown",
   "metadata": {},
   "source": [
    "#### Exp 3"
   ]
  },
  {
   "cell_type": "code",
   "execution_count": 23,
   "metadata": {},
   "outputs": [
    {
     "name": "stderr",
     "output_type": "stream",
     "text": [
      "Testing: 100%|██████████| 10/10 [00:00<00:00, 50.81batch/s]\n"
     ]
    },
    {
     "data": {
      "text/plain": [
       "0.9493243243243243"
      ]
     },
     "execution_count": 23,
     "metadata": {},
     "output_type": "execute_result"
    }
   ],
   "source": [
    "model = TicTacToeModel(vocab_size = 3,\n",
    "                       num_embedding = 32,\n",
    "                       num_heads = 8,\n",
    "                       num_blocks = 4,\n",
    "                       block_size = 9,\n",
    "                       dropout = 0.0\n",
    "                       )\n",
    "trainer = ModelTrainer(model, train_dataloader, val_dataloader, epochs=500)\n",
    "trainer.test(test_dataloader, model_path=\"./models/exp3/best_model.pth\")"
   ]
  },
  {
   "cell_type": "markdown",
   "metadata": {},
   "source": [
    "#### Exp 4"
   ]
  },
  {
   "cell_type": "code",
   "execution_count": 25,
   "metadata": {},
   "outputs": [
    {
     "name": "stderr",
     "output_type": "stream",
     "text": [
      "Testing: 100%|██████████| 10/10 [00:00<00:00, 40.66batch/s]\n"
     ]
    },
    {
     "data": {
      "text/plain": [
       "0.9662162162162162"
      ]
     },
     "execution_count": 25,
     "metadata": {},
     "output_type": "execute_result"
    }
   ],
   "source": [
    "model = TicTacToeModel(vocab_size = 3,\n",
    "                       num_embedding = 128,\n",
    "                       num_heads = 8,\n",
    "                       num_blocks = 4,\n",
    "                       block_size = 9,\n",
    "                       dropout = 0.0\n",
    "                       )\n",
    "trainer = ModelTrainer(model, train_dataloader, val_dataloader, epochs=500)\n",
    "trainer.test(test_dataloader, model_path=\"./models/exp4/best_model.pth\")"
   ]
  },
  {
   "cell_type": "code",
   "execution_count": null,
   "metadata": {},
   "outputs": [],
   "source": []
  }
 ],
 "metadata": {
  "kernelspec": {
   "display_name": "tic",
   "language": "python",
   "name": "python3"
  },
  "language_info": {
   "codemirror_mode": {
    "name": "ipython",
    "version": 3
   },
   "file_extension": ".py",
   "mimetype": "text/x-python",
   "name": "python",
   "nbconvert_exporter": "python",
   "pygments_lexer": "ipython3",
   "version": "3.10.16"
  }
 },
 "nbformat": 4,
 "nbformat_minor": 2
}
